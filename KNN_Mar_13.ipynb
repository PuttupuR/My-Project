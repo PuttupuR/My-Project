{
  "nbformat": 4,
  "nbformat_minor": 0,
  "metadata": {
    "colab": {
      "provenance": [],
      "authorship_tag": "ABX9TyM0MSVZR8T6p6zc9u5LU/3e",
      "include_colab_link": true
    },
    "kernelspec": {
      "name": "python3",
      "display_name": "Python 3"
    },
    "language_info": {
      "name": "python"
    }
  },
  "cells": [
    {
      "cell_type": "markdown",
      "metadata": {
        "id": "view-in-github",
        "colab_type": "text"
      },
      "source": [
        "<a href=\"https://colab.research.google.com/github/PuttupuR/My-Project/blob/main/KNN_Mar_13.ipynb\" target=\"_parent\"><img src=\"https://colab.research.google.com/assets/colab-badge.svg\" alt=\"Open In Colab\"/></a>"
      ]
    },
    {
      "cell_type": "code",
      "source": [
        "import pandas as pd\n",
        "import numpy as np"
      ],
      "metadata": {
        "id": "rBpyM39ZFn1E"
      },
      "execution_count": 1,
      "outputs": []
    },
    {
      "cell_type": "code",
      "source": [
        "#ML -->Sklearn\n",
        "\n",
        "from sklearn.datasets import make_regression # you can create synthetic datasets\n",
        "\n",
        "X,Y = make_regression(n_samples = 100, n_features = 3, n_targets =1, n_informative = 2)\n",
        "\n",
        "#X-->input, Y-->Output"
      ],
      "metadata": {
        "id": "E_pH72JzFnxq"
      },
      "execution_count": 2,
      "outputs": []
    },
    {
      "cell_type": "code",
      "source": [
        "X.shape"
      ],
      "metadata": {
        "colab": {
          "base_uri": "https://localhost:8080/"
        },
        "id": "ZsDk8uIoFnuw",
        "outputId": "f07221dc-4d5f-4a67-be1a-feecf11f1187"
      },
      "execution_count": 3,
      "outputs": [
        {
          "output_type": "execute_result",
          "data": {
            "text/plain": [
              "(100, 3)"
            ]
          },
          "metadata": {},
          "execution_count": 3
        }
      ]
    },
    {
      "cell_type": "code",
      "source": [
        "type(X)"
      ],
      "metadata": {
        "colab": {
          "base_uri": "https://localhost:8080/"
        },
        "id": "EoKe1oVBFnr4",
        "outputId": "624e9c8f-32ab-4fa4-953c-9692c9a84c2a"
      },
      "execution_count": 4,
      "outputs": [
        {
          "output_type": "execute_result",
          "data": {
            "text/plain": [
              "numpy.ndarray"
            ]
          },
          "metadata": {},
          "execution_count": 4
        }
      ]
    },
    {
      "cell_type": "code",
      "source": [
        "Y.shape"
      ],
      "metadata": {
        "colab": {
          "base_uri": "https://localhost:8080/"
        },
        "id": "PbIsoGr0Fno4",
        "outputId": "1b68d970-2bfe-4365-87aa-9cdf47002fdb"
      },
      "execution_count": 6,
      "outputs": [
        {
          "output_type": "execute_result",
          "data": {
            "text/plain": [
              "(100,)"
            ]
          },
          "metadata": {},
          "execution_count": 6
        }
      ]
    },
    {
      "cell_type": "code",
      "source": [
        "df = pd.DataFrame(X, columns = ['X1','X2','X3'])"
      ],
      "metadata": {
        "id": "_7F3hCRTHFTI"
      },
      "execution_count": 7,
      "outputs": []
    },
    {
      "cell_type": "code",
      "source": [
        "df.head()"
      ],
      "metadata": {
        "colab": {
          "base_uri": "https://localhost:8080/",
          "height": 206
        },
        "id": "cVhl4StaHFPr",
        "outputId": "14867651-6816-4ed7-faef-c37b5a460489"
      },
      "execution_count": 8,
      "outputs": [
        {
          "output_type": "execute_result",
          "data": {
            "text/plain": [
              "         X1        X2        X3\n",
              "0  0.831721 -1.264685 -0.531971\n",
              "1 -0.498317 -0.116529  0.510463\n",
              "2 -0.807951 -0.107418  0.898376\n",
              "3 -0.934490 -0.188699  0.675892\n",
              "4  1.017744 -1.310456  0.733259"
            ],
            "text/html": [
              "\n",
              "  <div id=\"df-548e1aed-5763-4056-bf6e-fa3ad107e15d\" class=\"colab-df-container\">\n",
              "    <div>\n",
              "<style scoped>\n",
              "    .dataframe tbody tr th:only-of-type {\n",
              "        vertical-align: middle;\n",
              "    }\n",
              "\n",
              "    .dataframe tbody tr th {\n",
              "        vertical-align: top;\n",
              "    }\n",
              "\n",
              "    .dataframe thead th {\n",
              "        text-align: right;\n",
              "    }\n",
              "</style>\n",
              "<table border=\"1\" class=\"dataframe\">\n",
              "  <thead>\n",
              "    <tr style=\"text-align: right;\">\n",
              "      <th></th>\n",
              "      <th>X1</th>\n",
              "      <th>X2</th>\n",
              "      <th>X3</th>\n",
              "    </tr>\n",
              "  </thead>\n",
              "  <tbody>\n",
              "    <tr>\n",
              "      <th>0</th>\n",
              "      <td>0.831721</td>\n",
              "      <td>-1.264685</td>\n",
              "      <td>-0.531971</td>\n",
              "    </tr>\n",
              "    <tr>\n",
              "      <th>1</th>\n",
              "      <td>-0.498317</td>\n",
              "      <td>-0.116529</td>\n",
              "      <td>0.510463</td>\n",
              "    </tr>\n",
              "    <tr>\n",
              "      <th>2</th>\n",
              "      <td>-0.807951</td>\n",
              "      <td>-0.107418</td>\n",
              "      <td>0.898376</td>\n",
              "    </tr>\n",
              "    <tr>\n",
              "      <th>3</th>\n",
              "      <td>-0.934490</td>\n",
              "      <td>-0.188699</td>\n",
              "      <td>0.675892</td>\n",
              "    </tr>\n",
              "    <tr>\n",
              "      <th>4</th>\n",
              "      <td>1.017744</td>\n",
              "      <td>-1.310456</td>\n",
              "      <td>0.733259</td>\n",
              "    </tr>\n",
              "  </tbody>\n",
              "</table>\n",
              "</div>\n",
              "    <div class=\"colab-df-buttons\">\n",
              "\n",
              "  <div class=\"colab-df-container\">\n",
              "    <button class=\"colab-df-convert\" onclick=\"convertToInteractive('df-548e1aed-5763-4056-bf6e-fa3ad107e15d')\"\n",
              "            title=\"Convert this dataframe to an interactive table.\"\n",
              "            style=\"display:none;\">\n",
              "\n",
              "  <svg xmlns=\"http://www.w3.org/2000/svg\" height=\"24px\" viewBox=\"0 -960 960 960\">\n",
              "    <path d=\"M120-120v-720h720v720H120Zm60-500h600v-160H180v160Zm220 220h160v-160H400v160Zm0 220h160v-160H400v160ZM180-400h160v-160H180v160Zm440 0h160v-160H620v160ZM180-180h160v-160H180v160Zm440 0h160v-160H620v160Z\"/>\n",
              "  </svg>\n",
              "    </button>\n",
              "\n",
              "  <style>\n",
              "    .colab-df-container {\n",
              "      display:flex;\n",
              "      gap: 12px;\n",
              "    }\n",
              "\n",
              "    .colab-df-convert {\n",
              "      background-color: #E8F0FE;\n",
              "      border: none;\n",
              "      border-radius: 50%;\n",
              "      cursor: pointer;\n",
              "      display: none;\n",
              "      fill: #1967D2;\n",
              "      height: 32px;\n",
              "      padding: 0 0 0 0;\n",
              "      width: 32px;\n",
              "    }\n",
              "\n",
              "    .colab-df-convert:hover {\n",
              "      background-color: #E2EBFA;\n",
              "      box-shadow: 0px 1px 2px rgba(60, 64, 67, 0.3), 0px 1px 3px 1px rgba(60, 64, 67, 0.15);\n",
              "      fill: #174EA6;\n",
              "    }\n",
              "\n",
              "    .colab-df-buttons div {\n",
              "      margin-bottom: 4px;\n",
              "    }\n",
              "\n",
              "    [theme=dark] .colab-df-convert {\n",
              "      background-color: #3B4455;\n",
              "      fill: #D2E3FC;\n",
              "    }\n",
              "\n",
              "    [theme=dark] .colab-df-convert:hover {\n",
              "      background-color: #434B5C;\n",
              "      box-shadow: 0px 1px 3px 1px rgba(0, 0, 0, 0.15);\n",
              "      filter: drop-shadow(0px 1px 2px rgba(0, 0, 0, 0.3));\n",
              "      fill: #FFFFFF;\n",
              "    }\n",
              "  </style>\n",
              "\n",
              "    <script>\n",
              "      const buttonEl =\n",
              "        document.querySelector('#df-548e1aed-5763-4056-bf6e-fa3ad107e15d button.colab-df-convert');\n",
              "      buttonEl.style.display =\n",
              "        google.colab.kernel.accessAllowed ? 'block' : 'none';\n",
              "\n",
              "      async function convertToInteractive(key) {\n",
              "        const element = document.querySelector('#df-548e1aed-5763-4056-bf6e-fa3ad107e15d');\n",
              "        const dataTable =\n",
              "          await google.colab.kernel.invokeFunction('convertToInteractive',\n",
              "                                                    [key], {});\n",
              "        if (!dataTable) return;\n",
              "\n",
              "        const docLinkHtml = 'Like what you see? Visit the ' +\n",
              "          '<a target=\"_blank\" href=https://colab.research.google.com/notebooks/data_table.ipynb>data table notebook</a>'\n",
              "          + ' to learn more about interactive tables.';\n",
              "        element.innerHTML = '';\n",
              "        dataTable['output_type'] = 'display_data';\n",
              "        await google.colab.output.renderOutput(dataTable, element);\n",
              "        const docLink = document.createElement('div');\n",
              "        docLink.innerHTML = docLinkHtml;\n",
              "        element.appendChild(docLink);\n",
              "      }\n",
              "    </script>\n",
              "  </div>\n",
              "\n",
              "\n",
              "<div id=\"df-d5bf55eb-4195-457e-bae9-64286509e4e0\">\n",
              "  <button class=\"colab-df-quickchart\" onclick=\"quickchart('df-d5bf55eb-4195-457e-bae9-64286509e4e0')\"\n",
              "            title=\"Suggest charts.\"\n",
              "            style=\"display:none;\">\n",
              "\n",
              "<svg xmlns=\"http://www.w3.org/2000/svg\" height=\"24px\"viewBox=\"0 0 24 24\"\n",
              "     width=\"24px\">\n",
              "    <g>\n",
              "        <path d=\"M19 3H5c-1.1 0-2 .9-2 2v14c0 1.1.9 2 2 2h14c1.1 0 2-.9 2-2V5c0-1.1-.9-2-2-2zM9 17H7v-7h2v7zm4 0h-2V7h2v10zm4 0h-2v-4h2v4z\"/>\n",
              "    </g>\n",
              "</svg>\n",
              "  </button>\n",
              "\n",
              "<style>\n",
              "  .colab-df-quickchart {\n",
              "      --bg-color: #E8F0FE;\n",
              "      --fill-color: #1967D2;\n",
              "      --hover-bg-color: #E2EBFA;\n",
              "      --hover-fill-color: #174EA6;\n",
              "      --disabled-fill-color: #AAA;\n",
              "      --disabled-bg-color: #DDD;\n",
              "  }\n",
              "\n",
              "  [theme=dark] .colab-df-quickchart {\n",
              "      --bg-color: #3B4455;\n",
              "      --fill-color: #D2E3FC;\n",
              "      --hover-bg-color: #434B5C;\n",
              "      --hover-fill-color: #FFFFFF;\n",
              "      --disabled-bg-color: #3B4455;\n",
              "      --disabled-fill-color: #666;\n",
              "  }\n",
              "\n",
              "  .colab-df-quickchart {\n",
              "    background-color: var(--bg-color);\n",
              "    border: none;\n",
              "    border-radius: 50%;\n",
              "    cursor: pointer;\n",
              "    display: none;\n",
              "    fill: var(--fill-color);\n",
              "    height: 32px;\n",
              "    padding: 0;\n",
              "    width: 32px;\n",
              "  }\n",
              "\n",
              "  .colab-df-quickchart:hover {\n",
              "    background-color: var(--hover-bg-color);\n",
              "    box-shadow: 0 1px 2px rgba(60, 64, 67, 0.3), 0 1px 3px 1px rgba(60, 64, 67, 0.15);\n",
              "    fill: var(--button-hover-fill-color);\n",
              "  }\n",
              "\n",
              "  .colab-df-quickchart-complete:disabled,\n",
              "  .colab-df-quickchart-complete:disabled:hover {\n",
              "    background-color: var(--disabled-bg-color);\n",
              "    fill: var(--disabled-fill-color);\n",
              "    box-shadow: none;\n",
              "  }\n",
              "\n",
              "  .colab-df-spinner {\n",
              "    border: 2px solid var(--fill-color);\n",
              "    border-color: transparent;\n",
              "    border-bottom-color: var(--fill-color);\n",
              "    animation:\n",
              "      spin 1s steps(1) infinite;\n",
              "  }\n",
              "\n",
              "  @keyframes spin {\n",
              "    0% {\n",
              "      border-color: transparent;\n",
              "      border-bottom-color: var(--fill-color);\n",
              "      border-left-color: var(--fill-color);\n",
              "    }\n",
              "    20% {\n",
              "      border-color: transparent;\n",
              "      border-left-color: var(--fill-color);\n",
              "      border-top-color: var(--fill-color);\n",
              "    }\n",
              "    30% {\n",
              "      border-color: transparent;\n",
              "      border-left-color: var(--fill-color);\n",
              "      border-top-color: var(--fill-color);\n",
              "      border-right-color: var(--fill-color);\n",
              "    }\n",
              "    40% {\n",
              "      border-color: transparent;\n",
              "      border-right-color: var(--fill-color);\n",
              "      border-top-color: var(--fill-color);\n",
              "    }\n",
              "    60% {\n",
              "      border-color: transparent;\n",
              "      border-right-color: var(--fill-color);\n",
              "    }\n",
              "    80% {\n",
              "      border-color: transparent;\n",
              "      border-right-color: var(--fill-color);\n",
              "      border-bottom-color: var(--fill-color);\n",
              "    }\n",
              "    90% {\n",
              "      border-color: transparent;\n",
              "      border-bottom-color: var(--fill-color);\n",
              "    }\n",
              "  }\n",
              "</style>\n",
              "\n",
              "  <script>\n",
              "    async function quickchart(key) {\n",
              "      const quickchartButtonEl =\n",
              "        document.querySelector('#' + key + ' button');\n",
              "      quickchartButtonEl.disabled = true;  // To prevent multiple clicks.\n",
              "      quickchartButtonEl.classList.add('colab-df-spinner');\n",
              "      try {\n",
              "        const charts = await google.colab.kernel.invokeFunction(\n",
              "            'suggestCharts', [key], {});\n",
              "      } catch (error) {\n",
              "        console.error('Error during call to suggestCharts:', error);\n",
              "      }\n",
              "      quickchartButtonEl.classList.remove('colab-df-spinner');\n",
              "      quickchartButtonEl.classList.add('colab-df-quickchart-complete');\n",
              "    }\n",
              "    (() => {\n",
              "      let quickchartButtonEl =\n",
              "        document.querySelector('#df-d5bf55eb-4195-457e-bae9-64286509e4e0 button');\n",
              "      quickchartButtonEl.style.display =\n",
              "        google.colab.kernel.accessAllowed ? 'block' : 'none';\n",
              "    })();\n",
              "  </script>\n",
              "</div>\n",
              "    </div>\n",
              "  </div>\n"
            ]
          },
          "metadata": {},
          "execution_count": 8
        }
      ]
    },
    {
      "cell_type": "code",
      "source": [
        "df[\"Y\"] = Y"
      ],
      "metadata": {
        "id": "vy8aErNfHFM0"
      },
      "execution_count": 9,
      "outputs": []
    },
    {
      "cell_type": "code",
      "source": [
        "df"
      ],
      "metadata": {
        "colab": {
          "base_uri": "https://localhost:8080/",
          "height": 423
        },
        "id": "dSHc9BooHFJ1",
        "outputId": "4751acff-9c71-46f6-845a-f0bb40f41d64"
      },
      "execution_count": 10,
      "outputs": [
        {
          "output_type": "execute_result",
          "data": {
            "text/plain": [
              "          X1        X2        X3           Y\n",
              "0   0.831721 -1.264685 -0.531971   65.362445\n",
              "1  -0.498317 -0.116529  0.510463  -45.992858\n",
              "2  -0.807951 -0.107418  0.898376  -73.933907\n",
              "3  -0.934490 -0.188699  0.675892  -86.016887\n",
              "4   1.017744 -1.310456  0.733259   81.834008\n",
              "..       ...       ...       ...         ...\n",
              "95  1.002841  1.905935 -0.023144  105.619444\n",
              "96 -1.874557 -0.507370  1.162492 -173.554025\n",
              "97 -0.153308  1.036775  0.526020   -5.767998\n",
              "98 -1.089492 -0.964012  0.550811 -106.098294\n",
              "99 -0.493874  0.147681 -1.274717  -43.526257\n",
              "\n",
              "[100 rows x 4 columns]"
            ],
            "text/html": [
              "\n",
              "  <div id=\"df-6404924c-428a-4585-bfaa-afb6c11c94bd\" class=\"colab-df-container\">\n",
              "    <div>\n",
              "<style scoped>\n",
              "    .dataframe tbody tr th:only-of-type {\n",
              "        vertical-align: middle;\n",
              "    }\n",
              "\n",
              "    .dataframe tbody tr th {\n",
              "        vertical-align: top;\n",
              "    }\n",
              "\n",
              "    .dataframe thead th {\n",
              "        text-align: right;\n",
              "    }\n",
              "</style>\n",
              "<table border=\"1\" class=\"dataframe\">\n",
              "  <thead>\n",
              "    <tr style=\"text-align: right;\">\n",
              "      <th></th>\n",
              "      <th>X1</th>\n",
              "      <th>X2</th>\n",
              "      <th>X3</th>\n",
              "      <th>Y</th>\n",
              "    </tr>\n",
              "  </thead>\n",
              "  <tbody>\n",
              "    <tr>\n",
              "      <th>0</th>\n",
              "      <td>0.831721</td>\n",
              "      <td>-1.264685</td>\n",
              "      <td>-0.531971</td>\n",
              "      <td>65.362445</td>\n",
              "    </tr>\n",
              "    <tr>\n",
              "      <th>1</th>\n",
              "      <td>-0.498317</td>\n",
              "      <td>-0.116529</td>\n",
              "      <td>0.510463</td>\n",
              "      <td>-45.992858</td>\n",
              "    </tr>\n",
              "    <tr>\n",
              "      <th>2</th>\n",
              "      <td>-0.807951</td>\n",
              "      <td>-0.107418</td>\n",
              "      <td>0.898376</td>\n",
              "      <td>-73.933907</td>\n",
              "    </tr>\n",
              "    <tr>\n",
              "      <th>3</th>\n",
              "      <td>-0.934490</td>\n",
              "      <td>-0.188699</td>\n",
              "      <td>0.675892</td>\n",
              "      <td>-86.016887</td>\n",
              "    </tr>\n",
              "    <tr>\n",
              "      <th>4</th>\n",
              "      <td>1.017744</td>\n",
              "      <td>-1.310456</td>\n",
              "      <td>0.733259</td>\n",
              "      <td>81.834008</td>\n",
              "    </tr>\n",
              "    <tr>\n",
              "      <th>...</th>\n",
              "      <td>...</td>\n",
              "      <td>...</td>\n",
              "      <td>...</td>\n",
              "      <td>...</td>\n",
              "    </tr>\n",
              "    <tr>\n",
              "      <th>95</th>\n",
              "      <td>1.002841</td>\n",
              "      <td>1.905935</td>\n",
              "      <td>-0.023144</td>\n",
              "      <td>105.619444</td>\n",
              "    </tr>\n",
              "    <tr>\n",
              "      <th>96</th>\n",
              "      <td>-1.874557</td>\n",
              "      <td>-0.507370</td>\n",
              "      <td>1.162492</td>\n",
              "      <td>-173.554025</td>\n",
              "    </tr>\n",
              "    <tr>\n",
              "      <th>97</th>\n",
              "      <td>-0.153308</td>\n",
              "      <td>1.036775</td>\n",
              "      <td>0.526020</td>\n",
              "      <td>-5.767998</td>\n",
              "    </tr>\n",
              "    <tr>\n",
              "      <th>98</th>\n",
              "      <td>-1.089492</td>\n",
              "      <td>-0.964012</td>\n",
              "      <td>0.550811</td>\n",
              "      <td>-106.098294</td>\n",
              "    </tr>\n",
              "    <tr>\n",
              "      <th>99</th>\n",
              "      <td>-0.493874</td>\n",
              "      <td>0.147681</td>\n",
              "      <td>-1.274717</td>\n",
              "      <td>-43.526257</td>\n",
              "    </tr>\n",
              "  </tbody>\n",
              "</table>\n",
              "<p>100 rows × 4 columns</p>\n",
              "</div>\n",
              "    <div class=\"colab-df-buttons\">\n",
              "\n",
              "  <div class=\"colab-df-container\">\n",
              "    <button class=\"colab-df-convert\" onclick=\"convertToInteractive('df-6404924c-428a-4585-bfaa-afb6c11c94bd')\"\n",
              "            title=\"Convert this dataframe to an interactive table.\"\n",
              "            style=\"display:none;\">\n",
              "\n",
              "  <svg xmlns=\"http://www.w3.org/2000/svg\" height=\"24px\" viewBox=\"0 -960 960 960\">\n",
              "    <path d=\"M120-120v-720h720v720H120Zm60-500h600v-160H180v160Zm220 220h160v-160H400v160Zm0 220h160v-160H400v160ZM180-400h160v-160H180v160Zm440 0h160v-160H620v160ZM180-180h160v-160H180v160Zm440 0h160v-160H620v160Z\"/>\n",
              "  </svg>\n",
              "    </button>\n",
              "\n",
              "  <style>\n",
              "    .colab-df-container {\n",
              "      display:flex;\n",
              "      gap: 12px;\n",
              "    }\n",
              "\n",
              "    .colab-df-convert {\n",
              "      background-color: #E8F0FE;\n",
              "      border: none;\n",
              "      border-radius: 50%;\n",
              "      cursor: pointer;\n",
              "      display: none;\n",
              "      fill: #1967D2;\n",
              "      height: 32px;\n",
              "      padding: 0 0 0 0;\n",
              "      width: 32px;\n",
              "    }\n",
              "\n",
              "    .colab-df-convert:hover {\n",
              "      background-color: #E2EBFA;\n",
              "      box-shadow: 0px 1px 2px rgba(60, 64, 67, 0.3), 0px 1px 3px 1px rgba(60, 64, 67, 0.15);\n",
              "      fill: #174EA6;\n",
              "    }\n",
              "\n",
              "    .colab-df-buttons div {\n",
              "      margin-bottom: 4px;\n",
              "    }\n",
              "\n",
              "    [theme=dark] .colab-df-convert {\n",
              "      background-color: #3B4455;\n",
              "      fill: #D2E3FC;\n",
              "    }\n",
              "\n",
              "    [theme=dark] .colab-df-convert:hover {\n",
              "      background-color: #434B5C;\n",
              "      box-shadow: 0px 1px 3px 1px rgba(0, 0, 0, 0.15);\n",
              "      filter: drop-shadow(0px 1px 2px rgba(0, 0, 0, 0.3));\n",
              "      fill: #FFFFFF;\n",
              "    }\n",
              "  </style>\n",
              "\n",
              "    <script>\n",
              "      const buttonEl =\n",
              "        document.querySelector('#df-6404924c-428a-4585-bfaa-afb6c11c94bd button.colab-df-convert');\n",
              "      buttonEl.style.display =\n",
              "        google.colab.kernel.accessAllowed ? 'block' : 'none';\n",
              "\n",
              "      async function convertToInteractive(key) {\n",
              "        const element = document.querySelector('#df-6404924c-428a-4585-bfaa-afb6c11c94bd');\n",
              "        const dataTable =\n",
              "          await google.colab.kernel.invokeFunction('convertToInteractive',\n",
              "                                                    [key], {});\n",
              "        if (!dataTable) return;\n",
              "\n",
              "        const docLinkHtml = 'Like what you see? Visit the ' +\n",
              "          '<a target=\"_blank\" href=https://colab.research.google.com/notebooks/data_table.ipynb>data table notebook</a>'\n",
              "          + ' to learn more about interactive tables.';\n",
              "        element.innerHTML = '';\n",
              "        dataTable['output_type'] = 'display_data';\n",
              "        await google.colab.output.renderOutput(dataTable, element);\n",
              "        const docLink = document.createElement('div');\n",
              "        docLink.innerHTML = docLinkHtml;\n",
              "        element.appendChild(docLink);\n",
              "      }\n",
              "    </script>\n",
              "  </div>\n",
              "\n",
              "\n",
              "<div id=\"df-467f0c35-7b06-4de0-a2c7-bbf7623c831c\">\n",
              "  <button class=\"colab-df-quickchart\" onclick=\"quickchart('df-467f0c35-7b06-4de0-a2c7-bbf7623c831c')\"\n",
              "            title=\"Suggest charts.\"\n",
              "            style=\"display:none;\">\n",
              "\n",
              "<svg xmlns=\"http://www.w3.org/2000/svg\" height=\"24px\"viewBox=\"0 0 24 24\"\n",
              "     width=\"24px\">\n",
              "    <g>\n",
              "        <path d=\"M19 3H5c-1.1 0-2 .9-2 2v14c0 1.1.9 2 2 2h14c1.1 0 2-.9 2-2V5c0-1.1-.9-2-2-2zM9 17H7v-7h2v7zm4 0h-2V7h2v10zm4 0h-2v-4h2v4z\"/>\n",
              "    </g>\n",
              "</svg>\n",
              "  </button>\n",
              "\n",
              "<style>\n",
              "  .colab-df-quickchart {\n",
              "      --bg-color: #E8F0FE;\n",
              "      --fill-color: #1967D2;\n",
              "      --hover-bg-color: #E2EBFA;\n",
              "      --hover-fill-color: #174EA6;\n",
              "      --disabled-fill-color: #AAA;\n",
              "      --disabled-bg-color: #DDD;\n",
              "  }\n",
              "\n",
              "  [theme=dark] .colab-df-quickchart {\n",
              "      --bg-color: #3B4455;\n",
              "      --fill-color: #D2E3FC;\n",
              "      --hover-bg-color: #434B5C;\n",
              "      --hover-fill-color: #FFFFFF;\n",
              "      --disabled-bg-color: #3B4455;\n",
              "      --disabled-fill-color: #666;\n",
              "  }\n",
              "\n",
              "  .colab-df-quickchart {\n",
              "    background-color: var(--bg-color);\n",
              "    border: none;\n",
              "    border-radius: 50%;\n",
              "    cursor: pointer;\n",
              "    display: none;\n",
              "    fill: var(--fill-color);\n",
              "    height: 32px;\n",
              "    padding: 0;\n",
              "    width: 32px;\n",
              "  }\n",
              "\n",
              "  .colab-df-quickchart:hover {\n",
              "    background-color: var(--hover-bg-color);\n",
              "    box-shadow: 0 1px 2px rgba(60, 64, 67, 0.3), 0 1px 3px 1px rgba(60, 64, 67, 0.15);\n",
              "    fill: var(--button-hover-fill-color);\n",
              "  }\n",
              "\n",
              "  .colab-df-quickchart-complete:disabled,\n",
              "  .colab-df-quickchart-complete:disabled:hover {\n",
              "    background-color: var(--disabled-bg-color);\n",
              "    fill: var(--disabled-fill-color);\n",
              "    box-shadow: none;\n",
              "  }\n",
              "\n",
              "  .colab-df-spinner {\n",
              "    border: 2px solid var(--fill-color);\n",
              "    border-color: transparent;\n",
              "    border-bottom-color: var(--fill-color);\n",
              "    animation:\n",
              "      spin 1s steps(1) infinite;\n",
              "  }\n",
              "\n",
              "  @keyframes spin {\n",
              "    0% {\n",
              "      border-color: transparent;\n",
              "      border-bottom-color: var(--fill-color);\n",
              "      border-left-color: var(--fill-color);\n",
              "    }\n",
              "    20% {\n",
              "      border-color: transparent;\n",
              "      border-left-color: var(--fill-color);\n",
              "      border-top-color: var(--fill-color);\n",
              "    }\n",
              "    30% {\n",
              "      border-color: transparent;\n",
              "      border-left-color: var(--fill-color);\n",
              "      border-top-color: var(--fill-color);\n",
              "      border-right-color: var(--fill-color);\n",
              "    }\n",
              "    40% {\n",
              "      border-color: transparent;\n",
              "      border-right-color: var(--fill-color);\n",
              "      border-top-color: var(--fill-color);\n",
              "    }\n",
              "    60% {\n",
              "      border-color: transparent;\n",
              "      border-right-color: var(--fill-color);\n",
              "    }\n",
              "    80% {\n",
              "      border-color: transparent;\n",
              "      border-right-color: var(--fill-color);\n",
              "      border-bottom-color: var(--fill-color);\n",
              "    }\n",
              "    90% {\n",
              "      border-color: transparent;\n",
              "      border-bottom-color: var(--fill-color);\n",
              "    }\n",
              "  }\n",
              "</style>\n",
              "\n",
              "  <script>\n",
              "    async function quickchart(key) {\n",
              "      const quickchartButtonEl =\n",
              "        document.querySelector('#' + key + ' button');\n",
              "      quickchartButtonEl.disabled = true;  // To prevent multiple clicks.\n",
              "      quickchartButtonEl.classList.add('colab-df-spinner');\n",
              "      try {\n",
              "        const charts = await google.colab.kernel.invokeFunction(\n",
              "            'suggestCharts', [key], {});\n",
              "      } catch (error) {\n",
              "        console.error('Error during call to suggestCharts:', error);\n",
              "      }\n",
              "      quickchartButtonEl.classList.remove('colab-df-spinner');\n",
              "      quickchartButtonEl.classList.add('colab-df-quickchart-complete');\n",
              "    }\n",
              "    (() => {\n",
              "      let quickchartButtonEl =\n",
              "        document.querySelector('#df-467f0c35-7b06-4de0-a2c7-bbf7623c831c button');\n",
              "      quickchartButtonEl.style.display =\n",
              "        google.colab.kernel.accessAllowed ? 'block' : 'none';\n",
              "    })();\n",
              "  </script>\n",
              "</div>\n",
              "    </div>\n",
              "  </div>\n"
            ]
          },
          "metadata": {},
          "execution_count": 10
        }
      ]
    },
    {
      "cell_type": "code",
      "source": [
        "df['X1'].shape"
      ],
      "metadata": {
        "colab": {
          "base_uri": "https://localhost:8080/"
        },
        "id": "hAd8mSHTJ1eg",
        "outputId": "f0a4cc16-77db-49bd-93b1-1060b0680a43"
      },
      "execution_count": 11,
      "outputs": [
        {
          "output_type": "execute_result",
          "data": {
            "text/plain": [
              "(100,)"
            ]
          },
          "metadata": {},
          "execution_count": 11
        }
      ]
    },
    {
      "cell_type": "code",
      "source": [
        "df['X1'].values.shape"
      ],
      "metadata": {
        "colab": {
          "base_uri": "https://localhost:8080/"
        },
        "id": "4pd1N-EUJ1a5",
        "outputId": "135a0f33-5642-49ab-9139-374760ef3c0a"
      },
      "execution_count": 12,
      "outputs": [
        {
          "output_type": "execute_result",
          "data": {
            "text/plain": [
              "(100,)"
            ]
          },
          "metadata": {},
          "execution_count": 12
        }
      ]
    },
    {
      "cell_type": "code",
      "source": [
        "from sklearn.neighbors import KNeighborsRegressor\n",
        "\n",
        "# Stack the X1, X2, and X3 columns of df into a two-dimensional numpy array\n",
        "x = np.column_stack((df['X1'], df['X2'], df['X3']))\n",
        "\n",
        "# In this case, -1 is used to represent the unknown number of samples in the original X array, and 3 represents the number of features.\n",
        "x = x.reshape(-1,3)\n",
        "model = KNeighborsRegressor(n_neighbors = 1)\n",
        "model.fit(x,df['Y'])"
      ],
      "metadata": {
        "colab": {
          "base_uri": "https://localhost:8080/",
          "height": 74
        },
        "id": "a--othQZJ1VN",
        "outputId": "54ea2e6d-043b-461e-e863-a6fe088952df"
      },
      "execution_count": 13,
      "outputs": [
        {
          "output_type": "execute_result",
          "data": {
            "text/plain": [
              "KNeighborsRegressor(n_neighbors=1)"
            ],
            "text/html": [
              "<style>#sk-container-id-1 {color: black;background-color: white;}#sk-container-id-1 pre{padding: 0;}#sk-container-id-1 div.sk-toggleable {background-color: white;}#sk-container-id-1 label.sk-toggleable__label {cursor: pointer;display: block;width: 100%;margin-bottom: 0;padding: 0.3em;box-sizing: border-box;text-align: center;}#sk-container-id-1 label.sk-toggleable__label-arrow:before {content: \"▸\";float: left;margin-right: 0.25em;color: #696969;}#sk-container-id-1 label.sk-toggleable__label-arrow:hover:before {color: black;}#sk-container-id-1 div.sk-estimator:hover label.sk-toggleable__label-arrow:before {color: black;}#sk-container-id-1 div.sk-toggleable__content {max-height: 0;max-width: 0;overflow: hidden;text-align: left;background-color: #f0f8ff;}#sk-container-id-1 div.sk-toggleable__content pre {margin: 0.2em;color: black;border-radius: 0.25em;background-color: #f0f8ff;}#sk-container-id-1 input.sk-toggleable__control:checked~div.sk-toggleable__content {max-height: 200px;max-width: 100%;overflow: auto;}#sk-container-id-1 input.sk-toggleable__control:checked~label.sk-toggleable__label-arrow:before {content: \"▾\";}#sk-container-id-1 div.sk-estimator input.sk-toggleable__control:checked~label.sk-toggleable__label {background-color: #d4ebff;}#sk-container-id-1 div.sk-label input.sk-toggleable__control:checked~label.sk-toggleable__label {background-color: #d4ebff;}#sk-container-id-1 input.sk-hidden--visually {border: 0;clip: rect(1px 1px 1px 1px);clip: rect(1px, 1px, 1px, 1px);height: 1px;margin: -1px;overflow: hidden;padding: 0;position: absolute;width: 1px;}#sk-container-id-1 div.sk-estimator {font-family: monospace;background-color: #f0f8ff;border: 1px dotted black;border-radius: 0.25em;box-sizing: border-box;margin-bottom: 0.5em;}#sk-container-id-1 div.sk-estimator:hover {background-color: #d4ebff;}#sk-container-id-1 div.sk-parallel-item::after {content: \"\";width: 100%;border-bottom: 1px solid gray;flex-grow: 1;}#sk-container-id-1 div.sk-label:hover label.sk-toggleable__label {background-color: #d4ebff;}#sk-container-id-1 div.sk-serial::before {content: \"\";position: absolute;border-left: 1px solid gray;box-sizing: border-box;top: 0;bottom: 0;left: 50%;z-index: 0;}#sk-container-id-1 div.sk-serial {display: flex;flex-direction: column;align-items: center;background-color: white;padding-right: 0.2em;padding-left: 0.2em;position: relative;}#sk-container-id-1 div.sk-item {position: relative;z-index: 1;}#sk-container-id-1 div.sk-parallel {display: flex;align-items: stretch;justify-content: center;background-color: white;position: relative;}#sk-container-id-1 div.sk-item::before, #sk-container-id-1 div.sk-parallel-item::before {content: \"\";position: absolute;border-left: 1px solid gray;box-sizing: border-box;top: 0;bottom: 0;left: 50%;z-index: -1;}#sk-container-id-1 div.sk-parallel-item {display: flex;flex-direction: column;z-index: 1;position: relative;background-color: white;}#sk-container-id-1 div.sk-parallel-item:first-child::after {align-self: flex-end;width: 50%;}#sk-container-id-1 div.sk-parallel-item:last-child::after {align-self: flex-start;width: 50%;}#sk-container-id-1 div.sk-parallel-item:only-child::after {width: 0;}#sk-container-id-1 div.sk-dashed-wrapped {border: 1px dashed gray;margin: 0 0.4em 0.5em 0.4em;box-sizing: border-box;padding-bottom: 0.4em;background-color: white;}#sk-container-id-1 div.sk-label label {font-family: monospace;font-weight: bold;display: inline-block;line-height: 1.2em;}#sk-container-id-1 div.sk-label-container {text-align: center;}#sk-container-id-1 div.sk-container {/* jupyter's `normalize.less` sets `[hidden] { display: none; }` but bootstrap.min.css set `[hidden] { display: none !important; }` so we also need the `!important` here to be able to override the default hidden behavior on the sphinx rendered scikit-learn.org. See: https://github.com/scikit-learn/scikit-learn/issues/21755 */display: inline-block !important;position: relative;}#sk-container-id-1 div.sk-text-repr-fallback {display: none;}</style><div id=\"sk-container-id-1\" class=\"sk-top-container\"><div class=\"sk-text-repr-fallback\"><pre>KNeighborsRegressor(n_neighbors=1)</pre><b>In a Jupyter environment, please rerun this cell to show the HTML representation or trust the notebook. <br />On GitHub, the HTML representation is unable to render, please try loading this page with nbviewer.org.</b></div><div class=\"sk-container\" hidden><div class=\"sk-item\"><div class=\"sk-estimator sk-toggleable\"><input class=\"sk-toggleable__control sk-hidden--visually\" id=\"sk-estimator-id-1\" type=\"checkbox\" checked><label for=\"sk-estimator-id-1\" class=\"sk-toggleable__label sk-toggleable__label-arrow\">KNeighborsRegressor</label><div class=\"sk-toggleable__content\"><pre>KNeighborsRegressor(n_neighbors=1)</pre></div></div></div></div></div>"
            ]
          },
          "metadata": {},
          "execution_count": 13
        }
      ]
    },
    {
      "cell_type": "code",
      "source": [
        "df.head(5)"
      ],
      "metadata": {
        "colab": {
          "base_uri": "https://localhost:8080/",
          "height": 206
        },
        "id": "6JbkRSmlP07O",
        "outputId": "c067ef3b-b5d2-45b5-b330-55ae098b42d1"
      },
      "execution_count": 14,
      "outputs": [
        {
          "output_type": "execute_result",
          "data": {
            "text/plain": [
              "         X1        X2        X3          Y\n",
              "0  0.831721 -1.264685 -0.531971  65.362445\n",
              "1 -0.498317 -0.116529  0.510463 -45.992858\n",
              "2 -0.807951 -0.107418  0.898376 -73.933907\n",
              "3 -0.934490 -0.188699  0.675892 -86.016887\n",
              "4  1.017744 -1.310456  0.733259  81.834008"
            ],
            "text/html": [
              "\n",
              "  <div id=\"df-4b486f3e-7ee5-4a4a-9cf7-1a702d9c806d\" class=\"colab-df-container\">\n",
              "    <div>\n",
              "<style scoped>\n",
              "    .dataframe tbody tr th:only-of-type {\n",
              "        vertical-align: middle;\n",
              "    }\n",
              "\n",
              "    .dataframe tbody tr th {\n",
              "        vertical-align: top;\n",
              "    }\n",
              "\n",
              "    .dataframe thead th {\n",
              "        text-align: right;\n",
              "    }\n",
              "</style>\n",
              "<table border=\"1\" class=\"dataframe\">\n",
              "  <thead>\n",
              "    <tr style=\"text-align: right;\">\n",
              "      <th></th>\n",
              "      <th>X1</th>\n",
              "      <th>X2</th>\n",
              "      <th>X3</th>\n",
              "      <th>Y</th>\n",
              "    </tr>\n",
              "  </thead>\n",
              "  <tbody>\n",
              "    <tr>\n",
              "      <th>0</th>\n",
              "      <td>0.831721</td>\n",
              "      <td>-1.264685</td>\n",
              "      <td>-0.531971</td>\n",
              "      <td>65.362445</td>\n",
              "    </tr>\n",
              "    <tr>\n",
              "      <th>1</th>\n",
              "      <td>-0.498317</td>\n",
              "      <td>-0.116529</td>\n",
              "      <td>0.510463</td>\n",
              "      <td>-45.992858</td>\n",
              "    </tr>\n",
              "    <tr>\n",
              "      <th>2</th>\n",
              "      <td>-0.807951</td>\n",
              "      <td>-0.107418</td>\n",
              "      <td>0.898376</td>\n",
              "      <td>-73.933907</td>\n",
              "    </tr>\n",
              "    <tr>\n",
              "      <th>3</th>\n",
              "      <td>-0.934490</td>\n",
              "      <td>-0.188699</td>\n",
              "      <td>0.675892</td>\n",
              "      <td>-86.016887</td>\n",
              "    </tr>\n",
              "    <tr>\n",
              "      <th>4</th>\n",
              "      <td>1.017744</td>\n",
              "      <td>-1.310456</td>\n",
              "      <td>0.733259</td>\n",
              "      <td>81.834008</td>\n",
              "    </tr>\n",
              "  </tbody>\n",
              "</table>\n",
              "</div>\n",
              "    <div class=\"colab-df-buttons\">\n",
              "\n",
              "  <div class=\"colab-df-container\">\n",
              "    <button class=\"colab-df-convert\" onclick=\"convertToInteractive('df-4b486f3e-7ee5-4a4a-9cf7-1a702d9c806d')\"\n",
              "            title=\"Convert this dataframe to an interactive table.\"\n",
              "            style=\"display:none;\">\n",
              "\n",
              "  <svg xmlns=\"http://www.w3.org/2000/svg\" height=\"24px\" viewBox=\"0 -960 960 960\">\n",
              "    <path d=\"M120-120v-720h720v720H120Zm60-500h600v-160H180v160Zm220 220h160v-160H400v160Zm0 220h160v-160H400v160ZM180-400h160v-160H180v160Zm440 0h160v-160H620v160ZM180-180h160v-160H180v160Zm440 0h160v-160H620v160Z\"/>\n",
              "  </svg>\n",
              "    </button>\n",
              "\n",
              "  <style>\n",
              "    .colab-df-container {\n",
              "      display:flex;\n",
              "      gap: 12px;\n",
              "    }\n",
              "\n",
              "    .colab-df-convert {\n",
              "      background-color: #E8F0FE;\n",
              "      border: none;\n",
              "      border-radius: 50%;\n",
              "      cursor: pointer;\n",
              "      display: none;\n",
              "      fill: #1967D2;\n",
              "      height: 32px;\n",
              "      padding: 0 0 0 0;\n",
              "      width: 32px;\n",
              "    }\n",
              "\n",
              "    .colab-df-convert:hover {\n",
              "      background-color: #E2EBFA;\n",
              "      box-shadow: 0px 1px 2px rgba(60, 64, 67, 0.3), 0px 1px 3px 1px rgba(60, 64, 67, 0.15);\n",
              "      fill: #174EA6;\n",
              "    }\n",
              "\n",
              "    .colab-df-buttons div {\n",
              "      margin-bottom: 4px;\n",
              "    }\n",
              "\n",
              "    [theme=dark] .colab-df-convert {\n",
              "      background-color: #3B4455;\n",
              "      fill: #D2E3FC;\n",
              "    }\n",
              "\n",
              "    [theme=dark] .colab-df-convert:hover {\n",
              "      background-color: #434B5C;\n",
              "      box-shadow: 0px 1px 3px 1px rgba(0, 0, 0, 0.15);\n",
              "      filter: drop-shadow(0px 1px 2px rgba(0, 0, 0, 0.3));\n",
              "      fill: #FFFFFF;\n",
              "    }\n",
              "  </style>\n",
              "\n",
              "    <script>\n",
              "      const buttonEl =\n",
              "        document.querySelector('#df-4b486f3e-7ee5-4a4a-9cf7-1a702d9c806d button.colab-df-convert');\n",
              "      buttonEl.style.display =\n",
              "        google.colab.kernel.accessAllowed ? 'block' : 'none';\n",
              "\n",
              "      async function convertToInteractive(key) {\n",
              "        const element = document.querySelector('#df-4b486f3e-7ee5-4a4a-9cf7-1a702d9c806d');\n",
              "        const dataTable =\n",
              "          await google.colab.kernel.invokeFunction('convertToInteractive',\n",
              "                                                    [key], {});\n",
              "        if (!dataTable) return;\n",
              "\n",
              "        const docLinkHtml = 'Like what you see? Visit the ' +\n",
              "          '<a target=\"_blank\" href=https://colab.research.google.com/notebooks/data_table.ipynb>data table notebook</a>'\n",
              "          + ' to learn more about interactive tables.';\n",
              "        element.innerHTML = '';\n",
              "        dataTable['output_type'] = 'display_data';\n",
              "        await google.colab.output.renderOutput(dataTable, element);\n",
              "        const docLink = document.createElement('div');\n",
              "        docLink.innerHTML = docLinkHtml;\n",
              "        element.appendChild(docLink);\n",
              "      }\n",
              "    </script>\n",
              "  </div>\n",
              "\n",
              "\n",
              "<div id=\"df-0bc1a1dd-e899-4eb7-8cf7-89a0af2fabc0\">\n",
              "  <button class=\"colab-df-quickchart\" onclick=\"quickchart('df-0bc1a1dd-e899-4eb7-8cf7-89a0af2fabc0')\"\n",
              "            title=\"Suggest charts.\"\n",
              "            style=\"display:none;\">\n",
              "\n",
              "<svg xmlns=\"http://www.w3.org/2000/svg\" height=\"24px\"viewBox=\"0 0 24 24\"\n",
              "     width=\"24px\">\n",
              "    <g>\n",
              "        <path d=\"M19 3H5c-1.1 0-2 .9-2 2v14c0 1.1.9 2 2 2h14c1.1 0 2-.9 2-2V5c0-1.1-.9-2-2-2zM9 17H7v-7h2v7zm4 0h-2V7h2v10zm4 0h-2v-4h2v4z\"/>\n",
              "    </g>\n",
              "</svg>\n",
              "  </button>\n",
              "\n",
              "<style>\n",
              "  .colab-df-quickchart {\n",
              "      --bg-color: #E8F0FE;\n",
              "      --fill-color: #1967D2;\n",
              "      --hover-bg-color: #E2EBFA;\n",
              "      --hover-fill-color: #174EA6;\n",
              "      --disabled-fill-color: #AAA;\n",
              "      --disabled-bg-color: #DDD;\n",
              "  }\n",
              "\n",
              "  [theme=dark] .colab-df-quickchart {\n",
              "      --bg-color: #3B4455;\n",
              "      --fill-color: #D2E3FC;\n",
              "      --hover-bg-color: #434B5C;\n",
              "      --hover-fill-color: #FFFFFF;\n",
              "      --disabled-bg-color: #3B4455;\n",
              "      --disabled-fill-color: #666;\n",
              "  }\n",
              "\n",
              "  .colab-df-quickchart {\n",
              "    background-color: var(--bg-color);\n",
              "    border: none;\n",
              "    border-radius: 50%;\n",
              "    cursor: pointer;\n",
              "    display: none;\n",
              "    fill: var(--fill-color);\n",
              "    height: 32px;\n",
              "    padding: 0;\n",
              "    width: 32px;\n",
              "  }\n",
              "\n",
              "  .colab-df-quickchart:hover {\n",
              "    background-color: var(--hover-bg-color);\n",
              "    box-shadow: 0 1px 2px rgba(60, 64, 67, 0.3), 0 1px 3px 1px rgba(60, 64, 67, 0.15);\n",
              "    fill: var(--button-hover-fill-color);\n",
              "  }\n",
              "\n",
              "  .colab-df-quickchart-complete:disabled,\n",
              "  .colab-df-quickchart-complete:disabled:hover {\n",
              "    background-color: var(--disabled-bg-color);\n",
              "    fill: var(--disabled-fill-color);\n",
              "    box-shadow: none;\n",
              "  }\n",
              "\n",
              "  .colab-df-spinner {\n",
              "    border: 2px solid var(--fill-color);\n",
              "    border-color: transparent;\n",
              "    border-bottom-color: var(--fill-color);\n",
              "    animation:\n",
              "      spin 1s steps(1) infinite;\n",
              "  }\n",
              "\n",
              "  @keyframes spin {\n",
              "    0% {\n",
              "      border-color: transparent;\n",
              "      border-bottom-color: var(--fill-color);\n",
              "      border-left-color: var(--fill-color);\n",
              "    }\n",
              "    20% {\n",
              "      border-color: transparent;\n",
              "      border-left-color: var(--fill-color);\n",
              "      border-top-color: var(--fill-color);\n",
              "    }\n",
              "    30% {\n",
              "      border-color: transparent;\n",
              "      border-left-color: var(--fill-color);\n",
              "      border-top-color: var(--fill-color);\n",
              "      border-right-color: var(--fill-color);\n",
              "    }\n",
              "    40% {\n",
              "      border-color: transparent;\n",
              "      border-right-color: var(--fill-color);\n",
              "      border-top-color: var(--fill-color);\n",
              "    }\n",
              "    60% {\n",
              "      border-color: transparent;\n",
              "      border-right-color: var(--fill-color);\n",
              "    }\n",
              "    80% {\n",
              "      border-color: transparent;\n",
              "      border-right-color: var(--fill-color);\n",
              "      border-bottom-color: var(--fill-color);\n",
              "    }\n",
              "    90% {\n",
              "      border-color: transparent;\n",
              "      border-bottom-color: var(--fill-color);\n",
              "    }\n",
              "  }\n",
              "</style>\n",
              "\n",
              "  <script>\n",
              "    async function quickchart(key) {\n",
              "      const quickchartButtonEl =\n",
              "        document.querySelector('#' + key + ' button');\n",
              "      quickchartButtonEl.disabled = true;  // To prevent multiple clicks.\n",
              "      quickchartButtonEl.classList.add('colab-df-spinner');\n",
              "      try {\n",
              "        const charts = await google.colab.kernel.invokeFunction(\n",
              "            'suggestCharts', [key], {});\n",
              "      } catch (error) {\n",
              "        console.error('Error during call to suggestCharts:', error);\n",
              "      }\n",
              "      quickchartButtonEl.classList.remove('colab-df-spinner');\n",
              "      quickchartButtonEl.classList.add('colab-df-quickchart-complete');\n",
              "    }\n",
              "    (() => {\n",
              "      let quickchartButtonEl =\n",
              "        document.querySelector('#df-0bc1a1dd-e899-4eb7-8cf7-89a0af2fabc0 button');\n",
              "      quickchartButtonEl.style.display =\n",
              "        google.colab.kernel.accessAllowed ? 'block' : 'none';\n",
              "    })();\n",
              "  </script>\n",
              "</div>\n",
              "    </div>\n",
              "  </div>\n"
            ]
          },
          "metadata": {},
          "execution_count": 14
        }
      ]
    },
    {
      "cell_type": "code",
      "source": [
        "x.shape"
      ],
      "metadata": {
        "colab": {
          "base_uri": "https://localhost:8080/"
        },
        "id": "u_PJkpeZKe7b",
        "outputId": "7988760f-8995-4cde-9d65-f6476a69ad27"
      },
      "execution_count": 15,
      "outputs": [
        {
          "output_type": "execute_result",
          "data": {
            "text/plain": [
              "(100, 3)"
            ]
          },
          "metadata": {},
          "execution_count": 15
        }
      ]
    },
    {
      "cell_type": "code",
      "source": [
        "model.predict([[-0.9831721,-1.7364685,0.631971]]) # its predicting the output based on input values\n",
        "#by default the distance metric is euclidean"
      ],
      "metadata": {
        "colab": {
          "base_uri": "https://localhost:8080/"
        },
        "id": "6GEj5KIXN5qd",
        "outputId": "0a3d50f7-ed90-47dd-8138-e5ed306045d8"
      },
      "execution_count": 21,
      "outputs": [
        {
          "output_type": "execute_result",
          "data": {
            "text/plain": [
              "array([-88.82055308])"
            ]
          },
          "metadata": {},
          "execution_count": 21
        }
      ]
    },
    {
      "cell_type": "code",
      "source": [
        "#metric -->euclidean, manhattan, cosine...\n",
        "#type of averaging\n",
        "#changing the no of neighbors"
      ],
      "metadata": {
        "id": "8quIqs0LPr5e"
      },
      "execution_count": null,
      "outputs": []
    },
    {
      "cell_type": "code",
      "source": [
        "model.predict([[0.96,0.042,0.86],[1.715698,-0.306692,0.392501]])"
      ],
      "metadata": {
        "colab": {
          "base_uri": "https://localhost:8080/"
        },
        "id": "AkGDvTqXPr2A",
        "outputId": "22708ecd-6ab3-4d22-c99d-7748ff1bc345"
      },
      "execution_count": 22,
      "outputs": [
        {
          "output_type": "execute_result",
          "data": {
            "text/plain": [
              "array([ 59.88878182, 124.880447  ])"
            ]
          },
          "metadata": {},
          "execution_count": 22
        }
      ]
    },
    {
      "cell_type": "code",
      "source": [
        "#type of averaging\n",
        "#changing the no of neighbors"
      ],
      "metadata": {
        "id": "PRMatowlPrzM"
      },
      "execution_count": null,
      "outputs": []
    },
    {
      "cell_type": "code",
      "source": [
        "from sklearn.neighbors import KNeighborsRegressor\n",
        "\n",
        "# Stack the X1, X2, and X3 columns of df into a two-dimensional numpy array\n",
        "x = np.column_stack((df['X1'], df['X2'], df['X3']))\n",
        "\n",
        "# In this case, -1 is used to represent the unknown number of samples in the original X array, and 3 represents the number of features.\n",
        "x = x.reshape(-1,3)\n",
        "model = KNeighborsRegressor(n_neighbors = 2, weights = 'uniform')\n",
        "#uniform means weighted averaging\n",
        "#distance means weighted averaging\n",
        "#by changing the parameter weights\n",
        "model.fit(x,df['Y'])"
      ],
      "metadata": {
        "colab": {
          "base_uri": "https://localhost:8080/",
          "height": 74
        },
        "id": "bN8b7gW5PrwM",
        "outputId": "7b35b7a1-d278-40d5-c84c-05cec6f52f99"
      },
      "execution_count": 24,
      "outputs": [
        {
          "output_type": "execute_result",
          "data": {
            "text/plain": [
              "KNeighborsRegressor(n_neighbors=2)"
            ],
            "text/html": [
              "<style>#sk-container-id-3 {color: black;background-color: white;}#sk-container-id-3 pre{padding: 0;}#sk-container-id-3 div.sk-toggleable {background-color: white;}#sk-container-id-3 label.sk-toggleable__label {cursor: pointer;display: block;width: 100%;margin-bottom: 0;padding: 0.3em;box-sizing: border-box;text-align: center;}#sk-container-id-3 label.sk-toggleable__label-arrow:before {content: \"▸\";float: left;margin-right: 0.25em;color: #696969;}#sk-container-id-3 label.sk-toggleable__label-arrow:hover:before {color: black;}#sk-container-id-3 div.sk-estimator:hover label.sk-toggleable__label-arrow:before {color: black;}#sk-container-id-3 div.sk-toggleable__content {max-height: 0;max-width: 0;overflow: hidden;text-align: left;background-color: #f0f8ff;}#sk-container-id-3 div.sk-toggleable__content pre {margin: 0.2em;color: black;border-radius: 0.25em;background-color: #f0f8ff;}#sk-container-id-3 input.sk-toggleable__control:checked~div.sk-toggleable__content {max-height: 200px;max-width: 100%;overflow: auto;}#sk-container-id-3 input.sk-toggleable__control:checked~label.sk-toggleable__label-arrow:before {content: \"▾\";}#sk-container-id-3 div.sk-estimator input.sk-toggleable__control:checked~label.sk-toggleable__label {background-color: #d4ebff;}#sk-container-id-3 div.sk-label input.sk-toggleable__control:checked~label.sk-toggleable__label {background-color: #d4ebff;}#sk-container-id-3 input.sk-hidden--visually {border: 0;clip: rect(1px 1px 1px 1px);clip: rect(1px, 1px, 1px, 1px);height: 1px;margin: -1px;overflow: hidden;padding: 0;position: absolute;width: 1px;}#sk-container-id-3 div.sk-estimator {font-family: monospace;background-color: #f0f8ff;border: 1px dotted black;border-radius: 0.25em;box-sizing: border-box;margin-bottom: 0.5em;}#sk-container-id-3 div.sk-estimator:hover {background-color: #d4ebff;}#sk-container-id-3 div.sk-parallel-item::after {content: \"\";width: 100%;border-bottom: 1px solid gray;flex-grow: 1;}#sk-container-id-3 div.sk-label:hover label.sk-toggleable__label {background-color: #d4ebff;}#sk-container-id-3 div.sk-serial::before {content: \"\";position: absolute;border-left: 1px solid gray;box-sizing: border-box;top: 0;bottom: 0;left: 50%;z-index: 0;}#sk-container-id-3 div.sk-serial {display: flex;flex-direction: column;align-items: center;background-color: white;padding-right: 0.2em;padding-left: 0.2em;position: relative;}#sk-container-id-3 div.sk-item {position: relative;z-index: 1;}#sk-container-id-3 div.sk-parallel {display: flex;align-items: stretch;justify-content: center;background-color: white;position: relative;}#sk-container-id-3 div.sk-item::before, #sk-container-id-3 div.sk-parallel-item::before {content: \"\";position: absolute;border-left: 1px solid gray;box-sizing: border-box;top: 0;bottom: 0;left: 50%;z-index: -1;}#sk-container-id-3 div.sk-parallel-item {display: flex;flex-direction: column;z-index: 1;position: relative;background-color: white;}#sk-container-id-3 div.sk-parallel-item:first-child::after {align-self: flex-end;width: 50%;}#sk-container-id-3 div.sk-parallel-item:last-child::after {align-self: flex-start;width: 50%;}#sk-container-id-3 div.sk-parallel-item:only-child::after {width: 0;}#sk-container-id-3 div.sk-dashed-wrapped {border: 1px dashed gray;margin: 0 0.4em 0.5em 0.4em;box-sizing: border-box;padding-bottom: 0.4em;background-color: white;}#sk-container-id-3 div.sk-label label {font-family: monospace;font-weight: bold;display: inline-block;line-height: 1.2em;}#sk-container-id-3 div.sk-label-container {text-align: center;}#sk-container-id-3 div.sk-container {/* jupyter's `normalize.less` sets `[hidden] { display: none; }` but bootstrap.min.css set `[hidden] { display: none !important; }` so we also need the `!important` here to be able to override the default hidden behavior on the sphinx rendered scikit-learn.org. See: https://github.com/scikit-learn/scikit-learn/issues/21755 */display: inline-block !important;position: relative;}#sk-container-id-3 div.sk-text-repr-fallback {display: none;}</style><div id=\"sk-container-id-3\" class=\"sk-top-container\"><div class=\"sk-text-repr-fallback\"><pre>KNeighborsRegressor(n_neighbors=2)</pre><b>In a Jupyter environment, please rerun this cell to show the HTML representation or trust the notebook. <br />On GitHub, the HTML representation is unable to render, please try loading this page with nbviewer.org.</b></div><div class=\"sk-container\" hidden><div class=\"sk-item\"><div class=\"sk-estimator sk-toggleable\"><input class=\"sk-toggleable__control sk-hidden--visually\" id=\"sk-estimator-id-3\" type=\"checkbox\" checked><label for=\"sk-estimator-id-3\" class=\"sk-toggleable__label sk-toggleable__label-arrow\">KNeighborsRegressor</label><div class=\"sk-toggleable__content\"><pre>KNeighborsRegressor(n_neighbors=2)</pre></div></div></div></div></div>"
            ]
          },
          "metadata": {},
          "execution_count": 24
        }
      ]
    },
    {
      "cell_type": "code",
      "source": [
        "model.predict([[-0.308990,-0.535498,1.098157]])"
      ],
      "metadata": {
        "colab": {
          "base_uri": "https://localhost:8080/"
        },
        "id": "ZWay5NFqSAIs",
        "outputId": "252591e5-9c2b-4713-e17b-20a3afdb9e68"
      },
      "execution_count": 25,
      "outputs": [
        {
          "output_type": "execute_result",
          "data": {
            "text/plain": [
              "array([-35.336697])"
            ]
          },
          "metadata": {},
          "execution_count": 25
        }
      ]
    },
    {
      "cell_type": "code",
      "source": [
        "from sklearn.neighbors import KNeighborsRegressor\n",
        "\n",
        "# Stack the X1, X2, and X3 columns of df into a two-dimensional numpy array\n",
        "x = np.column_stack((df['X1'], df['X2'], df['X3']))\n",
        "\n",
        "# In this case, -1 is used to represent the unknown number of samples in the original X array, and 3 represents the number of features.\n",
        "x = x.reshape(-1,3)\n",
        "model = KNeighborsRegressor(n_neighbors = 2, weights = 'uniform',metric = 'manhattan')\n",
        "#uniform means weighted averaging\n",
        "#distance means weighted averaging\n",
        "#by changing the parameter weights\n",
        "model.fit(x,df['Y'])"
      ],
      "metadata": {
        "colab": {
          "base_uri": "https://localhost:8080/",
          "height": 74
        },
        "id": "1GQJY1YgSAFT",
        "outputId": "0150630b-c864-4553-c292-2adb317dee02"
      },
      "execution_count": 26,
      "outputs": [
        {
          "output_type": "execute_result",
          "data": {
            "text/plain": [
              "KNeighborsRegressor(metric='manhattan', n_neighbors=2)"
            ],
            "text/html": [
              "<style>#sk-container-id-4 {color: black;background-color: white;}#sk-container-id-4 pre{padding: 0;}#sk-container-id-4 div.sk-toggleable {background-color: white;}#sk-container-id-4 label.sk-toggleable__label {cursor: pointer;display: block;width: 100%;margin-bottom: 0;padding: 0.3em;box-sizing: border-box;text-align: center;}#sk-container-id-4 label.sk-toggleable__label-arrow:before {content: \"▸\";float: left;margin-right: 0.25em;color: #696969;}#sk-container-id-4 label.sk-toggleable__label-arrow:hover:before {color: black;}#sk-container-id-4 div.sk-estimator:hover label.sk-toggleable__label-arrow:before {color: black;}#sk-container-id-4 div.sk-toggleable__content {max-height: 0;max-width: 0;overflow: hidden;text-align: left;background-color: #f0f8ff;}#sk-container-id-4 div.sk-toggleable__content pre {margin: 0.2em;color: black;border-radius: 0.25em;background-color: #f0f8ff;}#sk-container-id-4 input.sk-toggleable__control:checked~div.sk-toggleable__content {max-height: 200px;max-width: 100%;overflow: auto;}#sk-container-id-4 input.sk-toggleable__control:checked~label.sk-toggleable__label-arrow:before {content: \"▾\";}#sk-container-id-4 div.sk-estimator input.sk-toggleable__control:checked~label.sk-toggleable__label {background-color: #d4ebff;}#sk-container-id-4 div.sk-label input.sk-toggleable__control:checked~label.sk-toggleable__label {background-color: #d4ebff;}#sk-container-id-4 input.sk-hidden--visually {border: 0;clip: rect(1px 1px 1px 1px);clip: rect(1px, 1px, 1px, 1px);height: 1px;margin: -1px;overflow: hidden;padding: 0;position: absolute;width: 1px;}#sk-container-id-4 div.sk-estimator {font-family: monospace;background-color: #f0f8ff;border: 1px dotted black;border-radius: 0.25em;box-sizing: border-box;margin-bottom: 0.5em;}#sk-container-id-4 div.sk-estimator:hover {background-color: #d4ebff;}#sk-container-id-4 div.sk-parallel-item::after {content: \"\";width: 100%;border-bottom: 1px solid gray;flex-grow: 1;}#sk-container-id-4 div.sk-label:hover label.sk-toggleable__label {background-color: #d4ebff;}#sk-container-id-4 div.sk-serial::before {content: \"\";position: absolute;border-left: 1px solid gray;box-sizing: border-box;top: 0;bottom: 0;left: 50%;z-index: 0;}#sk-container-id-4 div.sk-serial {display: flex;flex-direction: column;align-items: center;background-color: white;padding-right: 0.2em;padding-left: 0.2em;position: relative;}#sk-container-id-4 div.sk-item {position: relative;z-index: 1;}#sk-container-id-4 div.sk-parallel {display: flex;align-items: stretch;justify-content: center;background-color: white;position: relative;}#sk-container-id-4 div.sk-item::before, #sk-container-id-4 div.sk-parallel-item::before {content: \"\";position: absolute;border-left: 1px solid gray;box-sizing: border-box;top: 0;bottom: 0;left: 50%;z-index: -1;}#sk-container-id-4 div.sk-parallel-item {display: flex;flex-direction: column;z-index: 1;position: relative;background-color: white;}#sk-container-id-4 div.sk-parallel-item:first-child::after {align-self: flex-end;width: 50%;}#sk-container-id-4 div.sk-parallel-item:last-child::after {align-self: flex-start;width: 50%;}#sk-container-id-4 div.sk-parallel-item:only-child::after {width: 0;}#sk-container-id-4 div.sk-dashed-wrapped {border: 1px dashed gray;margin: 0 0.4em 0.5em 0.4em;box-sizing: border-box;padding-bottom: 0.4em;background-color: white;}#sk-container-id-4 div.sk-label label {font-family: monospace;font-weight: bold;display: inline-block;line-height: 1.2em;}#sk-container-id-4 div.sk-label-container {text-align: center;}#sk-container-id-4 div.sk-container {/* jupyter's `normalize.less` sets `[hidden] { display: none; }` but bootstrap.min.css set `[hidden] { display: none !important; }` so we also need the `!important` here to be able to override the default hidden behavior on the sphinx rendered scikit-learn.org. See: https://github.com/scikit-learn/scikit-learn/issues/21755 */display: inline-block !important;position: relative;}#sk-container-id-4 div.sk-text-repr-fallback {display: none;}</style><div id=\"sk-container-id-4\" class=\"sk-top-container\"><div class=\"sk-text-repr-fallback\"><pre>KNeighborsRegressor(metric=&#x27;manhattan&#x27;, n_neighbors=2)</pre><b>In a Jupyter environment, please rerun this cell to show the HTML representation or trust the notebook. <br />On GitHub, the HTML representation is unable to render, please try loading this page with nbviewer.org.</b></div><div class=\"sk-container\" hidden><div class=\"sk-item\"><div class=\"sk-estimator sk-toggleable\"><input class=\"sk-toggleable__control sk-hidden--visually\" id=\"sk-estimator-id-4\" type=\"checkbox\" checked><label for=\"sk-estimator-id-4\" class=\"sk-toggleable__label sk-toggleable__label-arrow\">KNeighborsRegressor</label><div class=\"sk-toggleable__content\"><pre>KNeighborsRegressor(metric=&#x27;manhattan&#x27;, n_neighbors=2)</pre></div></div></div></div></div>"
            ]
          },
          "metadata": {},
          "execution_count": 26
        }
      ]
    },
    {
      "cell_type": "code",
      "source": [
        "model.predict([[-0.308990,-0.535498,1.098157]])"
      ],
      "metadata": {
        "colab": {
          "base_uri": "https://localhost:8080/"
        },
        "id": "wQbSifgtSAB7",
        "outputId": "9458839e-f464-4fd9-ec34-5b20237d540b"
      },
      "execution_count": 27,
      "outputs": [
        {
          "output_type": "execute_result",
          "data": {
            "text/plain": [
              "array([-9.40069548])"
            ]
          },
          "metadata": {},
          "execution_count": 27
        }
      ]
    },
    {
      "cell_type": "code",
      "source": [
        "model = KNeighborsRegressor(n_neighbors = 1)\n",
        "from sklearn.model_selection import train_test_split\n",
        "x_train,x_test,y_train,y_test = train_test_split(x,df['Y'],test_size = 0.3,random_state = 1)"
      ],
      "metadata": {
        "id": "t3PI_Skm0DeP"
      },
      "execution_count": 28,
      "outputs": []
    },
    {
      "cell_type": "code",
      "source": [
        "x_train.shape"
      ],
      "metadata": {
        "colab": {
          "base_uri": "https://localhost:8080/"
        },
        "id": "fXUwLf6F1zYk",
        "outputId": "b2a35058-4f59-4ccb-9fcd-7c3107464556"
      },
      "execution_count": 29,
      "outputs": [
        {
          "output_type": "execute_result",
          "data": {
            "text/plain": [
              "(70, 3)"
            ]
          },
          "metadata": {},
          "execution_count": 29
        }
      ]
    },
    {
      "cell_type": "code",
      "source": [
        "x_test.shape"
      ],
      "metadata": {
        "colab": {
          "base_uri": "https://localhost:8080/"
        },
        "id": "coEpfVvr1_mK",
        "outputId": "fbb39282-6c4d-49f9-8f0f-bedb2bc7522a"
      },
      "execution_count": 30,
      "outputs": [
        {
          "output_type": "execute_result",
          "data": {
            "text/plain": [
              "(30, 3)"
            ]
          },
          "metadata": {},
          "execution_count": 30
        }
      ]
    },
    {
      "cell_type": "code",
      "source": [
        "y_train.shape,y_test.shape"
      ],
      "metadata": {
        "colab": {
          "base_uri": "https://localhost:8080/"
        },
        "id": "OCxUOvOs2CZR",
        "outputId": "25d00f86-072a-4d79-fd6d-1f7616c95bb3"
      },
      "execution_count": 31,
      "outputs": [
        {
          "output_type": "execute_result",
          "data": {
            "text/plain": [
              "((70,), (30,))"
            ]
          },
          "metadata": {},
          "execution_count": 31
        }
      ]
    },
    {
      "cell_type": "code",
      "source": [
        "x_train"
      ],
      "metadata": {
        "colab": {
          "base_uri": "https://localhost:8080/"
        },
        "id": "D76fzrDL2IWh",
        "outputId": "ac449e96-e468-4bb6-c6de-82cfca67feef"
      },
      "execution_count": 32,
      "outputs": [
        {
          "output_type": "execute_result",
          "data": {
            "text/plain": [
              "array([[-0.07225832,  1.25159902, -1.4875371 ],\n",
              "       [-0.49387388,  0.14768132, -1.27471675],\n",
              "       [-0.27157236,  0.32082095,  0.89596072],\n",
              "       [ 1.00284055,  1.90593545, -0.02314386],\n",
              "       [ 1.47289655,  0.39861124,  0.48335034],\n",
              "       [-0.96520691, -0.99729023,  0.79369781],\n",
              "       [-0.65446514,  0.97138637, -1.28996942],\n",
              "       [ 0.14412757, -0.76687544, -0.24663914],\n",
              "       [ 0.40713903, -0.43072009, -1.19004166],\n",
              "       [-1.10627666,  0.39265588, -0.06733535],\n",
              "       [-0.40830218, -1.57428068,  1.36858029],\n",
              "       [-0.41068797,  0.46295266, -1.37546376],\n",
              "       [ 0.29608309,  0.43597968, -0.80625965],\n",
              "       [ 1.56569282, -0.8544273 ,  1.68904417],\n",
              "       [-1.28196034, -0.86608717,  1.54537077],\n",
              "       [ 0.36688009,  0.46742558, -0.82958043],\n",
              "       [ 1.89946006, -1.34477691, -0.03407621],\n",
              "       [ 0.05347006, -0.20179411,  1.0872324 ],\n",
              "       [-2.63352875, -1.28959359, -0.81338295],\n",
              "       [-1.08949212, -0.96401155,  0.55081063],\n",
              "       [-0.13888914, -0.46051312, -0.93548852],\n",
              "       [-1.78729824, -0.50821631, -1.67065664],\n",
              "       [ 0.6702354 ,  0.96653908, -0.12524901],\n",
              "       [ 1.01774351, -1.31045563,  0.73325878],\n",
              "       [-2.57260084, -0.78441516, -1.02712799],\n",
              "       [ 0.84213814,  2.70921518,  0.50940032],\n",
              "       [-0.8160819 , -0.78660959, -0.58875983],\n",
              "       [ 0.48736995,  0.29452867, -1.49422834],\n",
              "       [-0.93448966, -0.18869891,  0.67589183],\n",
              "       [-0.61365541,  0.77624087,  1.19005423],\n",
              "       [-0.34158954,  0.20546985, -0.12908853],\n",
              "       [ 0.32284672,  0.33628061,  1.46911364],\n",
              "       [-1.51745166,  1.35312588, -1.28179447],\n",
              "       [-0.20624914,  1.7974845 ,  0.97368802],\n",
              "       [ 0.61181925, -1.6965181 ,  0.64022633],\n",
              "       [-1.25403672,  0.39573727,  0.8015945 ],\n",
              "       [-1.22829401,  0.41062662, -2.31165448],\n",
              "       [ 0.33132678,  1.08879692, -1.53667759],\n",
              "       [ 0.83172149, -1.26468496, -0.5319715 ],\n",
              "       [-0.03710553, -0.60046367, -1.64890726],\n",
              "       [-0.16684316,  0.82597556,  1.70015727],\n",
              "       [ 0.16123766,  0.28605475, -0.51650093],\n",
              "       [ 0.18085827,  0.03021391,  0.59792056],\n",
              "       [-0.51001524, -0.01806655,  0.26084765],\n",
              "       [ 1.3638667 , -1.73847194,  0.00680311],\n",
              "       [-1.87455705, -0.50737042,  1.16249238],\n",
              "       [-0.84675794,  1.09365978, -1.17996765],\n",
              "       [ 1.34702328,  1.12840741,  1.10829061],\n",
              "       [-1.40395655,  0.1853514 , -0.97584831],\n",
              "       [-0.05248202, -0.99570534, -0.44456525],\n",
              "       [-0.64132174, -0.71139937,  0.02857353],\n",
              "       [ 1.20591827, -0.08613259, -0.44786145],\n",
              "       [ 0.70357213, -0.11180548,  0.03468837],\n",
              "       [-0.90691078, -0.92792673,  1.42912772],\n",
              "       [ 0.64887631, -0.44964804, -0.91710804],\n",
              "       [ 1.33548294,  1.26800707,  0.63858991],\n",
              "       [ 0.64960337,  0.14330403,  0.65751514],\n",
              "       [-0.25577127,  1.62328523,  0.88929229],\n",
              "       [-0.65190236, -0.06905762, -0.45352963],\n",
              "       [ 2.3231748 , -0.30382266, -0.53986024],\n",
              "       [-0.49831734, -0.11652878,  0.51046303],\n",
              "       [ 1.20196263,  1.61381069, -1.17654913],\n",
              "       [-0.5521093 , -0.41280636, -1.00630305],\n",
              "       [ 1.65836353,  1.31333371, -0.75354202],\n",
              "       [ 0.90009338, -0.74602714,  0.95723066],\n",
              "       [ 0.02193895, -0.35219153,  0.321936  ],\n",
              "       [ 0.70593867,  0.11553717, -1.00028468],\n",
              "       [-1.8331444 ,  1.22922563,  0.13791864],\n",
              "       [-2.66018016, -0.81160437,  0.67810352],\n",
              "       [-1.24276414,  1.61051068, -0.17841581]])"
            ]
          },
          "metadata": {},
          "execution_count": 32
        }
      ]
    },
    {
      "cell_type": "code",
      "source": [
        "model.fit(x_train,y_train)"
      ],
      "metadata": {
        "colab": {
          "base_uri": "https://localhost:8080/",
          "height": 74
        },
        "id": "ZcY9IJns2JK6",
        "outputId": "9d962939-c12d-44d8-8a10-d67525b84d2e"
      },
      "execution_count": 33,
      "outputs": [
        {
          "output_type": "execute_result",
          "data": {
            "text/plain": [
              "KNeighborsRegressor(n_neighbors=1)"
            ],
            "text/html": [
              "<style>#sk-container-id-5 {color: black;background-color: white;}#sk-container-id-5 pre{padding: 0;}#sk-container-id-5 div.sk-toggleable {background-color: white;}#sk-container-id-5 label.sk-toggleable__label {cursor: pointer;display: block;width: 100%;margin-bottom: 0;padding: 0.3em;box-sizing: border-box;text-align: center;}#sk-container-id-5 label.sk-toggleable__label-arrow:before {content: \"▸\";float: left;margin-right: 0.25em;color: #696969;}#sk-container-id-5 label.sk-toggleable__label-arrow:hover:before {color: black;}#sk-container-id-5 div.sk-estimator:hover label.sk-toggleable__label-arrow:before {color: black;}#sk-container-id-5 div.sk-toggleable__content {max-height: 0;max-width: 0;overflow: hidden;text-align: left;background-color: #f0f8ff;}#sk-container-id-5 div.sk-toggleable__content pre {margin: 0.2em;color: black;border-radius: 0.25em;background-color: #f0f8ff;}#sk-container-id-5 input.sk-toggleable__control:checked~div.sk-toggleable__content {max-height: 200px;max-width: 100%;overflow: auto;}#sk-container-id-5 input.sk-toggleable__control:checked~label.sk-toggleable__label-arrow:before {content: \"▾\";}#sk-container-id-5 div.sk-estimator input.sk-toggleable__control:checked~label.sk-toggleable__label {background-color: #d4ebff;}#sk-container-id-5 div.sk-label input.sk-toggleable__control:checked~label.sk-toggleable__label {background-color: #d4ebff;}#sk-container-id-5 input.sk-hidden--visually {border: 0;clip: rect(1px 1px 1px 1px);clip: rect(1px, 1px, 1px, 1px);height: 1px;margin: -1px;overflow: hidden;padding: 0;position: absolute;width: 1px;}#sk-container-id-5 div.sk-estimator {font-family: monospace;background-color: #f0f8ff;border: 1px dotted black;border-radius: 0.25em;box-sizing: border-box;margin-bottom: 0.5em;}#sk-container-id-5 div.sk-estimator:hover {background-color: #d4ebff;}#sk-container-id-5 div.sk-parallel-item::after {content: \"\";width: 100%;border-bottom: 1px solid gray;flex-grow: 1;}#sk-container-id-5 div.sk-label:hover label.sk-toggleable__label {background-color: #d4ebff;}#sk-container-id-5 div.sk-serial::before {content: \"\";position: absolute;border-left: 1px solid gray;box-sizing: border-box;top: 0;bottom: 0;left: 50%;z-index: 0;}#sk-container-id-5 div.sk-serial {display: flex;flex-direction: column;align-items: center;background-color: white;padding-right: 0.2em;padding-left: 0.2em;position: relative;}#sk-container-id-5 div.sk-item {position: relative;z-index: 1;}#sk-container-id-5 div.sk-parallel {display: flex;align-items: stretch;justify-content: center;background-color: white;position: relative;}#sk-container-id-5 div.sk-item::before, #sk-container-id-5 div.sk-parallel-item::before {content: \"\";position: absolute;border-left: 1px solid gray;box-sizing: border-box;top: 0;bottom: 0;left: 50%;z-index: -1;}#sk-container-id-5 div.sk-parallel-item {display: flex;flex-direction: column;z-index: 1;position: relative;background-color: white;}#sk-container-id-5 div.sk-parallel-item:first-child::after {align-self: flex-end;width: 50%;}#sk-container-id-5 div.sk-parallel-item:last-child::after {align-self: flex-start;width: 50%;}#sk-container-id-5 div.sk-parallel-item:only-child::after {width: 0;}#sk-container-id-5 div.sk-dashed-wrapped {border: 1px dashed gray;margin: 0 0.4em 0.5em 0.4em;box-sizing: border-box;padding-bottom: 0.4em;background-color: white;}#sk-container-id-5 div.sk-label label {font-family: monospace;font-weight: bold;display: inline-block;line-height: 1.2em;}#sk-container-id-5 div.sk-label-container {text-align: center;}#sk-container-id-5 div.sk-container {/* jupyter's `normalize.less` sets `[hidden] { display: none; }` but bootstrap.min.css set `[hidden] { display: none !important; }` so we also need the `!important` here to be able to override the default hidden behavior on the sphinx rendered scikit-learn.org. See: https://github.com/scikit-learn/scikit-learn/issues/21755 */display: inline-block !important;position: relative;}#sk-container-id-5 div.sk-text-repr-fallback {display: none;}</style><div id=\"sk-container-id-5\" class=\"sk-top-container\"><div class=\"sk-text-repr-fallback\"><pre>KNeighborsRegressor(n_neighbors=1)</pre><b>In a Jupyter environment, please rerun this cell to show the HTML representation or trust the notebook. <br />On GitHub, the HTML representation is unable to render, please try loading this page with nbviewer.org.</b></div><div class=\"sk-container\" hidden><div class=\"sk-item\"><div class=\"sk-estimator sk-toggleable\"><input class=\"sk-toggleable__control sk-hidden--visually\" id=\"sk-estimator-id-5\" type=\"checkbox\" checked><label for=\"sk-estimator-id-5\" class=\"sk-toggleable__label sk-toggleable__label-arrow\">KNeighborsRegressor</label><div class=\"sk-toggleable__content\"><pre>KNeighborsRegressor(n_neighbors=1)</pre></div></div></div></div></div>"
            ]
          },
          "metadata": {},
          "execution_count": 33
        }
      ]
    },
    {
      "cell_type": "code",
      "source": [
        "preds = model.predict(x_test)\n",
        "preds"
      ],
      "metadata": {
        "colab": {
          "base_uri": "https://localhost:8080/"
        },
        "id": "cM9NdhJX2JHg",
        "outputId": "95b8c184-d8f5-4f0b-b87c-0b0501ece26b"
      },
      "execution_count": 34,
      "outputs": [
        {
          "output_type": "execute_result",
          "data": {
            "text/plain": [
              "array([ 105.61944385,   -0.76731878,   -8.04907507,   42.09365642,\n",
              "        121.35108259,  -12.52868906,   64.7684028 , -126.70866936,\n",
              "        -49.24051697, -110.35905919,  -59.51658882,   16.8223137 ,\n",
              "         68.1883075 ,  -43.52625731,  -95.11438297,  -99.8466938 ,\n",
              "        134.96995524,  -97.01543266,  -79.97688027,   68.1883075 ,\n",
              "        -86.01688724,  161.33382905,  -10.45461096,   81.83400784,\n",
              "         68.1883075 ,  136.36632895,    7.04651944,   -8.63975254,\n",
              "        108.42515965,  108.42515965])"
            ]
          },
          "metadata": {},
          "execution_count": 34
        }
      ]
    },
    {
      "cell_type": "code",
      "source": [
        "y_test #(actual values ofyour test set )"
      ],
      "metadata": {
        "colab": {
          "base_uri": "https://localhost:8080/"
        },
        "id": "6w_KubHV2JEH",
        "outputId": "9a3c6710-70fb-4653-9589-b7643314471f"
      },
      "execution_count": 35,
      "outputs": [
        {
          "output_type": "execute_result",
          "data": {
            "text/plain": [
              "80     88.499598\n",
              "84     34.420441\n",
              "33      8.568825\n",
              "81      6.459000\n",
              "93     74.806082\n",
              "17    -72.209658\n",
              "36     74.222354\n",
              "82   -105.647619\n",
              "69      7.119959\n",
              "65    -95.391155\n",
              "92    -81.861134\n",
              "39      5.400511\n",
              "56     69.258782\n",
              "52    -31.770343\n",
              "51    -88.820553\n",
              "32    -79.746691\n",
              "31    101.804812\n",
              "44    -96.042556\n",
              "78   -104.902540\n",
              "10     64.663624\n",
              "2     -73.933907\n",
              "73    149.226982\n",
              "97     -5.767998\n",
              "62     71.286329\n",
              "19     70.502394\n",
              "35    124.880447\n",
              "94     32.107153\n",
              "27     22.588589\n",
              "46    132.583967\n",
              "38     70.330335\n",
              "Name: Y, dtype: float64"
            ]
          },
          "metadata": {},
          "execution_count": 35
        }
      ]
    },
    {
      "cell_type": "code",
      "source": [
        "error = np.abs(preds - y_test).sum() #sum of absolute errors\n",
        "error"
      ],
      "metadata": {
        "colab": {
          "base_uri": "https://localhost:8080/"
        },
        "id": "rhTQxpQf3lSl",
        "outputId": "c88d3f96-fedc-4672-cade-5c1545af3c93"
      },
      "execution_count": 36,
      "outputs": [
        {
          "output_type": "execute_result",
          "data": {
            "text/plain": [
              "619.9711395665073"
            ]
          },
          "metadata": {},
          "execution_count": 36
        }
      ]
    },
    {
      "cell_type": "code",
      "source": [
        "#evaluation metrics\n",
        "#below are the regression evaluation metrics"
      ],
      "metadata": {
        "id": "lRG4RblO4gZ2"
      },
      "execution_count": 37,
      "outputs": []
    },
    {
      "cell_type": "code",
      "source": [
        "np.abs(preds -y_test).mean() #Mean absolute error"
      ],
      "metadata": {
        "colab": {
          "base_uri": "https://localhost:8080/"
        },
        "id": "0JoZgnT23lPJ",
        "outputId": "f6f71460-d79a-414b-8c22-e019301c31ed"
      },
      "execution_count": 38,
      "outputs": [
        {
          "output_type": "execute_result",
          "data": {
            "text/plain": [
              "20.66570465221691"
            ]
          },
          "metadata": {},
          "execution_count": 38
        }
      ]
    },
    {
      "cell_type": "code",
      "source": [
        "from sklearn.metrics import mean_absolute_error\n",
        "mean_absolute_error(preds,y_test)"
      ],
      "metadata": {
        "colab": {
          "base_uri": "https://localhost:8080/"
        },
        "id": "ObHaSpVi3lMS",
        "outputId": "8a233335-6abb-4292-92c6-b23be9f47fc5"
      },
      "execution_count": 39,
      "outputs": [
        {
          "output_type": "execute_result",
          "data": {
            "text/plain": [
              "20.66570465221691"
            ]
          },
          "metadata": {},
          "execution_count": 39
        }
      ]
    },
    {
      "cell_type": "code",
      "source": [
        "from sklearn.metrics import mean_squared_error\n",
        "mean_squared_error(preds,y_test)"
      ],
      "metadata": {
        "colab": {
          "base_uri": "https://localhost:8080/"
        },
        "id": "xkTwhKRN3lJJ",
        "outputId": "ce65c1ad-3705-45c1-b3a4-7240499fed41"
      },
      "execution_count": 40,
      "outputs": [
        {
          "output_type": "execute_result",
          "data": {
            "text/plain": [
              "662.9154824437658"
            ]
          },
          "metadata": {},
          "execution_count": 40
        }
      ]
    },
    {
      "cell_type": "code",
      "source": [
        "#just putting all in one\n",
        "\n",
        "from sklearn.model_selection import train_test_split\n",
        "x_train,x_test,y_train,y_test = train_test_split(x,df['Y'],test_size = 0.3,random_state = 1)\n",
        "\n",
        "results = []\n",
        "for num_neighbors in range(1,15):\n",
        "  model = KNeighborsRegressor(n_neighbors = num_neighbors)\n",
        "  model.fit(x_train,y_train)\n",
        "  preds = model.predict(x_test)\n",
        "  print(\"k-->\",num_neighbors, \"MAE-->\",mean_absolute_error(preds,y_test))\n",
        "  results.append(mean_absolute_error(preds,y_test))"
      ],
      "metadata": {
        "colab": {
          "base_uri": "https://localhost:8080/"
        },
        "id": "WtEDlLUl463v",
        "outputId": "9cf5e7f6-0642-4e1a-ff43-7b73475ff803"
      },
      "execution_count": 41,
      "outputs": [
        {
          "output_type": "stream",
          "name": "stdout",
          "text": [
            "k--> 1 MAE--> 20.66570465221691\n",
            "k--> 2 MAE--> 20.413248839092905\n",
            "k--> 3 MAE--> 19.532599024733848\n",
            "k--> 4 MAE--> 20.06873385089522\n",
            "k--> 5 MAE--> 19.87995074886105\n",
            "k--> 6 MAE--> 21.954214897677428\n",
            "k--> 7 MAE--> 19.486317943686423\n",
            "k--> 8 MAE--> 16.449810000844156\n",
            "k--> 9 MAE--> 16.872605252515452\n",
            "k--> 10 MAE--> 19.377778615317244\n",
            "k--> 11 MAE--> 19.59089872686932\n",
            "k--> 12 MAE--> 20.59021833293706\n",
            "k--> 13 MAE--> 21.42572979739062\n",
            "k--> 14 MAE--> 22.444521844705946\n"
          ]
        }
      ]
    },
    {
      "cell_type": "code",
      "source": [
        "results.index(min(results)) +1  # Best number of neighbors"
      ],
      "metadata": {
        "colab": {
          "base_uri": "https://localhost:8080/"
        },
        "id": "1cMZ8qdaAIGF",
        "outputId": "21704b42-48ce-4e86-ed64-eb3da71bf8a5"
      },
      "execution_count": 42,
      "outputs": [
        {
          "output_type": "execute_result",
          "data": {
            "text/plain": [
              "8"
            ]
          },
          "metadata": {},
          "execution_count": 42
        }
      ]
    },
    {
      "cell_type": "code",
      "source": [
        "from sklearn.model_selection import cross_val_score,KFold\n",
        "kf = KFold(n_splits = 10)\n",
        "model = KNeighborsRegressor(n_neighbors = 1)\n",
        "cross_val_score(model,x,df['Y'], cv = kf, scoring = 'neg_mean_absolute_error' ).mean()"
      ],
      "metadata": {
        "colab": {
          "base_uri": "https://localhost:8080/"
        },
        "id": "JEfVQiVaBWjI",
        "outputId": "1a7240d5-854b-4015-931d-05e853dbdbdc"
      },
      "execution_count": 43,
      "outputs": [
        {
          "output_type": "execute_result",
          "data": {
            "text/plain": [
              "-25.786878829762667"
            ]
          },
          "metadata": {},
          "execution_count": 43
        }
      ]
    },
    {
      "cell_type": "code",
      "source": [
        "results = []\n",
        "for num_neighbors in range(1,11):\n",
        "  model = KNeighborsRegressor(n_neighbors = num_neighbors)\n",
        "  print(\"K-->\",num_neighbors, \"Average NMAE across 10 folds: \",cross_val_score(model,x,df['Y'], cv = kf, scoring = 'neg_mean_absolute_error' ).mean())\n",
        "  results.append(cross_val_score(model,x,df['Y'], cv = kf, scoring = 'neg_mean_absolute_error' ).mean())"
      ],
      "metadata": {
        "colab": {
          "base_uri": "https://localhost:8080/"
        },
        "id": "DlfLNhXuT_3B",
        "outputId": "c26a2587-395e-4538-eddc-7df8781abc46"
      },
      "execution_count": 44,
      "outputs": [
        {
          "output_type": "stream",
          "name": "stdout",
          "text": [
            "K--> 1 Average NMAE across 10 folds:  -25.786878829762667\n",
            "K--> 2 Average NMAE across 10 folds:  -21.230440119708256\n",
            "K--> 3 Average NMAE across 10 folds:  -19.773932832610818\n",
            "K--> 4 Average NMAE across 10 folds:  -20.269555707492977\n",
            "K--> 5 Average NMAE across 10 folds:  -20.721326993623695\n",
            "K--> 6 Average NMAE across 10 folds:  -21.51504641141893\n",
            "K--> 7 Average NMAE across 10 folds:  -22.439743505968988\n",
            "K--> 8 Average NMAE across 10 folds:  -23.323658998526966\n",
            "K--> 9 Average NMAE across 10 folds:  -23.736722575140316\n",
            "K--> 10 Average NMAE across 10 folds:  -24.33396433376799\n"
          ]
        }
      ]
    },
    {
      "cell_type": "code",
      "source": [
        "results.index(max(results))+1"
      ],
      "metadata": {
        "colab": {
          "base_uri": "https://localhost:8080/"
        },
        "id": "hH4es0TuUp3h",
        "outputId": "08d9b267-c7eb-4789-a01b-0cf502adcccb"
      },
      "execution_count": 45,
      "outputs": [
        {
          "output_type": "execute_result",
          "data": {
            "text/plain": [
              "3"
            ]
          },
          "metadata": {},
          "execution_count": 45
        }
      ]
    },
    {
      "cell_type": "code",
      "source": [
        "##Try tuning the following hyper-parameters\n",
        "#metric -->euclidean, manhattan, cosine...\n",
        "#type of averaging\n",
        "#changing the no of neighbors"
      ],
      "metadata": {
        "id": "mPZb1lrFWpeG"
      },
      "execution_count": null,
      "outputs": []
    },
    {
      "cell_type": "code",
      "source": [
        "results = []\n",
        "counter = 0\n",
        "for num_neighbors in range(1,11):\n",
        "  for d_metric in ['euclidean','manhattan']: #2 combinations for distance metric\n",
        "    for avg_type in ['uniform','distance']: # combination for type of averaging\n",
        "       model = KNeighborsRegressor(n_neighbors = num_neighbors)\n",
        "       print(counter, \"(\",num_neighbors,',',d_metric,',',avg_type,')',\",\",\"Average NMAE across 10 folds: \",cross_val_score(model,x,df['Y'], cv = kf, scoring = 'neg_mean_absolute_error' ).mean(),sep ='')\n",
        "       results.append(cross_val_score(model,x,df['Y'], cv = kf, scoring = 'neg_mean_absolute_error' ).mean())\n",
        "       counter = counter + 1"
      ],
      "metadata": {
        "colab": {
          "base_uri": "https://localhost:8080/"
        },
        "id": "SU7Ga3spWwlj",
        "outputId": "494a911f-f969-40b5-8684-98d422707133"
      },
      "execution_count": 46,
      "outputs": [
        {
          "output_type": "stream",
          "name": "stdout",
          "text": [
            "0(1,euclidean,uniform),Average NMAE across 10 folds: -25.786878829762667\n",
            "1(1,euclidean,distance),Average NMAE across 10 folds: -25.786878829762667\n",
            "2(1,manhattan,uniform),Average NMAE across 10 folds: -25.786878829762667\n",
            "3(1,manhattan,distance),Average NMAE across 10 folds: -25.786878829762667\n",
            "4(2,euclidean,uniform),Average NMAE across 10 folds: -21.230440119708256\n",
            "5(2,euclidean,distance),Average NMAE across 10 folds: -21.230440119708256\n",
            "6(2,manhattan,uniform),Average NMAE across 10 folds: -21.230440119708256\n",
            "7(2,manhattan,distance),Average NMAE across 10 folds: -21.230440119708256\n",
            "8(3,euclidean,uniform),Average NMAE across 10 folds: -19.773932832610818\n",
            "9(3,euclidean,distance),Average NMAE across 10 folds: -19.773932832610818\n",
            "10(3,manhattan,uniform),Average NMAE across 10 folds: -19.773932832610818\n",
            "11(3,manhattan,distance),Average NMAE across 10 folds: -19.773932832610818\n",
            "12(4,euclidean,uniform),Average NMAE across 10 folds: -20.269555707492977\n",
            "13(4,euclidean,distance),Average NMAE across 10 folds: -20.269555707492977\n",
            "14(4,manhattan,uniform),Average NMAE across 10 folds: -20.269555707492977\n",
            "15(4,manhattan,distance),Average NMAE across 10 folds: -20.269555707492977\n",
            "16(5,euclidean,uniform),Average NMAE across 10 folds: -20.721326993623695\n",
            "17(5,euclidean,distance),Average NMAE across 10 folds: -20.721326993623695\n",
            "18(5,manhattan,uniform),Average NMAE across 10 folds: -20.721326993623695\n",
            "19(5,manhattan,distance),Average NMAE across 10 folds: -20.721326993623695\n",
            "20(6,euclidean,uniform),Average NMAE across 10 folds: -21.51504641141893\n",
            "21(6,euclidean,distance),Average NMAE across 10 folds: -21.51504641141893\n",
            "22(6,manhattan,uniform),Average NMAE across 10 folds: -21.51504641141893\n",
            "23(6,manhattan,distance),Average NMAE across 10 folds: -21.51504641141893\n",
            "24(7,euclidean,uniform),Average NMAE across 10 folds: -22.439743505968988\n",
            "25(7,euclidean,distance),Average NMAE across 10 folds: -22.439743505968988\n",
            "26(7,manhattan,uniform),Average NMAE across 10 folds: -22.439743505968988\n",
            "27(7,manhattan,distance),Average NMAE across 10 folds: -22.439743505968988\n",
            "28(8,euclidean,uniform),Average NMAE across 10 folds: -23.323658998526966\n",
            "29(8,euclidean,distance),Average NMAE across 10 folds: -23.323658998526966\n",
            "30(8,manhattan,uniform),Average NMAE across 10 folds: -23.323658998526966\n",
            "31(8,manhattan,distance),Average NMAE across 10 folds: -23.323658998526966\n",
            "32(9,euclidean,uniform),Average NMAE across 10 folds: -23.736722575140316\n",
            "33(9,euclidean,distance),Average NMAE across 10 folds: -23.736722575140316\n",
            "34(9,manhattan,uniform),Average NMAE across 10 folds: -23.736722575140316\n",
            "35(9,manhattan,distance),Average NMAE across 10 folds: -23.736722575140316\n",
            "36(10,euclidean,uniform),Average NMAE across 10 folds: -24.33396433376799\n",
            "37(10,euclidean,distance),Average NMAE across 10 folds: -24.33396433376799\n",
            "38(10,manhattan,uniform),Average NMAE across 10 folds: -24.33396433376799\n",
            "39(10,manhattan,distance),Average NMAE across 10 folds: -24.33396433376799\n"
          ]
        }
      ]
    },
    {
      "cell_type": "code",
      "source": [
        "results.index(max(results))"
      ],
      "metadata": {
        "colab": {
          "base_uri": "https://localhost:8080/"
        },
        "id": "cGjmh1OKYhWO",
        "outputId": "0d6aba57-698b-431f-8b4b-f0b14b683f76"
      },
      "execution_count": 47,
      "outputs": [
        {
          "output_type": "execute_result",
          "data": {
            "text/plain": [
              "8"
            ]
          },
          "metadata": {},
          "execution_count": 47
        }
      ]
    },
    {
      "cell_type": "code",
      "source": [
        "from sklearn.model_selection import GridSearchCV\n",
        "model = KNeighborsRegressor(n_jobs=-1)\n",
        "kf = KFold(n_splits = 10)\n",
        "\n",
        "params = {'n_neighbors':list(range(1,11)),\n",
        "          'weights':['uniform','distance'],\n",
        "          'metric':['euclidean','manhattan','cosine']\n",
        "         }\n",
        "\n",
        "gcv = GridSearchCV(model,param_grid = params, cv= kf, scoring ='neg_mean_absolute_error')\n",
        "gcv.fit(x,df['Y'])\n"
      ],
      "metadata": {
        "colab": {
          "base_uri": "https://localhost:8080/",
          "height": 116
        },
        "id": "Z2El9fT1YhSz",
        "outputId": "e0e5ada4-5a30-4b49-f0d1-d14d4edf9f4a"
      },
      "execution_count": 48,
      "outputs": [
        {
          "output_type": "execute_result",
          "data": {
            "text/plain": [
              "GridSearchCV(cv=KFold(n_splits=10, random_state=None, shuffle=False),\n",
              "             estimator=KNeighborsRegressor(n_jobs=-1),\n",
              "             param_grid={'metric': ['euclidean', 'manhattan', 'cosine'],\n",
              "                         'n_neighbors': [1, 2, 3, 4, 5, 6, 7, 8, 9, 10],\n",
              "                         'weights': ['uniform', 'distance']},\n",
              "             scoring='neg_mean_absolute_error')"
            ],
            "text/html": [
              "<style>#sk-container-id-6 {color: black;background-color: white;}#sk-container-id-6 pre{padding: 0;}#sk-container-id-6 div.sk-toggleable {background-color: white;}#sk-container-id-6 label.sk-toggleable__label {cursor: pointer;display: block;width: 100%;margin-bottom: 0;padding: 0.3em;box-sizing: border-box;text-align: center;}#sk-container-id-6 label.sk-toggleable__label-arrow:before {content: \"▸\";float: left;margin-right: 0.25em;color: #696969;}#sk-container-id-6 label.sk-toggleable__label-arrow:hover:before {color: black;}#sk-container-id-6 div.sk-estimator:hover label.sk-toggleable__label-arrow:before {color: black;}#sk-container-id-6 div.sk-toggleable__content {max-height: 0;max-width: 0;overflow: hidden;text-align: left;background-color: #f0f8ff;}#sk-container-id-6 div.sk-toggleable__content pre {margin: 0.2em;color: black;border-radius: 0.25em;background-color: #f0f8ff;}#sk-container-id-6 input.sk-toggleable__control:checked~div.sk-toggleable__content {max-height: 200px;max-width: 100%;overflow: auto;}#sk-container-id-6 input.sk-toggleable__control:checked~label.sk-toggleable__label-arrow:before {content: \"▾\";}#sk-container-id-6 div.sk-estimator input.sk-toggleable__control:checked~label.sk-toggleable__label {background-color: #d4ebff;}#sk-container-id-6 div.sk-label input.sk-toggleable__control:checked~label.sk-toggleable__label {background-color: #d4ebff;}#sk-container-id-6 input.sk-hidden--visually {border: 0;clip: rect(1px 1px 1px 1px);clip: rect(1px, 1px, 1px, 1px);height: 1px;margin: -1px;overflow: hidden;padding: 0;position: absolute;width: 1px;}#sk-container-id-6 div.sk-estimator {font-family: monospace;background-color: #f0f8ff;border: 1px dotted black;border-radius: 0.25em;box-sizing: border-box;margin-bottom: 0.5em;}#sk-container-id-6 div.sk-estimator:hover {background-color: #d4ebff;}#sk-container-id-6 div.sk-parallel-item::after {content: \"\";width: 100%;border-bottom: 1px solid gray;flex-grow: 1;}#sk-container-id-6 div.sk-label:hover label.sk-toggleable__label {background-color: #d4ebff;}#sk-container-id-6 div.sk-serial::before {content: \"\";position: absolute;border-left: 1px solid gray;box-sizing: border-box;top: 0;bottom: 0;left: 50%;z-index: 0;}#sk-container-id-6 div.sk-serial {display: flex;flex-direction: column;align-items: center;background-color: white;padding-right: 0.2em;padding-left: 0.2em;position: relative;}#sk-container-id-6 div.sk-item {position: relative;z-index: 1;}#sk-container-id-6 div.sk-parallel {display: flex;align-items: stretch;justify-content: center;background-color: white;position: relative;}#sk-container-id-6 div.sk-item::before, #sk-container-id-6 div.sk-parallel-item::before {content: \"\";position: absolute;border-left: 1px solid gray;box-sizing: border-box;top: 0;bottom: 0;left: 50%;z-index: -1;}#sk-container-id-6 div.sk-parallel-item {display: flex;flex-direction: column;z-index: 1;position: relative;background-color: white;}#sk-container-id-6 div.sk-parallel-item:first-child::after {align-self: flex-end;width: 50%;}#sk-container-id-6 div.sk-parallel-item:last-child::after {align-self: flex-start;width: 50%;}#sk-container-id-6 div.sk-parallel-item:only-child::after {width: 0;}#sk-container-id-6 div.sk-dashed-wrapped {border: 1px dashed gray;margin: 0 0.4em 0.5em 0.4em;box-sizing: border-box;padding-bottom: 0.4em;background-color: white;}#sk-container-id-6 div.sk-label label {font-family: monospace;font-weight: bold;display: inline-block;line-height: 1.2em;}#sk-container-id-6 div.sk-label-container {text-align: center;}#sk-container-id-6 div.sk-container {/* jupyter's `normalize.less` sets `[hidden] { display: none; }` but bootstrap.min.css set `[hidden] { display: none !important; }` so we also need the `!important` here to be able to override the default hidden behavior on the sphinx rendered scikit-learn.org. See: https://github.com/scikit-learn/scikit-learn/issues/21755 */display: inline-block !important;position: relative;}#sk-container-id-6 div.sk-text-repr-fallback {display: none;}</style><div id=\"sk-container-id-6\" class=\"sk-top-container\"><div class=\"sk-text-repr-fallback\"><pre>GridSearchCV(cv=KFold(n_splits=10, random_state=None, shuffle=False),\n",
              "             estimator=KNeighborsRegressor(n_jobs=-1),\n",
              "             param_grid={&#x27;metric&#x27;: [&#x27;euclidean&#x27;, &#x27;manhattan&#x27;, &#x27;cosine&#x27;],\n",
              "                         &#x27;n_neighbors&#x27;: [1, 2, 3, 4, 5, 6, 7, 8, 9, 10],\n",
              "                         &#x27;weights&#x27;: [&#x27;uniform&#x27;, &#x27;distance&#x27;]},\n",
              "             scoring=&#x27;neg_mean_absolute_error&#x27;)</pre><b>In a Jupyter environment, please rerun this cell to show the HTML representation or trust the notebook. <br />On GitHub, the HTML representation is unable to render, please try loading this page with nbviewer.org.</b></div><div class=\"sk-container\" hidden><div class=\"sk-item sk-dashed-wrapped\"><div class=\"sk-label-container\"><div class=\"sk-label sk-toggleable\"><input class=\"sk-toggleable__control sk-hidden--visually\" id=\"sk-estimator-id-6\" type=\"checkbox\" ><label for=\"sk-estimator-id-6\" class=\"sk-toggleable__label sk-toggleable__label-arrow\">GridSearchCV</label><div class=\"sk-toggleable__content\"><pre>GridSearchCV(cv=KFold(n_splits=10, random_state=None, shuffle=False),\n",
              "             estimator=KNeighborsRegressor(n_jobs=-1),\n",
              "             param_grid={&#x27;metric&#x27;: [&#x27;euclidean&#x27;, &#x27;manhattan&#x27;, &#x27;cosine&#x27;],\n",
              "                         &#x27;n_neighbors&#x27;: [1, 2, 3, 4, 5, 6, 7, 8, 9, 10],\n",
              "                         &#x27;weights&#x27;: [&#x27;uniform&#x27;, &#x27;distance&#x27;]},\n",
              "             scoring=&#x27;neg_mean_absolute_error&#x27;)</pre></div></div></div><div class=\"sk-parallel\"><div class=\"sk-parallel-item\"><div class=\"sk-item\"><div class=\"sk-label-container\"><div class=\"sk-label sk-toggleable\"><input class=\"sk-toggleable__control sk-hidden--visually\" id=\"sk-estimator-id-7\" type=\"checkbox\" ><label for=\"sk-estimator-id-7\" class=\"sk-toggleable__label sk-toggleable__label-arrow\">estimator: KNeighborsRegressor</label><div class=\"sk-toggleable__content\"><pre>KNeighborsRegressor(n_jobs=-1)</pre></div></div></div><div class=\"sk-serial\"><div class=\"sk-item\"><div class=\"sk-estimator sk-toggleable\"><input class=\"sk-toggleable__control sk-hidden--visually\" id=\"sk-estimator-id-8\" type=\"checkbox\" ><label for=\"sk-estimator-id-8\" class=\"sk-toggleable__label sk-toggleable__label-arrow\">KNeighborsRegressor</label><div class=\"sk-toggleable__content\"><pre>KNeighborsRegressor(n_jobs=-1)</pre></div></div></div></div></div></div></div></div></div></div>"
            ]
          },
          "metadata": {},
          "execution_count": 48
        }
      ]
    },
    {
      "cell_type": "code",
      "source": [
        "gcv.best_params_"
      ],
      "metadata": {
        "colab": {
          "base_uri": "https://localhost:8080/"
        },
        "id": "URAjmTeCaFRX",
        "outputId": "6d866c4f-7926-4258-e7da-8d353e6053ec"
      },
      "execution_count": 49,
      "outputs": [
        {
          "output_type": "execute_result",
          "data": {
            "text/plain": [
              "{'metric': 'manhattan', 'n_neighbors': 3, 'weights': 'distance'}"
            ]
          },
          "metadata": {},
          "execution_count": 49
        }
      ]
    },
    {
      "cell_type": "code",
      "source": [
        "gcv.best_score_"
      ],
      "metadata": {
        "colab": {
          "base_uri": "https://localhost:8080/"
        },
        "id": "_WxKbP6ZaFNv",
        "outputId": "4541a3a7-04cf-4f82-8c9b-ec76a0f1acb1"
      },
      "execution_count": 50,
      "outputs": [
        {
          "output_type": "execute_result",
          "data": {
            "text/plain": [
              "-18.01263676130663"
            ]
          },
          "metadata": {},
          "execution_count": 50
        }
      ]
    },
    {
      "cell_type": "code",
      "source": [
        "gcv.best_estimator_.predict(np.array([0.3,0.5,0.7]).reshape(-1,3))"
      ],
      "metadata": {
        "colab": {
          "base_uri": "https://localhost:8080/"
        },
        "id": "9-9mpzj9aFJ4",
        "outputId": "1aac99dc-6e47-47fe-9ee2-ed24dc2fa006"
      },
      "execution_count": 51,
      "outputs": [
        {
          "output_type": "execute_result",
          "data": {
            "text/plain": [
              "array([21.02083598])"
            ]
          },
          "metadata": {},
          "execution_count": 51
        }
      ]
    },
    {
      "cell_type": "code",
      "source": [
        "#RandomSearchCV work for if we have n_no of samples\n",
        "from sklearn.model_selection import RandomizedSearchCV\n",
        "model = KNeighborsRegressor(n_jobs=-1)\n",
        "kf = KFold(n_splits = 10)\n",
        "\n",
        "params = {'n_neighbors':list(range(1,11)),\n",
        "          'weights':['uniform','distance'],\n",
        "          'metric':['euclidean','manhattan','cosine']\n",
        "         }\n",
        "\n",
        "rcv = RandomizedSearchCV(model,param_distributions = params, cv= kf, scoring ='neg_mean_absolute_error')\n",
        "rcv.fit(x,df['Y'])\n"
      ],
      "metadata": {
        "colab": {
          "base_uri": "https://localhost:8080/",
          "height": 116
        },
        "id": "4ElSdpS_aFGi",
        "outputId": "825b2960-8ac0-406f-ce11-1fda6752316d"
      },
      "execution_count": 52,
      "outputs": [
        {
          "output_type": "execute_result",
          "data": {
            "text/plain": [
              "RandomizedSearchCV(cv=KFold(n_splits=10, random_state=None, shuffle=False),\n",
              "                   estimator=KNeighborsRegressor(n_jobs=-1),\n",
              "                   param_distributions={'metric': ['euclidean', 'manhattan',\n",
              "                                                   'cosine'],\n",
              "                                        'n_neighbors': [1, 2, 3, 4, 5, 6, 7, 8,\n",
              "                                                        9, 10],\n",
              "                                        'weights': ['uniform', 'distance']},\n",
              "                   scoring='neg_mean_absolute_error')"
            ],
            "text/html": [
              "<style>#sk-container-id-7 {color: black;background-color: white;}#sk-container-id-7 pre{padding: 0;}#sk-container-id-7 div.sk-toggleable {background-color: white;}#sk-container-id-7 label.sk-toggleable__label {cursor: pointer;display: block;width: 100%;margin-bottom: 0;padding: 0.3em;box-sizing: border-box;text-align: center;}#sk-container-id-7 label.sk-toggleable__label-arrow:before {content: \"▸\";float: left;margin-right: 0.25em;color: #696969;}#sk-container-id-7 label.sk-toggleable__label-arrow:hover:before {color: black;}#sk-container-id-7 div.sk-estimator:hover label.sk-toggleable__label-arrow:before {color: black;}#sk-container-id-7 div.sk-toggleable__content {max-height: 0;max-width: 0;overflow: hidden;text-align: left;background-color: #f0f8ff;}#sk-container-id-7 div.sk-toggleable__content pre {margin: 0.2em;color: black;border-radius: 0.25em;background-color: #f0f8ff;}#sk-container-id-7 input.sk-toggleable__control:checked~div.sk-toggleable__content {max-height: 200px;max-width: 100%;overflow: auto;}#sk-container-id-7 input.sk-toggleable__control:checked~label.sk-toggleable__label-arrow:before {content: \"▾\";}#sk-container-id-7 div.sk-estimator input.sk-toggleable__control:checked~label.sk-toggleable__label {background-color: #d4ebff;}#sk-container-id-7 div.sk-label input.sk-toggleable__control:checked~label.sk-toggleable__label {background-color: #d4ebff;}#sk-container-id-7 input.sk-hidden--visually {border: 0;clip: rect(1px 1px 1px 1px);clip: rect(1px, 1px, 1px, 1px);height: 1px;margin: -1px;overflow: hidden;padding: 0;position: absolute;width: 1px;}#sk-container-id-7 div.sk-estimator {font-family: monospace;background-color: #f0f8ff;border: 1px dotted black;border-radius: 0.25em;box-sizing: border-box;margin-bottom: 0.5em;}#sk-container-id-7 div.sk-estimator:hover {background-color: #d4ebff;}#sk-container-id-7 div.sk-parallel-item::after {content: \"\";width: 100%;border-bottom: 1px solid gray;flex-grow: 1;}#sk-container-id-7 div.sk-label:hover label.sk-toggleable__label {background-color: #d4ebff;}#sk-container-id-7 div.sk-serial::before {content: \"\";position: absolute;border-left: 1px solid gray;box-sizing: border-box;top: 0;bottom: 0;left: 50%;z-index: 0;}#sk-container-id-7 div.sk-serial {display: flex;flex-direction: column;align-items: center;background-color: white;padding-right: 0.2em;padding-left: 0.2em;position: relative;}#sk-container-id-7 div.sk-item {position: relative;z-index: 1;}#sk-container-id-7 div.sk-parallel {display: flex;align-items: stretch;justify-content: center;background-color: white;position: relative;}#sk-container-id-7 div.sk-item::before, #sk-container-id-7 div.sk-parallel-item::before {content: \"\";position: absolute;border-left: 1px solid gray;box-sizing: border-box;top: 0;bottom: 0;left: 50%;z-index: -1;}#sk-container-id-7 div.sk-parallel-item {display: flex;flex-direction: column;z-index: 1;position: relative;background-color: white;}#sk-container-id-7 div.sk-parallel-item:first-child::after {align-self: flex-end;width: 50%;}#sk-container-id-7 div.sk-parallel-item:last-child::after {align-self: flex-start;width: 50%;}#sk-container-id-7 div.sk-parallel-item:only-child::after {width: 0;}#sk-container-id-7 div.sk-dashed-wrapped {border: 1px dashed gray;margin: 0 0.4em 0.5em 0.4em;box-sizing: border-box;padding-bottom: 0.4em;background-color: white;}#sk-container-id-7 div.sk-label label {font-family: monospace;font-weight: bold;display: inline-block;line-height: 1.2em;}#sk-container-id-7 div.sk-label-container {text-align: center;}#sk-container-id-7 div.sk-container {/* jupyter's `normalize.less` sets `[hidden] { display: none; }` but bootstrap.min.css set `[hidden] { display: none !important; }` so we also need the `!important` here to be able to override the default hidden behavior on the sphinx rendered scikit-learn.org. See: https://github.com/scikit-learn/scikit-learn/issues/21755 */display: inline-block !important;position: relative;}#sk-container-id-7 div.sk-text-repr-fallback {display: none;}</style><div id=\"sk-container-id-7\" class=\"sk-top-container\"><div class=\"sk-text-repr-fallback\"><pre>RandomizedSearchCV(cv=KFold(n_splits=10, random_state=None, shuffle=False),\n",
              "                   estimator=KNeighborsRegressor(n_jobs=-1),\n",
              "                   param_distributions={&#x27;metric&#x27;: [&#x27;euclidean&#x27;, &#x27;manhattan&#x27;,\n",
              "                                                   &#x27;cosine&#x27;],\n",
              "                                        &#x27;n_neighbors&#x27;: [1, 2, 3, 4, 5, 6, 7, 8,\n",
              "                                                        9, 10],\n",
              "                                        &#x27;weights&#x27;: [&#x27;uniform&#x27;, &#x27;distance&#x27;]},\n",
              "                   scoring=&#x27;neg_mean_absolute_error&#x27;)</pre><b>In a Jupyter environment, please rerun this cell to show the HTML representation or trust the notebook. <br />On GitHub, the HTML representation is unable to render, please try loading this page with nbviewer.org.</b></div><div class=\"sk-container\" hidden><div class=\"sk-item sk-dashed-wrapped\"><div class=\"sk-label-container\"><div class=\"sk-label sk-toggleable\"><input class=\"sk-toggleable__control sk-hidden--visually\" id=\"sk-estimator-id-9\" type=\"checkbox\" ><label for=\"sk-estimator-id-9\" class=\"sk-toggleable__label sk-toggleable__label-arrow\">RandomizedSearchCV</label><div class=\"sk-toggleable__content\"><pre>RandomizedSearchCV(cv=KFold(n_splits=10, random_state=None, shuffle=False),\n",
              "                   estimator=KNeighborsRegressor(n_jobs=-1),\n",
              "                   param_distributions={&#x27;metric&#x27;: [&#x27;euclidean&#x27;, &#x27;manhattan&#x27;,\n",
              "                                                   &#x27;cosine&#x27;],\n",
              "                                        &#x27;n_neighbors&#x27;: [1, 2, 3, 4, 5, 6, 7, 8,\n",
              "                                                        9, 10],\n",
              "                                        &#x27;weights&#x27;: [&#x27;uniform&#x27;, &#x27;distance&#x27;]},\n",
              "                   scoring=&#x27;neg_mean_absolute_error&#x27;)</pre></div></div></div><div class=\"sk-parallel\"><div class=\"sk-parallel-item\"><div class=\"sk-item\"><div class=\"sk-label-container\"><div class=\"sk-label sk-toggleable\"><input class=\"sk-toggleable__control sk-hidden--visually\" id=\"sk-estimator-id-10\" type=\"checkbox\" ><label for=\"sk-estimator-id-10\" class=\"sk-toggleable__label sk-toggleable__label-arrow\">estimator: KNeighborsRegressor</label><div class=\"sk-toggleable__content\"><pre>KNeighborsRegressor(n_jobs=-1)</pre></div></div></div><div class=\"sk-serial\"><div class=\"sk-item\"><div class=\"sk-estimator sk-toggleable\"><input class=\"sk-toggleable__control sk-hidden--visually\" id=\"sk-estimator-id-11\" type=\"checkbox\" ><label for=\"sk-estimator-id-11\" class=\"sk-toggleable__label sk-toggleable__label-arrow\">KNeighborsRegressor</label><div class=\"sk-toggleable__content\"><pre>KNeighborsRegressor(n_jobs=-1)</pre></div></div></div></div></div></div></div></div></div></div>"
            ]
          },
          "metadata": {},
          "execution_count": 52
        }
      ]
    },
    {
      "cell_type": "code",
      "source": [
        "rcv.best_params_"
      ],
      "metadata": {
        "colab": {
          "base_uri": "https://localhost:8080/"
        },
        "id": "J1Dxj6l-cM-o",
        "outputId": "40711882-d783-4ca3-e1fa-1fd14346ab76"
      },
      "execution_count": 53,
      "outputs": [
        {
          "output_type": "execute_result",
          "data": {
            "text/plain": [
              "{'weights': 'distance', 'n_neighbors': 4, 'metric': 'manhattan'}"
            ]
          },
          "metadata": {},
          "execution_count": 53
        }
      ]
    },
    {
      "cell_type": "code",
      "source": [
        "rcv.best_score_"
      ],
      "metadata": {
        "colab": {
          "base_uri": "https://localhost:8080/"
        },
        "id": "fhUuqX5xcS85",
        "outputId": "86de6acf-a54f-4840-cdb2-9a817093f94b"
      },
      "execution_count": 54,
      "outputs": [
        {
          "output_type": "execute_result",
          "data": {
            "text/plain": [
              "-18.042162668942073"
            ]
          },
          "metadata": {},
          "execution_count": 54
        }
      ]
    },
    {
      "cell_type": "code",
      "source": [
        "rcv.best_estimator_"
      ],
      "metadata": {
        "colab": {
          "base_uri": "https://localhost:8080/",
          "height": 91
        },
        "id": "RBvnCxuTcXic",
        "outputId": "86313abe-61fb-4aa6-9a1f-c275d6166617"
      },
      "execution_count": 55,
      "outputs": [
        {
          "output_type": "execute_result",
          "data": {
            "text/plain": [
              "KNeighborsRegressor(metric='manhattan', n_jobs=-1, n_neighbors=4,\n",
              "                    weights='distance')"
            ],
            "text/html": [
              "<style>#sk-container-id-8 {color: black;background-color: white;}#sk-container-id-8 pre{padding: 0;}#sk-container-id-8 div.sk-toggleable {background-color: white;}#sk-container-id-8 label.sk-toggleable__label {cursor: pointer;display: block;width: 100%;margin-bottom: 0;padding: 0.3em;box-sizing: border-box;text-align: center;}#sk-container-id-8 label.sk-toggleable__label-arrow:before {content: \"▸\";float: left;margin-right: 0.25em;color: #696969;}#sk-container-id-8 label.sk-toggleable__label-arrow:hover:before {color: black;}#sk-container-id-8 div.sk-estimator:hover label.sk-toggleable__label-arrow:before {color: black;}#sk-container-id-8 div.sk-toggleable__content {max-height: 0;max-width: 0;overflow: hidden;text-align: left;background-color: #f0f8ff;}#sk-container-id-8 div.sk-toggleable__content pre {margin: 0.2em;color: black;border-radius: 0.25em;background-color: #f0f8ff;}#sk-container-id-8 input.sk-toggleable__control:checked~div.sk-toggleable__content {max-height: 200px;max-width: 100%;overflow: auto;}#sk-container-id-8 input.sk-toggleable__control:checked~label.sk-toggleable__label-arrow:before {content: \"▾\";}#sk-container-id-8 div.sk-estimator input.sk-toggleable__control:checked~label.sk-toggleable__label {background-color: #d4ebff;}#sk-container-id-8 div.sk-label input.sk-toggleable__control:checked~label.sk-toggleable__label {background-color: #d4ebff;}#sk-container-id-8 input.sk-hidden--visually {border: 0;clip: rect(1px 1px 1px 1px);clip: rect(1px, 1px, 1px, 1px);height: 1px;margin: -1px;overflow: hidden;padding: 0;position: absolute;width: 1px;}#sk-container-id-8 div.sk-estimator {font-family: monospace;background-color: #f0f8ff;border: 1px dotted black;border-radius: 0.25em;box-sizing: border-box;margin-bottom: 0.5em;}#sk-container-id-8 div.sk-estimator:hover {background-color: #d4ebff;}#sk-container-id-8 div.sk-parallel-item::after {content: \"\";width: 100%;border-bottom: 1px solid gray;flex-grow: 1;}#sk-container-id-8 div.sk-label:hover label.sk-toggleable__label {background-color: #d4ebff;}#sk-container-id-8 div.sk-serial::before {content: \"\";position: absolute;border-left: 1px solid gray;box-sizing: border-box;top: 0;bottom: 0;left: 50%;z-index: 0;}#sk-container-id-8 div.sk-serial {display: flex;flex-direction: column;align-items: center;background-color: white;padding-right: 0.2em;padding-left: 0.2em;position: relative;}#sk-container-id-8 div.sk-item {position: relative;z-index: 1;}#sk-container-id-8 div.sk-parallel {display: flex;align-items: stretch;justify-content: center;background-color: white;position: relative;}#sk-container-id-8 div.sk-item::before, #sk-container-id-8 div.sk-parallel-item::before {content: \"\";position: absolute;border-left: 1px solid gray;box-sizing: border-box;top: 0;bottom: 0;left: 50%;z-index: -1;}#sk-container-id-8 div.sk-parallel-item {display: flex;flex-direction: column;z-index: 1;position: relative;background-color: white;}#sk-container-id-8 div.sk-parallel-item:first-child::after {align-self: flex-end;width: 50%;}#sk-container-id-8 div.sk-parallel-item:last-child::after {align-self: flex-start;width: 50%;}#sk-container-id-8 div.sk-parallel-item:only-child::after {width: 0;}#sk-container-id-8 div.sk-dashed-wrapped {border: 1px dashed gray;margin: 0 0.4em 0.5em 0.4em;box-sizing: border-box;padding-bottom: 0.4em;background-color: white;}#sk-container-id-8 div.sk-label label {font-family: monospace;font-weight: bold;display: inline-block;line-height: 1.2em;}#sk-container-id-8 div.sk-label-container {text-align: center;}#sk-container-id-8 div.sk-container {/* jupyter's `normalize.less` sets `[hidden] { display: none; }` but bootstrap.min.css set `[hidden] { display: none !important; }` so we also need the `!important` here to be able to override the default hidden behavior on the sphinx rendered scikit-learn.org. See: https://github.com/scikit-learn/scikit-learn/issues/21755 */display: inline-block !important;position: relative;}#sk-container-id-8 div.sk-text-repr-fallback {display: none;}</style><div id=\"sk-container-id-8\" class=\"sk-top-container\"><div class=\"sk-text-repr-fallback\"><pre>KNeighborsRegressor(metric=&#x27;manhattan&#x27;, n_jobs=-1, n_neighbors=4,\n",
              "                    weights=&#x27;distance&#x27;)</pre><b>In a Jupyter environment, please rerun this cell to show the HTML representation or trust the notebook. <br />On GitHub, the HTML representation is unable to render, please try loading this page with nbviewer.org.</b></div><div class=\"sk-container\" hidden><div class=\"sk-item\"><div class=\"sk-estimator sk-toggleable\"><input class=\"sk-toggleable__control sk-hidden--visually\" id=\"sk-estimator-id-12\" type=\"checkbox\" checked><label for=\"sk-estimator-id-12\" class=\"sk-toggleable__label sk-toggleable__label-arrow\">KNeighborsRegressor</label><div class=\"sk-toggleable__content\"><pre>KNeighborsRegressor(metric=&#x27;manhattan&#x27;, n_jobs=-1, n_neighbors=4,\n",
              "                    weights=&#x27;distance&#x27;)</pre></div></div></div></div></div>"
            ]
          },
          "metadata": {},
          "execution_count": 55
        }
      ]
    },
    {
      "cell_type": "code",
      "source": [
        "rcv.best_estimator_ .fit(x,df['Y'])"
      ],
      "metadata": {
        "colab": {
          "base_uri": "https://localhost:8080/",
          "height": 91
        },
        "id": "sc-iIRcFc5Qc",
        "outputId": "e14873e3-a48d-4423-a687-1e66515c495d"
      },
      "execution_count": 56,
      "outputs": [
        {
          "output_type": "execute_result",
          "data": {
            "text/plain": [
              "KNeighborsRegressor(metric='manhattan', n_jobs=-1, n_neighbors=4,\n",
              "                    weights='distance')"
            ],
            "text/html": [
              "<style>#sk-container-id-9 {color: black;background-color: white;}#sk-container-id-9 pre{padding: 0;}#sk-container-id-9 div.sk-toggleable {background-color: white;}#sk-container-id-9 label.sk-toggleable__label {cursor: pointer;display: block;width: 100%;margin-bottom: 0;padding: 0.3em;box-sizing: border-box;text-align: center;}#sk-container-id-9 label.sk-toggleable__label-arrow:before {content: \"▸\";float: left;margin-right: 0.25em;color: #696969;}#sk-container-id-9 label.sk-toggleable__label-arrow:hover:before {color: black;}#sk-container-id-9 div.sk-estimator:hover label.sk-toggleable__label-arrow:before {color: black;}#sk-container-id-9 div.sk-toggleable__content {max-height: 0;max-width: 0;overflow: hidden;text-align: left;background-color: #f0f8ff;}#sk-container-id-9 div.sk-toggleable__content pre {margin: 0.2em;color: black;border-radius: 0.25em;background-color: #f0f8ff;}#sk-container-id-9 input.sk-toggleable__control:checked~div.sk-toggleable__content {max-height: 200px;max-width: 100%;overflow: auto;}#sk-container-id-9 input.sk-toggleable__control:checked~label.sk-toggleable__label-arrow:before {content: \"▾\";}#sk-container-id-9 div.sk-estimator input.sk-toggleable__control:checked~label.sk-toggleable__label {background-color: #d4ebff;}#sk-container-id-9 div.sk-label input.sk-toggleable__control:checked~label.sk-toggleable__label {background-color: #d4ebff;}#sk-container-id-9 input.sk-hidden--visually {border: 0;clip: rect(1px 1px 1px 1px);clip: rect(1px, 1px, 1px, 1px);height: 1px;margin: -1px;overflow: hidden;padding: 0;position: absolute;width: 1px;}#sk-container-id-9 div.sk-estimator {font-family: monospace;background-color: #f0f8ff;border: 1px dotted black;border-radius: 0.25em;box-sizing: border-box;margin-bottom: 0.5em;}#sk-container-id-9 div.sk-estimator:hover {background-color: #d4ebff;}#sk-container-id-9 div.sk-parallel-item::after {content: \"\";width: 100%;border-bottom: 1px solid gray;flex-grow: 1;}#sk-container-id-9 div.sk-label:hover label.sk-toggleable__label {background-color: #d4ebff;}#sk-container-id-9 div.sk-serial::before {content: \"\";position: absolute;border-left: 1px solid gray;box-sizing: border-box;top: 0;bottom: 0;left: 50%;z-index: 0;}#sk-container-id-9 div.sk-serial {display: flex;flex-direction: column;align-items: center;background-color: white;padding-right: 0.2em;padding-left: 0.2em;position: relative;}#sk-container-id-9 div.sk-item {position: relative;z-index: 1;}#sk-container-id-9 div.sk-parallel {display: flex;align-items: stretch;justify-content: center;background-color: white;position: relative;}#sk-container-id-9 div.sk-item::before, #sk-container-id-9 div.sk-parallel-item::before {content: \"\";position: absolute;border-left: 1px solid gray;box-sizing: border-box;top: 0;bottom: 0;left: 50%;z-index: -1;}#sk-container-id-9 div.sk-parallel-item {display: flex;flex-direction: column;z-index: 1;position: relative;background-color: white;}#sk-container-id-9 div.sk-parallel-item:first-child::after {align-self: flex-end;width: 50%;}#sk-container-id-9 div.sk-parallel-item:last-child::after {align-self: flex-start;width: 50%;}#sk-container-id-9 div.sk-parallel-item:only-child::after {width: 0;}#sk-container-id-9 div.sk-dashed-wrapped {border: 1px dashed gray;margin: 0 0.4em 0.5em 0.4em;box-sizing: border-box;padding-bottom: 0.4em;background-color: white;}#sk-container-id-9 div.sk-label label {font-family: monospace;font-weight: bold;display: inline-block;line-height: 1.2em;}#sk-container-id-9 div.sk-label-container {text-align: center;}#sk-container-id-9 div.sk-container {/* jupyter's `normalize.less` sets `[hidden] { display: none; }` but bootstrap.min.css set `[hidden] { display: none !important; }` so we also need the `!important` here to be able to override the default hidden behavior on the sphinx rendered scikit-learn.org. See: https://github.com/scikit-learn/scikit-learn/issues/21755 */display: inline-block !important;position: relative;}#sk-container-id-9 div.sk-text-repr-fallback {display: none;}</style><div id=\"sk-container-id-9\" class=\"sk-top-container\"><div class=\"sk-text-repr-fallback\"><pre>KNeighborsRegressor(metric=&#x27;manhattan&#x27;, n_jobs=-1, n_neighbors=4,\n",
              "                    weights=&#x27;distance&#x27;)</pre><b>In a Jupyter environment, please rerun this cell to show the HTML representation or trust the notebook. <br />On GitHub, the HTML representation is unable to render, please try loading this page with nbviewer.org.</b></div><div class=\"sk-container\" hidden><div class=\"sk-item\"><div class=\"sk-estimator sk-toggleable\"><input class=\"sk-toggleable__control sk-hidden--visually\" id=\"sk-estimator-id-13\" type=\"checkbox\" checked><label for=\"sk-estimator-id-13\" class=\"sk-toggleable__label sk-toggleable__label-arrow\">KNeighborsRegressor</label><div class=\"sk-toggleable__content\"><pre>KNeighborsRegressor(metric=&#x27;manhattan&#x27;, n_jobs=-1, n_neighbors=4,\n",
              "                    weights=&#x27;distance&#x27;)</pre></div></div></div></div></div>"
            ]
          },
          "metadata": {},
          "execution_count": 56
        }
      ]
    },
    {
      "cell_type": "code",
      "source": [
        "rcv.best_estimator_ .predict(np.array([0.3,0.5,0.7]).reshape(-1,3))"
      ],
      "metadata": {
        "colab": {
          "base_uri": "https://localhost:8080/"
        },
        "id": "bhwXt92HdBAP",
        "outputId": "2bcbc65d-ed7e-40ba-a9f8-6c01f4486f90"
      },
      "execution_count": 57,
      "outputs": [
        {
          "output_type": "execute_result",
          "data": {
            "text/plain": [
              "array([23.33718155])"
            ]
          },
          "metadata": {},
          "execution_count": 57
        }
      ]
    },
    {
      "cell_type": "code",
      "source": [
        "cylinder = pd.read_csv(\"/content/bands.data\")\n",
        "cylinder"
      ],
      "metadata": {
        "colab": {
          "base_uri": "https://localhost:8080/",
          "height": 423
        },
        "id": "y2tmi_v-dTkv",
        "outputId": "1602b655-99eb-4730-ac59-eb1d1c146fde"
      },
      "execution_count": null,
      "outputs": [
        {
          "output_type": "execute_result",
          "data": {
            "text/plain": [
              "     19910108  X126  TVGUIDE  25503  YES  KEY YES.1  BENTON  GALLATIN  \\\n",
              "0    19910109  X266  TVGUIDE  25503  YES  KEY   YES  BENTON  GALLATIN   \n",
              "1    19910104    B7   MODMAT  47201  YES  KEY   YES  BENTON  GALLATIN   \n",
              "2    19910104  T133   MASSEY  39039  YES  KEY   YES  BENTON  GALLATIN   \n",
              "3    19910111   J34    KMART  37351   NO  KEY   YES  BENTON  GALLATIN   \n",
              "4    19910104  T218   MASSEY  38039  YES  KEY   YES  BENTON  GALLATIN   \n",
              "..        ...   ...      ...    ...  ...  ...   ...     ...       ...   \n",
              "535  19941005  aa66    kmart  85813    ?  key     ?       ?  gallatin   \n",
              "536  19941009   j44     best  38064    ?  key     ?       ?  gallatin   \n",
              "537  19941009  aa58    kmart  85814    ?  key     ?       ?  gallatin   \n",
              "538  19941010  aa70    kmart  85814    ?  key     ?       ?  gallatin   \n",
              "539  19941010   j70     best  38064    ?  key     ?       ?  gallatin   \n",
              "\n",
              "     UNCOATED  ...  36.4  0 0.1  2.5    1  34  40     105  100    band  \n",
              "0    UNCOATED  ...  38.5  0   0  2.5  0.7  34  40     105  100  noband  \n",
              "1    UNCOATED  ...  39.8  0   0  2.8  0.9  40  40  103.87  100  noband  \n",
              "2    UNCOATED  ...  38.8  0   0  2.5  1.3  40  40  108.06  100  noband  \n",
              "3    UNCOATED  ...  42.5  5   0  2.3  0.6  35  40  106.67  100  noband  \n",
              "4    UNCOATED  ...  37.6  5   0  2.5  0.8  40  40  103.87  100  noband  \n",
              "..        ...  ...   ... ..  ..  ...  ...  ..  ..     ...  ...     ...  \n",
              "535     super  ...     ?  ?   ?    1    1   ?  40   112.5  100    band  \n",
              "536     super  ...     ?  ?   ?    0    0   ?  40     110  100    band  \n",
              "537     super  ...     ?  ?   ?  2.7  2.8   ?  40     108  100    band  \n",
              "538     super  ...     ?  ?   ?  1.5  2.3   ?  40     108  100    band  \n",
              "539     super  ...     ?  ?   ?  2.5    1   ?  40   108.1  100    band  \n",
              "\n",
              "[540 rows x 40 columns]"
            ],
            "text/html": [
              "\n",
              "  <div id=\"df-ad35c98a-578a-4043-9cc5-c0ba9ccc89e6\">\n",
              "    <div class=\"colab-df-container\">\n",
              "      <div>\n",
              "<style scoped>\n",
              "    .dataframe tbody tr th:only-of-type {\n",
              "        vertical-align: middle;\n",
              "    }\n",
              "\n",
              "    .dataframe tbody tr th {\n",
              "        vertical-align: top;\n",
              "    }\n",
              "\n",
              "    .dataframe thead th {\n",
              "        text-align: right;\n",
              "    }\n",
              "</style>\n",
              "<table border=\"1\" class=\"dataframe\">\n",
              "  <thead>\n",
              "    <tr style=\"text-align: right;\">\n",
              "      <th></th>\n",
              "      <th>19910108</th>\n",
              "      <th>X126</th>\n",
              "      <th>TVGUIDE</th>\n",
              "      <th>25503</th>\n",
              "      <th>YES</th>\n",
              "      <th>KEY</th>\n",
              "      <th>YES.1</th>\n",
              "      <th>BENTON</th>\n",
              "      <th>GALLATIN</th>\n",
              "      <th>UNCOATED</th>\n",
              "      <th>...</th>\n",
              "      <th>36.4</th>\n",
              "      <th>0</th>\n",
              "      <th>0.1</th>\n",
              "      <th>2.5</th>\n",
              "      <th>1</th>\n",
              "      <th>34</th>\n",
              "      <th>40</th>\n",
              "      <th>105</th>\n",
              "      <th>100</th>\n",
              "      <th>band</th>\n",
              "    </tr>\n",
              "  </thead>\n",
              "  <tbody>\n",
              "    <tr>\n",
              "      <th>0</th>\n",
              "      <td>19910109</td>\n",
              "      <td>X266</td>\n",
              "      <td>TVGUIDE</td>\n",
              "      <td>25503</td>\n",
              "      <td>YES</td>\n",
              "      <td>KEY</td>\n",
              "      <td>YES</td>\n",
              "      <td>BENTON</td>\n",
              "      <td>GALLATIN</td>\n",
              "      <td>UNCOATED</td>\n",
              "      <td>...</td>\n",
              "      <td>38.5</td>\n",
              "      <td>0</td>\n",
              "      <td>0</td>\n",
              "      <td>2.5</td>\n",
              "      <td>0.7</td>\n",
              "      <td>34</td>\n",
              "      <td>40</td>\n",
              "      <td>105</td>\n",
              "      <td>100</td>\n",
              "      <td>noband</td>\n",
              "    </tr>\n",
              "    <tr>\n",
              "      <th>1</th>\n",
              "      <td>19910104</td>\n",
              "      <td>B7</td>\n",
              "      <td>MODMAT</td>\n",
              "      <td>47201</td>\n",
              "      <td>YES</td>\n",
              "      <td>KEY</td>\n",
              "      <td>YES</td>\n",
              "      <td>BENTON</td>\n",
              "      <td>GALLATIN</td>\n",
              "      <td>UNCOATED</td>\n",
              "      <td>...</td>\n",
              "      <td>39.8</td>\n",
              "      <td>0</td>\n",
              "      <td>0</td>\n",
              "      <td>2.8</td>\n",
              "      <td>0.9</td>\n",
              "      <td>40</td>\n",
              "      <td>40</td>\n",
              "      <td>103.87</td>\n",
              "      <td>100</td>\n",
              "      <td>noband</td>\n",
              "    </tr>\n",
              "    <tr>\n",
              "      <th>2</th>\n",
              "      <td>19910104</td>\n",
              "      <td>T133</td>\n",
              "      <td>MASSEY</td>\n",
              "      <td>39039</td>\n",
              "      <td>YES</td>\n",
              "      <td>KEY</td>\n",
              "      <td>YES</td>\n",
              "      <td>BENTON</td>\n",
              "      <td>GALLATIN</td>\n",
              "      <td>UNCOATED</td>\n",
              "      <td>...</td>\n",
              "      <td>38.8</td>\n",
              "      <td>0</td>\n",
              "      <td>0</td>\n",
              "      <td>2.5</td>\n",
              "      <td>1.3</td>\n",
              "      <td>40</td>\n",
              "      <td>40</td>\n",
              "      <td>108.06</td>\n",
              "      <td>100</td>\n",
              "      <td>noband</td>\n",
              "    </tr>\n",
              "    <tr>\n",
              "      <th>3</th>\n",
              "      <td>19910111</td>\n",
              "      <td>J34</td>\n",
              "      <td>KMART</td>\n",
              "      <td>37351</td>\n",
              "      <td>NO</td>\n",
              "      <td>KEY</td>\n",
              "      <td>YES</td>\n",
              "      <td>BENTON</td>\n",
              "      <td>GALLATIN</td>\n",
              "      <td>UNCOATED</td>\n",
              "      <td>...</td>\n",
              "      <td>42.5</td>\n",
              "      <td>5</td>\n",
              "      <td>0</td>\n",
              "      <td>2.3</td>\n",
              "      <td>0.6</td>\n",
              "      <td>35</td>\n",
              "      <td>40</td>\n",
              "      <td>106.67</td>\n",
              "      <td>100</td>\n",
              "      <td>noband</td>\n",
              "    </tr>\n",
              "    <tr>\n",
              "      <th>4</th>\n",
              "      <td>19910104</td>\n",
              "      <td>T218</td>\n",
              "      <td>MASSEY</td>\n",
              "      <td>38039</td>\n",
              "      <td>YES</td>\n",
              "      <td>KEY</td>\n",
              "      <td>YES</td>\n",
              "      <td>BENTON</td>\n",
              "      <td>GALLATIN</td>\n",
              "      <td>UNCOATED</td>\n",
              "      <td>...</td>\n",
              "      <td>37.6</td>\n",
              "      <td>5</td>\n",
              "      <td>0</td>\n",
              "      <td>2.5</td>\n",
              "      <td>0.8</td>\n",
              "      <td>40</td>\n",
              "      <td>40</td>\n",
              "      <td>103.87</td>\n",
              "      <td>100</td>\n",
              "      <td>noband</td>\n",
              "    </tr>\n",
              "    <tr>\n",
              "      <th>...</th>\n",
              "      <td>...</td>\n",
              "      <td>...</td>\n",
              "      <td>...</td>\n",
              "      <td>...</td>\n",
              "      <td>...</td>\n",
              "      <td>...</td>\n",
              "      <td>...</td>\n",
              "      <td>...</td>\n",
              "      <td>...</td>\n",
              "      <td>...</td>\n",
              "      <td>...</td>\n",
              "      <td>...</td>\n",
              "      <td>...</td>\n",
              "      <td>...</td>\n",
              "      <td>...</td>\n",
              "      <td>...</td>\n",
              "      <td>...</td>\n",
              "      <td>...</td>\n",
              "      <td>...</td>\n",
              "      <td>...</td>\n",
              "      <td>...</td>\n",
              "    </tr>\n",
              "    <tr>\n",
              "      <th>535</th>\n",
              "      <td>19941005</td>\n",
              "      <td>aa66</td>\n",
              "      <td>kmart</td>\n",
              "      <td>85813</td>\n",
              "      <td>?</td>\n",
              "      <td>key</td>\n",
              "      <td>?</td>\n",
              "      <td>?</td>\n",
              "      <td>gallatin</td>\n",
              "      <td>super</td>\n",
              "      <td>...</td>\n",
              "      <td>?</td>\n",
              "      <td>?</td>\n",
              "      <td>?</td>\n",
              "      <td>1</td>\n",
              "      <td>1</td>\n",
              "      <td>?</td>\n",
              "      <td>40</td>\n",
              "      <td>112.5</td>\n",
              "      <td>100</td>\n",
              "      <td>band</td>\n",
              "    </tr>\n",
              "    <tr>\n",
              "      <th>536</th>\n",
              "      <td>19941009</td>\n",
              "      <td>j44</td>\n",
              "      <td>best</td>\n",
              "      <td>38064</td>\n",
              "      <td>?</td>\n",
              "      <td>key</td>\n",
              "      <td>?</td>\n",
              "      <td>?</td>\n",
              "      <td>gallatin</td>\n",
              "      <td>super</td>\n",
              "      <td>...</td>\n",
              "      <td>?</td>\n",
              "      <td>?</td>\n",
              "      <td>?</td>\n",
              "      <td>0</td>\n",
              "      <td>0</td>\n",
              "      <td>?</td>\n",
              "      <td>40</td>\n",
              "      <td>110</td>\n",
              "      <td>100</td>\n",
              "      <td>band</td>\n",
              "    </tr>\n",
              "    <tr>\n",
              "      <th>537</th>\n",
              "      <td>19941009</td>\n",
              "      <td>aa58</td>\n",
              "      <td>kmart</td>\n",
              "      <td>85814</td>\n",
              "      <td>?</td>\n",
              "      <td>key</td>\n",
              "      <td>?</td>\n",
              "      <td>?</td>\n",
              "      <td>gallatin</td>\n",
              "      <td>super</td>\n",
              "      <td>...</td>\n",
              "      <td>?</td>\n",
              "      <td>?</td>\n",
              "      <td>?</td>\n",
              "      <td>2.7</td>\n",
              "      <td>2.8</td>\n",
              "      <td>?</td>\n",
              "      <td>40</td>\n",
              "      <td>108</td>\n",
              "      <td>100</td>\n",
              "      <td>band</td>\n",
              "    </tr>\n",
              "    <tr>\n",
              "      <th>538</th>\n",
              "      <td>19941010</td>\n",
              "      <td>aa70</td>\n",
              "      <td>kmart</td>\n",
              "      <td>85814</td>\n",
              "      <td>?</td>\n",
              "      <td>key</td>\n",
              "      <td>?</td>\n",
              "      <td>?</td>\n",
              "      <td>gallatin</td>\n",
              "      <td>super</td>\n",
              "      <td>...</td>\n",
              "      <td>?</td>\n",
              "      <td>?</td>\n",
              "      <td>?</td>\n",
              "      <td>1.5</td>\n",
              "      <td>2.3</td>\n",
              "      <td>?</td>\n",
              "      <td>40</td>\n",
              "      <td>108</td>\n",
              "      <td>100</td>\n",
              "      <td>band</td>\n",
              "    </tr>\n",
              "    <tr>\n",
              "      <th>539</th>\n",
              "      <td>19941010</td>\n",
              "      <td>j70</td>\n",
              "      <td>best</td>\n",
              "      <td>38064</td>\n",
              "      <td>?</td>\n",
              "      <td>key</td>\n",
              "      <td>?</td>\n",
              "      <td>?</td>\n",
              "      <td>gallatin</td>\n",
              "      <td>super</td>\n",
              "      <td>...</td>\n",
              "      <td>?</td>\n",
              "      <td>?</td>\n",
              "      <td>?</td>\n",
              "      <td>2.5</td>\n",
              "      <td>1</td>\n",
              "      <td>?</td>\n",
              "      <td>40</td>\n",
              "      <td>108.1</td>\n",
              "      <td>100</td>\n",
              "      <td>band</td>\n",
              "    </tr>\n",
              "  </tbody>\n",
              "</table>\n",
              "<p>540 rows × 40 columns</p>\n",
              "</div>\n",
              "      <button class=\"colab-df-convert\" onclick=\"convertToInteractive('df-ad35c98a-578a-4043-9cc5-c0ba9ccc89e6')\"\n",
              "              title=\"Convert this dataframe to an interactive table.\"\n",
              "              style=\"display:none;\">\n",
              "        \n",
              "  <svg xmlns=\"http://www.w3.org/2000/svg\" height=\"24px\"viewBox=\"0 0 24 24\"\n",
              "       width=\"24px\">\n",
              "    <path d=\"M0 0h24v24H0V0z\" fill=\"none\"/>\n",
              "    <path d=\"M18.56 5.44l.94 2.06.94-2.06 2.06-.94-2.06-.94-.94-2.06-.94 2.06-2.06.94zm-11 1L8.5 8.5l.94-2.06 2.06-.94-2.06-.94L8.5 2.5l-.94 2.06-2.06.94zm10 10l.94 2.06.94-2.06 2.06-.94-2.06-.94-.94-2.06-.94 2.06-2.06.94z\"/><path d=\"M17.41 7.96l-1.37-1.37c-.4-.4-.92-.59-1.43-.59-.52 0-1.04.2-1.43.59L10.3 9.45l-7.72 7.72c-.78.78-.78 2.05 0 2.83L4 21.41c.39.39.9.59 1.41.59.51 0 1.02-.2 1.41-.59l7.78-7.78 2.81-2.81c.8-.78.8-2.07 0-2.86zM5.41 20L4 18.59l7.72-7.72 1.47 1.35L5.41 20z\"/>\n",
              "  </svg>\n",
              "      </button>\n",
              "      \n",
              "  <style>\n",
              "    .colab-df-container {\n",
              "      display:flex;\n",
              "      flex-wrap:wrap;\n",
              "      gap: 12px;\n",
              "    }\n",
              "\n",
              "    .colab-df-convert {\n",
              "      background-color: #E8F0FE;\n",
              "      border: none;\n",
              "      border-radius: 50%;\n",
              "      cursor: pointer;\n",
              "      display: none;\n",
              "      fill: #1967D2;\n",
              "      height: 32px;\n",
              "      padding: 0 0 0 0;\n",
              "      width: 32px;\n",
              "    }\n",
              "\n",
              "    .colab-df-convert:hover {\n",
              "      background-color: #E2EBFA;\n",
              "      box-shadow: 0px 1px 2px rgba(60, 64, 67, 0.3), 0px 1px 3px 1px rgba(60, 64, 67, 0.15);\n",
              "      fill: #174EA6;\n",
              "    }\n",
              "\n",
              "    [theme=dark] .colab-df-convert {\n",
              "      background-color: #3B4455;\n",
              "      fill: #D2E3FC;\n",
              "    }\n",
              "\n",
              "    [theme=dark] .colab-df-convert:hover {\n",
              "      background-color: #434B5C;\n",
              "      box-shadow: 0px 1px 3px 1px rgba(0, 0, 0, 0.15);\n",
              "      filter: drop-shadow(0px 1px 2px rgba(0, 0, 0, 0.3));\n",
              "      fill: #FFFFFF;\n",
              "    }\n",
              "  </style>\n",
              "\n",
              "      <script>\n",
              "        const buttonEl =\n",
              "          document.querySelector('#df-ad35c98a-578a-4043-9cc5-c0ba9ccc89e6 button.colab-df-convert');\n",
              "        buttonEl.style.display =\n",
              "          google.colab.kernel.accessAllowed ? 'block' : 'none';\n",
              "\n",
              "        async function convertToInteractive(key) {\n",
              "          const element = document.querySelector('#df-ad35c98a-578a-4043-9cc5-c0ba9ccc89e6');\n",
              "          const dataTable =\n",
              "            await google.colab.kernel.invokeFunction('convertToInteractive',\n",
              "                                                     [key], {});\n",
              "          if (!dataTable) return;\n",
              "\n",
              "          const docLinkHtml = 'Like what you see? Visit the ' +\n",
              "            '<a target=\"_blank\" href=https://colab.research.google.com/notebooks/data_table.ipynb>data table notebook</a>'\n",
              "            + ' to learn more about interactive tables.';\n",
              "          element.innerHTML = '';\n",
              "          dataTable['output_type'] = 'display_data';\n",
              "          await google.colab.output.renderOutput(dataTable, element);\n",
              "          const docLink = document.createElement('div');\n",
              "          docLink.innerHTML = docLinkHtml;\n",
              "          element.appendChild(docLink);\n",
              "        }\n",
              "      </script>\n",
              "    </div>\n",
              "  </div>\n",
              "  "
            ]
          },
          "metadata": {},
          "execution_count": 4
        }
      ]
    },
    {
      "cell_type": "code",
      "source": [
        "cylinder.dtypes"
      ],
      "metadata": {
        "colab": {
          "base_uri": "https://localhost:8080/"
        },
        "id": "eZxyTBuZdWH9",
        "outputId": "7a8f2c77-69eb-4a90-a8a5-295a531d6d9e"
      },
      "execution_count": null,
      "outputs": [
        {
          "output_type": "execute_result",
          "data": {
            "text/plain": [
              "19910108       object\n",
              "X126           object\n",
              "TVGUIDE        object\n",
              "25503          object\n",
              "YES            object\n",
              "KEY            object\n",
              "YES.1          object\n",
              "BENTON         object\n",
              "GALLATIN       object\n",
              "UNCOATED       object\n",
              "UNCOATED.1     object\n",
              "NO             object\n",
              "LINE           object\n",
              "YES.2          object\n",
              "Motter94       object\n",
              "821            object\n",
              "2             float64\n",
              "TABLOID        object\n",
              "NorthUS        object\n",
              "1911           object\n",
              "55             object\n",
              "46             object\n",
              "0.2            object\n",
              "17             object\n",
              "78             object\n",
              "0.75           object\n",
              "20             object\n",
              "13.1           object\n",
              "1700           object\n",
              "50.5           object\n",
              "36.4           object\n",
              "0              object\n",
              "0.1            object\n",
              "2.5            object\n",
              "1              object\n",
              "34             object\n",
              "40             object\n",
              "105            object\n",
              "100            object\n",
              "band           object\n",
              "dtype: object"
            ]
          },
          "metadata": {},
          "execution_count": 5
        }
      ]
    },
    {
      "cell_type": "code",
      "source": [
        "# Since column headers are not correct, assign corrections to a variable for later use\n",
        "\n",
        "column_headers = ['timestamp','cylinder number','customer','job number','grain screened',\n",
        "                  'ink color','proof on ctd ink','blade mfg','cylinder division','paper type',\n",
        "                  'ink type','direct steam','solvent type','type on cylinder','press type','press',\n",
        "                  'unit number','cylinder size','paper mill location','plating tank','proof cut',\n",
        "                  'viscosity','caliper','ink temperature','humifity','roughness','blade pressure',\n",
        "                  'varnish pct','press speed','ink pct','solvent pct','ESA Voltage','ESA Amperage','wax',\n",
        "                  'hardener','roller durometer','current density','anode space ratio','chrome content','band type'\n",
        "                  ]\n"
      ],
      "metadata": {
        "id": "BAqZiQdJdWEf"
      },
      "execution_count": null,
      "outputs": []
    },
    {
      "cell_type": "code",
      "source": [
        "# Update data with corrected headers using previously defined variable\n",
        "cylinder = pd.read_csv('/content/bands.data', header=None, names=column_headers)\n",
        "cylinder.head()"
      ],
      "metadata": {
        "colab": {
          "base_uri": "https://localhost:8080/",
          "height": 351
        },
        "id": "gLeBuRFjdWAz",
        "outputId": "668fb1b9-4e76-4e5a-b7de-c900b57b354d"
      },
      "execution_count": null,
      "outputs": [
        {
          "output_type": "execute_result",
          "data": {
            "text/plain": [
              "  timestamp cylinder number customer job number grain screened ink color  \\\n",
              "0  19910108            X126  TVGUIDE      25503            YES       KEY   \n",
              "1  19910109            X266  TVGUIDE      25503            YES       KEY   \n",
              "2  19910104              B7   MODMAT      47201            YES       KEY   \n",
              "3  19910104            T133   MASSEY      39039            YES       KEY   \n",
              "4  19910111             J34    KMART      37351             NO       KEY   \n",
              "\n",
              "  proof on ctd ink blade mfg cylinder division paper type  ... solvent pct  \\\n",
              "0              YES    BENTON          GALLATIN   UNCOATED  ...        36.4   \n",
              "1              YES    BENTON          GALLATIN   UNCOATED  ...        38.5   \n",
              "2              YES    BENTON          GALLATIN   UNCOATED  ...        39.8   \n",
              "3              YES    BENTON          GALLATIN   UNCOATED  ...        38.8   \n",
              "4              YES    BENTON          GALLATIN   UNCOATED  ...        42.5   \n",
              "\n",
              "  ESA Voltage ESA Amperage  wax hardener roller durometer  current density  \\\n",
              "0           0            0  2.5        1               34               40   \n",
              "1           0            0  2.5      0.7               34               40   \n",
              "2           0            0  2.8      0.9               40               40   \n",
              "3           0            0  2.5      1.3               40               40   \n",
              "4           5            0  2.3      0.6               35               40   \n",
              "\n",
              "  anode space ratio chrome content band type  \n",
              "0               105            100      band  \n",
              "1               105            100    noband  \n",
              "2            103.87            100    noband  \n",
              "3            108.06            100    noband  \n",
              "4            106.67            100    noband  \n",
              "\n",
              "[5 rows x 40 columns]"
            ],
            "text/html": [
              "\n",
              "  <div id=\"df-c1e19ac0-77d1-4b25-be42-c7a184fae334\">\n",
              "    <div class=\"colab-df-container\">\n",
              "      <div>\n",
              "<style scoped>\n",
              "    .dataframe tbody tr th:only-of-type {\n",
              "        vertical-align: middle;\n",
              "    }\n",
              "\n",
              "    .dataframe tbody tr th {\n",
              "        vertical-align: top;\n",
              "    }\n",
              "\n",
              "    .dataframe thead th {\n",
              "        text-align: right;\n",
              "    }\n",
              "</style>\n",
              "<table border=\"1\" class=\"dataframe\">\n",
              "  <thead>\n",
              "    <tr style=\"text-align: right;\">\n",
              "      <th></th>\n",
              "      <th>timestamp</th>\n",
              "      <th>cylinder number</th>\n",
              "      <th>customer</th>\n",
              "      <th>job number</th>\n",
              "      <th>grain screened</th>\n",
              "      <th>ink color</th>\n",
              "      <th>proof on ctd ink</th>\n",
              "      <th>blade mfg</th>\n",
              "      <th>cylinder division</th>\n",
              "      <th>paper type</th>\n",
              "      <th>...</th>\n",
              "      <th>solvent pct</th>\n",
              "      <th>ESA Voltage</th>\n",
              "      <th>ESA Amperage</th>\n",
              "      <th>wax</th>\n",
              "      <th>hardener</th>\n",
              "      <th>roller durometer</th>\n",
              "      <th>current density</th>\n",
              "      <th>anode space ratio</th>\n",
              "      <th>chrome content</th>\n",
              "      <th>band type</th>\n",
              "    </tr>\n",
              "  </thead>\n",
              "  <tbody>\n",
              "    <tr>\n",
              "      <th>0</th>\n",
              "      <td>19910108</td>\n",
              "      <td>X126</td>\n",
              "      <td>TVGUIDE</td>\n",
              "      <td>25503</td>\n",
              "      <td>YES</td>\n",
              "      <td>KEY</td>\n",
              "      <td>YES</td>\n",
              "      <td>BENTON</td>\n",
              "      <td>GALLATIN</td>\n",
              "      <td>UNCOATED</td>\n",
              "      <td>...</td>\n",
              "      <td>36.4</td>\n",
              "      <td>0</td>\n",
              "      <td>0</td>\n",
              "      <td>2.5</td>\n",
              "      <td>1</td>\n",
              "      <td>34</td>\n",
              "      <td>40</td>\n",
              "      <td>105</td>\n",
              "      <td>100</td>\n",
              "      <td>band</td>\n",
              "    </tr>\n",
              "    <tr>\n",
              "      <th>1</th>\n",
              "      <td>19910109</td>\n",
              "      <td>X266</td>\n",
              "      <td>TVGUIDE</td>\n",
              "      <td>25503</td>\n",
              "      <td>YES</td>\n",
              "      <td>KEY</td>\n",
              "      <td>YES</td>\n",
              "      <td>BENTON</td>\n",
              "      <td>GALLATIN</td>\n",
              "      <td>UNCOATED</td>\n",
              "      <td>...</td>\n",
              "      <td>38.5</td>\n",
              "      <td>0</td>\n",
              "      <td>0</td>\n",
              "      <td>2.5</td>\n",
              "      <td>0.7</td>\n",
              "      <td>34</td>\n",
              "      <td>40</td>\n",
              "      <td>105</td>\n",
              "      <td>100</td>\n",
              "      <td>noband</td>\n",
              "    </tr>\n",
              "    <tr>\n",
              "      <th>2</th>\n",
              "      <td>19910104</td>\n",
              "      <td>B7</td>\n",
              "      <td>MODMAT</td>\n",
              "      <td>47201</td>\n",
              "      <td>YES</td>\n",
              "      <td>KEY</td>\n",
              "      <td>YES</td>\n",
              "      <td>BENTON</td>\n",
              "      <td>GALLATIN</td>\n",
              "      <td>UNCOATED</td>\n",
              "      <td>...</td>\n",
              "      <td>39.8</td>\n",
              "      <td>0</td>\n",
              "      <td>0</td>\n",
              "      <td>2.8</td>\n",
              "      <td>0.9</td>\n",
              "      <td>40</td>\n",
              "      <td>40</td>\n",
              "      <td>103.87</td>\n",
              "      <td>100</td>\n",
              "      <td>noband</td>\n",
              "    </tr>\n",
              "    <tr>\n",
              "      <th>3</th>\n",
              "      <td>19910104</td>\n",
              "      <td>T133</td>\n",
              "      <td>MASSEY</td>\n",
              "      <td>39039</td>\n",
              "      <td>YES</td>\n",
              "      <td>KEY</td>\n",
              "      <td>YES</td>\n",
              "      <td>BENTON</td>\n",
              "      <td>GALLATIN</td>\n",
              "      <td>UNCOATED</td>\n",
              "      <td>...</td>\n",
              "      <td>38.8</td>\n",
              "      <td>0</td>\n",
              "      <td>0</td>\n",
              "      <td>2.5</td>\n",
              "      <td>1.3</td>\n",
              "      <td>40</td>\n",
              "      <td>40</td>\n",
              "      <td>108.06</td>\n",
              "      <td>100</td>\n",
              "      <td>noband</td>\n",
              "    </tr>\n",
              "    <tr>\n",
              "      <th>4</th>\n",
              "      <td>19910111</td>\n",
              "      <td>J34</td>\n",
              "      <td>KMART</td>\n",
              "      <td>37351</td>\n",
              "      <td>NO</td>\n",
              "      <td>KEY</td>\n",
              "      <td>YES</td>\n",
              "      <td>BENTON</td>\n",
              "      <td>GALLATIN</td>\n",
              "      <td>UNCOATED</td>\n",
              "      <td>...</td>\n",
              "      <td>42.5</td>\n",
              "      <td>5</td>\n",
              "      <td>0</td>\n",
              "      <td>2.3</td>\n",
              "      <td>0.6</td>\n",
              "      <td>35</td>\n",
              "      <td>40</td>\n",
              "      <td>106.67</td>\n",
              "      <td>100</td>\n",
              "      <td>noband</td>\n",
              "    </tr>\n",
              "  </tbody>\n",
              "</table>\n",
              "<p>5 rows × 40 columns</p>\n",
              "</div>\n",
              "      <button class=\"colab-df-convert\" onclick=\"convertToInteractive('df-c1e19ac0-77d1-4b25-be42-c7a184fae334')\"\n",
              "              title=\"Convert this dataframe to an interactive table.\"\n",
              "              style=\"display:none;\">\n",
              "        \n",
              "  <svg xmlns=\"http://www.w3.org/2000/svg\" height=\"24px\"viewBox=\"0 0 24 24\"\n",
              "       width=\"24px\">\n",
              "    <path d=\"M0 0h24v24H0V0z\" fill=\"none\"/>\n",
              "    <path d=\"M18.56 5.44l.94 2.06.94-2.06 2.06-.94-2.06-.94-.94-2.06-.94 2.06-2.06.94zm-11 1L8.5 8.5l.94-2.06 2.06-.94-2.06-.94L8.5 2.5l-.94 2.06-2.06.94zm10 10l.94 2.06.94-2.06 2.06-.94-2.06-.94-.94-2.06-.94 2.06-2.06.94z\"/><path d=\"M17.41 7.96l-1.37-1.37c-.4-.4-.92-.59-1.43-.59-.52 0-1.04.2-1.43.59L10.3 9.45l-7.72 7.72c-.78.78-.78 2.05 0 2.83L4 21.41c.39.39.9.59 1.41.59.51 0 1.02-.2 1.41-.59l7.78-7.78 2.81-2.81c.8-.78.8-2.07 0-2.86zM5.41 20L4 18.59l7.72-7.72 1.47 1.35L5.41 20z\"/>\n",
              "  </svg>\n",
              "      </button>\n",
              "      \n",
              "  <style>\n",
              "    .colab-df-container {\n",
              "      display:flex;\n",
              "      flex-wrap:wrap;\n",
              "      gap: 12px;\n",
              "    }\n",
              "\n",
              "    .colab-df-convert {\n",
              "      background-color: #E8F0FE;\n",
              "      border: none;\n",
              "      border-radius: 50%;\n",
              "      cursor: pointer;\n",
              "      display: none;\n",
              "      fill: #1967D2;\n",
              "      height: 32px;\n",
              "      padding: 0 0 0 0;\n",
              "      width: 32px;\n",
              "    }\n",
              "\n",
              "    .colab-df-convert:hover {\n",
              "      background-color: #E2EBFA;\n",
              "      box-shadow: 0px 1px 2px rgba(60, 64, 67, 0.3), 0px 1px 3px 1px rgba(60, 64, 67, 0.15);\n",
              "      fill: #174EA6;\n",
              "    }\n",
              "\n",
              "    [theme=dark] .colab-df-convert {\n",
              "      background-color: #3B4455;\n",
              "      fill: #D2E3FC;\n",
              "    }\n",
              "\n",
              "    [theme=dark] .colab-df-convert:hover {\n",
              "      background-color: #434B5C;\n",
              "      box-shadow: 0px 1px 3px 1px rgba(0, 0, 0, 0.15);\n",
              "      filter: drop-shadow(0px 1px 2px rgba(0, 0, 0, 0.3));\n",
              "      fill: #FFFFFF;\n",
              "    }\n",
              "  </style>\n",
              "\n",
              "      <script>\n",
              "        const buttonEl =\n",
              "          document.querySelector('#df-c1e19ac0-77d1-4b25-be42-c7a184fae334 button.colab-df-convert');\n",
              "        buttonEl.style.display =\n",
              "          google.colab.kernel.accessAllowed ? 'block' : 'none';\n",
              "\n",
              "        async function convertToInteractive(key) {\n",
              "          const element = document.querySelector('#df-c1e19ac0-77d1-4b25-be42-c7a184fae334');\n",
              "          const dataTable =\n",
              "            await google.colab.kernel.invokeFunction('convertToInteractive',\n",
              "                                                     [key], {});\n",
              "          if (!dataTable) return;\n",
              "\n",
              "          const docLinkHtml = 'Like what you see? Visit the ' +\n",
              "            '<a target=\"_blank\" href=https://colab.research.google.com/notebooks/data_table.ipynb>data table notebook</a>'\n",
              "            + ' to learn more about interactive tables.';\n",
              "          element.innerHTML = '';\n",
              "          dataTable['output_type'] = 'display_data';\n",
              "          await google.colab.output.renderOutput(dataTable, element);\n",
              "          const docLink = document.createElement('div');\n",
              "          docLink.innerHTML = docLinkHtml;\n",
              "          element.appendChild(docLink);\n",
              "        }\n",
              "      </script>\n",
              "    </div>\n",
              "  </div>\n",
              "  "
            ]
          },
          "metadata": {},
          "execution_count": 50
        }
      ]
    },
    {
      "cell_type": "code",
      "source": [
        "# Check for blank values\n",
        "cylinder.isnull().sum()"
      ],
      "metadata": {
        "colab": {
          "base_uri": "https://localhost:8080/"
        },
        "id": "t3_4hvjidV9R",
        "outputId": "297a9e76-2279-4d72-a796-ca749d9a9061"
      },
      "execution_count": null,
      "outputs": [
        {
          "output_type": "execute_result",
          "data": {
            "text/plain": [
              "timestamp              0\n",
              "cylinder number        0\n",
              "customer               0\n",
              "job number             0\n",
              "grain screened         0\n",
              "ink color              0\n",
              "proof on ctd ink       0\n",
              "blade mfg              0\n",
              "cylinder division      0\n",
              "paper type             0\n",
              "ink type               0\n",
              "direct steam           0\n",
              "solvent type           0\n",
              "type on cylinder       0\n",
              "press type             0\n",
              "press                  0\n",
              "unit number            0\n",
              "cylinder size          1\n",
              "paper mill location    1\n",
              "plating tank           1\n",
              "proof cut              1\n",
              "viscosity              1\n",
              "caliper                1\n",
              "ink temperature        2\n",
              "humifity               2\n",
              "roughness              2\n",
              "blade pressure         2\n",
              "varnish pct            2\n",
              "press speed            2\n",
              "ink pct                2\n",
              "solvent pct            2\n",
              "ESA Voltage            2\n",
              "ESA Amperage           2\n",
              "wax                    2\n",
              "hardener               2\n",
              "roller durometer       2\n",
              "current density        2\n",
              "anode space ratio      2\n",
              "chrome content         2\n",
              "band type              2\n",
              "dtype: int64"
            ]
          },
          "metadata": {},
          "execution_count": 51
        }
      ]
    },
    {
      "cell_type": "code",
      "source": [
        "#check the data types\n",
        "cylinder.dtypes"
      ],
      "metadata": {
        "colab": {
          "base_uri": "https://localhost:8080/"
        },
        "id": "54ii5h-6lKRF",
        "outputId": "b87a71c9-f436-43f1-f58c-95e63a6df63c"
      },
      "execution_count": null,
      "outputs": [
        {
          "output_type": "execute_result",
          "data": {
            "text/plain": [
              "timestamp               object\n",
              "cylinder number         object\n",
              "customer                object\n",
              "job number              object\n",
              "grain screened          object\n",
              "ink color               object\n",
              "proof on ctd ink        object\n",
              "blade mfg               object\n",
              "cylinder division       object\n",
              "paper type              object\n",
              "ink type                object\n",
              "direct steam            object\n",
              "solvent type            object\n",
              "type on cylinder        object\n",
              "press type              object\n",
              "press                   object\n",
              "unit number            float64\n",
              "cylinder size           object\n",
              "paper mill location     object\n",
              "plating tank            object\n",
              "proof cut               object\n",
              "viscosity               object\n",
              "caliper                 object\n",
              "ink temperature         object\n",
              "humifity                object\n",
              "roughness               object\n",
              "blade pressure          object\n",
              "varnish pct             object\n",
              "press speed             object\n",
              "ink pct                 object\n",
              "solvent pct             object\n",
              "ESA Voltage             object\n",
              "ESA Amperage            object\n",
              "wax                     object\n",
              "hardener                object\n",
              "roller durometer        object\n",
              "current density         object\n",
              "anode space ratio       object\n",
              "chrome content          object\n",
              "band type               object\n",
              "dtype: object"
            ]
          },
          "metadata": {},
          "execution_count": 53
        }
      ]
    },
    {
      "cell_type": "code",
      "source": [
        "from mlxtend.preprocessing import TransactionEncoder\n",
        "\n",
        "#list/Array of lists\n",
        "te = TransactionEncoder()\n",
        "encoded_data = pd.DataFrame(te.fit_transform(cylinder['band type'].str.split(',')).astype(int),columns = te.columns_)"
      ],
      "metadata": {
        "colab": {
          "base_uri": "https://localhost:8080/",
          "height": 346
        },
        "id": "t_L17Q3Jk9MN",
        "outputId": "4b31bc80-3fab-4c77-b015-159ac830bccd"
      },
      "execution_count": null,
      "outputs": [
        {
          "output_type": "error",
          "ename": "TypeError",
          "evalue": "ignored",
          "traceback": [
            "\u001b[0;31m---------------------------------------------------------------------------\u001b[0m",
            "\u001b[0;31mTypeError\u001b[0m                                 Traceback (most recent call last)",
            "\u001b[0;32m<ipython-input-54-dc22e775fc6e>\u001b[0m in \u001b[0;36m<cell line: 5>\u001b[0;34m()\u001b[0m\n\u001b[1;32m      3\u001b[0m \u001b[0;31m#list/Array of lists\u001b[0m\u001b[0;34m\u001b[0m\u001b[0;34m\u001b[0m\u001b[0m\n\u001b[1;32m      4\u001b[0m \u001b[0mte\u001b[0m \u001b[0;34m=\u001b[0m \u001b[0mTransactionEncoder\u001b[0m\u001b[0;34m(\u001b[0m\u001b[0;34m)\u001b[0m\u001b[0;34m\u001b[0m\u001b[0;34m\u001b[0m\u001b[0m\n\u001b[0;32m----> 5\u001b[0;31m \u001b[0mencoded_data\u001b[0m \u001b[0;34m=\u001b[0m \u001b[0mpd\u001b[0m\u001b[0;34m.\u001b[0m\u001b[0mDataFrame\u001b[0m\u001b[0;34m(\u001b[0m\u001b[0mte\u001b[0m\u001b[0;34m.\u001b[0m\u001b[0mfit_transform\u001b[0m\u001b[0;34m(\u001b[0m\u001b[0mcylinder\u001b[0m\u001b[0;34m[\u001b[0m\u001b[0;34m'band type'\u001b[0m\u001b[0;34m]\u001b[0m\u001b[0;34m.\u001b[0m\u001b[0mstr\u001b[0m\u001b[0;34m.\u001b[0m\u001b[0msplit\u001b[0m\u001b[0;34m(\u001b[0m\u001b[0;34m','\u001b[0m\u001b[0;34m)\u001b[0m\u001b[0;34m)\u001b[0m\u001b[0;34m.\u001b[0m\u001b[0mastype\u001b[0m\u001b[0;34m(\u001b[0m\u001b[0mint\u001b[0m\u001b[0;34m)\u001b[0m\u001b[0;34m,\u001b[0m\u001b[0mcolumns\u001b[0m \u001b[0;34m=\u001b[0m \u001b[0mte\u001b[0m\u001b[0;34m.\u001b[0m\u001b[0mcolumns_\u001b[0m\u001b[0;34m)\u001b[0m\u001b[0;34m\u001b[0m\u001b[0;34m\u001b[0m\u001b[0m\n\u001b[0m",
            "\u001b[0;32m/usr/local/lib/python3.10/dist-packages/sklearn/utils/_set_output.py\u001b[0m in \u001b[0;36mwrapped\u001b[0;34m(self, X, *args, **kwargs)\u001b[0m\n\u001b[1;32m    138\u001b[0m     \u001b[0;34m@\u001b[0m\u001b[0mwraps\u001b[0m\u001b[0;34m(\u001b[0m\u001b[0mf\u001b[0m\u001b[0;34m)\u001b[0m\u001b[0;34m\u001b[0m\u001b[0;34m\u001b[0m\u001b[0m\n\u001b[1;32m    139\u001b[0m     \u001b[0;32mdef\u001b[0m \u001b[0mwrapped\u001b[0m\u001b[0;34m(\u001b[0m\u001b[0mself\u001b[0m\u001b[0;34m,\u001b[0m \u001b[0mX\u001b[0m\u001b[0;34m,\u001b[0m \u001b[0;34m*\u001b[0m\u001b[0margs\u001b[0m\u001b[0;34m,\u001b[0m \u001b[0;34m**\u001b[0m\u001b[0mkwargs\u001b[0m\u001b[0;34m)\u001b[0m\u001b[0;34m:\u001b[0m\u001b[0;34m\u001b[0m\u001b[0;34m\u001b[0m\u001b[0m\n\u001b[0;32m--> 140\u001b[0;31m         \u001b[0mdata_to_wrap\u001b[0m \u001b[0;34m=\u001b[0m \u001b[0mf\u001b[0m\u001b[0;34m(\u001b[0m\u001b[0mself\u001b[0m\u001b[0;34m,\u001b[0m \u001b[0mX\u001b[0m\u001b[0;34m,\u001b[0m \u001b[0;34m*\u001b[0m\u001b[0margs\u001b[0m\u001b[0;34m,\u001b[0m \u001b[0;34m**\u001b[0m\u001b[0mkwargs\u001b[0m\u001b[0;34m)\u001b[0m\u001b[0;34m\u001b[0m\u001b[0;34m\u001b[0m\u001b[0m\n\u001b[0m\u001b[1;32m    141\u001b[0m         \u001b[0;32mif\u001b[0m \u001b[0misinstance\u001b[0m\u001b[0;34m(\u001b[0m\u001b[0mdata_to_wrap\u001b[0m\u001b[0;34m,\u001b[0m \u001b[0mtuple\u001b[0m\u001b[0;34m)\u001b[0m\u001b[0;34m:\u001b[0m\u001b[0;34m\u001b[0m\u001b[0;34m\u001b[0m\u001b[0m\n\u001b[1;32m    142\u001b[0m             \u001b[0;31m# only wrap the first output for cross decomposition\u001b[0m\u001b[0;34m\u001b[0m\u001b[0;34m\u001b[0m\u001b[0m\n",
            "\u001b[0;32m/usr/local/lib/python3.10/dist-packages/mlxtend/preprocessing/transactionencoder.py\u001b[0m in \u001b[0;36mfit_transform\u001b[0;34m(self, X, sparse)\u001b[0m\n\u001b[1;32m    180\u001b[0m     \u001b[0;32mdef\u001b[0m \u001b[0mfit_transform\u001b[0m\u001b[0;34m(\u001b[0m\u001b[0mself\u001b[0m\u001b[0;34m,\u001b[0m \u001b[0mX\u001b[0m\u001b[0;34m,\u001b[0m \u001b[0msparse\u001b[0m\u001b[0;34m=\u001b[0m\u001b[0;32mFalse\u001b[0m\u001b[0;34m)\u001b[0m\u001b[0;34m:\u001b[0m\u001b[0;34m\u001b[0m\u001b[0;34m\u001b[0m\u001b[0m\n\u001b[1;32m    181\u001b[0m         \u001b[0;34m\"\"\"Fit a TransactionEncoder encoder and transform a dataset.\"\"\"\u001b[0m\u001b[0;34m\u001b[0m\u001b[0;34m\u001b[0m\u001b[0m\n\u001b[0;32m--> 182\u001b[0;31m         \u001b[0;32mreturn\u001b[0m \u001b[0mself\u001b[0m\u001b[0;34m.\u001b[0m\u001b[0mfit\u001b[0m\u001b[0;34m(\u001b[0m\u001b[0mX\u001b[0m\u001b[0;34m)\u001b[0m\u001b[0;34m.\u001b[0m\u001b[0mtransform\u001b[0m\u001b[0;34m(\u001b[0m\u001b[0mX\u001b[0m\u001b[0;34m,\u001b[0m \u001b[0msparse\u001b[0m\u001b[0;34m=\u001b[0m\u001b[0msparse\u001b[0m\u001b[0;34m)\u001b[0m\u001b[0;34m\u001b[0m\u001b[0;34m\u001b[0m\u001b[0m\n\u001b[0m",
            "\u001b[0;32m/usr/local/lib/python3.10/dist-packages/mlxtend/preprocessing/transactionencoder.py\u001b[0m in \u001b[0;36mfit\u001b[0;34m(self, X)\u001b[0m\n\u001b[1;32m     54\u001b[0m         \u001b[0munique_items\u001b[0m \u001b[0;34m=\u001b[0m \u001b[0mset\u001b[0m\u001b[0;34m(\u001b[0m\u001b[0;34m)\u001b[0m\u001b[0;34m\u001b[0m\u001b[0;34m\u001b[0m\u001b[0m\n\u001b[1;32m     55\u001b[0m         \u001b[0;32mfor\u001b[0m \u001b[0mtransaction\u001b[0m \u001b[0;32min\u001b[0m \u001b[0mX\u001b[0m\u001b[0;34m:\u001b[0m\u001b[0;34m\u001b[0m\u001b[0;34m\u001b[0m\u001b[0m\n\u001b[0;32m---> 56\u001b[0;31m             \u001b[0;32mfor\u001b[0m \u001b[0mitem\u001b[0m \u001b[0;32min\u001b[0m \u001b[0mtransaction\u001b[0m\u001b[0;34m:\u001b[0m\u001b[0;34m\u001b[0m\u001b[0;34m\u001b[0m\u001b[0m\n\u001b[0m\u001b[1;32m     57\u001b[0m                 \u001b[0munique_items\u001b[0m\u001b[0;34m.\u001b[0m\u001b[0madd\u001b[0m\u001b[0;34m(\u001b[0m\u001b[0mitem\u001b[0m\u001b[0;34m)\u001b[0m\u001b[0;34m\u001b[0m\u001b[0;34m\u001b[0m\u001b[0m\n\u001b[1;32m     58\u001b[0m         \u001b[0mself\u001b[0m\u001b[0;34m.\u001b[0m\u001b[0mcolumns_\u001b[0m \u001b[0;34m=\u001b[0m \u001b[0msorted\u001b[0m\u001b[0;34m(\u001b[0m\u001b[0munique_items\u001b[0m\u001b[0;34m)\u001b[0m\u001b[0;34m\u001b[0m\u001b[0;34m\u001b[0m\u001b[0m\n",
            "\u001b[0;31mTypeError\u001b[0m: 'float' object is not iterable"
          ]
        }
      ]
    },
    {
      "cell_type": "code",
      "source": [
        "# Remove rows with missing values\n",
        "cylinder.dropna(inplace=True)\n",
        "\n",
        "# Check for missing values again\n",
        "print(cylinder.isnull().sum())"
      ],
      "metadata": {
        "colab": {
          "base_uri": "https://localhost:8080/"
        },
        "id": "Inu7jrV1nLaV",
        "outputId": "0986198a-014e-4d8f-a63c-1183e1a5227b"
      },
      "execution_count": null,
      "outputs": [
        {
          "output_type": "stream",
          "name": "stdout",
          "text": [
            "timestamp              0\n",
            "cylinder number        0\n",
            "customer               0\n",
            "job number             0\n",
            "grain screened         0\n",
            "ink color              0\n",
            "proof on ctd ink       0\n",
            "blade mfg              0\n",
            "cylinder division      0\n",
            "paper type             0\n",
            "ink type               0\n",
            "direct steam           0\n",
            "solvent type           0\n",
            "type on cylinder       0\n",
            "press type             0\n",
            "press                  0\n",
            "unit number            0\n",
            "cylinder size          0\n",
            "paper mill location    0\n",
            "plating tank           0\n",
            "proof cut              0\n",
            "viscosity              0\n",
            "caliper                0\n",
            "ink temperature        0\n",
            "humifity               0\n",
            "roughness              0\n",
            "blade pressure         0\n",
            "varnish pct            0\n",
            "press speed            0\n",
            "ink pct                0\n",
            "solvent pct            0\n",
            "ESA Voltage            0\n",
            "ESA Amperage           0\n",
            "wax                    0\n",
            "hardener               0\n",
            "roller durometer       0\n",
            "current density        0\n",
            "anode space ratio      0\n",
            "chrome content         0\n",
            "band type              0\n",
            "dtype: int64\n"
          ]
        }
      ]
    },
    {
      "cell_type": "code",
      "source": [
        "cylinder.shape"
      ],
      "metadata": {
        "colab": {
          "base_uri": "https://localhost:8080/"
        },
        "id": "h3MH5Qo5dV15",
        "outputId": "149ee30e-7557-4efa-f2e2-56b0194b2c6f"
      },
      "execution_count": null,
      "outputs": [
        {
          "output_type": "execute_result",
          "data": {
            "text/plain": [
              "(539, 40)"
            ]
          },
          "metadata": {},
          "execution_count": 10
        }
      ]
    },
    {
      "cell_type": "code",
      "source": [
        "cylinder.dtypes"
      ],
      "metadata": {
        "colab": {
          "base_uri": "https://localhost:8080/"
        },
        "id": "jL55mQ-Eo9sw",
        "outputId": "80f3ee87-e2c3-4efe-bd44-e3404cd09e77"
      },
      "execution_count": null,
      "outputs": [
        {
          "output_type": "execute_result",
          "data": {
            "text/plain": [
              "timestamp               object\n",
              "cylinder number         object\n",
              "customer                object\n",
              "job number              object\n",
              "grain screened          object\n",
              "ink color               object\n",
              "proof on ctd ink        object\n",
              "blade mfg               object\n",
              "cylinder division       object\n",
              "paper type              object\n",
              "ink type                object\n",
              "direct steam            object\n",
              "solvent type            object\n",
              "type on cylinder        object\n",
              "press type              object\n",
              "press                   object\n",
              "unit number            float64\n",
              "cylinder size           object\n",
              "paper mill location     object\n",
              "plating tank            object\n",
              "proof cut               object\n",
              "viscosity               object\n",
              "caliper                 object\n",
              "ink temperature         object\n",
              "humifity                object\n",
              "roughness               object\n",
              "blade pressure          object\n",
              "varnish pct             object\n",
              "press speed             object\n",
              "ink pct                 object\n",
              "solvent pct             object\n",
              "ESA Voltage             object\n",
              "ESA Amperage            object\n",
              "wax                     object\n",
              "hardener                object\n",
              "roller durometer        object\n",
              "current density         object\n",
              "anode space ratio       object\n",
              "chrome content          object\n",
              "band type               object\n",
              "dtype: object"
            ]
          },
          "metadata": {},
          "execution_count": 18
        }
      ]
    },
    {
      "cell_type": "code",
      "source": [
        "cylinder['band type'].unique()"
      ],
      "metadata": {
        "colab": {
          "base_uri": "https://localhost:8080/"
        },
        "id": "pfNskNapgfVA",
        "outputId": "e6aae53f-fbfd-4605-ca84-3dbafaf45d1f"
      },
      "execution_count": null,
      "outputs": [
        {
          "output_type": "execute_result",
          "data": {
            "text/plain": [
              "array(['band', 'noband'], dtype=object)"
            ]
          },
          "metadata": {},
          "execution_count": 19
        }
      ]
    },
    {
      "cell_type": "code",
      "source": [
        "cylinder['band type']"
      ],
      "metadata": {
        "colab": {
          "base_uri": "https://localhost:8080/"
        },
        "id": "cSkOeLUehUgo",
        "outputId": "f9187276-6686-4a46-b679-39ef57f6fb14"
      },
      "execution_count": null,
      "outputs": [
        {
          "output_type": "execute_result",
          "data": {
            "text/plain": [
              "0        band\n",
              "1      noband\n",
              "2      noband\n",
              "3      noband\n",
              "4      noband\n",
              "        ...  \n",
              "536      band\n",
              "537      band\n",
              "538      band\n",
              "539      band\n",
              "540      band\n",
              "Name: band type, Length: 539, dtype: object"
            ]
          },
          "metadata": {},
          "execution_count": 23
        }
      ]
    },
    {
      "cell_type": "code",
      "source": [
        "from mlxtend.preprocessing import TransactionEncoder\n",
        "\n",
        "#list/Array of lists\n",
        "te = TransactionEncoder()\n",
        "data = pd.DataFrame(te.fit_transform(cylinder['band type'].str.split(',')).astype(int),columns = te.columns_)"
      ],
      "metadata": {
        "id": "wivSDtolo9pV"
      },
      "execution_count": null,
      "outputs": []
    },
    {
      "cell_type": "code",
      "source": [
        "te.columns_"
      ],
      "metadata": {
        "colab": {
          "base_uri": "https://localhost:8080/"
        },
        "id": "Oqtl9LC9iDHE",
        "outputId": "263a17f3-55b5-4883-9853-864534a6e932"
      },
      "execution_count": null,
      "outputs": [
        {
          "output_type": "execute_result",
          "data": {
            "text/plain": [
              "['band', 'noband']"
            ]
          },
          "metadata": {},
          "execution_count": 29
        }
      ]
    },
    {
      "cell_type": "code",
      "source": [
        "cylinder['band type'].values.reshape(-1,1)"
      ],
      "metadata": {
        "colab": {
          "base_uri": "https://localhost:8080/"
        },
        "id": "jpApl0mmo9mX",
        "outputId": "75876ba8-fc48-4799-df16-0ac0ac7fb4e9"
      },
      "execution_count": null,
      "outputs": [
        {
          "output_type": "execute_result",
          "data": {
            "text/plain": [
              "array([['band'],\n",
              "       ['noband'],\n",
              "       ['noband'],\n",
              "       ['noband'],\n",
              "       ['noband'],\n",
              "       ['noband'],\n",
              "       ['noband'],\n",
              "       ['noband'],\n",
              "       ['band'],\n",
              "       ['noband'],\n",
              "       ['noband'],\n",
              "       ['band'],\n",
              "       ['band'],\n",
              "       ['band'],\n",
              "       ['noband'],\n",
              "       ['band'],\n",
              "       ['noband'],\n",
              "       ['noband'],\n",
              "       ['noband'],\n",
              "       ['noband'],\n",
              "       ['noband'],\n",
              "       ['noband'],\n",
              "       ['noband'],\n",
              "       ['band'],\n",
              "       ['band'],\n",
              "       ['band'],\n",
              "       ['noband'],\n",
              "       ['noband'],\n",
              "       ['band'],\n",
              "       ['band'],\n",
              "       ['noband'],\n",
              "       ['noband'],\n",
              "       ['noband'],\n",
              "       ['noband'],\n",
              "       ['band'],\n",
              "       ['noband'],\n",
              "       ['band'],\n",
              "       ['noband'],\n",
              "       ['noband'],\n",
              "       ['noband'],\n",
              "       ['noband'],\n",
              "       ['noband'],\n",
              "       ['noband'],\n",
              "       ['noband'],\n",
              "       ['noband'],\n",
              "       ['noband'],\n",
              "       ['noband'],\n",
              "       ['noband'],\n",
              "       ['noband'],\n",
              "       ['noband'],\n",
              "       ['band'],\n",
              "       ['band'],\n",
              "       ['noband'],\n",
              "       ['noband'],\n",
              "       ['noband'],\n",
              "       ['noband'],\n",
              "       ['noband'],\n",
              "       ['noband'],\n",
              "       ['band'],\n",
              "       ['band'],\n",
              "       ['band'],\n",
              "       ['noband'],\n",
              "       ['noband'],\n",
              "       ['band'],\n",
              "       ['band'],\n",
              "       ['band'],\n",
              "       ['band'],\n",
              "       ['noband'],\n",
              "       ['noband'],\n",
              "       ['noband'],\n",
              "       ['noband'],\n",
              "       ['noband'],\n",
              "       ['noband'],\n",
              "       ['noband'],\n",
              "       ['noband'],\n",
              "       ['noband'],\n",
              "       ['noband'],\n",
              "       ['band'],\n",
              "       ['noband'],\n",
              "       ['noband'],\n",
              "       ['noband'],\n",
              "       ['noband'],\n",
              "       ['noband'],\n",
              "       ['noband'],\n",
              "       ['noband'],\n",
              "       ['band'],\n",
              "       ['noband'],\n",
              "       ['band'],\n",
              "       ['noband'],\n",
              "       ['noband'],\n",
              "       ['noband'],\n",
              "       ['noband'],\n",
              "       ['band'],\n",
              "       ['band'],\n",
              "       ['noband'],\n",
              "       ['noband'],\n",
              "       ['noband'],\n",
              "       ['noband'],\n",
              "       ['noband'],\n",
              "       ['noband'],\n",
              "       ['noband'],\n",
              "       ['noband'],\n",
              "       ['noband'],\n",
              "       ['noband'],\n",
              "       ['band'],\n",
              "       ['band'],\n",
              "       ['band'],\n",
              "       ['band'],\n",
              "       ['band'],\n",
              "       ['band'],\n",
              "       ['band'],\n",
              "       ['band'],\n",
              "       ['noband'],\n",
              "       ['noband'],\n",
              "       ['noband'],\n",
              "       ['noband'],\n",
              "       ['noband'],\n",
              "       ['noband'],\n",
              "       ['band'],\n",
              "       ['band'],\n",
              "       ['band'],\n",
              "       ['band'],\n",
              "       ['band'],\n",
              "       ['band'],\n",
              "       ['noband'],\n",
              "       ['noband'],\n",
              "       ['noband'],\n",
              "       ['noband'],\n",
              "       ['noband'],\n",
              "       ['noband'],\n",
              "       ['noband'],\n",
              "       ['noband'],\n",
              "       ['noband'],\n",
              "       ['noband'],\n",
              "       ['noband'],\n",
              "       ['band'],\n",
              "       ['band'],\n",
              "       ['noband'],\n",
              "       ['noband'],\n",
              "       ['noband'],\n",
              "       ['noband'],\n",
              "       ['noband'],\n",
              "       ['noband'],\n",
              "       ['noband'],\n",
              "       ['noband'],\n",
              "       ['noband'],\n",
              "       ['noband'],\n",
              "       ['noband'],\n",
              "       ['band'],\n",
              "       ['noband'],\n",
              "       ['noband'],\n",
              "       ['noband'],\n",
              "       ['band'],\n",
              "       ['band'],\n",
              "       ['noband'],\n",
              "       ['noband'],\n",
              "       ['noband'],\n",
              "       ['noband'],\n",
              "       ['noband'],\n",
              "       ['noband'],\n",
              "       ['noband'],\n",
              "       ['noband'],\n",
              "       ['band'],\n",
              "       ['band'],\n",
              "       ['band'],\n",
              "       ['band'],\n",
              "       ['band'],\n",
              "       ['band'],\n",
              "       ['band'],\n",
              "       ['band'],\n",
              "       ['band'],\n",
              "       ['band'],\n",
              "       ['band'],\n",
              "       ['band'],\n",
              "       ['noband'],\n",
              "       ['noband'],\n",
              "       ['band'],\n",
              "       ['band'],\n",
              "       ['band'],\n",
              "       ['band'],\n",
              "       ['noband'],\n",
              "       ['noband'],\n",
              "       ['noband'],\n",
              "       ['noband'],\n",
              "       ['noband'],\n",
              "       ['noband'],\n",
              "       ['noband'],\n",
              "       ['band'],\n",
              "       ['band'],\n",
              "       ['band'],\n",
              "       ['band'],\n",
              "       ['band'],\n",
              "       ['noband'],\n",
              "       ['noband'],\n",
              "       ['noband'],\n",
              "       ['noband'],\n",
              "       ['noband'],\n",
              "       ['band'],\n",
              "       ['noband'],\n",
              "       ['noband'],\n",
              "       ['noband'],\n",
              "       ['noband'],\n",
              "       ['band'],\n",
              "       ['noband'],\n",
              "       ['noband'],\n",
              "       ['noband'],\n",
              "       ['noband'],\n",
              "       ['noband'],\n",
              "       ['band'],\n",
              "       ['band'],\n",
              "       ['band'],\n",
              "       ['noband'],\n",
              "       ['noband'],\n",
              "       ['noband'],\n",
              "       ['noband'],\n",
              "       ['noband'],\n",
              "       ['noband'],\n",
              "       ['noband'],\n",
              "       ['noband'],\n",
              "       ['noband'],\n",
              "       ['noband'],\n",
              "       ['noband'],\n",
              "       ['noband'],\n",
              "       ['noband'],\n",
              "       ['band'],\n",
              "       ['noband'],\n",
              "       ['noband'],\n",
              "       ['noband'],\n",
              "       ['noband'],\n",
              "       ['band'],\n",
              "       ['band'],\n",
              "       ['band'],\n",
              "       ['band'],\n",
              "       ['noband'],\n",
              "       ['band'],\n",
              "       ['noband'],\n",
              "       ['band'],\n",
              "       ['noband'],\n",
              "       ['noband'],\n",
              "       ['band'],\n",
              "       ['band'],\n",
              "       ['band'],\n",
              "       ['noband'],\n",
              "       ['noband'],\n",
              "       ['noband'],\n",
              "       ['noband'],\n",
              "       ['noband'],\n",
              "       ['band'],\n",
              "       ['noband'],\n",
              "       ['noband'],\n",
              "       ['noband'],\n",
              "       ['noband'],\n",
              "       ['band'],\n",
              "       ['noband'],\n",
              "       ['noband'],\n",
              "       ['noband'],\n",
              "       ['noband'],\n",
              "       ['noband'],\n",
              "       ['noband'],\n",
              "       ['noband'],\n",
              "       ['noband'],\n",
              "       ['noband'],\n",
              "       ['noband'],\n",
              "       ['noband'],\n",
              "       ['noband'],\n",
              "       ['noband'],\n",
              "       ['band'],\n",
              "       ['noband'],\n",
              "       ['noband'],\n",
              "       ['noband'],\n",
              "       ['noband'],\n",
              "       ['noband'],\n",
              "       ['noband'],\n",
              "       ['noband'],\n",
              "       ['noband'],\n",
              "       ['band'],\n",
              "       ['band'],\n",
              "       ['noband'],\n",
              "       ['noband'],\n",
              "       ['noband'],\n",
              "       ['noband'],\n",
              "       ['noband'],\n",
              "       ['noband'],\n",
              "       ['noband'],\n",
              "       ['noband'],\n",
              "       ['noband'],\n",
              "       ['noband'],\n",
              "       ['noband'],\n",
              "       ['noband'],\n",
              "       ['noband'],\n",
              "       ['noband'],\n",
              "       ['noband'],\n",
              "       ['noband'],\n",
              "       ['noband'],\n",
              "       ['noband'],\n",
              "       ['noband'],\n",
              "       ['noband'],\n",
              "       ['noband'],\n",
              "       ['noband'],\n",
              "       ['band'],\n",
              "       ['noband'],\n",
              "       ['noband'],\n",
              "       ['noband'],\n",
              "       ['noband'],\n",
              "       ['noband'],\n",
              "       ['noband'],\n",
              "       ['noband'],\n",
              "       ['noband'],\n",
              "       ['band'],\n",
              "       ['band'],\n",
              "       ['band'],\n",
              "       ['band'],\n",
              "       ['noband'],\n",
              "       ['noband'],\n",
              "       ['noband'],\n",
              "       ['noband'],\n",
              "       ['noband'],\n",
              "       ['noband'],\n",
              "       ['noband'],\n",
              "       ['noband'],\n",
              "       ['noband'],\n",
              "       ['noband'],\n",
              "       ['band'],\n",
              "       ['band'],\n",
              "       ['band'],\n",
              "       ['band'],\n",
              "       ['band'],\n",
              "       ['noband'],\n",
              "       ['noband'],\n",
              "       ['noband'],\n",
              "       ['noband'],\n",
              "       ['noband'],\n",
              "       ['noband'],\n",
              "       ['noband'],\n",
              "       ['noband'],\n",
              "       ['band'],\n",
              "       ['noband'],\n",
              "       ['band'],\n",
              "       ['band'],\n",
              "       ['band'],\n",
              "       ['band'],\n",
              "       ['noband'],\n",
              "       ['band'],\n",
              "       ['noband'],\n",
              "       ['noband'],\n",
              "       ['noband'],\n",
              "       ['noband'],\n",
              "       ['noband'],\n",
              "       ['noband'],\n",
              "       ['noband'],\n",
              "       ['noband'],\n",
              "       ['band'],\n",
              "       ['band'],\n",
              "       ['band'],\n",
              "       ['noband'],\n",
              "       ['noband'],\n",
              "       ['band'],\n",
              "       ['band'],\n",
              "       ['band'],\n",
              "       ['band'],\n",
              "       ['band'],\n",
              "       ['band'],\n",
              "       ['band'],\n",
              "       ['band'],\n",
              "       ['noband'],\n",
              "       ['noband'],\n",
              "       ['band'],\n",
              "       ['band'],\n",
              "       ['noband'],\n",
              "       ['noband'],\n",
              "       ['noband'],\n",
              "       ['noband'],\n",
              "       ['noband'],\n",
              "       ['noband'],\n",
              "       ['band'],\n",
              "       ['band'],\n",
              "       ['band'],\n",
              "       ['band'],\n",
              "       ['band'],\n",
              "       ['noband'],\n",
              "       ['noband'],\n",
              "       ['noband'],\n",
              "       ['noband'],\n",
              "       ['noband'],\n",
              "       ['band'],\n",
              "       ['band'],\n",
              "       ['band'],\n",
              "       ['band'],\n",
              "       ['noband'],\n",
              "       ['noband'],\n",
              "       ['noband'],\n",
              "       ['noband'],\n",
              "       ['noband'],\n",
              "       ['noband'],\n",
              "       ['noband'],\n",
              "       ['band'],\n",
              "       ['band'],\n",
              "       ['noband'],\n",
              "       ['band'],\n",
              "       ['band'],\n",
              "       ['noband'],\n",
              "       ['noband'],\n",
              "       ['noband'],\n",
              "       ['noband'],\n",
              "       ['noband'],\n",
              "       ['band'],\n",
              "       ['band'],\n",
              "       ['band'],\n",
              "       ['band'],\n",
              "       ['band'],\n",
              "       ['band'],\n",
              "       ['band'],\n",
              "       ['noband'],\n",
              "       ['noband'],\n",
              "       ['noband'],\n",
              "       ['noband'],\n",
              "       ['noband'],\n",
              "       ['band'],\n",
              "       ['band'],\n",
              "       ['band'],\n",
              "       ['noband'],\n",
              "       ['noband'],\n",
              "       ['noband'],\n",
              "       ['noband'],\n",
              "       ['noband'],\n",
              "       ['noband'],\n",
              "       ['noband'],\n",
              "       ['noband'],\n",
              "       ['noband'],\n",
              "       ['band'],\n",
              "       ['band'],\n",
              "       ['band'],\n",
              "       ['noband'],\n",
              "       ['noband'],\n",
              "       ['noband'],\n",
              "       ['noband'],\n",
              "       ['noband'],\n",
              "       ['noband'],\n",
              "       ['noband'],\n",
              "       ['noband'],\n",
              "       ['noband'],\n",
              "       ['noband'],\n",
              "       ['noband'],\n",
              "       ['noband'],\n",
              "       ['noband'],\n",
              "       ['noband'],\n",
              "       ['noband'],\n",
              "       ['noband'],\n",
              "       ['noband'],\n",
              "       ['noband'],\n",
              "       ['noband'],\n",
              "       ['noband'],\n",
              "       ['noband'],\n",
              "       ['noband'],\n",
              "       ['band'],\n",
              "       ['band'],\n",
              "       ['band'],\n",
              "       ['band'],\n",
              "       ['band'],\n",
              "       ['band'],\n",
              "       ['band'],\n",
              "       ['band'],\n",
              "       ['band'],\n",
              "       ['band'],\n",
              "       ['band'],\n",
              "       ['band'],\n",
              "       ['band'],\n",
              "       ['band'],\n",
              "       ['band'],\n",
              "       ['band'],\n",
              "       ['band'],\n",
              "       ['band'],\n",
              "       ['band'],\n",
              "       ['band'],\n",
              "       ['band'],\n",
              "       ['band'],\n",
              "       ['band'],\n",
              "       ['band'],\n",
              "       ['band'],\n",
              "       ['band'],\n",
              "       ['band'],\n",
              "       ['band'],\n",
              "       ['band'],\n",
              "       ['band'],\n",
              "       ['band'],\n",
              "       ['band'],\n",
              "       ['band'],\n",
              "       ['band'],\n",
              "       ['band'],\n",
              "       ['band'],\n",
              "       ['band'],\n",
              "       ['band'],\n",
              "       ['band'],\n",
              "       ['band'],\n",
              "       ['band'],\n",
              "       ['band'],\n",
              "       ['band'],\n",
              "       ['band'],\n",
              "       ['band'],\n",
              "       ['band'],\n",
              "       ['band'],\n",
              "       ['band'],\n",
              "       ['band'],\n",
              "       ['band'],\n",
              "       ['band'],\n",
              "       ['band'],\n",
              "       ['band'],\n",
              "       ['band'],\n",
              "       ['band'],\n",
              "       ['band'],\n",
              "       ['band'],\n",
              "       ['band'],\n",
              "       ['band'],\n",
              "       ['band'],\n",
              "       ['band'],\n",
              "       ['band'],\n",
              "       ['band'],\n",
              "       ['band'],\n",
              "       ['band'],\n",
              "       ['band'],\n",
              "       ['band'],\n",
              "       ['band'],\n",
              "       ['band'],\n",
              "       ['band'],\n",
              "       ['band'],\n",
              "       ['band'],\n",
              "       ['band'],\n",
              "       ['band'],\n",
              "       ['band'],\n",
              "       ['band'],\n",
              "       ['band'],\n",
              "       ['band'],\n",
              "       ['band'],\n",
              "       ['band'],\n",
              "       ['band'],\n",
              "       ['band'],\n",
              "       ['band'],\n",
              "       ['band'],\n",
              "       ['band']], dtype=object)"
            ]
          },
          "metadata": {},
          "execution_count": 46
        }
      ]
    },
    {
      "cell_type": "code",
      "source": [
        "cylinder['band type'].shape"
      ],
      "metadata": {
        "colab": {
          "base_uri": "https://localhost:8080/"
        },
        "id": "4tgd0U3ukYbQ",
        "outputId": "e7b4c748-e3f4-4ec0-898e-e2c1bdd64814"
      },
      "execution_count": null,
      "outputs": [
        {
          "output_type": "execute_result",
          "data": {
            "text/plain": [
              "(539,)"
            ]
          },
          "metadata": {},
          "execution_count": 47
        }
      ]
    },
    {
      "cell_type": "code",
      "source": [
        "# Concatenate the original data with the encoded data\n",
        "original_data = pd.concat([cylinder, data], axis=1)"
      ],
      "metadata": {
        "id": "RYQ6IiJcke1r"
      },
      "execution_count": null,
      "outputs": []
    },
    {
      "cell_type": "code",
      "source": [
        "original_data"
      ],
      "metadata": {
        "colab": {
          "base_uri": "https://localhost:8080/",
          "height": 539
        },
        "id": "lYstgyMpkj5W",
        "outputId": "660f4a59-3484-4f03-c0cc-34b25ae21513"
      },
      "execution_count": null,
      "outputs": [
        {
          "output_type": "execute_result",
          "data": {
            "text/plain": [
              "    timestamp cylinder number customer job number grain screened ink color  \\\n",
              "0    19910108            X126  TVGUIDE      25503            YES       KEY   \n",
              "1    19910109            X266  TVGUIDE      25503            YES       KEY   \n",
              "2    19910104              B7   MODMAT      47201            YES       KEY   \n",
              "3    19910104            T133   MASSEY      39039            YES       KEY   \n",
              "4    19910111             J34    KMART      37351             NO       KEY   \n",
              "..        ...             ...      ...        ...            ...       ...   \n",
              "538  19941009            aa58    kmart      85814              ?       key   \n",
              "539  19941010            aa70    kmart      85814              ?       key   \n",
              "540  19941010             j70     best      38064              ?       key   \n",
              "521       NaN             NaN      NaN        NaN            NaN       NaN   \n",
              "522       NaN             NaN      NaN        NaN            NaN       NaN   \n",
              "\n",
              "    proof on ctd ink blade mfg cylinder division paper type  ... ESA Amperage  \\\n",
              "0                YES    BENTON          GALLATIN   UNCOATED  ...            0   \n",
              "1                YES    BENTON          GALLATIN   UNCOATED  ...            0   \n",
              "2                YES    BENTON          GALLATIN   UNCOATED  ...            0   \n",
              "3                YES    BENTON          GALLATIN   UNCOATED  ...            0   \n",
              "4                YES    BENTON          GALLATIN   UNCOATED  ...            0   \n",
              "..               ...       ...               ...        ...  ...          ...   \n",
              "538                ?         ?          gallatin      super  ...            ?   \n",
              "539                ?         ?          gallatin      super  ...            ?   \n",
              "540                ?         ?          gallatin      super  ...            ?   \n",
              "521              NaN       NaN               NaN        NaN  ...          NaN   \n",
              "522              NaN       NaN               NaN        NaN  ...          NaN   \n",
              "\n",
              "     wax hardener roller durometer current density anode space ratio  \\\n",
              "0    2.5        1               34              40               105   \n",
              "1    2.5      0.7               34              40               105   \n",
              "2    2.8      0.9               40              40            103.87   \n",
              "3    2.5      1.3               40              40            108.06   \n",
              "4    2.3      0.6               35              40            106.67   \n",
              "..   ...      ...              ...             ...               ...   \n",
              "538  2.7      2.8                ?              40               108   \n",
              "539  1.5      2.3                ?              40               108   \n",
              "540  2.5        1                ?              40             108.1   \n",
              "521  NaN      NaN              NaN             NaN               NaN   \n",
              "522  NaN      NaN              NaN             NaN               NaN   \n",
              "\n",
              "     chrome content band type band noband  \n",
              "0               100      band  1.0    0.0  \n",
              "1               100    noband  0.0    1.0  \n",
              "2               100    noband  0.0    1.0  \n",
              "3               100    noband  0.0    1.0  \n",
              "4               100    noband  0.0    1.0  \n",
              "..              ...       ...  ...    ...  \n",
              "538             100      band  1.0    0.0  \n",
              "539             100      band  NaN    NaN  \n",
              "540             100      band  NaN    NaN  \n",
              "521             NaN       NaN  1.0    0.0  \n",
              "522             NaN       NaN  1.0    0.0  \n",
              "\n",
              "[541 rows x 42 columns]"
            ],
            "text/html": [
              "\n",
              "  <div id=\"df-02aa67e1-1c1b-4740-8b1c-fdf90904005a\">\n",
              "    <div class=\"colab-df-container\">\n",
              "      <div>\n",
              "<style scoped>\n",
              "    .dataframe tbody tr th:only-of-type {\n",
              "        vertical-align: middle;\n",
              "    }\n",
              "\n",
              "    .dataframe tbody tr th {\n",
              "        vertical-align: top;\n",
              "    }\n",
              "\n",
              "    .dataframe thead th {\n",
              "        text-align: right;\n",
              "    }\n",
              "</style>\n",
              "<table border=\"1\" class=\"dataframe\">\n",
              "  <thead>\n",
              "    <tr style=\"text-align: right;\">\n",
              "      <th></th>\n",
              "      <th>timestamp</th>\n",
              "      <th>cylinder number</th>\n",
              "      <th>customer</th>\n",
              "      <th>job number</th>\n",
              "      <th>grain screened</th>\n",
              "      <th>ink color</th>\n",
              "      <th>proof on ctd ink</th>\n",
              "      <th>blade mfg</th>\n",
              "      <th>cylinder division</th>\n",
              "      <th>paper type</th>\n",
              "      <th>...</th>\n",
              "      <th>ESA Amperage</th>\n",
              "      <th>wax</th>\n",
              "      <th>hardener</th>\n",
              "      <th>roller durometer</th>\n",
              "      <th>current density</th>\n",
              "      <th>anode space ratio</th>\n",
              "      <th>chrome content</th>\n",
              "      <th>band type</th>\n",
              "      <th>band</th>\n",
              "      <th>noband</th>\n",
              "    </tr>\n",
              "  </thead>\n",
              "  <tbody>\n",
              "    <tr>\n",
              "      <th>0</th>\n",
              "      <td>19910108</td>\n",
              "      <td>X126</td>\n",
              "      <td>TVGUIDE</td>\n",
              "      <td>25503</td>\n",
              "      <td>YES</td>\n",
              "      <td>KEY</td>\n",
              "      <td>YES</td>\n",
              "      <td>BENTON</td>\n",
              "      <td>GALLATIN</td>\n",
              "      <td>UNCOATED</td>\n",
              "      <td>...</td>\n",
              "      <td>0</td>\n",
              "      <td>2.5</td>\n",
              "      <td>1</td>\n",
              "      <td>34</td>\n",
              "      <td>40</td>\n",
              "      <td>105</td>\n",
              "      <td>100</td>\n",
              "      <td>band</td>\n",
              "      <td>1.0</td>\n",
              "      <td>0.0</td>\n",
              "    </tr>\n",
              "    <tr>\n",
              "      <th>1</th>\n",
              "      <td>19910109</td>\n",
              "      <td>X266</td>\n",
              "      <td>TVGUIDE</td>\n",
              "      <td>25503</td>\n",
              "      <td>YES</td>\n",
              "      <td>KEY</td>\n",
              "      <td>YES</td>\n",
              "      <td>BENTON</td>\n",
              "      <td>GALLATIN</td>\n",
              "      <td>UNCOATED</td>\n",
              "      <td>...</td>\n",
              "      <td>0</td>\n",
              "      <td>2.5</td>\n",
              "      <td>0.7</td>\n",
              "      <td>34</td>\n",
              "      <td>40</td>\n",
              "      <td>105</td>\n",
              "      <td>100</td>\n",
              "      <td>noband</td>\n",
              "      <td>0.0</td>\n",
              "      <td>1.0</td>\n",
              "    </tr>\n",
              "    <tr>\n",
              "      <th>2</th>\n",
              "      <td>19910104</td>\n",
              "      <td>B7</td>\n",
              "      <td>MODMAT</td>\n",
              "      <td>47201</td>\n",
              "      <td>YES</td>\n",
              "      <td>KEY</td>\n",
              "      <td>YES</td>\n",
              "      <td>BENTON</td>\n",
              "      <td>GALLATIN</td>\n",
              "      <td>UNCOATED</td>\n",
              "      <td>...</td>\n",
              "      <td>0</td>\n",
              "      <td>2.8</td>\n",
              "      <td>0.9</td>\n",
              "      <td>40</td>\n",
              "      <td>40</td>\n",
              "      <td>103.87</td>\n",
              "      <td>100</td>\n",
              "      <td>noband</td>\n",
              "      <td>0.0</td>\n",
              "      <td>1.0</td>\n",
              "    </tr>\n",
              "    <tr>\n",
              "      <th>3</th>\n",
              "      <td>19910104</td>\n",
              "      <td>T133</td>\n",
              "      <td>MASSEY</td>\n",
              "      <td>39039</td>\n",
              "      <td>YES</td>\n",
              "      <td>KEY</td>\n",
              "      <td>YES</td>\n",
              "      <td>BENTON</td>\n",
              "      <td>GALLATIN</td>\n",
              "      <td>UNCOATED</td>\n",
              "      <td>...</td>\n",
              "      <td>0</td>\n",
              "      <td>2.5</td>\n",
              "      <td>1.3</td>\n",
              "      <td>40</td>\n",
              "      <td>40</td>\n",
              "      <td>108.06</td>\n",
              "      <td>100</td>\n",
              "      <td>noband</td>\n",
              "      <td>0.0</td>\n",
              "      <td>1.0</td>\n",
              "    </tr>\n",
              "    <tr>\n",
              "      <th>4</th>\n",
              "      <td>19910111</td>\n",
              "      <td>J34</td>\n",
              "      <td>KMART</td>\n",
              "      <td>37351</td>\n",
              "      <td>NO</td>\n",
              "      <td>KEY</td>\n",
              "      <td>YES</td>\n",
              "      <td>BENTON</td>\n",
              "      <td>GALLATIN</td>\n",
              "      <td>UNCOATED</td>\n",
              "      <td>...</td>\n",
              "      <td>0</td>\n",
              "      <td>2.3</td>\n",
              "      <td>0.6</td>\n",
              "      <td>35</td>\n",
              "      <td>40</td>\n",
              "      <td>106.67</td>\n",
              "      <td>100</td>\n",
              "      <td>noband</td>\n",
              "      <td>0.0</td>\n",
              "      <td>1.0</td>\n",
              "    </tr>\n",
              "    <tr>\n",
              "      <th>...</th>\n",
              "      <td>...</td>\n",
              "      <td>...</td>\n",
              "      <td>...</td>\n",
              "      <td>...</td>\n",
              "      <td>...</td>\n",
              "      <td>...</td>\n",
              "      <td>...</td>\n",
              "      <td>...</td>\n",
              "      <td>...</td>\n",
              "      <td>...</td>\n",
              "      <td>...</td>\n",
              "      <td>...</td>\n",
              "      <td>...</td>\n",
              "      <td>...</td>\n",
              "      <td>...</td>\n",
              "      <td>...</td>\n",
              "      <td>...</td>\n",
              "      <td>...</td>\n",
              "      <td>...</td>\n",
              "      <td>...</td>\n",
              "      <td>...</td>\n",
              "    </tr>\n",
              "    <tr>\n",
              "      <th>538</th>\n",
              "      <td>19941009</td>\n",
              "      <td>aa58</td>\n",
              "      <td>kmart</td>\n",
              "      <td>85814</td>\n",
              "      <td>?</td>\n",
              "      <td>key</td>\n",
              "      <td>?</td>\n",
              "      <td>?</td>\n",
              "      <td>gallatin</td>\n",
              "      <td>super</td>\n",
              "      <td>...</td>\n",
              "      <td>?</td>\n",
              "      <td>2.7</td>\n",
              "      <td>2.8</td>\n",
              "      <td>?</td>\n",
              "      <td>40</td>\n",
              "      <td>108</td>\n",
              "      <td>100</td>\n",
              "      <td>band</td>\n",
              "      <td>1.0</td>\n",
              "      <td>0.0</td>\n",
              "    </tr>\n",
              "    <tr>\n",
              "      <th>539</th>\n",
              "      <td>19941010</td>\n",
              "      <td>aa70</td>\n",
              "      <td>kmart</td>\n",
              "      <td>85814</td>\n",
              "      <td>?</td>\n",
              "      <td>key</td>\n",
              "      <td>?</td>\n",
              "      <td>?</td>\n",
              "      <td>gallatin</td>\n",
              "      <td>super</td>\n",
              "      <td>...</td>\n",
              "      <td>?</td>\n",
              "      <td>1.5</td>\n",
              "      <td>2.3</td>\n",
              "      <td>?</td>\n",
              "      <td>40</td>\n",
              "      <td>108</td>\n",
              "      <td>100</td>\n",
              "      <td>band</td>\n",
              "      <td>NaN</td>\n",
              "      <td>NaN</td>\n",
              "    </tr>\n",
              "    <tr>\n",
              "      <th>540</th>\n",
              "      <td>19941010</td>\n",
              "      <td>j70</td>\n",
              "      <td>best</td>\n",
              "      <td>38064</td>\n",
              "      <td>?</td>\n",
              "      <td>key</td>\n",
              "      <td>?</td>\n",
              "      <td>?</td>\n",
              "      <td>gallatin</td>\n",
              "      <td>super</td>\n",
              "      <td>...</td>\n",
              "      <td>?</td>\n",
              "      <td>2.5</td>\n",
              "      <td>1</td>\n",
              "      <td>?</td>\n",
              "      <td>40</td>\n",
              "      <td>108.1</td>\n",
              "      <td>100</td>\n",
              "      <td>band</td>\n",
              "      <td>NaN</td>\n",
              "      <td>NaN</td>\n",
              "    </tr>\n",
              "    <tr>\n",
              "      <th>521</th>\n",
              "      <td>NaN</td>\n",
              "      <td>NaN</td>\n",
              "      <td>NaN</td>\n",
              "      <td>NaN</td>\n",
              "      <td>NaN</td>\n",
              "      <td>NaN</td>\n",
              "      <td>NaN</td>\n",
              "      <td>NaN</td>\n",
              "      <td>NaN</td>\n",
              "      <td>NaN</td>\n",
              "      <td>...</td>\n",
              "      <td>NaN</td>\n",
              "      <td>NaN</td>\n",
              "      <td>NaN</td>\n",
              "      <td>NaN</td>\n",
              "      <td>NaN</td>\n",
              "      <td>NaN</td>\n",
              "      <td>NaN</td>\n",
              "      <td>NaN</td>\n",
              "      <td>1.0</td>\n",
              "      <td>0.0</td>\n",
              "    </tr>\n",
              "    <tr>\n",
              "      <th>522</th>\n",
              "      <td>NaN</td>\n",
              "      <td>NaN</td>\n",
              "      <td>NaN</td>\n",
              "      <td>NaN</td>\n",
              "      <td>NaN</td>\n",
              "      <td>NaN</td>\n",
              "      <td>NaN</td>\n",
              "      <td>NaN</td>\n",
              "      <td>NaN</td>\n",
              "      <td>NaN</td>\n",
              "      <td>...</td>\n",
              "      <td>NaN</td>\n",
              "      <td>NaN</td>\n",
              "      <td>NaN</td>\n",
              "      <td>NaN</td>\n",
              "      <td>NaN</td>\n",
              "      <td>NaN</td>\n",
              "      <td>NaN</td>\n",
              "      <td>NaN</td>\n",
              "      <td>1.0</td>\n",
              "      <td>0.0</td>\n",
              "    </tr>\n",
              "  </tbody>\n",
              "</table>\n",
              "<p>541 rows × 42 columns</p>\n",
              "</div>\n",
              "      <button class=\"colab-df-convert\" onclick=\"convertToInteractive('df-02aa67e1-1c1b-4740-8b1c-fdf90904005a')\"\n",
              "              title=\"Convert this dataframe to an interactive table.\"\n",
              "              style=\"display:none;\">\n",
              "        \n",
              "  <svg xmlns=\"http://www.w3.org/2000/svg\" height=\"24px\"viewBox=\"0 0 24 24\"\n",
              "       width=\"24px\">\n",
              "    <path d=\"M0 0h24v24H0V0z\" fill=\"none\"/>\n",
              "    <path d=\"M18.56 5.44l.94 2.06.94-2.06 2.06-.94-2.06-.94-.94-2.06-.94 2.06-2.06.94zm-11 1L8.5 8.5l.94-2.06 2.06-.94-2.06-.94L8.5 2.5l-.94 2.06-2.06.94zm10 10l.94 2.06.94-2.06 2.06-.94-2.06-.94-.94-2.06-.94 2.06-2.06.94z\"/><path d=\"M17.41 7.96l-1.37-1.37c-.4-.4-.92-.59-1.43-.59-.52 0-1.04.2-1.43.59L10.3 9.45l-7.72 7.72c-.78.78-.78 2.05 0 2.83L4 21.41c.39.39.9.59 1.41.59.51 0 1.02-.2 1.41-.59l7.78-7.78 2.81-2.81c.8-.78.8-2.07 0-2.86zM5.41 20L4 18.59l7.72-7.72 1.47 1.35L5.41 20z\"/>\n",
              "  </svg>\n",
              "      </button>\n",
              "      \n",
              "  <style>\n",
              "    .colab-df-container {\n",
              "      display:flex;\n",
              "      flex-wrap:wrap;\n",
              "      gap: 12px;\n",
              "    }\n",
              "\n",
              "    .colab-df-convert {\n",
              "      background-color: #E8F0FE;\n",
              "      border: none;\n",
              "      border-radius: 50%;\n",
              "      cursor: pointer;\n",
              "      display: none;\n",
              "      fill: #1967D2;\n",
              "      height: 32px;\n",
              "      padding: 0 0 0 0;\n",
              "      width: 32px;\n",
              "    }\n",
              "\n",
              "    .colab-df-convert:hover {\n",
              "      background-color: #E2EBFA;\n",
              "      box-shadow: 0px 1px 2px rgba(60, 64, 67, 0.3), 0px 1px 3px 1px rgba(60, 64, 67, 0.15);\n",
              "      fill: #174EA6;\n",
              "    }\n",
              "\n",
              "    [theme=dark] .colab-df-convert {\n",
              "      background-color: #3B4455;\n",
              "      fill: #D2E3FC;\n",
              "    }\n",
              "\n",
              "    [theme=dark] .colab-df-convert:hover {\n",
              "      background-color: #434B5C;\n",
              "      box-shadow: 0px 1px 3px 1px rgba(0, 0, 0, 0.15);\n",
              "      filter: drop-shadow(0px 1px 2px rgba(0, 0, 0, 0.3));\n",
              "      fill: #FFFFFF;\n",
              "    }\n",
              "  </style>\n",
              "\n",
              "      <script>\n",
              "        const buttonEl =\n",
              "          document.querySelector('#df-02aa67e1-1c1b-4740-8b1c-fdf90904005a button.colab-df-convert');\n",
              "        buttonEl.style.display =\n",
              "          google.colab.kernel.accessAllowed ? 'block' : 'none';\n",
              "\n",
              "        async function convertToInteractive(key) {\n",
              "          const element = document.querySelector('#df-02aa67e1-1c1b-4740-8b1c-fdf90904005a');\n",
              "          const dataTable =\n",
              "            await google.colab.kernel.invokeFunction('convertToInteractive',\n",
              "                                                     [key], {});\n",
              "          if (!dataTable) return;\n",
              "\n",
              "          const docLinkHtml = 'Like what you see? Visit the ' +\n",
              "            '<a target=\"_blank\" href=https://colab.research.google.com/notebooks/data_table.ipynb>data table notebook</a>'\n",
              "            + ' to learn more about interactive tables.';\n",
              "          element.innerHTML = '';\n",
              "          dataTable['output_type'] = 'display_data';\n",
              "          await google.colab.output.renderOutput(dataTable, element);\n",
              "          const docLink = document.createElement('div');\n",
              "          docLink.innerHTML = docLinkHtml;\n",
              "          element.appendChild(docLink);\n",
              "        }\n",
              "      </script>\n",
              "    </div>\n",
              "  </div>\n",
              "  "
            ]
          },
          "metadata": {},
          "execution_count": 49
        }
      ]
    },
    {
      "cell_type": "code",
      "source": [
        "data.values.reshape(-1,1)"
      ],
      "metadata": {
        "colab": {
          "base_uri": "https://localhost:8080/"
        },
        "id": "UWsZHQo3o9jM",
        "outputId": "aaf1f850-f40d-48c8-f566-1ee2cf7ca70d"
      },
      "execution_count": null,
      "outputs": [
        {
          "output_type": "execute_result",
          "data": {
            "text/plain": [
              "array([[1],\n",
              "       [0],\n",
              "       [0],\n",
              "       ...,\n",
              "       [0],\n",
              "       [1],\n",
              "       [0]])"
            ]
          },
          "metadata": {},
          "execution_count": 44
        }
      ]
    },
    {
      "cell_type": "code",
      "source": [
        "data.shape"
      ],
      "metadata": {
        "colab": {
          "base_uri": "https://localhost:8080/"
        },
        "id": "5ksPjs13jvnE",
        "outputId": "3c899532-e61a-44b0-878e-ea0d4cde0be5"
      },
      "execution_count": null,
      "outputs": [
        {
          "output_type": "execute_result",
          "data": {
            "text/plain": [
              "(539, 2)"
            ]
          },
          "metadata": {},
          "execution_count": 45
        }
      ]
    },
    {
      "cell_type": "code",
      "source": [],
      "metadata": {
        "id": "sxkP6SFQhziK"
      },
      "execution_count": null,
      "outputs": []
    },
    {
      "cell_type": "code",
      "source": [],
      "metadata": {
        "id": "jFiMUYfShzfF"
      },
      "execution_count": null,
      "outputs": []
    },
    {
      "cell_type": "code",
      "source": [],
      "metadata": {
        "id": "DfCKuiyEhzbz"
      },
      "execution_count": null,
      "outputs": []
    },
    {
      "cell_type": "code",
      "source": [],
      "metadata": {
        "id": "B5DliqIphzYj"
      },
      "execution_count": null,
      "outputs": []
    },
    {
      "cell_type": "code",
      "source": [],
      "metadata": {
        "id": "W9loqHX4hzVw"
      },
      "execution_count": null,
      "outputs": []
    }
  ]
}