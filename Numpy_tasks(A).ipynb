{
  "cells": [
    {
      "cell_type": "markdown",
      "metadata": {
        "id": "view-in-github",
        "colab_type": "text"
      },
      "source": [
        "<a href=\"https://colab.research.google.com/github/PuttupuR/My-Project/blob/main/Numpy_tasks(A).ipynb\" target=\"_parent\"><img src=\"https://colab.research.google.com/assets/colab-badge.svg\" alt=\"Open In Colab\"/></a>"
      ]
    },
    {
      "cell_type": "markdown",
      "metadata": {
        "id": "WSks2JA2LVk7"
      },
      "source": [
        "# Numpy\n",
        "\n"
      ]
    },
    {
      "cell_type": "markdown",
      "metadata": {
        "id": "kDMklVQdLVk_"
      },
      "source": [
        "#### 1. Import the numpy package under the name `np` (★☆☆) \n",
        "(**hint**: import … as …)"
      ]
    },
    {
      "cell_type": "code",
      "execution_count": 2,
      "metadata": {
        "collapsed": true,
        "id": "tpZOuI8NLVk_"
      },
      "outputs": [],
      "source": [
        "import numpy as np"
      ]
    },
    {
      "cell_type": "markdown",
      "metadata": {
        "id": "N_aXSG35LVlA"
      },
      "source": [
        "#### 2. Print the numpy version and the configuration (★☆☆) \n",
        "(**hint**: np.\\_\\_version\\_\\_, np.show\\_config)"
      ]
    },
    {
      "cell_type": "code",
      "execution_count": null,
      "metadata": {
        "id": "xi2RV5PQLVlA",
        "colab": {
          "base_uri": "https://localhost:8080/"
        },
        "outputId": "0b7b0396-0f16-4600-a117-48319e3f5749"
      },
      "outputs": [
        {
          "output_type": "execute_result",
          "data": {
            "text/plain": [
              "<function numpy.__config__.show()>"
            ]
          },
          "metadata": {},
          "execution_count": 5
        }
      ],
      "source": [
        "np.__version__\n",
        "np.show_config"
      ]
    },
    {
      "cell_type": "markdown",
      "metadata": {
        "id": "nkAnAsx6LVlB"
      },
      "source": [
        "#### 3. Create a null vector of size 10 (★☆☆) \n",
        "(**hint**: np.zeros)"
      ]
    },
    {
      "cell_type": "code",
      "execution_count": null,
      "metadata": {
        "id": "_LIGNcO0LVlB",
        "colab": {
          "base_uri": "https://localhost:8080/"
        },
        "outputId": "4a4d1e1c-c385-4944-a991-3cf6e80ea908"
      },
      "outputs": [
        {
          "output_type": "execute_result",
          "data": {
            "text/plain": [
              "array([0., 0., 0., 0., 0., 0., 0., 0., 0., 0.])"
            ]
          },
          "metadata": {},
          "execution_count": 8
        }
      ],
      "source": [
        "import numpy as np\n",
        "np.zeros(10)"
      ]
    },
    {
      "cell_type": "markdown",
      "metadata": {
        "id": "HrTwmrF-LVlC"
      },
      "source": [
        "#### 4.  How to find the memory size of any array (★☆☆) \n",
        "(**hint**: size, itemsize)"
      ]
    },
    {
      "cell_type": "code",
      "execution_count": null,
      "metadata": {
        "id": "_rrWoqyxLVlC"
      },
      "outputs": [],
      "source": [
        "import numpy as np\n",
        "x=np.array([10,20,30])\n",
        "print(x.size)\n",
        "print(x.itemsize)         "
      ]
    },
    {
      "cell_type": "markdown",
      "metadata": {
        "id": "3fnMSJllLVlD"
      },
      "source": [
        "#### 5.  How to get the documentation of the numpy add function from the command line? (★☆☆) \n",
        "(**hint**: np.info)"
      ]
    },
    {
      "cell_type": "code",
      "execution_count": null,
      "metadata": {
        "collapsed": true,
        "id": "FMz46SBtLVlD",
        "colab": {
          "base_uri": "https://localhost:8080/"
        },
        "outputId": "6f846f07-a2ba-45e7-e146-8db5cb3c4453"
      },
      "outputs": [
        {
          "output_type": "stream",
          "name": "stdout",
          "text": [
            "add(x1, x2, /, out=None, *, where=True, casting='same_kind', order='K', dtype=None, subok=True[, signature, extobj])\n",
            "\n",
            "Add arguments element-wise.\n",
            "\n",
            "Parameters\n",
            "----------\n",
            "x1, x2 : array_like\n",
            "    The arrays to be added.\n",
            "    If ``x1.shape != x2.shape``, they must be broadcastable to a common\n",
            "    shape (which becomes the shape of the output).\n",
            "out : ndarray, None, or tuple of ndarray and None, optional\n",
            "    A location into which the result is stored. If provided, it must have\n",
            "    a shape that the inputs broadcast to. If not provided or None,\n",
            "    a freshly-allocated array is returned. A tuple (possible only as a\n",
            "    keyword argument) must have length equal to the number of outputs.\n",
            "where : array_like, optional\n",
            "    This condition is broadcast over the input. At locations where the\n",
            "    condition is True, the `out` array will be set to the ufunc result.\n",
            "    Elsewhere, the `out` array will retain its original value.\n",
            "    Note that if an uninitialized `out` array is created via the default\n",
            "    ``out=None``, locations within it where the condition is False will\n",
            "    remain uninitialized.\n",
            "**kwargs\n",
            "    For other keyword-only arguments, see the\n",
            "    :ref:`ufunc docs <ufuncs.kwargs>`.\n",
            "\n",
            "Returns\n",
            "-------\n",
            "add : ndarray or scalar\n",
            "    The sum of `x1` and `x2`, element-wise.\n",
            "    This is a scalar if both `x1` and `x2` are scalars.\n",
            "\n",
            "Notes\n",
            "-----\n",
            "Equivalent to `x1` + `x2` in terms of array broadcasting.\n",
            "\n",
            "Examples\n",
            "--------\n",
            ">>> np.add(1.0, 4.0)\n",
            "5.0\n",
            ">>> x1 = np.arange(9.0).reshape((3, 3))\n",
            ">>> x2 = np.arange(3.0)\n",
            ">>> np.add(x1, x2)\n",
            "array([[  0.,   2.,   4.],\n",
            "       [  3.,   5.,   7.],\n",
            "       [  6.,   8.,  10.]])\n",
            "\n",
            "The ``+`` operator can be used as a shorthand for ``np.add`` on ndarrays.\n",
            "\n",
            ">>> x1 = np.arange(9.0).reshape((3, 3))\n",
            ">>> x2 = np.arange(3.0)\n",
            ">>> x1 + x2\n",
            "array([[ 0.,  2.,  4.],\n",
            "       [ 3.,  5.,  7.],\n",
            "       [ 6.,  8., 10.]])\n"
          ]
        }
      ],
      "source": [
        "np.info(np.add)"
      ]
    },
    {
      "cell_type": "markdown",
      "metadata": {
        "id": "eMb_fI6eLVlD"
      },
      "source": [
        "#### 6.  Create a null vector of size 10 but the fifth value which is 1 (★☆☆) \n",
        "(**hint**: array\\[4\\])"
      ]
    },
    {
      "cell_type": "code",
      "execution_count": null,
      "metadata": {
        "id": "wmXeoheLLVlE"
      },
      "outputs": [],
      "source": [
        "x=np.zeros(10)\n",
        "x[4]=1\n"
      ]
    },
    {
      "cell_type": "markdown",
      "metadata": {
        "id": "xDRiBm-hLVlE"
      },
      "source": [
        "#### 7.  Create a vector with values ranging from 10 to 49 (★☆☆) \n",
        "(**hint**: np.arange)"
      ]
    },
    {
      "cell_type": "code",
      "execution_count": null,
      "metadata": {
        "id": "Sm44R-_JLVlE",
        "colab": {
          "base_uri": "https://localhost:8080/"
        },
        "outputId": "bf4f1eb1-305c-4372-9ac4-c1a91c37d383"
      },
      "outputs": [
        {
          "output_type": "execute_result",
          "data": {
            "text/plain": [
              "array([10, 11, 12, 13, 14, 15, 16, 17, 18, 19, 20, 21, 22, 23, 24, 25, 26,\n",
              "       27, 28, 29, 30, 31, 32, 33, 34, 35, 36, 37, 38, 39, 40, 41, 42, 43,\n",
              "       44, 45, 46, 47, 48])"
            ]
          },
          "metadata": {},
          "execution_count": 6
        }
      ],
      "source": [
        "x=np.arange(10,49)\n",
        "x"
      ]
    },
    {
      "cell_type": "markdown",
      "metadata": {
        "id": "HvhSWFPOLVlF"
      },
      "source": [
        "#### 8.  Reverse a vector (first element becomes last) (★☆☆) \n",
        "(**hint**: array\\[::-1\\])"
      ]
    },
    {
      "cell_type": "code",
      "execution_count": null,
      "metadata": {
        "id": "lWBMbx-XLVlF",
        "colab": {
          "base_uri": "https://localhost:8080/"
        },
        "outputId": "2878f6a9-11e5-481d-ea68-0cd06a363eec"
      },
      "outputs": [
        {
          "output_type": "execute_result",
          "data": {
            "text/plain": [
              "array([48, 47, 46, 45, 44, 43, 42, 41, 40, 39, 38, 37, 36, 35, 34, 33, 32,\n",
              "       31, 30, 29, 28, 27, 26, 25, 24, 23, 22, 21, 20, 19, 18, 17, 16, 15,\n",
              "       14, 13, 12, 11, 10])"
            ]
          },
          "metadata": {},
          "execution_count": 7
        }
      ],
      "source": [
        "x[::-1]"
      ]
    },
    {
      "cell_type": "markdown",
      "metadata": {
        "id": "SpbtPl3GLVlF"
      },
      "source": [
        "#### 9.  Create a 3x3 matrix with values ranging from 0 to 8 (★☆☆) \n",
        "(**hint**: reshape)"
      ]
    },
    {
      "cell_type": "code",
      "execution_count": null,
      "metadata": {
        "id": "4gfK8kyNLVlF",
        "colab": {
          "base_uri": "https://localhost:8080/"
        },
        "outputId": "7fe10864-e254-4b73-ae7a-bf2a3f30d080"
      },
      "outputs": [
        {
          "output_type": "execute_result",
          "data": {
            "text/plain": [
              "array([[0, 1, 2],\n",
              "       [3, 4, 5],\n",
              "       [6, 7, 8]])"
            ]
          },
          "metadata": {},
          "execution_count": 10
        }
      ],
      "source": [
        "x=np.arange(0,9).reshape(3,3)\n",
        "x"
      ]
    },
    {
      "cell_type": "markdown",
      "metadata": {
        "id": "JU8VoaKBLVlF"
      },
      "source": [
        "#### 10. Find indices of non-zero elements from \\[1,2,0,0,4,0\\] (★☆☆) \n",
        "(**hint**: np.nonzero)"
      ]
    },
    {
      "cell_type": "code",
      "execution_count": null,
      "metadata": {
        "id": "tyOZwWHLLVlG",
        "colab": {
          "base_uri": "https://localhost:8080/"
        },
        "outputId": "e2e75095-4c4d-437d-c988-2c999e9c5194"
      },
      "outputs": [
        {
          "output_type": "execute_result",
          "data": {
            "text/plain": [
              "(array([0, 1, 4]),)"
            ]
          },
          "metadata": {},
          "execution_count": 11
        }
      ],
      "source": [
        "x=np.array([1,2,0,0,4,0])\n",
        "x=np.nonzero(x)\n",
        "x"
      ]
    },
    {
      "cell_type": "markdown",
      "metadata": {
        "id": "f7RZtR6BLVlG"
      },
      "source": [
        "#### 11. Create a 3x3 identity matrix (★☆☆) \n",
        "(**hint**: np.eye)"
      ]
    },
    {
      "cell_type": "code",
      "execution_count": null,
      "metadata": {
        "id": "rwnpFdhwLVlG",
        "colab": {
          "base_uri": "https://localhost:8080/"
        },
        "outputId": "45a84bec-9e5b-4e05-da89-a515d7cf8099"
      },
      "outputs": [
        {
          "output_type": "execute_result",
          "data": {
            "text/plain": [
              "array([[1., 0., 0.],\n",
              "       [0., 1., 0.],\n",
              "       [0., 0., 1.]])"
            ]
          },
          "metadata": {},
          "execution_count": 12
        }
      ],
      "source": [
        "x=np.eye(3,3)\n",
        "x"
      ]
    },
    {
      "cell_type": "markdown",
      "metadata": {
        "id": "uszuMaA5LVlG"
      },
      "source": [
        "#### 12. Create a 3x3x3 array with random values (★☆☆) \n",
        "(**hint**: np.random.random)"
      ]
    },
    {
      "cell_type": "code",
      "execution_count": null,
      "metadata": {
        "collapsed": true,
        "id": "3n_RYaoNLVlH"
      },
      "outputs": [],
      "source": [
        "x=np.random.random((3,3,3))\n",
        "x"
      ]
    },
    {
      "cell_type": "markdown",
      "metadata": {
        "id": "xkUWmOWuLVlH"
      },
      "source": [
        "#### 13. Create a 10x10 array with random values and find the minimum and maximum values (★☆☆) \n",
        "(**hint**: min, max)"
      ]
    },
    {
      "cell_type": "code",
      "execution_count": null,
      "metadata": {
        "id": "rlk3anPVLVlH",
        "colab": {
          "base_uri": "https://localhost:8080/"
        },
        "outputId": "a68b010a-7151-407b-83d6-d90236514162"
      },
      "outputs": [
        {
          "output_type": "stream",
          "name": "stdout",
          "text": [
            "0.01939124955915994\n",
            "0.9884154274906873\n"
          ]
        }
      ],
      "source": [
        "x=np.random.random((10,10))\n",
        "print(x.min())\n",
        "print(x.max())"
      ]
    },
    {
      "cell_type": "markdown",
      "metadata": {
        "id": "munDdM1gLVlH"
      },
      "source": [
        "#### 14. Create a random vector of size 30 and find the mean value (★☆☆) \n",
        "(**hint**: mean)"
      ]
    },
    {
      "cell_type": "code",
      "execution_count": null,
      "metadata": {
        "id": "tt-HzmYVLVlH",
        "colab": {
          "base_uri": "https://localhost:8080/"
        },
        "outputId": "01cd6df5-79aa-4cfd-fd9c-04a77ed9b4f3"
      },
      "outputs": [
        {
          "output_type": "execute_result",
          "data": {
            "text/plain": [
              "14.5"
            ]
          },
          "metadata": {},
          "execution_count": 23
        }
      ],
      "source": [
        "x=np.arange(30)\n",
        "x.mean()"
      ]
    },
    {
      "cell_type": "markdown",
      "metadata": {
        "id": "BUe3s-QbLVlH"
      },
      "source": [
        "#### 15. Create a 2d array with 1 on the border and 0 inside (★☆☆) \n",
        "(**hint**: array\\[1:-1, 1:-1\\])"
      ]
    },
    {
      "cell_type": "code",
      "source": [
        "import numpy as np\n",
        "x = np.ones((5,5))\n",
        "x[1:-1,1:-1]=0\n",
        "x"
      ],
      "metadata": {
        "colab": {
          "base_uri": "https://localhost:8080/"
        },
        "id": "36VaSC2M0wUX",
        "outputId": "bc3c9f8c-fefd-46c0-c487-89d2f48e2302"
      },
      "execution_count": null,
      "outputs": [
        {
          "output_type": "execute_result",
          "data": {
            "text/plain": [
              "array([[1., 1., 1., 1., 1.],\n",
              "       [1., 0., 0., 0., 1.],\n",
              "       [1., 0., 0., 0., 1.],\n",
              "       [1., 0., 0., 0., 1.],\n",
              "       [1., 1., 1., 1., 1.]])"
            ]
          },
          "metadata": {},
          "execution_count": 13
        }
      ]
    },
    {
      "cell_type": "markdown",
      "metadata": {
        "id": "TeMv-1C9LVlI"
      },
      "source": [
        "#### 16. How to add a border (filled with 0's) around an existing array? (★☆☆) \n",
        "(**hint**: np.pad)"
      ]
    },
    {
      "cell_type": "code",
      "execution_count": null,
      "metadata": {
        "id": "ej1iOUTVLVlI"
      },
      "outputs": [],
      "source": [
        "import numpy as np\n",
        "x = np.ones((3,3))\n",
        "print(\"Original array:\")\n",
        "print(x)\n",
        "print(\"0 on the border and 1 inside in the array\")\n",
        "x = np.pad(x, pad_width=1, mode='constant', constant_values=0)\n",
        "print(x)"
      ]
    },
    {
      "cell_type": "markdown",
      "metadata": {
        "id": "rskfCnB6LVlJ"
      },
      "source": [
        "#### 17. What is the result of the following expression? (★☆☆) \n",
        "(**hint**: NaN = not a number, inf = infinity)"
      ]
    },
    {
      "cell_type": "markdown",
      "metadata": {
        "id": "W_j7QLdHLVlJ"
      },
      "source": [
        "```python\n",
        "0 * np.nan\n",
        "np.nan == np.nan\n",
        "np.inf > np.nan\n",
        "np.nan - np.nan\n",
        "0.3 == 3 * 0.1\n",
        "```"
      ]
    },
    {
      "cell_type": "code",
      "execution_count": null,
      "metadata": {
        "id": "ri2YzTjsLVlJ",
        "colab": {
          "base_uri": "https://localhost:8080/"
        },
        "outputId": "3ab28ecb-823d-47e1-e547-3d8e072f925b"
      },
      "outputs": [
        {
          "output_type": "execute_result",
          "data": {
            "text/plain": [
              "False"
            ]
          },
          "metadata": {},
          "execution_count": 2
        }
      ],
      "source": [
        "false"
      ]
    },
    {
      "cell_type": "markdown",
      "metadata": {
        "id": "3hgd3FURLVlL"
      },
      "source": [
        "#### 18. Create a 5x5 matrix with values 1,2,3,4 just below the diagonal (★☆☆) \n",
        "(**hint**: np.diag)"
      ]
    },
    {
      "cell_type": "code",
      "execution_count": null,
      "metadata": {
        "id": "1lADQk1lLVlL",
        "colab": {
          "base_uri": "https://localhost:8080/"
        },
        "outputId": "36696f06-abe9-4fc5-831b-78ba7a8fe723"
      },
      "outputs": [
        {
          "output_type": "stream",
          "name": "stdout",
          "text": [
            "[[1 0 0 0]\n",
            " [0 2 0 0]\n",
            " [0 0 3 0]\n",
            " [0 0 0 4]]\n"
          ]
        }
      ],
      "source": [
        "import numpy as np\n",
        "x = np.diag([1, 2, 3, 4])\n",
        "print(x)"
      ]
    },
    {
      "cell_type": "markdown",
      "metadata": {
        "id": "AuA3Hdf8LVlM"
      },
      "source": [
        "#### 19. Create a 8x8 matrix and fill it with a checkerboard pattern (★☆☆) \n",
        "(**hint**: array\\[::2\\])"
      ]
    },
    {
      "cell_type": "code",
      "execution_count": null,
      "metadata": {
        "id": "WEp-1Z4jLVlM",
        "colab": {
          "base_uri": "https://localhost:8080/"
        },
        "outputId": "48d3e881-3b22-4b9b-88cf-e922eae948f1"
      },
      "outputs": [
        {
          "output_type": "stream",
          "name": "stdout",
          "text": [
            "Checkerboard pattern:\n",
            "[[0 1 0 1 0 1 0 1]\n",
            " [1 0 1 0 1 0 1 0]\n",
            " [0 1 0 1 0 1 0 1]\n",
            " [1 0 1 0 1 0 1 0]\n",
            " [0 1 0 1 0 1 0 1]\n",
            " [1 0 1 0 1 0 1 0]\n",
            " [0 1 0 1 0 1 0 1]\n",
            " [1 0 1 0 1 0 1 0]]\n"
          ]
        }
      ],
      "source": [
        "import numpy as np\n",
        "x = np.ones((3,3))\n",
        "print(\"Checkerboard pattern:\")\n",
        "x = np.zeros((8,8),dtype=int)\n",
        "x[1::2,::2] = 1\n",
        "x[::2,1::2] = 1\n",
        "print(x)"
      ]
    },
    {
      "cell_type": "markdown",
      "metadata": {
        "id": "Fdlb7mECLVlM"
      },
      "source": [
        "#### 20. Consider a (6,7,8) shape array, what is the index (x,y,z) of the 100th element? \n",
        "(**hint**: np.unravel_index)"
      ]
    },
    {
      "cell_type": "code",
      "execution_count": null,
      "metadata": {
        "id": "JXr2OjrFLVlM",
        "colab": {
          "base_uri": "https://localhost:8080/"
        },
        "outputId": "3d87bc8e-fadb-4e54-bc75-f90380cf28af"
      },
      "outputs": [
        {
          "output_type": "stream",
          "name": "stdout",
          "text": [
            "(1, 5, 4)\n"
          ]
        }
      ],
      "source": [
        "print(np.unravel_index(100,(6,7,8)))"
      ]
    },
    {
      "cell_type": "markdown",
      "metadata": {
        "id": "iTa81jD9LVlM"
      },
      "source": [
        "#### 21. Create a checkerboard 8x8 matrix using the tile function (★☆☆) \n",
        "(**hint**: np.tile)"
      ]
    },
    {
      "cell_type": "code",
      "execution_count": null,
      "metadata": {
        "id": "-R9_4bPVLVlM",
        "colab": {
          "base_uri": "https://localhost:8080/"
        },
        "outputId": "dd97076b-a6ee-41ec-bad3-179f94528ab8"
      },
      "outputs": [
        {
          "output_type": "stream",
          "name": "stdout",
          "text": [
            "[[0 1 0 1 0 1 0 1]\n",
            " [1 0 1 0 1 0 1 0]\n",
            " [0 1 0 1 0 1 0 1]\n",
            " [1 0 1 0 1 0 1 0]\n",
            " [0 1 0 1 0 1 0 1]\n",
            " [1 0 1 0 1 0 1 0]\n",
            " [0 1 0 1 0 1 0 1]\n",
            " [1 0 1 0 1 0 1 0]]\n"
          ]
        }
      ],
      "source": [
        "Z = np.tile( np.array([[0,1],[1,0]]), (4,4))\n",
        "print(Z)"
      ]
    },
    {
      "cell_type": "markdown",
      "metadata": {
        "id": "lfJWBGaNLVlM"
      },
      "source": [
        "#### 22. Normalize a 5x5 random matrix (★☆☆) \n",
        "(**hint**: (x - min) / (max - min))"
      ]
    },
    {
      "cell_type": "code",
      "execution_count": null,
      "metadata": {
        "id": "U2CL5M-CLVlN"
      },
      "outputs": [],
      "source": [
        "x = np.random.random((5,5))\n",
        "xmax, xmin = x.max(), x.min()\n",
        "x = (x - xmin)/(xmax - xmin)\n",
        "print(Z)"
      ]
    },
    {
      "cell_type": "markdown",
      "metadata": {
        "id": "9T5sfrLFLVlN"
      },
      "source": [
        "#### 23. Create a custom dtype that describes a color as four unsigned bytes (RGBA) (★☆☆) \n",
        "(**hint**: np.dtype)"
      ]
    },
    {
      "cell_type": "code",
      "execution_count": null,
      "metadata": {
        "collapsed": true,
        "id": "FGpThB8cLVlN",
        "colab": {
          "base_uri": "https://localhost:8080/"
        },
        "outputId": "c03b8d8a-0642-4ba0-d8d7-d5845d8e6d85"
      },
      "outputs": [
        {
          "output_type": "stream",
          "name": "stderr",
          "text": [
            "/usr/local/lib/python3.7/dist-packages/ipykernel_launcher.py:4: FutureWarning: Passing (type, 1) or '1type' as a synonym of type is deprecated; in a future version of numpy, it will be understood as (type, (1,)) / '(1,)type'.\n",
            "  after removing the cwd from sys.path.\n"
          ]
        }
      ],
      "source": [
        "color = np.dtype([(\"r\", np.ubyte, 1),\n",
        "(\"g\", np.ubyte, 1),\n",
        "(\"b\", np.ubyte, 1),\n",
        "(\"a\", np.ubyte, 1)])"
      ]
    },
    {
      "cell_type": "markdown",
      "metadata": {
        "id": "PFXcxq01LVlN"
      },
      "source": [
        "#### 24. Multiply a 5x3 matrix by a 3x2 matrix (real matrix product) (★☆☆) \n",
        "(**hint**: np.dot | @)"
      ]
    },
    {
      "cell_type": "code",
      "execution_count": null,
      "metadata": {
        "id": "MZs8lIqSLVlN",
        "colab": {
          "base_uri": "https://localhost:8080/"
        },
        "outputId": "0fda3f05-4389-4442-c81c-fd3a731a4d77"
      },
      "outputs": [
        {
          "output_type": "execute_result",
          "data": {
            "text/plain": [
              "array([[3., 3.],\n",
              "       [3., 3.],\n",
              "       [3., 3.],\n",
              "       [3., 3.],\n",
              "       [3., 3.]])"
            ]
          },
          "metadata": {},
          "execution_count": 18
        }
      ],
      "source": [
        "x=np.ones((5,3))\n",
        "y=np.ones((3,2))\n",
        "z=np.dot(x,y)\n",
        "z"
      ]
    },
    {
      "cell_type": "markdown",
      "metadata": {
        "id": "kRggOx2tLVlN"
      },
      "source": [
        "#### 25. Given a 1D array, negate all elements which are between 3 and 8, in place. (★☆☆) \n",
        "(**hint**: >, <=)"
      ]
    },
    {
      "cell_type": "code",
      "execution_count": null,
      "metadata": {
        "id": "Y4kUVuw9LVlN",
        "colab": {
          "base_uri": "https://localhost:8080/"
        },
        "outputId": "a1ee1f49-ae6e-45b9-89e5-28a1e2cd9868"
      },
      "outputs": [
        {
          "output_type": "execute_result",
          "data": {
            "text/plain": [
              "array([ 0,  1,  2,  3, -4, -5, -6, -7, -8,  9, 10])"
            ]
          },
          "metadata": {},
          "execution_count": 22
        }
      ],
      "source": [
        "Z = np.arange(11)\n",
        "Z[(3 < Z) & (Z <= 8)] *= -1\n",
        "Z"
      ]
    },
    {
      "cell_type": "markdown",
      "metadata": {
        "id": "5vCvnSKjLVlN"
      },
      "source": [
        "#### 26. What is the output of the following script? (★☆☆) \n",
        "(**hint**: np.sum)"
      ]
    },
    {
      "cell_type": "markdown",
      "metadata": {
        "id": "DgHnYVPZLVlO"
      },
      "source": [
        "```python\n",
        "# Author: Jake VanderPlas\n",
        "\n",
        "print(sum(range(5),-1))\n",
        "from numpy import *\n",
        "print(sum(range(5),-1))\n",
        "```"
      ]
    },
    {
      "cell_type": "code",
      "execution_count": null,
      "metadata": {
        "id": "D04bALMWLVlO",
        "colab": {
          "base_uri": "https://localhost:8080/"
        },
        "outputId": "9963b6c9-c662-4254-b87b-f58c62afd0ea"
      },
      "outputs": [
        {
          "output_type": "stream",
          "name": "stdout",
          "text": [
            "9\n"
          ]
        }
      ],
      "source": [
        "print(sum(range(5),-1))"
      ]
    },
    {
      "cell_type": "markdown",
      "metadata": {
        "id": "3plamHbILVlO"
      },
      "source": [
        "#### 27. Consider an integer vector Z, which of these expressions are legal? (★☆☆)"
      ]
    },
    {
      "cell_type": "markdown",
      "metadata": {
        "id": "42dXnhi0LVlO"
      },
      "source": [
        "```python\n",
        "Z**Z\n",
        "2 << Z >> 2\n",
        "Z <- Z\n",
        "1j*Z\n",
        "Z/1/1\n",
        "Z<Z>Z\n",
        "```"
      ]
    },
    {
      "cell_type": "code",
      "execution_count": null,
      "metadata": {
        "id": "TMTLLovfLVlO"
      },
      "outputs": [],
      "source": [
        "Z**Z\n",
        "2 << Z >> 2\n",
        "Z <- Z\n",
        "1j*Z\n",
        "Z/1/1\n",
        "Z<Z>Z"
      ]
    },
    {
      "cell_type": "markdown",
      "metadata": {
        "id": "zspEkbl3LVlO"
      },
      "source": [
        "#### 28. What are the result of the following expressions?"
      ]
    },
    {
      "cell_type": "markdown",
      "metadata": {
        "id": "WNbKgVsELVlO"
      },
      "source": [
        "```python\n",
        "np.array(0) / np.array(0)\n",
        "np.array(0) // np.array(0)\n",
        "np.array([np.nan]).astype(int).astype(float)\n",
        "```"
      ]
    },
    {
      "cell_type": "code",
      "execution_count": null,
      "metadata": {
        "id": "y1WS20x9LVlO"
      },
      "outputs": [],
      "source": [
        "import numpy as np\n",
        "np.array(0) / np.array(0)\n",
        "np.array(0) // np.array(0)\n",
        "np.array([np.nan]).astype(int).astype(float)"
      ]
    },
    {
      "cell_type": "markdown",
      "metadata": {
        "id": "qN9LcGVfLVlP"
      },
      "source": [
        "#### 29. How to round away from zero a float array ? (★☆☆) \n",
        "(**hint**: np.uniform, np.copysign, np.ceil, np.abs)"
      ]
    },
    {
      "cell_type": "code",
      "execution_count": null,
      "metadata": {
        "id": "ITA2oS2ELVlP",
        "colab": {
          "base_uri": "https://localhost:8080/"
        },
        "outputId": "d96c8b93-7dba-44df-c3ab-4cd5a57e97e4"
      },
      "outputs": [
        {
          "output_type": "stream",
          "name": "stdout",
          "text": [
            "[ 8. -9. -6.  8. -6. -2. -4.  1. -2. -3.]\n"
          ]
        }
      ],
      "source": [
        "Z = np.random.uniform(-10,+10,10)\n",
        "print (np.trunc(Z + np.copysign(0.5, Z)))"
      ]
    },
    {
      "cell_type": "markdown",
      "metadata": {
        "id": "Ci9ZK9DNLVlP"
      },
      "source": [
        "#### 30. How to find common values between two arrays? (★☆☆) \n",
        "(**hint**: np.intersect1d)"
      ]
    },
    {
      "cell_type": "code",
      "execution_count": null,
      "metadata": {
        "id": "86GkeDIaLVlP",
        "colab": {
          "base_uri": "https://localhost:8080/"
        },
        "outputId": "97148cd8-2991-40e6-c28c-765bcd330867"
      },
      "outputs": [
        {
          "output_type": "execute_result",
          "data": {
            "text/plain": [
              "array([2, 3, 4, 5])"
            ]
          },
          "metadata": {},
          "execution_count": 24
        }
      ],
      "source": [
        "arr1=[1,2,3,4,5]\n",
        "arr2=[2,3,4,5,6]\n",
        "output=np.intersect1d(arr1,arr2)\n",
        "output"
      ]
    },
    {
      "cell_type": "markdown",
      "metadata": {
        "id": "zkwZYFGILVlP"
      },
      "source": [
        "#### 31. How to ignore all numpy warnings (not recommended)? (★☆☆) \n",
        "(**hint**: np.seterr, np.errstate)"
      ]
    },
    {
      "cell_type": "code",
      "execution_count": null,
      "metadata": {
        "id": "8hqeRfjbLVlP",
        "colab": {
          "base_uri": "https://localhost:8080/"
        },
        "outputId": "8c35c859-71ac-4dc2-bed4-1af7234b0a21"
      },
      "outputs": [
        {
          "output_type": "execute_result",
          "data": {
            "text/plain": [
              "<numpy.errstate at 0x7f645a678850>"
            ]
          },
          "metadata": {},
          "execution_count": 2
        }
      ],
      "source": [
        "np.seterr()\n",
        "np.errstate()"
      ]
    },
    {
      "cell_type": "markdown",
      "metadata": {
        "id": "cKOTWcBXLVlP"
      },
      "source": [
        "#### 32. Is the following expressions true? (★☆☆) \n",
        "(**hint**: imaginary number)"
      ]
    },
    {
      "cell_type": "markdown",
      "metadata": {
        "id": "2KwovjBDLVlP"
      },
      "source": [
        "```python\n",
        "np.sqrt(-1) == np.emath.sqrt(-1)\n",
        "```"
      ]
    },
    {
      "cell_type": "code",
      "execution_count": null,
      "metadata": {
        "id": "7nyNUmZdLVlQ",
        "colab": {
          "base_uri": "https://localhost:8080/"
        },
        "outputId": "d3cbf821-f41b-4906-aaef-fb7fa79c7453"
      },
      "outputs": [
        {
          "output_type": "stream",
          "name": "stderr",
          "text": [
            "/usr/local/lib/python3.7/dist-packages/ipykernel_launcher.py:1: RuntimeWarning: invalid value encountered in sqrt\n",
            "  \"\"\"Entry point for launching an IPython kernel.\n"
          ]
        },
        {
          "output_type": "execute_result",
          "data": {
            "text/plain": [
              "False"
            ]
          },
          "metadata": {},
          "execution_count": 3
        }
      ],
      "source": [
        "np.sqrt(-1) == np.emath.sqrt(-1)"
      ]
    },
    {
      "cell_type": "markdown",
      "metadata": {
        "id": "-NGAtkybLVlQ"
      },
      "source": [
        "#### 33. How to get the dates of yesterday, today and tomorrow? (★☆☆) \n",
        "(**hint**: np.datetime64, np.timedelta64)"
      ]
    },
    {
      "cell_type": "code",
      "execution_count": null,
      "metadata": {
        "collapsed": true,
        "id": "sIedGQKzLVlQ",
        "colab": {
          "base_uri": "https://localhost:8080/"
        },
        "outputId": "3f5894b4-c774-4263-a4f2-6960d7321d51"
      },
      "outputs": [
        {
          "output_type": "stream",
          "name": "stdout",
          "text": [
            "today 2022-09-22\n",
            "yesterday 2022-09-21\n",
            "tommorow 2022-09-23\n"
          ]
        }
      ],
      "source": [
        "today=np.datetime64(\"today\",'D')\n",
        "print(\"today\",today)\n",
        "yesterday=np.datetime64(\"today\",\"D\")-np.timedelta64(1,\"D\")\n",
        "print(\"yesterday\",yesterday)\n",
        "tomorrow=np.datetime64(\"today\",\"D\")+np.timedelta64(1,\"D\")\n",
        "print(\"tomorrow\",tomorrow)"
      ]
    },
    {
      "cell_type": "markdown",
      "metadata": {
        "id": "7bsUXxQELVlQ"
      },
      "source": [
        "#### 34. How to get all the dates corresponding to the month of July 2016? (★★☆) \n",
        "(**hint**: np.arange(dtype=datetime64\\['D'\\]))"
      ]
    },
    {
      "cell_type": "code",
      "execution_count": null,
      "metadata": {
        "id": "-aeAU35lLVlQ",
        "colab": {
          "base_uri": "https://localhost:8080/"
        },
        "outputId": "d9399b2b-9c30-4771-a56f-7479dd8c8576"
      },
      "outputs": [
        {
          "output_type": "stream",
          "name": "stdout",
          "text": [
            "['2016-07-01' '2016-07-02' '2016-07-03' '2016-07-04' '2016-07-05'\n",
            " '2016-07-06' '2016-07-07' '2016-07-08' '2016-07-09' '2016-07-10'\n",
            " '2016-07-11' '2016-07-12' '2016-07-13' '2016-07-14' '2016-07-15'\n",
            " '2016-07-16' '2016-07-17' '2016-07-18' '2016-07-19' '2016-07-20'\n",
            " '2016-07-21' '2016-07-22' '2016-07-23' '2016-07-24' '2016-07-25'\n",
            " '2016-07-26' '2016-07-27' '2016-07-28' '2016-07-29' '2016-07-30']\n"
          ]
        }
      ],
      "source": [
        "print(np.arange('2016-07-01', '2016-07-31',dtype='datetime64[D]'))"
      ]
    },
    {
      "cell_type": "markdown",
      "metadata": {
        "id": "x28FmTRBLVlQ"
      },
      "source": [
        "#### 35. How to compute ((A+B)\\*(-A/2)) in place (without copy)? (★★☆) \n",
        "(**hint**: np.add(out=), np.negative(out=), np.multiply(out=), np.divide(out=))"
      ]
    },
    {
      "cell_type": "code",
      "execution_count": null,
      "metadata": {
        "id": "U2KVYZlDLVlQ"
      },
      "outputs": [],
      "source": []
    },
    {
      "cell_type": "markdown",
      "metadata": {
        "id": "wSakshfJLVlQ"
      },
      "source": [
        "#### 36. Extract the integer part of a random array using 5 different methods (★★☆) \n",
        "(**hint**: %, np.floor, np.ceil, astype, np.trunc)"
      ]
    },
    {
      "cell_type": "code",
      "execution_count": null,
      "metadata": {
        "id": "aywuR46kLVlQ",
        "colab": {
          "base_uri": "https://localhost:8080/"
        },
        "outputId": "8a56c72b-8c5c-4b5c-c601-9f4c8e1825b4"
      },
      "outputs": [
        {
          "output_type": "stream",
          "name": "stdout",
          "text": [
            "[4. 6. 3. 5. 6. 4. 2. 6. 8. 6.]\n",
            "[4. 6. 3. 5. 6. 4. 2. 6. 8. 6.]\n",
            "[4. 6. 3. 5. 6. 4. 2. 6. 8. 6.]\n",
            "[4 6 3 5 6 4 2 6 8 6]\n",
            "[4. 6. 3. 5. 6. 4. 2. 6. 8. 6.]\n"
          ]
        }
      ],
      "source": [
        "Z = np.random.uniform(0,10,10)\n",
        "print (Z - Z%1)\n",
        "print (np.floor(Z))\n",
        "print (np.ceil(Z)-1)\n",
        "print (Z.astype(int))\n",
        "print (np.trunc(Z))"
      ]
    },
    {
      "cell_type": "markdown",
      "metadata": {
        "id": "RJD3aDLULVlR"
      },
      "source": [
        "#### 37. Create a 5x5 matrix with row values ranging from 0 to 4 (★★☆) \n",
        "(**hint**: np.arange)"
      ]
    },
    {
      "cell_type": "code",
      "execution_count": null,
      "metadata": {
        "id": "nXC2xv0WLVlR",
        "colab": {
          "base_uri": "https://localhost:8080/"
        },
        "outputId": "8e48d96e-af6e-4518-b483-ee329e0c3778"
      },
      "outputs": [
        {
          "output_type": "stream",
          "name": "stdout",
          "text": [
            "[[0. 1. 2. 3. 4.]\n",
            " [0. 1. 2. 3. 4.]\n",
            " [0. 1. 2. 3. 4.]\n",
            " [0. 1. 2. 3. 4.]\n",
            " [0. 1. 2. 3. 4.]]\n"
          ]
        }
      ],
      "source": [
        "import numpy as np\n",
        "Z = np.zeros((5,5))\n",
        "Z += np.arange(5)\n",
        "print(Z)"
      ]
    },
    {
      "cell_type": "markdown",
      "metadata": {
        "id": "JZdKVOyOLVlR"
      },
      "source": [
        "#### 38. Consider a generator function that generates 10 integers and use it to build an array (★☆☆) \n",
        "(**hint**: np.fromiter)"
      ]
    },
    {
      "cell_type": "code",
      "execution_count": null,
      "metadata": {
        "id": "p5QDtR0xLVlR",
        "colab": {
          "base_uri": "https://localhost:8080/"
        },
        "outputId": "0c26ac27-c9f7-4d47-c029-a73042d2130d"
      },
      "outputs": [
        {
          "output_type": "stream",
          "name": "stdout",
          "text": [
            "New array:\n",
            "[ 0.  1.  2.  3.  4.  5.  6.  7.  8.  9. 10. 11. 12. 13. 14.]\n"
          ]
        }
      ],
      "source": [
        "import numpy as np\n",
        "def generate():\n",
        "   for n in range(15):\n",
        "       yield n\n",
        "nums = np.fromiter(generate(),dtype=float,count=-1)\n",
        "print(\"New array:\")\n",
        "print(nums)       "
      ]
    },
    {
      "cell_type": "markdown",
      "metadata": {
        "id": "hByd0408LVlR"
      },
      "source": [
        "#### 39. Create a vector of size 10 with values ranging from 0 to 1, both excluded (★★☆) \n",
        "(**hint**: np.linspace)"
      ]
    },
    {
      "cell_type": "code",
      "execution_count": null,
      "metadata": {
        "id": "9QWzomTbLVlR",
        "colab": {
          "base_uri": "https://localhost:8080/"
        },
        "outputId": "1b48e92e-4a59-4a5b-8e9d-becb0a060a5f"
      },
      "outputs": [
        {
          "output_type": "stream",
          "name": "stdout",
          "text": [
            "[0.09090909 0.18181818 0.27272727 0.36363636 0.45454545 0.54545455\n",
            " 0.63636364 0.72727273 0.81818182 0.90909091]\n"
          ]
        }
      ],
      "source": [
        "x=np.linspace(0,1,12,endpoint=True)[1:-1]\n",
        "print(x)"
      ]
    },
    {
      "cell_type": "markdown",
      "metadata": {
        "id": "KmZVKrsVLVlR"
      },
      "source": [
        "#### 40. Create a random vector of size 10 and sort it (★★☆) \n",
        "(**hint**: sort)"
      ]
    },
    {
      "cell_type": "code",
      "execution_count": null,
      "metadata": {
        "id": "A6gtS0hHLVlR",
        "colab": {
          "base_uri": "https://localhost:8080/"
        },
        "outputId": "0a413945-42ca-4e91-8be4-bd8f33cd1b9a"
      },
      "outputs": [
        {
          "output_type": "execute_result",
          "data": {
            "text/plain": [
              "array([0.01417189, 0.02156234, 0.07535654, 0.08411532, 0.16482414,\n",
              "       0.43036461, 0.55435799, 0.70526095, 0.84294336, 0.8482943 ])"
            ]
          },
          "metadata": {},
          "execution_count": 9
        }
      ],
      "source": [
        "x=np.random.random(10)\n",
        "x.sort()\n",
        "x"
      ]
    },
    {
      "cell_type": "markdown",
      "metadata": {
        "id": "YLRO_gTYLVlS"
      },
      "source": [
        "#### 41. How to sum a small array faster than np.sum? (★★☆) \n",
        "(**hint**: np.add.reduce)"
      ]
    },
    {
      "cell_type": "code",
      "execution_count": null,
      "metadata": {
        "id": "AyXszmbhLVlS",
        "colab": {
          "base_uri": "https://localhost:8080/"
        },
        "outputId": "068ec6d8-0670-4cae-d666-ff15cb41749c"
      },
      "outputs": [
        {
          "output_type": "execute_result",
          "data": {
            "text/plain": [
              "45"
            ]
          },
          "metadata": {},
          "execution_count": 31
        }
      ],
      "source": [
        "Z = np.arange(10)\n",
        "np.add.reduce(Z)\n"
      ]
    },
    {
      "cell_type": "markdown",
      "metadata": {
        "id": "UeFGW1nqLVlS"
      },
      "source": [
        "#### 42. Consider two random array A and B, check if they are equal (★★☆) \n",
        "(**hint**: np.allclose, np.array\\_equal)"
      ]
    },
    {
      "cell_type": "code",
      "execution_count": null,
      "metadata": {
        "id": "A2dvyGRELVlS",
        "colab": {
          "base_uri": "https://localhost:8080/"
        },
        "outputId": "2458581b-7422-41b1-e547-5cee19b700be"
      },
      "outputs": [
        {
          "output_type": "stream",
          "name": "stdout",
          "text": [
            "False\n",
            "[1 0 0 0 1 1]\n"
          ]
        }
      ],
      "source": [
        "A = np.random.randint(0,2,6)\n",
        "B = np.random.randint(0,2,6)\n",
        "equal = np.allclose(A,B)\n",
        "print(equal)\n",
        "print(A)"
      ]
    },
    {
      "cell_type": "markdown",
      "metadata": {
        "id": "h94ZUqEpLVlS"
      },
      "source": [
        "#### 43. Make an array immutable (read-only) (★★☆) \n",
        "(**hint**: flags.writeable)"
      ]
    },
    {
      "cell_type": "code",
      "execution_count": null,
      "metadata": {
        "id": "VMighFqoLVlS"
      },
      "outputs": [],
      "source": [
        "Z = np.zeros(10)\n",
        "Z.flags.writeable = False\n"
      ]
    },
    {
      "cell_type": "markdown",
      "metadata": {
        "id": "gTtdbvzKLVlT"
      },
      "source": [
        "#### 44. Consider a random 10x2 matrix representing cartesian coordinates, convert them to polar coordinates (★★☆) \n",
        "(**hint**: np.sqrt, np.arctan2)"
      ]
    },
    {
      "cell_type": "code",
      "execution_count": null,
      "metadata": {
        "id": "l4bx6czQLVlT",
        "colab": {
          "base_uri": "https://localhost:8080/"
        },
        "outputId": "8f988bb7-8c17-4b1e-8ba3-82216b33f765"
      },
      "outputs": [
        {
          "output_type": "stream",
          "name": "stdout",
          "text": [
            "[1. 1. 1. 1. 1.]\n",
            "[1.57079633 1.57079633 1.57079633 1.57079633 1.57079633]\n"
          ]
        }
      ],
      "source": [
        "z= np.random.random((10,2))\n",
        "X,Y = Z[:,0], Z[:,1]\n",
        "R = np.sqrt(X**2+Y**2)\n",
        "T = np.arctan2(Y,X)\n",
        "print(R)\n",
        "print(T)\n"
      ]
    },
    {
      "cell_type": "markdown",
      "metadata": {
        "id": "EQJ2DONYLVlT"
      },
      "source": [
        "#### 45. Create random vector of size 10 and replace the maximum value by 0 (★★☆) \n",
        "(**hint**: argmax)"
      ]
    },
    {
      "cell_type": "code",
      "execution_count": null,
      "metadata": {
        "id": "JWIBUF6nLVlT",
        "colab": {
          "base_uri": "https://localhost:8080/"
        },
        "outputId": "7b96c811-a1a6-448d-93c9-1adb89251a56"
      },
      "outputs": [
        {
          "output_type": "stream",
          "name": "stdout",
          "text": [
            "[0.45601305 0.71325989 0.12019058 0.41811561 0.94797917 0.\n",
            " 0.04167454 0.72575701 0.06102126 0.43303865]\n"
          ]
        }
      ],
      "source": [
        "Z = np.random.random(10)\n",
        "Z[Z.argmax()] = 0\n",
        "print(Z)"
      ]
    },
    {
      "cell_type": "markdown",
      "metadata": {
        "id": "yebRiLYMLVlT"
      },
      "source": [
        "#### 46. Create a structured array with `x` and `y` coordinates covering the \\[0,1\\]x\\[0,1\\] area (★★☆) \n",
        "(**hint**: np.meshgrid)"
      ]
    },
    {
      "cell_type": "code",
      "execution_count": null,
      "metadata": {
        "id": "Z9W2j48uLVlT",
        "colab": {
          "base_uri": "https://localhost:8080/"
        },
        "outputId": "5d5669cf-a6c7-4569-b0bb-eb6182a0526f"
      },
      "outputs": [
        {
          "output_type": "stream",
          "name": "stdout",
          "text": [
            "[[(0.        , 0.        ) (0.11111111, 0.        )\n",
            "  (0.22222222, 0.        ) (0.33333333, 0.        )\n",
            "  (0.44444444, 0.        ) (0.55555556, 0.        )\n",
            "  (0.66666667, 0.        ) (0.77777778, 0.        )\n",
            "  (0.88888889, 0.        ) (1.        , 0.        )]\n",
            " [(0.        , 0.11111111) (0.11111111, 0.11111111)\n",
            "  (0.22222222, 0.11111111) (0.33333333, 0.11111111)\n",
            "  (0.44444444, 0.11111111) (0.55555556, 0.11111111)\n",
            "  (0.66666667, 0.11111111) (0.77777778, 0.11111111)\n",
            "  (0.88888889, 0.11111111) (1.        , 0.11111111)]\n",
            " [(0.        , 0.22222222) (0.11111111, 0.22222222)\n",
            "  (0.22222222, 0.22222222) (0.33333333, 0.22222222)\n",
            "  (0.44444444, 0.22222222) (0.55555556, 0.22222222)\n",
            "  (0.66666667, 0.22222222) (0.77777778, 0.22222222)\n",
            "  (0.88888889, 0.22222222) (1.        , 0.22222222)]\n",
            " [(0.        , 0.33333333) (0.11111111, 0.33333333)\n",
            "  (0.22222222, 0.33333333) (0.33333333, 0.33333333)\n",
            "  (0.44444444, 0.33333333) (0.55555556, 0.33333333)\n",
            "  (0.66666667, 0.33333333) (0.77777778, 0.33333333)\n",
            "  (0.88888889, 0.33333333) (1.        , 0.33333333)]\n",
            " [(0.        , 0.44444444) (0.11111111, 0.44444444)\n",
            "  (0.22222222, 0.44444444) (0.33333333, 0.44444444)\n",
            "  (0.44444444, 0.44444444) (0.55555556, 0.44444444)\n",
            "  (0.66666667, 0.44444444) (0.77777778, 0.44444444)\n",
            "  (0.88888889, 0.44444444) (1.        , 0.44444444)]\n",
            " [(0.        , 0.55555556) (0.11111111, 0.55555556)\n",
            "  (0.22222222, 0.55555556) (0.33333333, 0.55555556)\n",
            "  (0.44444444, 0.55555556) (0.55555556, 0.55555556)\n",
            "  (0.66666667, 0.55555556) (0.77777778, 0.55555556)\n",
            "  (0.88888889, 0.55555556) (1.        , 0.55555556)]\n",
            " [(0.        , 0.66666667) (0.11111111, 0.66666667)\n",
            "  (0.22222222, 0.66666667) (0.33333333, 0.66666667)\n",
            "  (0.44444444, 0.66666667) (0.55555556, 0.66666667)\n",
            "  (0.66666667, 0.66666667) (0.77777778, 0.66666667)\n",
            "  (0.88888889, 0.66666667) (1.        , 0.66666667)]\n",
            " [(0.        , 0.77777778) (0.11111111, 0.77777778)\n",
            "  (0.22222222, 0.77777778) (0.33333333, 0.77777778)\n",
            "  (0.44444444, 0.77777778) (0.55555556, 0.77777778)\n",
            "  (0.66666667, 0.77777778) (0.77777778, 0.77777778)\n",
            "  (0.88888889, 0.77777778) (1.        , 0.77777778)]\n",
            " [(0.        , 0.88888889) (0.11111111, 0.88888889)\n",
            "  (0.22222222, 0.88888889) (0.33333333, 0.88888889)\n",
            "  (0.44444444, 0.88888889) (0.55555556, 0.88888889)\n",
            "  (0.66666667, 0.88888889) (0.77777778, 0.88888889)\n",
            "  (0.88888889, 0.88888889) (1.        , 0.88888889)]\n",
            " [(0.        , 1.        ) (0.11111111, 1.        )\n",
            "  (0.22222222, 1.        ) (0.33333333, 1.        )\n",
            "  (0.44444444, 1.        ) (0.55555556, 1.        )\n",
            "  (0.66666667, 1.        ) (0.77777778, 1.        )\n",
            "  (0.88888889, 1.        ) (1.        , 1.        )]]\n"
          ]
        }
      ],
      "source": [
        "import numpy as np\n",
        "Z = np.zeros((10,10), [('x',float),('y',float)])\n",
        "Z['x'], Z['y'] = np.meshgrid(np.linspace(0,1,10),\n",
        "np.linspace(0,1,10))\n",
        "print(Z)"
      ]
    },
    {
      "cell_type": "markdown",
      "metadata": {
        "id": "VlsqG4eaLVlT"
      },
      "source": [
        "####  47. Given two arrays, X and Y, construct the Cauchy matrix C (Cij =1/(xi - yj)) \n",
        "(**hint**: np.subtract.outer)"
      ]
    },
    {
      "cell_type": "code",
      "source": [
        "x = np.ones(6)\n",
        "y = np.linspace(2, 6, 3)\n",
        "Output = np.outer(x, y)\n",
        "Output"
      ],
      "metadata": {
        "id": "kYv0mmXfBKYn"
      },
      "execution_count": null,
      "outputs": []
    },
    {
      "cell_type": "code",
      "execution_count": null,
      "metadata": {
        "id": "PBvCmciALVlU",
        "colab": {
          "base_uri": "https://localhost:8080/"
        },
        "outputId": "94cef090-b2bb-4b7e-886b-a737b1154f62"
      },
      "outputs": [
        {
          "output_type": "stream",
          "name": "stdout",
          "text": [
            "3638.163637117973\n"
          ]
        }
      ],
      "source": [
        "import numpy as np\n",
        "X = np.arange(8)\n",
        "Y = X + 0.5\n",
        "C = 1.0 / np.subtract.outer(X, Y)\n",
        "print(np.linalg.det(C))\n"
      ]
    },
    {
      "cell_type": "markdown",
      "metadata": {
        "id": "iSxcK9oLLVlU"
      },
      "source": [
        "#### 48. Print the minimum and maximum representable value for each numpy scalar type (★★☆) \n",
        "(**hint**: np.iinfo, np.finfo, eps)"
      ]
    },
    {
      "cell_type": "code",
      "execution_count": null,
      "metadata": {
        "id": "GiJUCjv-LVlU",
        "colab": {
          "base_uri": "https://localhost:8080/"
        },
        "outputId": "849fae5e-7c29-4d9a-b4a6-602a2f4654f7"
      },
      "outputs": [
        {
          "output_type": "stream",
          "name": "stdout",
          "text": [
            "92\n"
          ]
        }
      ],
      "source": [
        "Z = np.arange(100)\n",
        "v = np.random.uniform(0,100)\n",
        "index = (np.abs(Z-v)).argmin()\n",
        "print(Z[index])"
      ]
    },
    {
      "cell_type": "markdown",
      "metadata": {
        "id": "KjetQ1xoLVlU"
      },
      "source": [
        "#### 49. How to print all the values of an array? (★★☆) \n",
        "(**hint**: np.set\\_printoptions)"
      ]
    },
    {
      "cell_type": "code",
      "execution_count": null,
      "metadata": {
        "id": "p-0QpItMLVlU"
      },
      "outputs": [],
      "source": [
        "np.set_printoptions(threshold=np.nan)\n",
        "Z = np.zeros((25,25))\n",
        "print(Z)"
      ]
    },
    {
      "cell_type": "markdown",
      "metadata": {
        "id": "wI8CzrzULVlU"
      },
      "source": [
        "#### 50. How to find the closest value (to a given scalar) in a vector? (★★☆) \n",
        "(**hint**: argmin)"
      ]
    },
    {
      "cell_type": "code",
      "execution_count": null,
      "metadata": {
        "id": "MlXkUSJYLVlU",
        "colab": {
          "base_uri": "https://localhost:8080/"
        },
        "outputId": "525dea9d-12cd-4724-a636-b564f188252d"
      },
      "outputs": [
        {
          "output_type": "execute_result",
          "data": {
            "text/plain": [
              "82.91546778484431"
            ]
          },
          "metadata": {},
          "execution_count": 15
        }
      ],
      "source": [
        "Z = np.arange(100)\n",
        "v = np.random.uniform(0,100)\n",
        "#index = (np.abs(Z-v)).argmin()\n",
        "#print(Z[index])\n",
        "v"
      ]
    },
    {
      "cell_type": "markdown",
      "metadata": {
        "id": "A2R9EH9iLVlU"
      },
      "source": [
        "#### 51. Create a structured array representing a position (x,y) and a color (r,g,b) (★★☆) \n",
        "(**hint**: dtype)"
      ]
    },
    {
      "cell_type": "code",
      "execution_count": null,
      "metadata": {
        "id": "hKhhR3y0LVlU"
      },
      "outputs": [],
      "source": [
        "Z = np.zeros(10, [ ('position', [ ('x', float, 1),\n",
        "('y', float, 1)]),\n",
        "('color', [ ('r', float, 1),\n",
        "('g', float, 1),\n",
        "('b', float, 1)])])\n",
        "print(Z)"
      ]
    },
    {
      "cell_type": "markdown",
      "metadata": {
        "id": "QqGNqRv-LVlU"
      },
      "source": [
        "#### 52. Consider a random vector with shape (100,2) representing coordinates, find point by point distances (★★☆) \n",
        "(**hint**: np.atleast\\_2d, T, np.sqrt)"
      ]
    },
    {
      "cell_type": "code",
      "execution_count": null,
      "metadata": {
        "id": "47sHz2-oLVlV"
      },
      "outputs": [],
      "source": [
        "Z = np.random.random((10,2))\n",
        "X,Y = np.atleast_2d(Z[:,0]), np.atleast_2d(Z[:,1])\n",
        "D = np.sqrt( (X-X.T)**2 + (Y-Y.T)**2)\n",
        "print(D)\n",
        "# Much faster with scipy\n",
        "import scipy\n",
        "# Thanks Gavin Heverly-Coulson (#issue 1)\n",
        "import scipy.spatial\n",
        "Z = np.random.random((10,2))\n",
        "D = scipy.spatial.distance.cdist(Z,Z)\n",
        "print(D)"
      ]
    },
    {
      "cell_type": "markdown",
      "metadata": {
        "id": "ncu8rW0vLVlV"
      },
      "source": [
        "#### 53. How to convert a float (32 bits) array into an integer (32 bits) in place? \n",
        "(**hint**: astype(copy=False))"
      ]
    },
    {
      "cell_type": "code",
      "execution_count": null,
      "metadata": {
        "id": "6qAUxB7JLVlV"
      },
      "outputs": [],
      "source": [
        "Z = np.arange(10, dtype=np.int32)\n",
        "Z = Z.astype(np.float32, copy=False)"
      ]
    },
    {
      "cell_type": "markdown",
      "metadata": {
        "id": "GG8MqSuALVlV"
      },
      "source": [
        "#### 54. How to read the following file? (★★☆) \n",
        "(**hint**: np.genfromtxt)"
      ]
    },
    {
      "cell_type": "markdown",
      "metadata": {
        "id": "TjBa8-2PLVlV"
      },
      "source": [
        "```\n",
        "1, 2, 3, 4, 5\n",
        "6,  ,  , 7, 8\n",
        " ,  , 9,10,11\n",
        "```"
      ]
    },
    {
      "cell_type": "code",
      "execution_count": null,
      "metadata": {
        "id": "5e31PuC4LVlV"
      },
      "outputs": [],
      "source": [
        "# -------------\n",
        "1,2,3,4,5\n",
        "6,,,7,8\n",
        ",,9,10,11\n",
        "# -------------\n",
        "Z = np.genfromtxt(\"missing.dat\", delimiter=\",\")"
      ]
    },
    {
      "cell_type": "markdown",
      "metadata": {
        "id": "2fQcSSLJLVlV"
      },
      "source": [
        "#### 55. What is the equivalent of enumerate for numpy arrays? (★★☆) \n",
        "(**hint**: np.ndenumerate, np.ndindex)"
      ]
    },
    {
      "cell_type": "code",
      "execution_count": null,
      "metadata": {
        "id": "dpSR8mSzLVlW"
      },
      "outputs": [],
      "source": [
        "Z = np.arange(9).reshape(3,3)\n",
        "for index, value in np.ndenumerate(Z):\n",
        "print(index, value)\n",
        "for index in np.ndindex(Z.shape)"
      ]
    },
    {
      "cell_type": "markdown",
      "metadata": {
        "id": "4j7d-_FZLVlW"
      },
      "source": [
        "#### 56. Generate a generic 2D Gaussian-like array (★★☆) \n",
        "(**hint**: np.meshgrid, np.exp)"
      ]
    },
    {
      "cell_type": "code",
      "execution_count": null,
      "metadata": {
        "id": "kLeiVFbMLVlW"
      },
      "outputs": [],
      "source": [
        "X, Y = np.meshgrid(np.linspace(-1,1,10), np.linspace(-1,1,10))\n",
        "D = np.sqrt(X*X+Y*Y)\n",
        "sigma, mu = 1.0, 0.0\n",
        "G = np.exp(-( (D-mu)**2 / ( 2.0 * sigma**2 ) ) )\n",
        "print(G)"
      ]
    },
    {
      "cell_type": "markdown",
      "metadata": {
        "id": "4FJg2sEYLVlW"
      },
      "source": [
        "#### 57. How to randomly place p elements in a 2D array? (★★☆) \n",
        "(**hint**: np.put, np.random.choice)"
      ]
    },
    {
      "cell_type": "code",
      "execution_count": null,
      "metadata": {
        "id": "Q7xrGTK9LVlW"
      },
      "outputs": [],
      "source": [
        "n = 10\n",
        "p = 3\n",
        "Z = np.zeros((n,n))\n",
        "np.put(Z, np.random.choice(range(n*n), p, replace=False),1)"
      ]
    },
    {
      "cell_type": "markdown",
      "metadata": {
        "id": "asiP5NwTLVlW"
      },
      "source": [
        "#### 58. Subtract the mean of each row of a matrix (★★☆) \n",
        "(**hint**: mean(axis=,keepdims=))"
      ]
    },
    {
      "cell_type": "code",
      "execution_count": null,
      "metadata": {
        "id": "IzgID8VaLVlW"
      },
      "outputs": [],
      "source": [
        "X = np.random.rand(5, 10)\n",
        "# Recent versions of numpy\n",
        "Y = X - X.mean(axis=1, keepdims=True)\n",
        "# Older versions of numpy\n",
        "Y = X - X.mean(axis=1).reshape(-1, 1)"
      ]
    },
    {
      "cell_type": "markdown",
      "metadata": {
        "id": "nDpAUVCFLVlW"
      },
      "source": [
        "#### 59. How to sort an array by the nth column? (★★☆) \n",
        "(**hint**: argsort)"
      ]
    },
    {
      "cell_type": "code",
      "execution_count": null,
      "metadata": {
        "id": "oOrqSR57LVlW"
      },
      "outputs": [],
      "source": [
        "Z = np.random.randint(0,10,(3,3))\n",
        "print(Z)\n",
        "print(Z[Z[:,1].argsort()])"
      ]
    },
    {
      "cell_type": "markdown",
      "metadata": {
        "id": "pr_yr_t8LVlW"
      },
      "source": [
        "#### 60. How to tell if a given 2D array has null columns? (★★☆) \n",
        "(**hint**: any, ~)"
      ]
    },
    {
      "cell_type": "code",
      "execution_count": null,
      "metadata": {
        "id": "AOK0MlVMLVlX"
      },
      "outputs": [],
      "source": [
        "Z = np.random.randint(0,3,(3,10))\n",
        "print((~Z.any(axis=0)).any())"
      ]
    },
    {
      "cell_type": "markdown",
      "metadata": {
        "id": "caykvVZaLVlX"
      },
      "source": [
        "#### 61. Find the nearest value from a given value in an array (★★☆) \n",
        "(**hint**: np.abs, argmin, flat)"
      ]
    },
    {
      "cell_type": "code",
      "execution_count": null,
      "metadata": {
        "id": "HIdqn0rzLVlX"
      },
      "outputs": [],
      "source": [
        "Z = np.random.uniform(0,1,10)\n",
        "z = 0.5\n",
        "m = Z.flat[np.abs(Z - z).argmin()]\n",
        "print(m)"
      ]
    },
    {
      "cell_type": "markdown",
      "metadata": {
        "id": "kkW_i1n9LVlX"
      },
      "source": [
        "#### 62. Considering two arrays with shape (1,3) and (3,1), how to compute their sum using an iterator? (★★☆) \n",
        "(**hint**: np.nditer)"
      ]
    },
    {
      "cell_type": "code",
      "execution_count": null,
      "metadata": {
        "id": "7WKdN9B8LVlX"
      },
      "outputs": [],
      "source": [
        "A = np.arange(3).reshape(3,1)\n",
        "B = np.arange(3).reshape(1,3)\n",
        "it = np.nditer([A,B,None])\n",
        "for x,y,z in it: z[...] = x + y\n",
        "print(it.operands[2])"
      ]
    },
    {
      "cell_type": "markdown",
      "metadata": {
        "id": "L1DJqTgULVlX"
      },
      "source": [
        "#### 63. Create an array class that has a name attribute (★★☆) \n",
        "(**hint**: class method)"
      ]
    },
    {
      "cell_type": "code",
      "execution_count": 3,
      "metadata": {
        "id": "-aLfzwZjLVlX",
        "colab": {
          "base_uri": "https://localhost:8080/"
        },
        "outputId": "c650b48a-61ad-4b05-b8d7-8ae2d9b1f426"
      },
      "outputs": [
        {
          "output_type": "stream",
          "name": "stdout",
          "text": [
            "range_10\n"
          ]
        }
      ],
      "source": [
        "class NamedArray(np.ndarray):\n",
        "    def __new__(cls, array, name=\"no name\"):\n",
        "        obj = np.asarray(array).view(cls)\n",
        "        obj.name = name\n",
        "        return obj\n",
        "    def __array_finalize__(self, obj):\n",
        "        if obj is None: return\n",
        "        self.info = getattr(obj, 'name', \"no name\")\n",
        "\n",
        "Z = NamedArray(np.arange(10), \"range_10\")\n",
        "print (Z.name)\n"
      ]
    },
    {
      "cell_type": "markdown",
      "metadata": {
        "id": "ZhZAGE4LLVlX"
      },
      "source": [
        "#### 64. Consider a given vector, how to add 1 to each element indexed by a second vector (be careful with repeated indices)? (★★★) \n",
        "(**hint**: np.bincount | np.add.at)"
      ]
    },
    {
      "cell_type": "code",
      "execution_count": 4,
      "metadata": {
        "id": "db2YL_A1LVlX",
        "colab": {
          "base_uri": "https://localhost:8080/"
        },
        "outputId": "3185848b-815c-4854-d09b-6eedcb6fff3a"
      },
      "outputs": [
        {
          "output_type": "stream",
          "name": "stdout",
          "text": [
            "[3. 2. 2. 3. 3. 4. 2. 3. 5. 3.]\n"
          ]
        }
      ],
      "source": [
        "Z = np.ones(10)\n",
        "I = np.random.randint(0,len(Z),20)\n",
        "Z += np.bincount(I, minlength=len(Z))\n",
        "print(Z)\n"
      ]
    },
    {
      "cell_type": "markdown",
      "metadata": {
        "id": "jv0tOjEILVlY"
      },
      "source": [
        "#### 65. How to accumulate elements of a vector (X) to an array (F) based on an index list (I)? (★★★) \n",
        "(**hint**: np.bincount)"
      ]
    },
    {
      "cell_type": "code",
      "execution_count": 5,
      "metadata": {
        "id": "DOc_HyxTLVlY",
        "colab": {
          "base_uri": "https://localhost:8080/"
        },
        "outputId": "76f9387a-d300-4c99-d7e5-356cec40fd71"
      },
      "outputs": [
        {
          "output_type": "stream",
          "name": "stdout",
          "text": [
            "[0. 7. 0. 6. 5. 0. 0. 0. 0. 3.]\n"
          ]
        }
      ],
      "source": [
        "X = [1,2,3,4,5,6]\n",
        "I = [1,3,9,3,4,1]\n",
        "F = np.bincount(I,X)\n",
        "print(F)"
      ]
    },
    {
      "cell_type": "markdown",
      "metadata": {
        "id": "lFBLzQgOLVlY"
      },
      "source": [
        "#### 66. Considering a (w,h,3) image of (dtype=ubyte), compute the number of unique colors (★★★) \n",
        "(**hint**: np.unique)"
      ]
    },
    {
      "cell_type": "code",
      "execution_count": 6,
      "metadata": {
        "id": "yyqTsJXoLVlY",
        "colab": {
          "base_uri": "https://localhost:8080/"
        },
        "outputId": "29710061-4b7c-4b1d-aaf8-98e74e303c2d"
      },
      "outputs": [
        {
          "output_type": "stream",
          "name": "stdout",
          "text": [
            "8\n"
          ]
        }
      ],
      "source": [
        "w,h = 16,16\n",
        "I = np.random.randint(0,2,(h,w,3)).astype(np.ubyte)\n",
        "#Note that we should compute 256*256 first. \n",
        "#Otherwise numpy will only promote F.dtype to 'uint16' and overfolw will occur\n",
        "F = I[...,0]*(256*256) + I[...,1]*256 +I[...,2]\n",
        "n = len(np.unique(F))\n",
        "print(n)"
      ]
    },
    {
      "cell_type": "markdown",
      "metadata": {
        "id": "lyQCqu2zLVlY"
      },
      "source": [
        "#### 67. Considering a four dimensions array, how to get sum over the last two axis at once? (★★★) \n",
        "(**hint**: sum(axis=(-2,-1)))"
      ]
    },
    {
      "cell_type": "code",
      "execution_count": 7,
      "metadata": {
        "id": "0cAzA3AuLVlZ",
        "colab": {
          "base_uri": "https://localhost:8080/"
        },
        "outputId": "55415a5b-fe58-4a1e-eaa1-0c59f9035f32"
      },
      "outputs": [
        {
          "output_type": "stream",
          "name": "stdout",
          "text": [
            "[[58 54 57 75]\n",
            " [66 51 58 54]\n",
            " [50 37 34 39]]\n",
            "[[58 54 57 75]\n",
            " [66 51 58 54]\n",
            " [50 37 34 39]]\n"
          ]
        }
      ],
      "source": [
        "A = np.random.randint(0,10,(3,4,3,4))\n",
        "# solution by passing a tuple of axes (introduced in numpy 1.7.0)\n",
        "sum = A.sum(axis=(-2,-1))\n",
        "print(sum)\n",
        "# solution by flattening the last two dimensions into one\n",
        "# (useful for functions that don't accept tuples for axis argument)\n",
        "sum = A.reshape(A.shape[:-2] + (-1,)).sum(axis=-1)\n",
        "print(sum)\n"
      ]
    },
    {
      "cell_type": "markdown",
      "metadata": {
        "id": "1gIBu7CRLVlZ"
      },
      "source": [
        "#### 68. Considering a one-dimensional vector D, how to compute means of subsets of D using a vector S of same size describing subset  indices? (★★★) \n",
        "(**hint**: np.bincount)"
      ]
    },
    {
      "cell_type": "code",
      "execution_count": 8,
      "metadata": {
        "id": "VmPP5GXMLVlZ",
        "colab": {
          "base_uri": "https://localhost:8080/"
        },
        "outputId": "6ada0e51-bf58-4cb1-c55d-4fe7be3677ff"
      },
      "outputs": [
        {
          "output_type": "stream",
          "name": "stdout",
          "text": [
            "[0.52997545 0.54386943 0.5364476  0.58257951 0.57928498 0.54590175\n",
            " 0.55003417 0.52649516 0.39497882 0.36158632]\n",
            "0    0.529975\n",
            "1    0.543869\n",
            "2    0.536448\n",
            "3    0.582580\n",
            "4    0.579285\n",
            "5    0.545902\n",
            "6    0.550034\n",
            "7    0.526495\n",
            "8    0.394979\n",
            "9    0.361586\n",
            "dtype: float64\n"
          ]
        }
      ],
      "source": [
        "D = np.random.uniform(0,1,100)\n",
        "S = np.random.randint(0,10,100)\n",
        "D_sums = np.bincount(S, weights=D)\n",
        "D_counts = np.bincount(S)\n",
        "D_means = D_sums / D_counts\n",
        "print(D_means)\n",
        "\n",
        "# Pandas solution as a reference due to more intuitive code\n",
        "import pandas as pd\n",
        "print(pd.Series(D).groupby(S).mean())\n"
      ]
    },
    {
      "cell_type": "markdown",
      "metadata": {
        "id": "4UALIY5yLVlZ"
      },
      "source": [
        "#### 69. How to get the diagonal of a dot product? (★★★) \n",
        "(**hint**: np.diag)"
      ]
    },
    {
      "cell_type": "code",
      "execution_count": 9,
      "metadata": {
        "id": "fQKESr6MLVlZ",
        "colab": {
          "base_uri": "https://localhost:8080/"
        },
        "outputId": "3d06dce1-4c48-401f-b0c9-8ab353be228d"
      },
      "outputs": [
        {
          "output_type": "execute_result",
          "data": {
            "text/plain": [
              "array([2.37620837, 2.44524604, 1.5817616 , 0.75347049, 1.45532055])"
            ]
          },
          "metadata": {},
          "execution_count": 9
        }
      ],
      "source": [
        "A = np.random.uniform(0,1,(5,5))\n",
        "B = np.random.uniform(0,1,(5,5))\n",
        "\n",
        "# Slow version  \n",
        "np.diag(np.dot(A, B))\n",
        "\n",
        "# Fast version\n",
        "np.sum(A * B.T, axis=1)\n",
        "\n",
        "# Faster version\n",
        "np.einsum(\"ij,ji->i\", A, B)\n"
      ]
    },
    {
      "cell_type": "markdown",
      "metadata": {
        "id": "TCspkyMlLVlZ"
      },
      "source": [
        "#### 70. Consider the vector \\[1, 2, 3, 4, 5\\], how to build a new vector with 3 consecutive zeros interleaved between each value? (★★★) \n",
        "(**hint**: array\\[::4\\])"
      ]
    },
    {
      "cell_type": "code",
      "execution_count": 10,
      "metadata": {
        "id": "c-ueQZzWLVla",
        "colab": {
          "base_uri": "https://localhost:8080/"
        },
        "outputId": "4d729847-a3c5-4388-cb38-4562910bae5d"
      },
      "outputs": [
        {
          "output_type": "stream",
          "name": "stdout",
          "text": [
            "[1. 0. 0. 0. 2. 0. 0. 0. 3. 0. 0. 0. 4. 0. 0. 0. 5.]\n"
          ]
        }
      ],
      "source": [
        "Z = np.array([1,2,3,4,5])\n",
        "nz = 3\n",
        "Z0 = np.zeros(len(Z) + (len(Z)-1)*(nz))\n",
        "Z0[::nz+1] = Z\n",
        "print(Z0)"
      ]
    },
    {
      "cell_type": "markdown",
      "metadata": {
        "id": "bU2csu9ZLVla"
      },
      "source": [
        "#### 71. Consider an array of dimension (5,5,3), how to mulitply it by an array with dimensions (5,5)? (★★★) \n",
        "(**hint**: array\\[:, :, None\\])"
      ]
    },
    {
      "cell_type": "code",
      "execution_count": 11,
      "metadata": {
        "collapsed": true,
        "id": "GwGOkxPuLVla",
        "colab": {
          "base_uri": "https://localhost:8080/"
        },
        "outputId": "7f01c4e0-7848-44b5-88b5-c19e0a749e28"
      },
      "outputs": [
        {
          "output_type": "stream",
          "name": "stdout",
          "text": [
            "[[[2. 2. 2.]\n",
            "  [2. 2. 2.]\n",
            "  [2. 2. 2.]\n",
            "  [2. 2. 2.]\n",
            "  [2. 2. 2.]]\n",
            "\n",
            " [[2. 2. 2.]\n",
            "  [2. 2. 2.]\n",
            "  [2. 2. 2.]\n",
            "  [2. 2. 2.]\n",
            "  [2. 2. 2.]]\n",
            "\n",
            " [[2. 2. 2.]\n",
            "  [2. 2. 2.]\n",
            "  [2. 2. 2.]\n",
            "  [2. 2. 2.]\n",
            "  [2. 2. 2.]]\n",
            "\n",
            " [[2. 2. 2.]\n",
            "  [2. 2. 2.]\n",
            "  [2. 2. 2.]\n",
            "  [2. 2. 2.]\n",
            "  [2. 2. 2.]]\n",
            "\n",
            " [[2. 2. 2.]\n",
            "  [2. 2. 2.]\n",
            "  [2. 2. 2.]\n",
            "  [2. 2. 2.]\n",
            "  [2. 2. 2.]]]\n"
          ]
        }
      ],
      "source": [
        "A = np.ones((5,5,3))\n",
        "B = 2*np.ones((5,5))\n",
        "print(A * B[:,:,None])\n"
      ]
    },
    {
      "cell_type": "markdown",
      "metadata": {
        "id": "gBzr5xCNLVla"
      },
      "source": [
        "#### 72. How to swap two rows of an array? (★★★) \n",
        "(**hint**: array\\[\\[\\]\\] = array\\[\\[\\]\\])"
      ]
    },
    {
      "cell_type": "code",
      "execution_count": 12,
      "metadata": {
        "id": "hQ8lfPVvLVla",
        "colab": {
          "base_uri": "https://localhost:8080/"
        },
        "outputId": "b65ecd36-6cb8-4eff-dd81-653be3b32b21"
      },
      "outputs": [
        {
          "output_type": "stream",
          "name": "stdout",
          "text": [
            "[[ 5  6  7  8  9]\n",
            " [ 0  1  2  3  4]\n",
            " [10 11 12 13 14]\n",
            " [15 16 17 18 19]\n",
            " [20 21 22 23 24]]\n"
          ]
        }
      ],
      "source": [
        "A = np.arange(25).reshape(5,5)\n",
        "A[[0,1]] = A[[1,0]]\n",
        "print(A)\n"
      ]
    },
    {
      "cell_type": "markdown",
      "metadata": {
        "id": "k7u4vOkvLVla"
      },
      "source": [
        "#### 73. Consider a set of 10 triplets describing 10 triangles (with shared vertices), find the set of unique line segments composing all the  triangles (★★★) \n",
        "(**hint**: repeat, np.roll, np.sort, view, np.unique)"
      ]
    },
    {
      "cell_type": "code",
      "execution_count": 13,
      "metadata": {
        "id": "OAvCulLRLVla",
        "colab": {
          "base_uri": "https://localhost:8080/"
        },
        "outputId": "777408bb-01b2-4f8b-f9bf-0e9e3d9f9159"
      },
      "outputs": [
        {
          "output_type": "stream",
          "name": "stdout",
          "text": [
            "[( 3, 28) ( 3, 54) ( 3, 94) ( 3, 99) ( 4, 59) ( 4, 64) ( 5, 24) ( 5, 41)\n",
            " ( 5, 60) ( 5, 87) (15, 47) (15, 89) (17, 73) (17, 92) (24, 41) (27, 44)\n",
            " (27, 51) (28, 54) (44, 51) (47, 89) (55, 86) (55, 98) (59, 64) (60, 87)\n",
            " (73, 92) (77, 84) (77, 98) (84, 98) (86, 98) (94, 99)]\n"
          ]
        }
      ],
      "source": [
        "faces = np.random.randint(0,100,(10,3))\n",
        "F = np.roll(faces.repeat(2,axis=1),-1,axis=1)\n",
        "F = F.reshape(len(F)*3,2)\n",
        "F = np.sort(F,axis=1)\n",
        "G = F.view( dtype=[('p0',F.dtype),('p1',F.dtype)] )\n",
        "G = np.unique(G)\n",
        "print(G)\n"
      ]
    },
    {
      "cell_type": "markdown",
      "metadata": {
        "id": "k5zD09ohLVla"
      },
      "source": [
        "#### 74. Given an array C that is a bincount, how to produce an array A such that np.bincount(A) == C? (★★★) \n",
        "(**hint**: np.repeat)"
      ]
    },
    {
      "cell_type": "code",
      "execution_count": 14,
      "metadata": {
        "id": "BUpLsp80LVlb",
        "colab": {
          "base_uri": "https://localhost:8080/"
        },
        "outputId": "ece3a60f-ff24-4a99-dc56-e6bc6726e862"
      },
      "outputs": [
        {
          "output_type": "stream",
          "name": "stdout",
          "text": [
            "[1 1 2 3 4 4 6]\n"
          ]
        }
      ],
      "source": [
        "C = np.bincount([1,1,2,3,4,4,6])\n",
        "A = np.repeat(np.arange(len(C)), C)\n",
        "print(A)"
      ]
    },
    {
      "cell_type": "markdown",
      "metadata": {
        "id": "u3ylWWORLVlb"
      },
      "source": [
        "#### 75. How to compute averages using a sliding window over an array? (★★★) \n",
        "(**hint**: np.cumsum)"
      ]
    },
    {
      "cell_type": "code",
      "execution_count": 15,
      "metadata": {
        "id": "vaWOMOzyLVlb",
        "colab": {
          "base_uri": "https://localhost:8080/"
        },
        "outputId": "eb1a047c-0077-4f2a-adb4-e9f5f690f3ce"
      },
      "outputs": [
        {
          "output_type": "stream",
          "name": "stdout",
          "text": [
            "[ 1.  2.  3.  4.  5.  6.  7.  8.  9. 10. 11. 12. 13. 14. 15. 16. 17. 18.]\n"
          ]
        }
      ],
      "source": [
        "def moving_average(a, n=3) :\n",
        "    ret = np.cumsum(a, dtype=float)\n",
        "    ret[n:] = ret[n:] - ret[:-n]\n",
        "    return ret[n - 1:] / n\n",
        "Z = np.arange(20)\n",
        "print(moving_average(Z, n=3))\n"
      ]
    },
    {
      "cell_type": "markdown",
      "metadata": {
        "id": "6R0qZY6gLVlb"
      },
      "source": [
        "#### 76. Consider a one-dimensional array Z, build a two-dimensional array whose first row is (Z\\[0\\],Z\\[1\\],Z\\[2\\]) and each subsequent row is  shifted by 1 (last row should be (Z\\[-3\\],Z\\[-2\\],Z\\[-1\\]) (★★★) \n",
        "(**hint**: from numpy.lib import stride_tricks)"
      ]
    },
    {
      "cell_type": "code",
      "execution_count": 16,
      "metadata": {
        "id": "enB56reeLVlb",
        "colab": {
          "base_uri": "https://localhost:8080/"
        },
        "outputId": "84424fec-c8ba-4c44-92f1-1767c9fb9bee"
      },
      "outputs": [
        {
          "output_type": "stream",
          "name": "stdout",
          "text": [
            "[[0 1 2]\n",
            " [1 2 3]\n",
            " [2 3 4]\n",
            " [3 4 5]\n",
            " [4 5 6]\n",
            " [5 6 7]\n",
            " [6 7 8]\n",
            " [7 8 9]]\n"
          ]
        }
      ],
      "source": [
        "from numpy.lib import stride_tricks\n",
        "\n",
        "def rolling(a, window):\n",
        "    shape = (a.size - window + 1, window)\n",
        "    strides = (a.itemsize, a.itemsize)\n",
        "    return stride_tricks.as_strided(a, shape=shape, strides=strides)\n",
        "Z = rolling(np.arange(10), 3)\n",
        "print(Z)\n"
      ]
    },
    {
      "cell_type": "markdown",
      "metadata": {
        "id": "VhdLxpG4LVlb"
      },
      "source": [
        "#### 77. How to negate a boolean, or to change the sign of a float inplace? (★★★) \n",
        "(**hint**: np.logical_not, np.negative)"
      ]
    },
    {
      "cell_type": "code",
      "execution_count": 17,
      "metadata": {
        "id": "P5NkLoqMLVlb",
        "colab": {
          "base_uri": "https://localhost:8080/"
        },
        "outputId": "7137cb78-1dc3-42b6-d31f-99afd3dbcbb9"
      },
      "outputs": [
        {
          "output_type": "execute_result",
          "data": {
            "text/plain": [
              "array([-0.81414806, -0.8564482 ,  0.58388894, -0.97613412,  0.99449075,\n",
              "        0.69343124, -0.07363955, -0.09282395,  0.35744645,  0.15469131,\n",
              "        0.30053094, -0.92859216, -0.87290312, -0.78099843,  0.57045077,\n",
              "        0.77903316,  0.56857596,  0.32186183, -0.76640458,  0.84802362,\n",
              "       -0.74025463,  0.54965225, -0.87507458, -0.97790786, -0.74859608,\n",
              "        0.87597164, -0.42403169,  0.09389005, -0.53418537,  0.98220474,\n",
              "        0.28571567,  0.72673319,  0.16309892,  0.69080916,  0.84134641,\n",
              "        0.43852515,  0.33434772,  0.56312047, -0.50122512, -0.34833472,\n",
              "       -0.77921776,  0.13648823, -0.10774127, -0.92552321, -0.35814976,\n",
              "        0.33289695,  0.91135198,  0.76608795,  0.24583209,  0.03155025,\n",
              "        0.61563473, -0.25299139, -0.18150765, -0.45716942, -0.79621959,\n",
              "       -0.01217586,  0.88679135,  0.81163209,  0.00590678,  0.97111619,\n",
              "       -0.73081072,  0.28557555,  0.12336843, -0.5837877 ,  0.22863023,\n",
              "        0.66396002,  0.08286486,  0.75128169, -0.43485738, -0.12294389,\n",
              "        0.12192429,  0.26763155,  0.96709915,  0.47932969,  0.46212887,\n",
              "        0.80071813, -0.19304247, -0.25801827,  0.63118346,  0.67854885,\n",
              "       -0.70350506, -0.65830829, -0.47245605,  0.23786191, -0.25221235,\n",
              "        0.77631517, -0.51213258, -0.68242768, -0.04636219,  0.26331969,\n",
              "       -0.54016698, -0.55795872,  0.86437395,  0.25722769, -0.1590159 ,\n",
              "        0.51485395, -0.49372317, -0.99421563, -0.13952503, -0.02961764])"
            ]
          },
          "metadata": {},
          "execution_count": 17
        }
      ],
      "source": [
        "Z = np.random.randint(0,2,100)\n",
        "np.logical_not(Z, out=Z)\n",
        "\n",
        "Z = np.random.uniform(-1.0,1.0,100)\n",
        "np.negative(Z, out=Z)\n"
      ]
    },
    {
      "cell_type": "markdown",
      "metadata": {
        "id": "Pvq_xra1LVlb"
      },
      "source": [
        "#### 78. Consider 2 sets of points P0,P1 describing lines (2d) and a point p, how to compute distance from p to each line i  (P0\\[i\\],P1\\[i\\])? (★★★)"
      ]
    },
    {
      "cell_type": "code",
      "execution_count": 19,
      "metadata": {
        "id": "FBad7SkmLVlb",
        "colab": {
          "base_uri": "https://localhost:8080/"
        },
        "outputId": "86a78378-b9b1-4411-bc3d-351a439027b3"
      },
      "outputs": [
        {
          "output_type": "stream",
          "name": "stdout",
          "text": [
            "[15.20914153  9.17352107 11.39961462  6.33314137 16.04996348  6.55166248\n",
            " 11.34201509  0.02702155 13.65766341  1.40829246]\n"
          ]
        }
      ],
      "source": [
        "def distance(P0, P1, p):\n",
        "    T = P1 - P0\n",
        "    L = (T**2).sum(axis=1)\n",
        "    U = -((P0[:,0]-p[...,0])*T[:,0] + (P0[:,1]-p[...,1])*T[:,1]) / L\n",
        "    U = U.reshape(len(U),1)\n",
        "    D = P0 + U*T - p\n",
        "    return np.sqrt((D**2).sum(axis=1))\n",
        "\n",
        "P0 = np.random.uniform(-10,10,(10,2))\n",
        "P1 = np.random.uniform(-10,10,(10,2))\n",
        "p  = np.random.uniform(-10,10,( 1,2))\n",
        "print(distance(P0, P1, p))\n"
      ]
    },
    {
      "cell_type": "markdown",
      "metadata": {
        "id": "jRMQw3mJLVlb"
      },
      "source": [
        "#### 79. Consider 2 sets of points P0,P1 describing lines (2d) and a set of points P, how to compute distance from each point j (P\\[j\\]) to each line i (P0\\[i\\],P1\\[i\\])? (★★★)"
      ]
    },
    {
      "cell_type": "code",
      "execution_count": 20,
      "metadata": {
        "id": "26QQ-W47LVlc",
        "colab": {
          "base_uri": "https://localhost:8080/"
        },
        "outputId": "8264ddd2-ec8f-4789-c1c1-d90faa886bd7"
      },
      "outputs": [
        {
          "output_type": "stream",
          "name": "stdout",
          "text": [
            "[[ 5.97915685 12.17176868 11.02352448  4.65082783 16.2618074   0.36110552\n",
            "  10.66625809  2.1236943  11.63425495  1.33559086]\n",
            " [ 1.93931822 14.00223255 10.569389   11.44868748 15.99412295  4.52081512\n",
            "  16.86400384  5.16361815 10.43816497  3.83464025]\n",
            " [ 8.16249729  3.47145399  1.15754588  7.72027898  4.33090318  2.79980415\n",
            "  11.79097178 13.41768858  1.48256122 14.89908069]\n",
            " [ 9.4300362   1.62505266  3.26252758  7.18709989  2.24096443  4.01261027\n",
            "  11.00569139 15.03585953  3.63672376 16.97808397]\n",
            " [ 3.37194262  0.65335103  3.74911751  1.32096181  1.60565366  8.56599273\n",
            "   5.53463853  9.64600061  3.52711778 13.53611283]\n",
            " [10.35660964  7.52689509  7.82352037  1.86034914 12.93359326  6.44641032\n",
            "   4.22186111  5.38525237  8.96258041  2.06877551]\n",
            " [ 9.8747365   2.24894819  1.59628088  8.93964165  3.45672694 15.36580976\n",
            "   3.61508104  2.85443109  0.18077955  4.02910516]\n",
            " [11.68159259  4.12883239  4.96254533  5.34090146 10.02002724 10.14532144\n",
            "   0.61622462  5.95189986  6.32631829  1.12545661]\n",
            " [ 2.6421709   5.05778079  1.87815201  5.15045344  7.25642324  3.53497245\n",
            "   9.8482851   7.73306921  1.97728332  9.62038664]\n",
            " [ 7.1356926   6.92843529  6.36302459  0.11305075 11.53964568  5.71254995\n",
            "   5.6271036   2.13753364  7.24397045  0.81982621]]\n"
          ]
        }
      ],
      "source": [
        "P0 = np.random.uniform(-10, 10, (10,2))\n",
        "P1 = np.random.uniform(-10,10,(10,2))\n",
        "p = np.random.uniform(-10, 10, (10,2))\n",
        "print(np.array([distance(P0,P1,p_i) for p_i in p]))\n"
      ]
    },
    {
      "cell_type": "markdown",
      "metadata": {
        "id": "FOSyvASYLVlc"
      },
      "source": [
        "#### 80. Consider an arbitrary array, write a function that extract a subpart with a fixed shape and centered on a given element (pad with a `fill` value when necessary) (★★★) \n",
        "(**hint**: minimum, maximum)"
      ]
    },
    {
      "cell_type": "code",
      "execution_count": 21,
      "metadata": {
        "id": "nbJQOAQvLVlc",
        "colab": {
          "base_uri": "https://localhost:8080/"
        },
        "outputId": "54c77f33-79a4-4b85-b3f1-316ddd090c81"
      },
      "outputs": [
        {
          "output_type": "stream",
          "name": "stdout",
          "text": [
            "[[9 4 5 1 1 0 2 9 5 9]\n",
            " [8 9 9 7 2 9 5 6 0 1]\n",
            " [1 4 2 0 6 8 7 3 9 7]\n",
            " [6 8 9 2 7 8 3 7 0 4]\n",
            " [5 2 4 0 9 5 7 0 3 1]\n",
            " [5 2 8 1 3 3 2 1 0 9]\n",
            " [5 5 8 1 6 4 8 8 4 4]\n",
            " [9 4 4 9 4 4 2 4 7 1]\n",
            " [7 1 2 1 9 9 9 7 2 8]\n",
            " [4 2 2 9 7 2 9 0 2 4]]\n",
            "[[0 0 0 0 0]\n",
            " [0 9 4 5 1]\n",
            " [0 8 9 9 7]\n",
            " [0 1 4 2 0]\n",
            " [0 6 8 9 2]]\n"
          ]
        },
        {
          "output_type": "stream",
          "name": "stderr",
          "text": [
            "<ipython-input-21-f2b5781f38bf>:23: FutureWarning: Using a non-tuple sequence for multidimensional indexing is deprecated; use `arr[tuple(seq)]` instead of `arr[seq]`. In the future this will be interpreted as an array index, `arr[np.array(seq)]`, which will result either in an error or a different result.\n",
            "  R[r] = Z[z]\n"
          ]
        }
      ],
      "source": [
        "Z = np.random.randint(0,10,(10,10))\n",
        "shape = (5,5)\n",
        "fill  = 0\n",
        "position = (1,1)\n",
        "\n",
        "R = np.ones(shape, dtype=Z.dtype)*fill\n",
        "P  = np.array(list(position)).astype(int)\n",
        "Rs = np.array(list(R.shape)).astype(int)\n",
        "Zs = np.array(list(Z.shape)).astype(int)\n",
        "\n",
        "R_start = np.zeros((len(shape),)).astype(int)\n",
        "R_stop  = np.array(list(shape)).astype(int)\n",
        "Z_start = (P-Rs//2)\n",
        "Z_stop  = (P+Rs//2)+Rs%2\n",
        "\n",
        "R_start = (R_start - np.minimum(Z_start,0)).tolist()\n",
        "Z_start = (np.maximum(Z_start,0)).tolist()\n",
        "R_stop = np.maximum(R_start, (R_stop - np.maximum(Z_stop-Zs,0))).tolist()\n",
        "Z_stop = (np.minimum(Z_stop,Zs)).tolist()\n",
        "\n",
        "r = [slice(start,stop) for start,stop in zip(R_start,R_stop)]\n",
        "z = [slice(start,stop) for start,stop in zip(Z_start,Z_stop)]\n",
        "R[r] = Z[z]\n",
        "print(Z)\n",
        "print(R)"
      ]
    },
    {
      "cell_type": "markdown",
      "metadata": {
        "id": "v6KTzWYaLVlc"
      },
      "source": [
        "#### 81. Consider an array Z = \\[1,2,3,4,5,6,7,8,9,10,11,12,13,14\\], how to generate an array R = \\[\\[1,2,3,4\\], \\[2,3,4,5\\], \\[3,4,5,6\\], ..., \\[11,12,13,14\\]\\]? (★★★) \n",
        "(**hint**: stride\\_tricks.as\\_strided)"
      ]
    },
    {
      "cell_type": "code",
      "execution_count": 22,
      "metadata": {
        "id": "0RyG2sQ_LVlc",
        "colab": {
          "base_uri": "https://localhost:8080/"
        },
        "outputId": "5893ae75-7bbb-4d13-c3b2-9e45c6581387"
      },
      "outputs": [
        {
          "output_type": "stream",
          "name": "stdout",
          "text": [
            "[[ 1  2  3  4]\n",
            " [ 2  3  4  5]\n",
            " [ 3  4  5  6]\n",
            " [ 4  5  6  7]\n",
            " [ 5  6  7  8]\n",
            " [ 6  7  8  9]\n",
            " [ 7  8  9 10]\n",
            " [ 8  9 10 11]\n",
            " [ 9 10 11 12]\n",
            " [10 11 12 13]\n",
            " [11 12 13 14]]\n"
          ]
        }
      ],
      "source": [
        "Z = np.arange(1,15,dtype=np.uint32)\n",
        "R = stride_tricks.as_strided(Z,(11,4),(4,4))\n",
        "print(R)\n"
      ]
    },
    {
      "cell_type": "markdown",
      "metadata": {
        "id": "ft7ibgF9LVlc"
      },
      "source": [
        "#### 82. Compute a matrix rank (★★★) \n",
        "(**hint**: np.linalg.svd) (suggestion: np.linalg.svd)"
      ]
    },
    {
      "cell_type": "code",
      "execution_count": 23,
      "metadata": {
        "id": "xApZREquLVlc",
        "colab": {
          "base_uri": "https://localhost:8080/"
        },
        "outputId": "1bf2014d-350a-48cd-8d85-4781b0ecca85"
      },
      "outputs": [
        {
          "output_type": "stream",
          "name": "stdout",
          "text": [
            "10\n"
          ]
        }
      ],
      "source": [
        "Z = np.random.uniform(0,1,(10,10))\n",
        "U, S, V = np.linalg.svd(Z) # Singular Value Decomposition\n",
        "rank = np.sum(S > 1e-10)\n",
        "print(rank)\n"
      ]
    },
    {
      "cell_type": "markdown",
      "metadata": {
        "id": "vKszGnBaLVlc"
      },
      "source": [
        "#### 83. How to find the most frequent value in an array? \n",
        "(**hint**: np.bincount, argmax)"
      ]
    },
    {
      "cell_type": "code",
      "execution_count": 24,
      "metadata": {
        "id": "3_TyqbM4LVlc",
        "colab": {
          "base_uri": "https://localhost:8080/"
        },
        "outputId": "d906c8f7-ec1e-4705-883c-00c2c08fe6a2"
      },
      "outputs": [
        {
          "output_type": "stream",
          "name": "stdout",
          "text": [
            "5\n"
          ]
        }
      ],
      "source": [
        "Z = np.random.randint(0,10,50)\n",
        "print(np.bincount(Z).argmax())\n"
      ]
    },
    {
      "cell_type": "markdown",
      "metadata": {
        "id": "CNoC8Be-LVld"
      },
      "source": [
        "#### 84. Extract all the contiguous 3x3 blocks from a random 10x10 matrix (★★★) \n",
        "(**hint**: stride\\_tricks.as\\_strided)"
      ]
    },
    {
      "cell_type": "code",
      "execution_count": 25,
      "metadata": {
        "id": "QmK6Ox4pLVld",
        "colab": {
          "base_uri": "https://localhost:8080/"
        },
        "outputId": "2f8f0b11-b20a-4798-990e-203572ac34af"
      },
      "outputs": [
        {
          "output_type": "stream",
          "name": "stdout",
          "text": [
            "[[[[2 0 1]\n",
            "   [0 2 1]\n",
            "   [1 1 2]]\n",
            "\n",
            "  [[0 1 0]\n",
            "   [2 1 2]\n",
            "   [1 2 4]]\n",
            "\n",
            "  [[1 0 3]\n",
            "   [1 2 4]\n",
            "   [2 4 3]]\n",
            "\n",
            "  [[0 3 3]\n",
            "   [2 4 3]\n",
            "   [4 3 3]]\n",
            "\n",
            "  [[3 3 0]\n",
            "   [4 3 2]\n",
            "   [3 3 3]]\n",
            "\n",
            "  [[3 0 2]\n",
            "   [3 2 0]\n",
            "   [3 3 3]]\n",
            "\n",
            "  [[0 2 2]\n",
            "   [2 0 2]\n",
            "   [3 3 1]]\n",
            "\n",
            "  [[2 2 3]\n",
            "   [0 2 1]\n",
            "   [3 1 2]]]\n",
            "\n",
            "\n",
            " [[[0 2 1]\n",
            "   [1 1 2]\n",
            "   [1 1 2]]\n",
            "\n",
            "  [[2 1 2]\n",
            "   [1 2 4]\n",
            "   [1 2 3]]\n",
            "\n",
            "  [[1 2 4]\n",
            "   [2 4 3]\n",
            "   [2 3 3]]\n",
            "\n",
            "  [[2 4 3]\n",
            "   [4 3 3]\n",
            "   [3 3 2]]\n",
            "\n",
            "  [[4 3 2]\n",
            "   [3 3 3]\n",
            "   [3 2 1]]\n",
            "\n",
            "  [[3 2 0]\n",
            "   [3 3 3]\n",
            "   [2 1 4]]\n",
            "\n",
            "  [[2 0 2]\n",
            "   [3 3 1]\n",
            "   [1 4 3]]\n",
            "\n",
            "  [[0 2 1]\n",
            "   [3 1 2]\n",
            "   [4 3 4]]]\n",
            "\n",
            "\n",
            " [[[1 1 2]\n",
            "   [1 1 2]\n",
            "   [0 4 3]]\n",
            "\n",
            "  [[1 2 4]\n",
            "   [1 2 3]\n",
            "   [4 3 1]]\n",
            "\n",
            "  [[2 4 3]\n",
            "   [2 3 3]\n",
            "   [3 1 0]]\n",
            "\n",
            "  [[4 3 3]\n",
            "   [3 3 2]\n",
            "   [1 0 0]]\n",
            "\n",
            "  [[3 3 3]\n",
            "   [3 2 1]\n",
            "   [0 0 0]]\n",
            "\n",
            "  [[3 3 3]\n",
            "   [2 1 4]\n",
            "   [0 0 3]]\n",
            "\n",
            "  [[3 3 1]\n",
            "   [1 4 3]\n",
            "   [0 3 2]]\n",
            "\n",
            "  [[3 1 2]\n",
            "   [4 3 4]\n",
            "   [3 2 1]]]\n",
            "\n",
            "\n",
            " [[[1 1 2]\n",
            "   [0 4 3]\n",
            "   [0 1 4]]\n",
            "\n",
            "  [[1 2 3]\n",
            "   [4 3 1]\n",
            "   [1 4 3]]\n",
            "\n",
            "  [[2 3 3]\n",
            "   [3 1 0]\n",
            "   [4 3 0]]\n",
            "\n",
            "  [[3 3 2]\n",
            "   [1 0 0]\n",
            "   [3 0 3]]\n",
            "\n",
            "  [[3 2 1]\n",
            "   [0 0 0]\n",
            "   [0 3 4]]\n",
            "\n",
            "  [[2 1 4]\n",
            "   [0 0 3]\n",
            "   [3 4 1]]\n",
            "\n",
            "  [[1 4 3]\n",
            "   [0 3 2]\n",
            "   [4 1 2]]\n",
            "\n",
            "  [[4 3 4]\n",
            "   [3 2 1]\n",
            "   [1 2 2]]]\n",
            "\n",
            "\n",
            " [[[0 4 3]\n",
            "   [0 1 4]\n",
            "   [3 4 0]]\n",
            "\n",
            "  [[4 3 1]\n",
            "   [1 4 3]\n",
            "   [4 0 3]]\n",
            "\n",
            "  [[3 1 0]\n",
            "   [4 3 0]\n",
            "   [0 3 4]]\n",
            "\n",
            "  [[1 0 0]\n",
            "   [3 0 3]\n",
            "   [3 4 1]]\n",
            "\n",
            "  [[0 0 0]\n",
            "   [0 3 4]\n",
            "   [4 1 2]]\n",
            "\n",
            "  [[0 0 3]\n",
            "   [3 4 1]\n",
            "   [1 2 4]]\n",
            "\n",
            "  [[0 3 2]\n",
            "   [4 1 2]\n",
            "   [2 4 1]]\n",
            "\n",
            "  [[3 2 1]\n",
            "   [1 2 2]\n",
            "   [4 1 3]]]\n",
            "\n",
            "\n",
            " [[[0 1 4]\n",
            "   [3 4 0]\n",
            "   [4 1 3]]\n",
            "\n",
            "  [[1 4 3]\n",
            "   [4 0 3]\n",
            "   [1 3 4]]\n",
            "\n",
            "  [[4 3 0]\n",
            "   [0 3 4]\n",
            "   [3 4 1]]\n",
            "\n",
            "  [[3 0 3]\n",
            "   [3 4 1]\n",
            "   [4 1 2]]\n",
            "\n",
            "  [[0 3 4]\n",
            "   [4 1 2]\n",
            "   [1 2 1]]\n",
            "\n",
            "  [[3 4 1]\n",
            "   [1 2 4]\n",
            "   [2 1 0]]\n",
            "\n",
            "  [[4 1 2]\n",
            "   [2 4 1]\n",
            "   [1 0 4]]\n",
            "\n",
            "  [[1 2 2]\n",
            "   [4 1 3]\n",
            "   [0 4 1]]]\n",
            "\n",
            "\n",
            " [[[3 4 0]\n",
            "   [4 1 3]\n",
            "   [4 1 0]]\n",
            "\n",
            "  [[4 0 3]\n",
            "   [1 3 4]\n",
            "   [1 0 4]]\n",
            "\n",
            "  [[0 3 4]\n",
            "   [3 4 1]\n",
            "   [0 4 1]]\n",
            "\n",
            "  [[3 4 1]\n",
            "   [4 1 2]\n",
            "   [4 1 2]]\n",
            "\n",
            "  [[4 1 2]\n",
            "   [1 2 1]\n",
            "   [1 2 1]]\n",
            "\n",
            "  [[1 2 4]\n",
            "   [2 1 0]\n",
            "   [2 1 1]]\n",
            "\n",
            "  [[2 4 1]\n",
            "   [1 0 4]\n",
            "   [1 1 4]]\n",
            "\n",
            "  [[4 1 3]\n",
            "   [0 4 1]\n",
            "   [1 4 4]]]\n",
            "\n",
            "\n",
            " [[[4 1 3]\n",
            "   [4 1 0]\n",
            "   [3 0 3]]\n",
            "\n",
            "  [[1 3 4]\n",
            "   [1 0 4]\n",
            "   [0 3 3]]\n",
            "\n",
            "  [[3 4 1]\n",
            "   [0 4 1]\n",
            "   [3 3 3]]\n",
            "\n",
            "  [[4 1 2]\n",
            "   [4 1 2]\n",
            "   [3 3 0]]\n",
            "\n",
            "  [[1 2 1]\n",
            "   [1 2 1]\n",
            "   [3 0 0]]\n",
            "\n",
            "  [[2 1 0]\n",
            "   [2 1 1]\n",
            "   [0 0 2]]\n",
            "\n",
            "  [[1 0 4]\n",
            "   [1 1 4]\n",
            "   [0 2 0]]\n",
            "\n",
            "  [[0 4 1]\n",
            "   [1 4 4]\n",
            "   [2 0 1]]]]\n"
          ]
        }
      ],
      "source": [
        "Z = np.random.randint(0,5,(10,10))\n",
        "n = 3\n",
        "i = 1 + (Z.shape[0]-3)\n",
        "j = 1 + (Z.shape[1]-3)\n",
        "C = stride_tricks.as_strided(Z, shape=(i, j, n, n), strides=Z.strides + Z.strides)\n",
        "print(C)\n"
      ]
    },
    {
      "cell_type": "markdown",
      "metadata": {
        "id": "_LCmLarbLVld"
      },
      "source": [
        "#### 85. Create a 2D array subclass such that Z\\[i,j\\] == Z\\[j,i\\] (★★★) \n",
        "(**hint**: class method)"
      ]
    },
    {
      "cell_type": "code",
      "execution_count": 26,
      "metadata": {
        "id": "ZWdqbqX5LVld",
        "colab": {
          "base_uri": "https://localhost:8080/"
        },
        "outputId": "ad85cf24-c430-4eb7-8a0b-f027b392b4bb"
      },
      "outputs": [
        {
          "output_type": "stream",
          "name": "stdout",
          "text": [
            "[[ 1  6 12 10  7]\n",
            " [ 6  5  9 15 11]\n",
            " [12  9  3 42  5]\n",
            " [10 15 42  0  7]\n",
            " [ 7 11  5  7  9]]\n"
          ]
        }
      ],
      "source": [
        "class Symetric(np.ndarray):\n",
        "    def __setitem__(self, index, value):\n",
        "        i,j = index\n",
        "        super(Symetric, self).__setitem__((i,j), value)\n",
        "        super(Symetric, self).__setitem__((j,i), value)\n",
        "\n",
        "def symetric(Z):\n",
        "    return np.asarray(Z + Z.T - np.diag(Z.diagonal())).view(Symetric)\n",
        "\n",
        "S = symetric(np.random.randint(0,10,(5,5)))\n",
        "S[2,3] = 42\n",
        "print(S)"
      ]
    },
    {
      "cell_type": "markdown",
      "metadata": {
        "id": "UlIDNUL5LVld"
      },
      "source": [
        "#### 86. Consider a set of p matrices wich shape (n,n) and a set of p vectors with shape (n,1). How to compute the sum of of the p matrix products at once? (result has shape (n,1)) (★★★) \n",
        "(**hint**: np.tensordot)"
      ]
    },
    {
      "cell_type": "code",
      "execution_count": 27,
      "metadata": {
        "id": "GHvAWJgsLVld",
        "colab": {
          "base_uri": "https://localhost:8080/"
        },
        "outputId": "f553fcba-fa07-4f6a-f0be-79c91edbb06c"
      },
      "outputs": [
        {
          "output_type": "stream",
          "name": "stdout",
          "text": [
            "[[200.]\n",
            " [200.]\n",
            " [200.]\n",
            " [200.]\n",
            " [200.]\n",
            " [200.]\n",
            " [200.]\n",
            " [200.]\n",
            " [200.]\n",
            " [200.]\n",
            " [200.]\n",
            " [200.]\n",
            " [200.]\n",
            " [200.]\n",
            " [200.]\n",
            " [200.]\n",
            " [200.]\n",
            " [200.]\n",
            " [200.]\n",
            " [200.]]\n"
          ]
        }
      ],
      "source": [
        "p, n = 10, 20\n",
        "M = np.ones((p,n,n))\n",
        "V = np.ones((p,n,1))\n",
        "S = np.tensordot(M, V, axes=[[0, 2], [0, 1]])\n",
        "print(S)"
      ]
    },
    {
      "cell_type": "markdown",
      "metadata": {
        "id": "-Ua3b6LnLVld"
      },
      "source": [
        "#### 87. Consider a 16x16 array, how to get the block-sum (block size is 4x4)? (★★★) \n",
        "(**hint**: np.add.reduceat)"
      ]
    },
    {
      "cell_type": "code",
      "execution_count": 28,
      "metadata": {
        "id": "tgIIyR0dLVld",
        "colab": {
          "base_uri": "https://localhost:8080/"
        },
        "outputId": "f9bbe77a-59cd-4bb9-b57c-951acdbbb241"
      },
      "outputs": [
        {
          "output_type": "stream",
          "name": "stdout",
          "text": [
            "[[16. 16. 16. 16.]\n",
            " [16. 16. 16. 16.]\n",
            " [16. 16. 16. 16.]\n",
            " [16. 16. 16. 16.]]\n"
          ]
        }
      ],
      "source": [
        "Z = np.ones((16,16))\n",
        "k = 4\n",
        "S = np.add.reduceat(np.add.reduceat(Z, np.arange(0, Z.shape[0], k), axis=0),\n",
        "                                       np.arange(0, Z.shape[1], k), axis=1)\n",
        "print(S)"
      ]
    },
    {
      "cell_type": "markdown",
      "metadata": {
        "id": "-XutxwMyLVld"
      },
      "source": [
        "#### 88. How to implement the Game of Life using numpy arrays? (★★★)"
      ]
    },
    {
      "cell_type": "code",
      "execution_count": 29,
      "metadata": {
        "id": "hRbSimBsLVld",
        "colab": {
          "base_uri": "https://localhost:8080/"
        },
        "outputId": "41b930a3-06b0-48a9-e2b2-fc5ff38d834a"
      },
      "outputs": [
        {
          "output_type": "stream",
          "name": "stdout",
          "text": [
            "[[0 0 0 ... 0 0 0]\n",
            " [0 0 0 ... 0 0 0]\n",
            " [0 0 0 ... 0 0 0]\n",
            " ...\n",
            " [0 0 0 ... 0 0 0]\n",
            " [0 0 0 ... 0 0 0]\n",
            " [0 0 0 ... 0 0 0]]\n"
          ]
        }
      ],
      "source": [
        "def iterate(Z):\n",
        "    # Count neighbours\n",
        "    N = (Z[0:-2,0:-2] + Z[0:-2,1:-1] + Z[0:-2,2:] +\n",
        "         Z[1:-1,0:-2]                + Z[1:-1,2:] +\n",
        "         Z[2:  ,0:-2] + Z[2:  ,1:-1] + Z[2:  ,2:])\n",
        "\n",
        "    # Apply rules\n",
        "    birth = (N==3) & (Z[1:-1,1:-1]==0)\n",
        "    survive = ((N==2) | (N==3)) & (Z[1:-1,1:-1]==1)\n",
        "    Z[...] = 0\n",
        "    Z[1:-1,1:-1][birth | survive] = 1\n",
        "    return Z\n",
        "\n",
        "Z = np.random.randint(0,2,(50,50))\n",
        "for i in range(100): Z = iterate(Z)\n",
        "print(Z)"
      ]
    },
    {
      "cell_type": "markdown",
      "metadata": {
        "id": "OyAp1lOWLVld"
      },
      "source": [
        "#### 89. How to get the n largest values of an array (★★★) \n",
        "(**hint**: np.argsort | np.argpartition)"
      ]
    },
    {
      "cell_type": "code",
      "execution_count": 30,
      "metadata": {
        "id": "f1qhE0WbLVle",
        "colab": {
          "base_uri": "https://localhost:8080/"
        },
        "outputId": "48843799-5d6a-42c1-fa7a-2cc306d5b946"
      },
      "outputs": [
        {
          "output_type": "stream",
          "name": "stdout",
          "text": [
            "[9995 9996 9997 9998 9999]\n",
            "[9996 9997 9998 9999 9995]\n"
          ]
        }
      ],
      "source": [
        "Z = np.arange(10000)\n",
        "np.random.shuffle(Z)\n",
        "n = 5\n",
        "\n",
        "# Slow\n",
        "print (Z[np.argsort(Z)[-n:]])\n",
        "\n",
        "\n",
        "# Fast\n",
        "print (Z[np.argpartition(-Z,n)[:n]])\n"
      ]
    },
    {
      "cell_type": "markdown",
      "metadata": {
        "id": "mGdNY-9ALVle"
      },
      "source": [
        "#### 90. Given an arbitrary number of vectors, build the cartesian product (every combinations of every item) (★★★) \n",
        "(**hint**: np.indices)"
      ]
    },
    {
      "cell_type": "code",
      "execution_count": 31,
      "metadata": {
        "scrolled": true,
        "id": "VIxK1H0bLVle",
        "colab": {
          "base_uri": "https://localhost:8080/"
        },
        "outputId": "ab85dc71-818e-469b-bb55-e327d3257741"
      },
      "outputs": [
        {
          "output_type": "stream",
          "name": "stdout",
          "text": [
            "[[1 4 6]\n",
            " [1 4 7]\n",
            " [1 5 6]\n",
            " [1 5 7]\n",
            " [2 4 6]\n",
            " [2 4 7]\n",
            " [2 5 6]\n",
            " [2 5 7]\n",
            " [3 4 6]\n",
            " [3 4 7]\n",
            " [3 5 6]\n",
            " [3 5 7]]\n"
          ]
        }
      ],
      "source": [
        "def cartesian(arrays):\n",
        "    arrays = [np.asarray(a) for a in arrays]\n",
        "    shape = (len(x) for x in arrays)\n",
        "\n",
        "    ix = np.indices(shape, dtype=int)\n",
        "    ix = ix.reshape(len(arrays), -1).T\n",
        "\n",
        "    for n, arr in enumerate(arrays):\n",
        "        ix[:, n] = arrays[n][ix[:, n]]\n",
        "\n",
        "    return ix\n",
        "\n",
        "print (cartesian(([1, 2, 3], [4, 5], [6, 7])))"
      ]
    },
    {
      "cell_type": "markdown",
      "metadata": {
        "id": "eQ652TupLVle"
      },
      "source": [
        "#### 91. How to create a record array from a regular array? (★★★) \n",
        "(**hint**: np.core.records.fromarrays)"
      ]
    },
    {
      "cell_type": "code",
      "execution_count": 32,
      "metadata": {
        "id": "eoZCxrplLVle",
        "colab": {
          "base_uri": "https://localhost:8080/"
        },
        "outputId": "5db7b87b-0a92-48ed-9187-3c2c81f88b98"
      },
      "outputs": [
        {
          "output_type": "stream",
          "name": "stdout",
          "text": [
            "[(b'Hello', 2.5, 3) (b'World', 3.6, 2)]\n"
          ]
        }
      ],
      "source": [
        "Z = np.array([(\"Hello\", 2.5, 3),\n",
        "              (\"World\", 3.6, 2)])\n",
        "R = np.core.records.fromarrays(Z.T, \n",
        "                               names='col1, col2, col3',\n",
        "                               formats = 'S8, f8, i8')\n",
        "print(R)\n"
      ]
    },
    {
      "cell_type": "markdown",
      "metadata": {
        "id": "zMPiRH-5LVle"
      },
      "source": [
        "#### 92. Consider a large vector Z, compute Z to the power of 3 using 3 different methods (★★★) \n",
        "(**hint**: np.power, \\*, np.einsum)"
      ]
    },
    {
      "cell_type": "code",
      "execution_count": 33,
      "metadata": {
        "id": "e6cU1A3wLVle",
        "colab": {
          "base_uri": "https://localhost:8080/",
          "height": 339
        },
        "outputId": "0c2ede97-7f8a-4451-ff6e-deaa93b1f230"
      },
      "outputs": [
        {
          "output_type": "error",
          "ename": "TypeError",
          "evalue": "ignored",
          "traceback": [
            "\u001b[0;31m---------------------------------------------------------------------------\u001b[0m",
            "\u001b[0;31mTypeError\u001b[0m                                 Traceback (most recent call last)",
            "\u001b[0;32m<ipython-input-33-a370807230cb>\u001b[0m in \u001b[0;36m<module>\u001b[0;34m\u001b[0m\n\u001b[0;32m----> 1\u001b[0;31m \u001b[0mx\u001b[0m \u001b[0;34m=\u001b[0m \u001b[0mnp\u001b[0m\u001b[0;34m.\u001b[0m\u001b[0mrandom\u001b[0m\u001b[0;34m.\u001b[0m\u001b[0mrand\u001b[0m\u001b[0;34m(\u001b[0m\u001b[0;36m5e7\u001b[0m\u001b[0;34m)\u001b[0m\u001b[0;34m\u001b[0m\u001b[0;34m\u001b[0m\u001b[0m\n\u001b[0m\u001b[1;32m      2\u001b[0m \u001b[0;34m\u001b[0m\u001b[0m\n\u001b[1;32m      3\u001b[0m \u001b[0mget_ipython\u001b[0m\u001b[0;34m(\u001b[0m\u001b[0;34m)\u001b[0m\u001b[0;34m.\u001b[0m\u001b[0mrun_line_magic\u001b[0m\u001b[0;34m(\u001b[0m\u001b[0;34m'timeit'\u001b[0m\u001b[0;34m,\u001b[0m \u001b[0;34m'np.power(x,3)'\u001b[0m\u001b[0;34m)\u001b[0m\u001b[0;34m\u001b[0m\u001b[0;34m\u001b[0m\u001b[0m\n\u001b[1;32m      4\u001b[0m \u001b[0mget_ipython\u001b[0m\u001b[0;34m(\u001b[0m\u001b[0;34m)\u001b[0m\u001b[0;34m.\u001b[0m\u001b[0mrun_line_magic\u001b[0m\u001b[0;34m(\u001b[0m\u001b[0;34m'timeit'\u001b[0m\u001b[0;34m,\u001b[0m \u001b[0;34m'x*x*x'\u001b[0m\u001b[0;34m)\u001b[0m\u001b[0;34m\u001b[0m\u001b[0;34m\u001b[0m\u001b[0m\n\u001b[1;32m      5\u001b[0m \u001b[0mget_ipython\u001b[0m\u001b[0;34m(\u001b[0m\u001b[0;34m)\u001b[0m\u001b[0;34m.\u001b[0m\u001b[0mrun_line_magic\u001b[0m\u001b[0;34m(\u001b[0m\u001b[0;34m'timeit'\u001b[0m\u001b[0;34m,\u001b[0m \u001b[0;34m\"np.einsum('i,i,i->i',x,x,x)\"\u001b[0m\u001b[0;34m)\u001b[0m\u001b[0;34m\u001b[0m\u001b[0;34m\u001b[0m\u001b[0m\n",
            "\u001b[0;32mmtrand.pyx\u001b[0m in \u001b[0;36mnumpy.random.mtrand.RandomState.rand\u001b[0;34m()\u001b[0m\n",
            "\u001b[0;32mmtrand.pyx\u001b[0m in \u001b[0;36mnumpy.random.mtrand.RandomState.random_sample\u001b[0;34m()\u001b[0m\n",
            "\u001b[0;32m_common.pyx\u001b[0m in \u001b[0;36mnumpy.random._common.double_fill\u001b[0;34m()\u001b[0m\n",
            "\u001b[0;31mTypeError\u001b[0m: 'float' object cannot be interpreted as an integer"
          ]
        }
      ],
      "source": [
        "x = np.random.rand(5e7)\n",
        "\n",
        "%timeit np.power(x,3)\n",
        "%timeit x*x*x\n",
        "%timeit np.einsum('i,i,i->i',x,x,x)"
      ]
    },
    {
      "cell_type": "markdown",
      "metadata": {
        "id": "zuhncBAhLVle"
      },
      "source": [
        "#### 93. Consider two arrays A and B of shape (8,3) and (2,2). How to find rows of A that contain elements of each row of B regardless of the order of the elements in B? (★★★) \n",
        "(**hint**: np.where)"
      ]
    },
    {
      "cell_type": "code",
      "execution_count": 34,
      "metadata": {
        "id": "pYZVKe_ULVle",
        "colab": {
          "base_uri": "https://localhost:8080/"
        },
        "outputId": "ce46d386-9ed3-4a87-9dcb-8ad3e44a7e0d"
      },
      "outputs": [
        {
          "output_type": "stream",
          "name": "stdout",
          "text": [
            "[1 2 4 5 6 7]\n"
          ]
        }
      ],
      "source": [
        "A = np.random.randint(0,5,(8,3))\n",
        "B = np.random.randint(0,5,(2,2))\n",
        "\n",
        "C = (A[..., np.newaxis, np.newaxis] == B)\n",
        "rows = np.where(C.any((3,1)).all(1))[0]\n",
        "print(rows)\n"
      ]
    },
    {
      "cell_type": "markdown",
      "metadata": {
        "id": "16h60CptLVle"
      },
      "source": [
        "#### 94. Considering a 10x3 matrix, extract rows with unequal values (e.g. \\[2,2,3\\]) (★★★)"
      ]
    },
    {
      "cell_type": "code",
      "execution_count": 35,
      "metadata": {
        "id": "BiYwmyu9LVle",
        "colab": {
          "base_uri": "https://localhost:8080/"
        },
        "outputId": "270df0e6-7de4-4927-8b90-ce3e2e2f48c1"
      },
      "outputs": [
        {
          "output_type": "stream",
          "name": "stdout",
          "text": [
            "[[3 4 1]\n",
            " [1 3 4]\n",
            " [4 4 4]\n",
            " [0 3 2]\n",
            " [2 3 2]\n",
            " [1 1 1]\n",
            " [0 2 0]\n",
            " [3 2 1]\n",
            " [1 0 3]\n",
            " [0 4 3]]\n",
            "[[3 4 1]\n",
            " [1 3 4]\n",
            " [0 3 2]\n",
            " [2 3 2]\n",
            " [0 2 0]\n",
            " [3 2 1]\n",
            " [1 0 3]\n",
            " [0 4 3]]\n",
            "[[3 4 1]\n",
            " [1 3 4]\n",
            " [0 3 2]\n",
            " [2 3 2]\n",
            " [0 2 0]\n",
            " [3 2 1]\n",
            " [1 0 3]\n",
            " [0 4 3]]\n"
          ]
        }
      ],
      "source": [
        "Z = np.random.randint(0,5,(10,3))\n",
        "print(Z)\n",
        "# solution for arrays of all dtypes (including string arrays and record arrays)\n",
        "E = np.all(Z[:,1:] == Z[:,:-1], axis=1)\n",
        "U = Z[~E]\n",
        "print(U)\n",
        "# soluiton for numerical arrays only, will work for any number of columns in Z\n",
        "U = Z[Z.max(axis=1) != Z.min(axis=1),:]\n",
        "print(U)\n"
      ]
    },
    {
      "cell_type": "markdown",
      "metadata": {
        "id": "YtrAmPWDLVlf"
      },
      "source": [
        "#### 95. Convert a vector of ints into a matrix binary representation (★★★) \n",
        "(**hint**: np.unpackbits)"
      ]
    },
    {
      "cell_type": "code",
      "execution_count": 36,
      "metadata": {
        "id": "FK0ZNDlmLVlf",
        "colab": {
          "base_uri": "https://localhost:8080/"
        },
        "outputId": "df10946c-fb02-4cbb-dcf4-28aa7ff527b6"
      },
      "outputs": [
        {
          "output_type": "stream",
          "name": "stdout",
          "text": [
            "[[0 0 0 0 0 0 0 0]\n",
            " [0 0 0 0 0 0 0 1]\n",
            " [0 0 0 0 0 0 1 0]\n",
            " [0 0 0 0 0 0 1 1]\n",
            " [0 0 0 0 1 1 1 1]\n",
            " [0 0 0 1 0 0 0 0]\n",
            " [0 0 1 0 0 0 0 0]\n",
            " [0 1 0 0 0 0 0 0]\n",
            " [1 0 0 0 0 0 0 0]]\n",
            "[[0 0 0 0 0 0 0 0]\n",
            " [0 0 0 0 0 0 0 1]\n",
            " [0 0 0 0 0 0 1 0]\n",
            " [0 0 0 0 0 0 1 1]\n",
            " [0 0 0 0 1 1 1 1]\n",
            " [0 0 0 1 0 0 0 0]\n",
            " [0 0 1 0 0 0 0 0]\n",
            " [0 1 0 0 0 0 0 0]\n",
            " [1 0 0 0 0 0 0 0]]\n"
          ]
        }
      ],
      "source": [
        "I = np.array([0, 1, 2, 3, 15, 16, 32, 64, 128])\n",
        "B = ((I.reshape(-1,1) & (2**np.arange(8))) != 0).astype(int)\n",
        "print(B[:,::-1])\n",
        "\n",
        "# Author: Daniel T. McDonald\n",
        "\n",
        "I = np.array([0, 1, 2, 3, 15, 16, 32, 64, 128], dtype=np.uint8)\n",
        "print(np.unpackbits(I[:, np.newaxis], axis=1))"
      ]
    },
    {
      "cell_type": "markdown",
      "metadata": {
        "id": "P7p1DESyLVlf"
      },
      "source": [
        "#### 96. Given a two dimensional array, how to extract unique rows? (★★★) \n",
        "(**hint**: np.ascontiguousarray)"
      ]
    },
    {
      "cell_type": "code",
      "execution_count": null,
      "metadata": {
        "id": "IdWic3V8LVlf"
      },
      "outputs": [],
      "source": [
        "Z = np.random.randint(0,2,(6,3))\n",
        "T = np.ascontiguousarray(Z).view(np.dtype((np.void, Z.dtype.itemsize * Z.shape[1])))\n",
        "_, idx = np.unique(T, return_index=True)\n",
        "uZ = Z[idx]\n",
        "print(uZ)"
      ]
    },
    {
      "cell_type": "markdown",
      "metadata": {
        "id": "EJhATW09LVlf"
      },
      "source": [
        "#### 97. Considering 2 vectors A & B, write the einsum equivalent of inner, outer, sum, and mul function (★★★) \n",
        "(**hint**: np.einsum)"
      ]
    },
    {
      "cell_type": "code",
      "execution_count": null,
      "metadata": {
        "id": "ttrDrPubLVlf"
      },
      "outputs": [],
      "source": [
        "np.einsum('i->', A) # np.sum(A)\n",
        "np.einsum('i,i->i', A, B) # A * B\n",
        "np.einsum('i,i', A, B) # np.inner(A, B)\n",
        "np.einsum('i,j', A, B) # np.outer(A, B)"
      ]
    },
    {
      "cell_type": "markdown",
      "metadata": {
        "id": "pwRMVGxqLVlf"
      },
      "source": [
        "#### 98. Considering a path described by two vectors (X,Y), how to sample it using equidistant samples (★★★)? \n",
        "(**hint**: np.cumsum, np.interp)"
      ]
    },
    {
      "cell_type": "code",
      "execution_count": null,
      "metadata": {
        "collapsed": true,
        "id": "nH_vsAZALVlf"
      },
      "outputs": [],
      "source": [
        "phi = np.arange(0, 10*np.pi, 0.1)\n",
        "a = 1\n",
        "x = a*phi*np.cos(phi)\n",
        "y = a*phi*np.sin(phi)\n",
        "dr = (np.diff(x)**2 + np.diff(y)**2)**.5 # segment lengths\n",
        "r = np.zeros_like(x)\n",
        "r[1:] = np.cumsum(dr) # integrate path\n",
        "r_int = np.linspace(0, r.max(), 200) # regular spaced path\n",
        "x_int = np.interp(r_int, r, x) # integrate path\n",
        "y_int = np.interp(r_int, r, y)"
      ]
    },
    {
      "cell_type": "markdown",
      "metadata": {
        "id": "Eip_vifDLVlf"
      },
      "source": [
        "#### 99. Given an integer n and a 2D array X, select from X the rows which can be interpreted as draws from a multinomial distribution with n degrees, i.e., the rows which only contain integers and which sum to n. (★★★) \n",
        "(**hint**: np.logical\\_and.reduce, np.mod)"
      ]
    },
    {
      "cell_type": "code",
      "execution_count": null,
      "metadata": {
        "id": "zP9D5hqgLVlf"
      },
      "outputs": [],
      "source": [
        "X = np.asarray([[1.0, 0.0, 3.0, 8.0],\n",
        "[2.0, 0.0, 1.0, 1.0],\n",
        "[1.5, 2.5, 1.0, 0.0]])\n",
        "n = 4\n",
        "M = np.logical_and.reduce(np.mod(X, 1) == 0, axis=-1)\n",
        "M &= (X.sum(axis=-1) == n)\n",
        "print(X[M])"
      ]
    },
    {
      "cell_type": "markdown",
      "metadata": {
        "id": "GGLd8HndLVlf"
      },
      "source": [
        "#### 100. Compute bootstrapped 95% confidence intervals for the mean of a 1D array X (i.e., resample the elements of an array with replacement N times, compute the mean of each sample, and then compute percentiles over the means). (★★★) \n",
        "(**hint**: np.percentile)"
      ]
    },
    {
      "cell_type": "code",
      "execution_count": null,
      "metadata": {
        "id": "Vs5k5QINLVlf"
      },
      "outputs": [],
      "source": []
    }
  ],
  "metadata": {
    "kernelspec": {
      "display_name": "Python 3",
      "language": "python",
      "name": "python3"
    },
    "language_info": {
      "codemirror_mode": {
        "name": "ipython",
        "version": 3
      },
      "file_extension": ".py",
      "mimetype": "text/x-python",
      "name": "python",
      "nbconvert_exporter": "python",
      "pygments_lexer": "ipython3",
      "version": "3.8.3"
    },
    "colab": {
      "provenance": [],
      "collapsed_sections": [
        "HvhSWFPOLVlF",
        "SpbtPl3GLVlF",
        "JU8VoaKBLVlF",
        "f7RZtR6BLVlG",
        "uszuMaA5LVlG",
        "xkUWmOWuLVlH",
        "munDdM1gLVlH",
        "BUe3s-QbLVlH",
        "TeMv-1C9LVlI",
        "rskfCnB6LVlJ",
        "3hgd3FURLVlL",
        "AuA3Hdf8LVlM",
        "Fdlb7mECLVlM",
        "lfJWBGaNLVlM",
        "9T5sfrLFLVlN",
        "PFXcxq01LVlN",
        "kRggOx2tLVlN",
        "5vCvnSKjLVlN",
        "3plamHbILVlO",
        "zspEkbl3LVlO",
        "qN9LcGVfLVlP",
        "Ci9ZK9DNLVlP",
        "zkwZYFGILVlP",
        "cKOTWcBXLVlP",
        "-NGAtkybLVlQ",
        "7bsUXxQELVlQ",
        "x28FmTRBLVlQ",
        "RJD3aDLULVlR",
        "JZdKVOyOLVlR",
        "hByd0408LVlR",
        "KmZVKrsVLVlR",
        "YLRO_gTYLVlS",
        "UeFGW1nqLVlS"
      ],
      "include_colab_link": true
    }
  },
  "nbformat": 4,
  "nbformat_minor": 0
}