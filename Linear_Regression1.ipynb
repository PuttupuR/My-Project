{
  "cells": [
    {
      "cell_type": "markdown",
      "metadata": {
        "id": "view-in-github",
        "colab_type": "text"
      },
      "source": [
        "<a href=\"https://colab.research.google.com/github/PuttupuR/My-Project/blob/main/Linear_Regression1.ipynb\" target=\"_parent\"><img src=\"https://colab.research.google.com/assets/colab-badge.svg\" alt=\"Open In Colab\"/></a>"
      ]
    },
    {
      "cell_type": "markdown",
      "metadata": {
        "id": "rABYWFIRby10"
      },
      "source": [
        "Importing the libraries"
      ]
    },
    {
      "cell_type": "code",
      "execution_count": 1,
      "metadata": {
        "id": "aDSiqD1TbgSC"
      },
      "outputs": [],
      "source": [
        "import numpy as np\n",
        "import pandas as pd\n",
        "import matplotlib.pyplot as plt\n",
        "import seaborn as sns\n",
        "import warnings"
      ]
    },
    {
      "cell_type": "markdown",
      "metadata": {
        "id": "2bU0r2Ifb2uZ"
      },
      "source": [
        "Read the data set"
      ]
    },
    {
      "cell_type": "code",
      "execution_count": 89,
      "metadata": {
        "id": "sHXeqXx7bx7L"
      },
      "outputs": [],
      "source": [
        "df = pd.read_csv(\"/content/new_insurance_data.csv\")"
      ]
    },
    {
      "cell_type": "code",
      "execution_count": 90,
      "metadata": {
        "colab": {
          "base_uri": "https://localhost:8080/",
          "height": 270
        },
        "id": "TjbX0w-gcFOz",
        "outputId": "dae6aeb8-364e-4dec-aa2a-1b0a36a24ef0"
      },
      "outputs": [
        {
          "output_type": "execute_result",
          "data": {
            "text/plain": [
              "    age   sex    bmi  children smoker  Claim_Amount  past_consultations  \\\n",
              "0  18.0  male  23.21       0.0     no   29087.54313                17.0   \n",
              "1  18.0  male  30.14       0.0     no   39053.67437                 7.0   \n",
              "2  18.0  male  33.33       0.0     no   39023.62759                19.0   \n",
              "3  18.0  male  33.66       0.0     no   28185.39332                11.0   \n",
              "4  18.0  male  34.10       0.0     no   14697.85941                16.0   \n",
              "\n",
              "   num_of_steps  Hospital_expenditure  NUmber_of_past_hospitalizations  \\\n",
              "0      715428.0           4720920.992                              0.0   \n",
              "1      699157.0           4329831.676                              0.0   \n",
              "2      702341.0           6884860.774                              0.0   \n",
              "3      700250.0           4274773.550                              0.0   \n",
              "4      711584.0           3787293.921                              0.0   \n",
              "\n",
              "   Anual_Salary     region    charges  \n",
              "0   55784970.05  southeast  1121.8739  \n",
              "1   13700885.19  southeast  1131.5066  \n",
              "2   73523107.27  southeast  1135.9407  \n",
              "3   75819679.60  southeast  1136.3994  \n",
              "4   23012320.01  southeast  1137.0110  "
            ],
            "text/html": [
              "\n",
              "  <div id=\"df-bed7eb8d-02f1-45c4-a68f-c7c97e0ae2fd\">\n",
              "    <div class=\"colab-df-container\">\n",
              "      <div>\n",
              "<style scoped>\n",
              "    .dataframe tbody tr th:only-of-type {\n",
              "        vertical-align: middle;\n",
              "    }\n",
              "\n",
              "    .dataframe tbody tr th {\n",
              "        vertical-align: top;\n",
              "    }\n",
              "\n",
              "    .dataframe thead th {\n",
              "        text-align: right;\n",
              "    }\n",
              "</style>\n",
              "<table border=\"1\" class=\"dataframe\">\n",
              "  <thead>\n",
              "    <tr style=\"text-align: right;\">\n",
              "      <th></th>\n",
              "      <th>age</th>\n",
              "      <th>sex</th>\n",
              "      <th>bmi</th>\n",
              "      <th>children</th>\n",
              "      <th>smoker</th>\n",
              "      <th>Claim_Amount</th>\n",
              "      <th>past_consultations</th>\n",
              "      <th>num_of_steps</th>\n",
              "      <th>Hospital_expenditure</th>\n",
              "      <th>NUmber_of_past_hospitalizations</th>\n",
              "      <th>Anual_Salary</th>\n",
              "      <th>region</th>\n",
              "      <th>charges</th>\n",
              "    </tr>\n",
              "  </thead>\n",
              "  <tbody>\n",
              "    <tr>\n",
              "      <th>0</th>\n",
              "      <td>18.0</td>\n",
              "      <td>male</td>\n",
              "      <td>23.21</td>\n",
              "      <td>0.0</td>\n",
              "      <td>no</td>\n",
              "      <td>29087.54313</td>\n",
              "      <td>17.0</td>\n",
              "      <td>715428.0</td>\n",
              "      <td>4720920.992</td>\n",
              "      <td>0.0</td>\n",
              "      <td>55784970.05</td>\n",
              "      <td>southeast</td>\n",
              "      <td>1121.8739</td>\n",
              "    </tr>\n",
              "    <tr>\n",
              "      <th>1</th>\n",
              "      <td>18.0</td>\n",
              "      <td>male</td>\n",
              "      <td>30.14</td>\n",
              "      <td>0.0</td>\n",
              "      <td>no</td>\n",
              "      <td>39053.67437</td>\n",
              "      <td>7.0</td>\n",
              "      <td>699157.0</td>\n",
              "      <td>4329831.676</td>\n",
              "      <td>0.0</td>\n",
              "      <td>13700885.19</td>\n",
              "      <td>southeast</td>\n",
              "      <td>1131.5066</td>\n",
              "    </tr>\n",
              "    <tr>\n",
              "      <th>2</th>\n",
              "      <td>18.0</td>\n",
              "      <td>male</td>\n",
              "      <td>33.33</td>\n",
              "      <td>0.0</td>\n",
              "      <td>no</td>\n",
              "      <td>39023.62759</td>\n",
              "      <td>19.0</td>\n",
              "      <td>702341.0</td>\n",
              "      <td>6884860.774</td>\n",
              "      <td>0.0</td>\n",
              "      <td>73523107.27</td>\n",
              "      <td>southeast</td>\n",
              "      <td>1135.9407</td>\n",
              "    </tr>\n",
              "    <tr>\n",
              "      <th>3</th>\n",
              "      <td>18.0</td>\n",
              "      <td>male</td>\n",
              "      <td>33.66</td>\n",
              "      <td>0.0</td>\n",
              "      <td>no</td>\n",
              "      <td>28185.39332</td>\n",
              "      <td>11.0</td>\n",
              "      <td>700250.0</td>\n",
              "      <td>4274773.550</td>\n",
              "      <td>0.0</td>\n",
              "      <td>75819679.60</td>\n",
              "      <td>southeast</td>\n",
              "      <td>1136.3994</td>\n",
              "    </tr>\n",
              "    <tr>\n",
              "      <th>4</th>\n",
              "      <td>18.0</td>\n",
              "      <td>male</td>\n",
              "      <td>34.10</td>\n",
              "      <td>0.0</td>\n",
              "      <td>no</td>\n",
              "      <td>14697.85941</td>\n",
              "      <td>16.0</td>\n",
              "      <td>711584.0</td>\n",
              "      <td>3787293.921</td>\n",
              "      <td>0.0</td>\n",
              "      <td>23012320.01</td>\n",
              "      <td>southeast</td>\n",
              "      <td>1137.0110</td>\n",
              "    </tr>\n",
              "  </tbody>\n",
              "</table>\n",
              "</div>\n",
              "      <button class=\"colab-df-convert\" onclick=\"convertToInteractive('df-bed7eb8d-02f1-45c4-a68f-c7c97e0ae2fd')\"\n",
              "              title=\"Convert this dataframe to an interactive table.\"\n",
              "              style=\"display:none;\">\n",
              "        \n",
              "  <svg xmlns=\"http://www.w3.org/2000/svg\" height=\"24px\"viewBox=\"0 0 24 24\"\n",
              "       width=\"24px\">\n",
              "    <path d=\"M0 0h24v24H0V0z\" fill=\"none\"/>\n",
              "    <path d=\"M18.56 5.44l.94 2.06.94-2.06 2.06-.94-2.06-.94-.94-2.06-.94 2.06-2.06.94zm-11 1L8.5 8.5l.94-2.06 2.06-.94-2.06-.94L8.5 2.5l-.94 2.06-2.06.94zm10 10l.94 2.06.94-2.06 2.06-.94-2.06-.94-.94-2.06-.94 2.06-2.06.94z\"/><path d=\"M17.41 7.96l-1.37-1.37c-.4-.4-.92-.59-1.43-.59-.52 0-1.04.2-1.43.59L10.3 9.45l-7.72 7.72c-.78.78-.78 2.05 0 2.83L4 21.41c.39.39.9.59 1.41.59.51 0 1.02-.2 1.41-.59l7.78-7.78 2.81-2.81c.8-.78.8-2.07 0-2.86zM5.41 20L4 18.59l7.72-7.72 1.47 1.35L5.41 20z\"/>\n",
              "  </svg>\n",
              "      </button>\n",
              "      \n",
              "  <style>\n",
              "    .colab-df-container {\n",
              "      display:flex;\n",
              "      flex-wrap:wrap;\n",
              "      gap: 12px;\n",
              "    }\n",
              "\n",
              "    .colab-df-convert {\n",
              "      background-color: #E8F0FE;\n",
              "      border: none;\n",
              "      border-radius: 50%;\n",
              "      cursor: pointer;\n",
              "      display: none;\n",
              "      fill: #1967D2;\n",
              "      height: 32px;\n",
              "      padding: 0 0 0 0;\n",
              "      width: 32px;\n",
              "    }\n",
              "\n",
              "    .colab-df-convert:hover {\n",
              "      background-color: #E2EBFA;\n",
              "      box-shadow: 0px 1px 2px rgba(60, 64, 67, 0.3), 0px 1px 3px 1px rgba(60, 64, 67, 0.15);\n",
              "      fill: #174EA6;\n",
              "    }\n",
              "\n",
              "    [theme=dark] .colab-df-convert {\n",
              "      background-color: #3B4455;\n",
              "      fill: #D2E3FC;\n",
              "    }\n",
              "\n",
              "    [theme=dark] .colab-df-convert:hover {\n",
              "      background-color: #434B5C;\n",
              "      box-shadow: 0px 1px 3px 1px rgba(0, 0, 0, 0.15);\n",
              "      filter: drop-shadow(0px 1px 2px rgba(0, 0, 0, 0.3));\n",
              "      fill: #FFFFFF;\n",
              "    }\n",
              "  </style>\n",
              "\n",
              "      <script>\n",
              "        const buttonEl =\n",
              "          document.querySelector('#df-bed7eb8d-02f1-45c4-a68f-c7c97e0ae2fd button.colab-df-convert');\n",
              "        buttonEl.style.display =\n",
              "          google.colab.kernel.accessAllowed ? 'block' : 'none';\n",
              "\n",
              "        async function convertToInteractive(key) {\n",
              "          const element = document.querySelector('#df-bed7eb8d-02f1-45c4-a68f-c7c97e0ae2fd');\n",
              "          const dataTable =\n",
              "            await google.colab.kernel.invokeFunction('convertToInteractive',\n",
              "                                                     [key], {});\n",
              "          if (!dataTable) return;\n",
              "\n",
              "          const docLinkHtml = 'Like what you see? Visit the ' +\n",
              "            '<a target=\"_blank\" href=https://colab.research.google.com/notebooks/data_table.ipynb>data table notebook</a>'\n",
              "            + ' to learn more about interactive tables.';\n",
              "          element.innerHTML = '';\n",
              "          dataTable['output_type'] = 'display_data';\n",
              "          await google.colab.output.renderOutput(dataTable, element);\n",
              "          const docLink = document.createElement('div');\n",
              "          docLink.innerHTML = docLinkHtml;\n",
              "          element.appendChild(docLink);\n",
              "        }\n",
              "      </script>\n",
              "    </div>\n",
              "  </div>\n",
              "  "
            ]
          },
          "metadata": {},
          "execution_count": 90
        }
      ],
      "source": [
        "# Represent the data set\n",
        "df.head(5)  # head() represents the first 5 rows"
      ]
    },
    {
      "cell_type": "markdown",
      "metadata": {
        "id": "n17gWI3Ucsm9"
      },
      "source": [
        "EDA-Descriptive Analysis on Data"
      ]
    },
    {
      "cell_type": "code",
      "execution_count": 91,
      "metadata": {
        "colab": {
          "base_uri": "https://localhost:8080/",
          "height": 364
        },
        "id": "YSX86i1BkwlF",
        "outputId": "027a7e8b-a95f-47c8-c418-a00252ad7110"
      },
      "outputs": [
        {
          "output_type": "execute_result",
          "data": {
            "text/plain": [
              "               age          bmi     children  Claim_Amount  \\\n",
              "count  1329.000000  1335.000000  1333.000000   1324.000000   \n",
              "mean     39.310008    30.665112     1.090773  33361.327180   \n",
              "std      14.034818     6.101690     1.201856  15617.288337   \n",
              "min      18.000000    15.960000     0.000000   1920.136268   \n",
              "25%      27.000000    26.302500     0.000000  20768.860390   \n",
              "50%      39.000000    30.400000     1.000000  33700.310675   \n",
              "75%      51.000000    34.687500     2.000000  45052.331957   \n",
              "max      64.000000    53.130000     5.000000  77277.988480   \n",
              "\n",
              "       past_consultations  num_of_steps  Hospital_expenditure  \\\n",
              "count         1332.000000  1.335000e+03          1.334000e+03   \n",
              "mean            15.216216  9.100047e+05          1.584179e+07   \n",
              "std              7.467723  9.188612e+04          2.669305e+07   \n",
              "min              1.000000  6.954300e+05          2.945253e+04   \n",
              "25%              9.000000  8.471995e+05          4.077633e+06   \n",
              "50%             15.000000  9.143000e+05          7.490337e+06   \n",
              "75%             20.000000  9.716840e+05          1.084082e+07   \n",
              "max             40.000000  1.107872e+06          2.616317e+08   \n",
              "\n",
              "       NUmber_of_past_hospitalizations  Anual_Salary       charges  \n",
              "count                      1336.000000  1.332000e+03   1338.000000  \n",
              "mean                          1.060629  3.696849e+08  13270.422265  \n",
              "std                           0.533583  5.668843e+08  12110.011237  \n",
              "min                           0.000000  2.747072e+06   1121.873900  \n",
              "25%                           1.000000  7.701932e+07   4740.287150  \n",
              "50%                           1.000000  1.419361e+08   9382.033000  \n",
              "75%                           1.000000  3.243499e+08  16639.912515  \n",
              "max                           3.000000  4.117197e+09  63770.428010  "
            ],
            "text/html": [
              "\n",
              "  <div id=\"df-fa4f5acd-6d6d-476b-ba65-cd6443ba2c6e\">\n",
              "    <div class=\"colab-df-container\">\n",
              "      <div>\n",
              "<style scoped>\n",
              "    .dataframe tbody tr th:only-of-type {\n",
              "        vertical-align: middle;\n",
              "    }\n",
              "\n",
              "    .dataframe tbody tr th {\n",
              "        vertical-align: top;\n",
              "    }\n",
              "\n",
              "    .dataframe thead th {\n",
              "        text-align: right;\n",
              "    }\n",
              "</style>\n",
              "<table border=\"1\" class=\"dataframe\">\n",
              "  <thead>\n",
              "    <tr style=\"text-align: right;\">\n",
              "      <th></th>\n",
              "      <th>age</th>\n",
              "      <th>bmi</th>\n",
              "      <th>children</th>\n",
              "      <th>Claim_Amount</th>\n",
              "      <th>past_consultations</th>\n",
              "      <th>num_of_steps</th>\n",
              "      <th>Hospital_expenditure</th>\n",
              "      <th>NUmber_of_past_hospitalizations</th>\n",
              "      <th>Anual_Salary</th>\n",
              "      <th>charges</th>\n",
              "    </tr>\n",
              "  </thead>\n",
              "  <tbody>\n",
              "    <tr>\n",
              "      <th>count</th>\n",
              "      <td>1329.000000</td>\n",
              "      <td>1335.000000</td>\n",
              "      <td>1333.000000</td>\n",
              "      <td>1324.000000</td>\n",
              "      <td>1332.000000</td>\n",
              "      <td>1.335000e+03</td>\n",
              "      <td>1.334000e+03</td>\n",
              "      <td>1336.000000</td>\n",
              "      <td>1.332000e+03</td>\n",
              "      <td>1338.000000</td>\n",
              "    </tr>\n",
              "    <tr>\n",
              "      <th>mean</th>\n",
              "      <td>39.310008</td>\n",
              "      <td>30.665112</td>\n",
              "      <td>1.090773</td>\n",
              "      <td>33361.327180</td>\n",
              "      <td>15.216216</td>\n",
              "      <td>9.100047e+05</td>\n",
              "      <td>1.584179e+07</td>\n",
              "      <td>1.060629</td>\n",
              "      <td>3.696849e+08</td>\n",
              "      <td>13270.422265</td>\n",
              "    </tr>\n",
              "    <tr>\n",
              "      <th>std</th>\n",
              "      <td>14.034818</td>\n",
              "      <td>6.101690</td>\n",
              "      <td>1.201856</td>\n",
              "      <td>15617.288337</td>\n",
              "      <td>7.467723</td>\n",
              "      <td>9.188612e+04</td>\n",
              "      <td>2.669305e+07</td>\n",
              "      <td>0.533583</td>\n",
              "      <td>5.668843e+08</td>\n",
              "      <td>12110.011237</td>\n",
              "    </tr>\n",
              "    <tr>\n",
              "      <th>min</th>\n",
              "      <td>18.000000</td>\n",
              "      <td>15.960000</td>\n",
              "      <td>0.000000</td>\n",
              "      <td>1920.136268</td>\n",
              "      <td>1.000000</td>\n",
              "      <td>6.954300e+05</td>\n",
              "      <td>2.945253e+04</td>\n",
              "      <td>0.000000</td>\n",
              "      <td>2.747072e+06</td>\n",
              "      <td>1121.873900</td>\n",
              "    </tr>\n",
              "    <tr>\n",
              "      <th>25%</th>\n",
              "      <td>27.000000</td>\n",
              "      <td>26.302500</td>\n",
              "      <td>0.000000</td>\n",
              "      <td>20768.860390</td>\n",
              "      <td>9.000000</td>\n",
              "      <td>8.471995e+05</td>\n",
              "      <td>4.077633e+06</td>\n",
              "      <td>1.000000</td>\n",
              "      <td>7.701932e+07</td>\n",
              "      <td>4740.287150</td>\n",
              "    </tr>\n",
              "    <tr>\n",
              "      <th>50%</th>\n",
              "      <td>39.000000</td>\n",
              "      <td>30.400000</td>\n",
              "      <td>1.000000</td>\n",
              "      <td>33700.310675</td>\n",
              "      <td>15.000000</td>\n",
              "      <td>9.143000e+05</td>\n",
              "      <td>7.490337e+06</td>\n",
              "      <td>1.000000</td>\n",
              "      <td>1.419361e+08</td>\n",
              "      <td>9382.033000</td>\n",
              "    </tr>\n",
              "    <tr>\n",
              "      <th>75%</th>\n",
              "      <td>51.000000</td>\n",
              "      <td>34.687500</td>\n",
              "      <td>2.000000</td>\n",
              "      <td>45052.331957</td>\n",
              "      <td>20.000000</td>\n",
              "      <td>9.716840e+05</td>\n",
              "      <td>1.084082e+07</td>\n",
              "      <td>1.000000</td>\n",
              "      <td>3.243499e+08</td>\n",
              "      <td>16639.912515</td>\n",
              "    </tr>\n",
              "    <tr>\n",
              "      <th>max</th>\n",
              "      <td>64.000000</td>\n",
              "      <td>53.130000</td>\n",
              "      <td>5.000000</td>\n",
              "      <td>77277.988480</td>\n",
              "      <td>40.000000</td>\n",
              "      <td>1.107872e+06</td>\n",
              "      <td>2.616317e+08</td>\n",
              "      <td>3.000000</td>\n",
              "      <td>4.117197e+09</td>\n",
              "      <td>63770.428010</td>\n",
              "    </tr>\n",
              "  </tbody>\n",
              "</table>\n",
              "</div>\n",
              "      <button class=\"colab-df-convert\" onclick=\"convertToInteractive('df-fa4f5acd-6d6d-476b-ba65-cd6443ba2c6e')\"\n",
              "              title=\"Convert this dataframe to an interactive table.\"\n",
              "              style=\"display:none;\">\n",
              "        \n",
              "  <svg xmlns=\"http://www.w3.org/2000/svg\" height=\"24px\"viewBox=\"0 0 24 24\"\n",
              "       width=\"24px\">\n",
              "    <path d=\"M0 0h24v24H0V0z\" fill=\"none\"/>\n",
              "    <path d=\"M18.56 5.44l.94 2.06.94-2.06 2.06-.94-2.06-.94-.94-2.06-.94 2.06-2.06.94zm-11 1L8.5 8.5l.94-2.06 2.06-.94-2.06-.94L8.5 2.5l-.94 2.06-2.06.94zm10 10l.94 2.06.94-2.06 2.06-.94-2.06-.94-.94-2.06-.94 2.06-2.06.94z\"/><path d=\"M17.41 7.96l-1.37-1.37c-.4-.4-.92-.59-1.43-.59-.52 0-1.04.2-1.43.59L10.3 9.45l-7.72 7.72c-.78.78-.78 2.05 0 2.83L4 21.41c.39.39.9.59 1.41.59.51 0 1.02-.2 1.41-.59l7.78-7.78 2.81-2.81c.8-.78.8-2.07 0-2.86zM5.41 20L4 18.59l7.72-7.72 1.47 1.35L5.41 20z\"/>\n",
              "  </svg>\n",
              "      </button>\n",
              "      \n",
              "  <style>\n",
              "    .colab-df-container {\n",
              "      display:flex;\n",
              "      flex-wrap:wrap;\n",
              "      gap: 12px;\n",
              "    }\n",
              "\n",
              "    .colab-df-convert {\n",
              "      background-color: #E8F0FE;\n",
              "      border: none;\n",
              "      border-radius: 50%;\n",
              "      cursor: pointer;\n",
              "      display: none;\n",
              "      fill: #1967D2;\n",
              "      height: 32px;\n",
              "      padding: 0 0 0 0;\n",
              "      width: 32px;\n",
              "    }\n",
              "\n",
              "    .colab-df-convert:hover {\n",
              "      background-color: #E2EBFA;\n",
              "      box-shadow: 0px 1px 2px rgba(60, 64, 67, 0.3), 0px 1px 3px 1px rgba(60, 64, 67, 0.15);\n",
              "      fill: #174EA6;\n",
              "    }\n",
              "\n",
              "    [theme=dark] .colab-df-convert {\n",
              "      background-color: #3B4455;\n",
              "      fill: #D2E3FC;\n",
              "    }\n",
              "\n",
              "    [theme=dark] .colab-df-convert:hover {\n",
              "      background-color: #434B5C;\n",
              "      box-shadow: 0px 1px 3px 1px rgba(0, 0, 0, 0.15);\n",
              "      filter: drop-shadow(0px 1px 2px rgba(0, 0, 0, 0.3));\n",
              "      fill: #FFFFFF;\n",
              "    }\n",
              "  </style>\n",
              "\n",
              "      <script>\n",
              "        const buttonEl =\n",
              "          document.querySelector('#df-fa4f5acd-6d6d-476b-ba65-cd6443ba2c6e button.colab-df-convert');\n",
              "        buttonEl.style.display =\n",
              "          google.colab.kernel.accessAllowed ? 'block' : 'none';\n",
              "\n",
              "        async function convertToInteractive(key) {\n",
              "          const element = document.querySelector('#df-fa4f5acd-6d6d-476b-ba65-cd6443ba2c6e');\n",
              "          const dataTable =\n",
              "            await google.colab.kernel.invokeFunction('convertToInteractive',\n",
              "                                                     [key], {});\n",
              "          if (!dataTable) return;\n",
              "\n",
              "          const docLinkHtml = 'Like what you see? Visit the ' +\n",
              "            '<a target=\"_blank\" href=https://colab.research.google.com/notebooks/data_table.ipynb>data table notebook</a>'\n",
              "            + ' to learn more about interactive tables.';\n",
              "          element.innerHTML = '';\n",
              "          dataTable['output_type'] = 'display_data';\n",
              "          await google.colab.output.renderOutput(dataTable, element);\n",
              "          const docLink = document.createElement('div');\n",
              "          docLink.innerHTML = docLinkHtml;\n",
              "          element.appendChild(docLink);\n",
              "        }\n",
              "      </script>\n",
              "    </div>\n",
              "  </div>\n",
              "  "
            ]
          },
          "metadata": {},
          "execution_count": 91
        }
      ],
      "source": [
        "#Describe the data - Descriptive statistics.\n",
        "df.describe()"
      ]
    },
    {
      "cell_type": "code",
      "execution_count": 92,
      "metadata": {
        "colab": {
          "base_uri": "https://localhost:8080/"
        },
        "id": "91R53LypcSCN",
        "outputId": "aa24e034-21e8-4066-c7c8-3153eae527e0"
      },
      "outputs": [
        {
          "output_type": "stream",
          "name": "stdout",
          "text": [
            "<class 'pandas.core.frame.DataFrame'>\n",
            "RangeIndex: 1338 entries, 0 to 1337\n",
            "Data columns (total 13 columns):\n",
            " #   Column                           Non-Null Count  Dtype  \n",
            "---  ------                           --------------  -----  \n",
            " 0   age                              1329 non-null   float64\n",
            " 1   sex                              1338 non-null   object \n",
            " 2   bmi                              1335 non-null   float64\n",
            " 3   children                         1333 non-null   float64\n",
            " 4   smoker                           1338 non-null   object \n",
            " 5   Claim_Amount                     1324 non-null   float64\n",
            " 6   past_consultations               1332 non-null   float64\n",
            " 7   num_of_steps                     1335 non-null   float64\n",
            " 8   Hospital_expenditure             1334 non-null   float64\n",
            " 9   NUmber_of_past_hospitalizations  1336 non-null   float64\n",
            " 10  Anual_Salary                     1332 non-null   float64\n",
            " 11  region                           1338 non-null   object \n",
            " 12  charges                          1338 non-null   float64\n",
            "dtypes: float64(10), object(3)\n",
            "memory usage: 136.0+ KB\n"
          ]
        }
      ],
      "source": [
        "df.info() # it represents the information about entire dataset how many columns have the nonull values"
      ]
    },
    {
      "cell_type": "code",
      "execution_count": 93,
      "metadata": {
        "colab": {
          "base_uri": "https://localhost:8080/"
        },
        "id": "aqwmIMBTil-x",
        "outputId": "e6555557-cd6b-4726-e4d5-ab7c7aa246a6"
      },
      "outputs": [
        {
          "output_type": "execute_result",
          "data": {
            "text/plain": [
              "0"
            ]
          },
          "metadata": {},
          "execution_count": 93
        }
      ],
      "source": [
        "#Check if dataset have any duplicate values\n",
        "\n",
        "df.duplicated().sum()"
      ]
    },
    {
      "cell_type": "code",
      "execution_count": 94,
      "metadata": {
        "colab": {
          "base_uri": "https://localhost:8080/"
        },
        "id": "BBBs0ML2jDxW",
        "outputId": "be735e95-a502-4a03-c518-4b3f7c33f653"
      },
      "outputs": [
        {
          "output_type": "stream",
          "name": "stdout",
          "text": [
            "[18. 19. nan 20. 21. 22. 23. 24. 25. 26. 27. 28. 29. 31. 30. 33. 32. 34.\n",
            " 36. 37. 35. 38. 40. 39. 41. 42. 43. 44. 46. 45. 48. 47. 49. 50. 51. 52.\n",
            " 53. 54. 55. 56. 57. 58. 59. 60. 61. 62. 63. 64.]\n",
            "['male' 'female']\n",
            "['southeast' 'southwest' 'northwest' 'northeast']\n"
          ]
        }
      ],
      "source": [
        "#Unique values in the data\n",
        "\n",
        "print(df['age'].unique())\n",
        "print(df['sex'].unique())\n",
        "print(df['region'].unique())"
      ]
    },
    {
      "cell_type": "markdown",
      "metadata": {
        "id": "zkoPBWxRk-ND"
      },
      "source": [
        "Visualize the Unique counts"
      ]
    },
    {
      "cell_type": "code",
      "execution_count": 95,
      "metadata": {
        "colab": {
          "base_uri": "https://localhost:8080/",
          "height": 429
        },
        "id": "3LzUzyLJk94L",
        "outputId": "75ad1d4e-e54b-4a30-b8bc-f214b3e454a3"
      },
      "outputs": [
        {
          "output_type": "error",
          "ename": "AttributeError",
          "evalue": "ignored",
          "traceback": [
            "\u001b[0;31m---------------------------------------------------------------------------\u001b[0m",
            "\u001b[0;31mAttributeError\u001b[0m                            Traceback (most recent call last)",
            "\u001b[0;32m<ipython-input-95-570b44027a66>\u001b[0m in \u001b[0;36m<module>\u001b[0;34m\u001b[0m\n\u001b[0;32m----> 1\u001b[0;31m \u001b[0msns\u001b[0m\u001b[0;34m.\u001b[0m\u001b[0mcountplot\u001b[0m\u001b[0;34m(\u001b[0m\u001b[0mdf\u001b[0m\u001b[0;34m[\u001b[0m\u001b[0;34m'sex'\u001b[0m\u001b[0;34m]\u001b[0m\u001b[0;34m)\u001b[0m\u001b[0;34m.\u001b[0m\u001b[0munique\u001b[0m\u001b[0;34m(\u001b[0m\u001b[0;34m)\u001b[0m\u001b[0;34m\u001b[0m\u001b[0;34m\u001b[0m\u001b[0m\n\u001b[0m",
            "\u001b[0;31mAttributeError\u001b[0m: 'AxesSubplot' object has no attribute 'unique'"
          ]
        },
        {
          "output_type": "display_data",
          "data": {
            "text/plain": [
              "<Figure size 432x288 with 1 Axes>"
            ],
            "image/png": "[encoded data removed]"
          },
          "metadata": {
            "needs_background": "light"
          }
        }
      ],
      "source": [
        "sns.countplot(df['sex']).unique()"
      ]
    },
    {
      "cell_type": "code",
      "execution_count": 96,
      "metadata": {
        "id": "8S3bx90Aco0u"
      },
      "outputs": [],
      "source": [
        "# Label Encoding on the sex and smoker column, and changing their data  type to integer\n",
        "\n",
        "from sklearn.preprocessing import LabelEncoder\n",
        "\n",
        "le = LabelEncoder()\n",
        "df['sex'] = le.fit_transform(df['sex'])\n",
        "df['smoker'] = le.fit_transform(df['smoker'])\n",
        "\n",
        "#changing the data type of the two columns to integer\n",
        "\n",
        "df['sex'] = df['sex'].astype(int)\n",
        "df['smoker'] = df['smoker'].astype(int)\n"
      ]
    },
    {
      "cell_type": "code",
      "source": [
        "#checking the 'sex' & 'smoker' column data type\n",
        "df.info()"
      ],
      "metadata": {
        "colab": {
          "base_uri": "https://localhost:8080/"
        },
        "id": "-zlSCrAzDYRy",
        "outputId": "2f76d083-f4b3-4031-9f0a-0106107b37f7"
      },
      "execution_count": 98,
      "outputs": [
        {
          "output_type": "stream",
          "name": "stdout",
          "text": [
            "<class 'pandas.core.frame.DataFrame'>\n",
            "RangeIndex: 1338 entries, 0 to 1337\n",
            "Data columns (total 13 columns):\n",
            " #   Column                           Non-Null Count  Dtype  \n",
            "---  ------                           --------------  -----  \n",
            " 0   age                              1329 non-null   float64\n",
            " 1   sex                              1338 non-null   int64  \n",
            " 2   bmi                              1335 non-null   float64\n",
            " 3   children                         1333 non-null   float64\n",
            " 4   smoker                           1338 non-null   int64  \n",
            " 5   Claim_Amount                     1324 non-null   float64\n",
            " 6   past_consultations               1332 non-null   float64\n",
            " 7   num_of_steps                     1335 non-null   float64\n",
            " 8   Hospital_expenditure             1334 non-null   float64\n",
            " 9   NUmber_of_past_hospitalizations  1336 non-null   float64\n",
            " 10  Anual_Salary                     1332 non-null   float64\n",
            " 11  region                           1338 non-null   object \n",
            " 12  charges                          1338 non-null   float64\n",
            "dtypes: float64(10), int64(2), object(1)\n",
            "memory usage: 136.0+ KB\n"
          ]
        }
      ]
    },
    {
      "cell_type": "code",
      "source": [
        "df.head() # Now sex and smoker column values are in int type"
      ],
      "metadata": {
        "colab": {
          "base_uri": "https://localhost:8080/",
          "height": 270
        },
        "id": "foLp_oaGDptd",
        "outputId": "e84e6692-be65-4686-a4b8-80020b32a940"
      },
      "execution_count": 99,
      "outputs": [
        {
          "output_type": "execute_result",
          "data": {
            "text/plain": [
              "    age  sex    bmi  children  smoker  Claim_Amount  past_consultations  \\\n",
              "0  18.0    1  23.21       0.0       0   29087.54313                17.0   \n",
              "1  18.0    1  30.14       0.0       0   39053.67437                 7.0   \n",
              "2  18.0    1  33.33       0.0       0   39023.62759                19.0   \n",
              "3  18.0    1  33.66       0.0       0   28185.39332                11.0   \n",
              "4  18.0    1  34.10       0.0       0   14697.85941                16.0   \n",
              "\n",
              "   num_of_steps  Hospital_expenditure  NUmber_of_past_hospitalizations  \\\n",
              "0      715428.0           4720920.992                              0.0   \n",
              "1      699157.0           4329831.676                              0.0   \n",
              "2      702341.0           6884860.774                              0.0   \n",
              "3      700250.0           4274773.550                              0.0   \n",
              "4      711584.0           3787293.921                              0.0   \n",
              "\n",
              "   Anual_Salary     region    charges  \n",
              "0   55784970.05  southeast  1121.8739  \n",
              "1   13700885.19  southeast  1131.5066  \n",
              "2   73523107.27  southeast  1135.9407  \n",
              "3   75819679.60  southeast  1136.3994  \n",
              "4   23012320.01  southeast  1137.0110  "
            ],
            "text/html": [
              "\n",
              "  <div id=\"df-37f464d6-c7fe-4951-8843-f13fa9f92fc8\">\n",
              "    <div class=\"colab-df-container\">\n",
              "      <div>\n",
              "<style scoped>\n",
              "    .dataframe tbody tr th:only-of-type {\n",
              "        vertical-align: middle;\n",
              "    }\n",
              "\n",
              "    .dataframe tbody tr th {\n",
              "        vertical-align: top;\n",
              "    }\n",
              "\n",
              "    .dataframe thead th {\n",
              "        text-align: right;\n",
              "    }\n",
              "</style>\n",
              "<table border=\"1\" class=\"dataframe\">\n",
              "  <thead>\n",
              "    <tr style=\"text-align: right;\">\n",
              "      <th></th>\n",
              "      <th>age</th>\n",
              "      <th>sex</th>\n",
              "      <th>bmi</th>\n",
              "      <th>children</th>\n",
              "      <th>smoker</th>\n",
              "      <th>Claim_Amount</th>\n",
              "      <th>past_consultations</th>\n",
              "      <th>num_of_steps</th>\n",
              "      <th>Hospital_expenditure</th>\n",
              "      <th>NUmber_of_past_hospitalizations</th>\n",
              "      <th>Anual_Salary</th>\n",
              "      <th>region</th>\n",
              "      <th>charges</th>\n",
              "    </tr>\n",
              "  </thead>\n",
              "  <tbody>\n",
              "    <tr>\n",
              "      <th>0</th>\n",
              "      <td>18.0</td>\n",
              "      <td>1</td>\n",
              "      <td>23.21</td>\n",
              "      <td>0.0</td>\n",
              "      <td>0</td>\n",
              "      <td>29087.54313</td>\n",
              "      <td>17.0</td>\n",
              "      <td>715428.0</td>\n",
              "      <td>4720920.992</td>\n",
              "      <td>0.0</td>\n",
              "      <td>55784970.05</td>\n",
              "      <td>southeast</td>\n",
              "      <td>1121.8739</td>\n",
              "    </tr>\n",
              "    <tr>\n",
              "      <th>1</th>\n",
              "      <td>18.0</td>\n",
              "      <td>1</td>\n",
              "      <td>30.14</td>\n",
              "      <td>0.0</td>\n",
              "      <td>0</td>\n",
              "      <td>39053.67437</td>\n",
              "      <td>7.0</td>\n",
              "      <td>699157.0</td>\n",
              "      <td>4329831.676</td>\n",
              "      <td>0.0</td>\n",
              "      <td>13700885.19</td>\n",
              "      <td>southeast</td>\n",
              "      <td>1131.5066</td>\n",
              "    </tr>\n",
              "    <tr>\n",
              "      <th>2</th>\n",
              "      <td>18.0</td>\n",
              "      <td>1</td>\n",
              "      <td>33.33</td>\n",
              "      <td>0.0</td>\n",
              "      <td>0</td>\n",
              "      <td>39023.62759</td>\n",
              "      <td>19.0</td>\n",
              "      <td>702341.0</td>\n",
              "      <td>6884860.774</td>\n",
              "      <td>0.0</td>\n",
              "      <td>73523107.27</td>\n",
              "      <td>southeast</td>\n",
              "      <td>1135.9407</td>\n",
              "    </tr>\n",
              "    <tr>\n",
              "      <th>3</th>\n",
              "      <td>18.0</td>\n",
              "      <td>1</td>\n",
              "      <td>33.66</td>\n",
              "      <td>0.0</td>\n",
              "      <td>0</td>\n",
              "      <td>28185.39332</td>\n",
              "      <td>11.0</td>\n",
              "      <td>700250.0</td>\n",
              "      <td>4274773.550</td>\n",
              "      <td>0.0</td>\n",
              "      <td>75819679.60</td>\n",
              "      <td>southeast</td>\n",
              "      <td>1136.3994</td>\n",
              "    </tr>\n",
              "    <tr>\n",
              "      <th>4</th>\n",
              "      <td>18.0</td>\n",
              "      <td>1</td>\n",
              "      <td>34.10</td>\n",
              "      <td>0.0</td>\n",
              "      <td>0</td>\n",
              "      <td>14697.85941</td>\n",
              "      <td>16.0</td>\n",
              "      <td>711584.0</td>\n",
              "      <td>3787293.921</td>\n",
              "      <td>0.0</td>\n",
              "      <td>23012320.01</td>\n",
              "      <td>southeast</td>\n",
              "      <td>1137.0110</td>\n",
              "    </tr>\n",
              "  </tbody>\n",
              "</table>\n",
              "</div>\n",
              "      <button class=\"colab-df-convert\" onclick=\"convertToInteractive('df-37f464d6-c7fe-4951-8843-f13fa9f92fc8')\"\n",
              "              title=\"Convert this dataframe to an interactive table.\"\n",
              "              style=\"display:none;\">\n",
              "        \n",
              "  <svg xmlns=\"http://www.w3.org/2000/svg\" height=\"24px\"viewBox=\"0 0 24 24\"\n",
              "       width=\"24px\">\n",
              "    <path d=\"M0 0h24v24H0V0z\" fill=\"none\"/>\n",
              "    <path d=\"M18.56 5.44l.94 2.06.94-2.06 2.06-.94-2.06-.94-.94-2.06-.94 2.06-2.06.94zm-11 1L8.5 8.5l.94-2.06 2.06-.94-2.06-.94L8.5 2.5l-.94 2.06-2.06.94zm10 10l.94 2.06.94-2.06 2.06-.94-2.06-.94-.94-2.06-.94 2.06-2.06.94z\"/><path d=\"M17.41 7.96l-1.37-1.37c-.4-.4-.92-.59-1.43-.59-.52 0-1.04.2-1.43.59L10.3 9.45l-7.72 7.72c-.78.78-.78 2.05 0 2.83L4 21.41c.39.39.9.59 1.41.59.51 0 1.02-.2 1.41-.59l7.78-7.78 2.81-2.81c.8-.78.8-2.07 0-2.86zM5.41 20L4 18.59l7.72-7.72 1.47 1.35L5.41 20z\"/>\n",
              "  </svg>\n",
              "      </button>\n",
              "      \n",
              "  <style>\n",
              "    .colab-df-container {\n",
              "      display:flex;\n",
              "      flex-wrap:wrap;\n",
              "      gap: 12px;\n",
              "    }\n",
              "\n",
              "    .colab-df-convert {\n",
              "      background-color: #E8F0FE;\n",
              "      border: none;\n",
              "      border-radius: 50%;\n",
              "      cursor: pointer;\n",
              "      display: none;\n",
              "      fill: #1967D2;\n",
              "      height: 32px;\n",
              "      padding: 0 0 0 0;\n",
              "      width: 32px;\n",
              "    }\n",
              "\n",
              "    .colab-df-convert:hover {\n",
              "      background-color: #E2EBFA;\n",
              "      box-shadow: 0px 1px 2px rgba(60, 64, 67, 0.3), 0px 1px 3px 1px rgba(60, 64, 67, 0.15);\n",
              "      fill: #174EA6;\n",
              "    }\n",
              "\n",
              "    [theme=dark] .colab-df-convert {\n",
              "      background-color: #3B4455;\n",
              "      fill: #D2E3FC;\n",
              "    }\n",
              "\n",
              "    [theme=dark] .colab-df-convert:hover {\n",
              "      background-color: #434B5C;\n",
              "      box-shadow: 0px 1px 3px 1px rgba(0, 0, 0, 0.15);\n",
              "      filter: drop-shadow(0px 1px 2px rgba(0, 0, 0, 0.3));\n",
              "      fill: #FFFFFF;\n",
              "    }\n",
              "  </style>\n",
              "\n",
              "      <script>\n",
              "        const buttonEl =\n",
              "          document.querySelector('#df-37f464d6-c7fe-4951-8843-f13fa9f92fc8 button.colab-df-convert');\n",
              "        buttonEl.style.display =\n",
              "          google.colab.kernel.accessAllowed ? 'block' : 'none';\n",
              "\n",
              "        async function convertToInteractive(key) {\n",
              "          const element = document.querySelector('#df-37f464d6-c7fe-4951-8843-f13fa9f92fc8');\n",
              "          const dataTable =\n",
              "            await google.colab.kernel.invokeFunction('convertToInteractive',\n",
              "                                                     [key], {});\n",
              "          if (!dataTable) return;\n",
              "\n",
              "          const docLinkHtml = 'Like what you see? Visit the ' +\n",
              "            '<a target=\"_blank\" href=https://colab.research.google.com/notebooks/data_table.ipynb>data table notebook</a>'\n",
              "            + ' to learn more about interactive tables.';\n",
              "          element.innerHTML = '';\n",
              "          dataTable['output_type'] = 'display_data';\n",
              "          await google.colab.output.renderOutput(dataTable, element);\n",
              "          const docLink = document.createElement('div');\n",
              "          docLink.innerHTML = docLinkHtml;\n",
              "          element.appendChild(docLink);\n",
              "        }\n",
              "      </script>\n",
              "    </div>\n",
              "  </div>\n",
              "  "
            ]
          },
          "metadata": {},
          "execution_count": 99
        }
      ]
    },
    {
      "cell_type": "code",
      "source": [
        "#checking the column names in the data\n",
        "df.columns"
      ],
      "metadata": {
        "colab": {
          "base_uri": "https://localhost:8080/"
        },
        "id": "uAzhF0RIDvVB",
        "outputId": "a89971d4-af6e-4d96-d48f-6c7093c02608"
      },
      "execution_count": 100,
      "outputs": [
        {
          "output_type": "execute_result",
          "data": {
            "text/plain": [
              "Index(['age', 'sex', 'bmi', 'children', 'smoker', 'Claim_Amount',\n",
              "       'past_consultations', 'num_of_steps', 'Hospital_expenditure',\n",
              "       'NUmber_of_past_hospitalizations', 'Anual_Salary', 'region', 'charges'],\n",
              "      dtype='object')"
            ]
          },
          "metadata": {},
          "execution_count": 100
        }
      ]
    },
    {
      "cell_type": "code",
      "source": [
        "#checking the shape of the data\n",
        "df.shape"
      ],
      "metadata": {
        "colab": {
          "base_uri": "https://localhost:8080/"
        },
        "id": "QfxAoVy_EAzF",
        "outputId": "947261f7-986a-433e-e20c-e1d2711a1c48"
      },
      "execution_count": 101,
      "outputs": [
        {
          "output_type": "execute_result",
          "data": {
            "text/plain": [
              "(1338, 13)"
            ]
          },
          "metadata": {},
          "execution_count": 101
        }
      ]
    },
    {
      "cell_type": "code",
      "source": [
        "#summary of the insurance data\n",
        "df.describe()"
      ],
      "metadata": {
        "colab": {
          "base_uri": "https://localhost:8080/",
          "height": 364
        },
        "id": "KBosk0DYFvVW",
        "outputId": "d071fd99-0980-488e-9d9e-bf9c392d32f4"
      },
      "execution_count": 102,
      "outputs": [
        {
          "output_type": "execute_result",
          "data": {
            "text/plain": [
              "               age          sex          bmi     children       smoker  \\\n",
              "count  1329.000000  1338.000000  1335.000000  1333.000000  1338.000000   \n",
              "mean     39.310008     0.505232    30.665112     1.090773     0.204783   \n",
              "std      14.034818     0.500160     6.101690     1.201856     0.403694   \n",
              "min      18.000000     0.000000    15.960000     0.000000     0.000000   \n",
              "25%      27.000000     0.000000    26.302500     0.000000     0.000000   \n",
              "50%      39.000000     1.000000    30.400000     1.000000     0.000000   \n",
              "75%      51.000000     1.000000    34.687500     2.000000     0.000000   \n",
              "max      64.000000     1.000000    53.130000     5.000000     1.000000   \n",
              "\n",
              "       Claim_Amount  past_consultations  num_of_steps  Hospital_expenditure  \\\n",
              "count   1324.000000         1332.000000  1.335000e+03          1.334000e+03   \n",
              "mean   33361.327180           15.216216  9.100047e+05          1.584179e+07   \n",
              "std    15617.288337            7.467723  9.188612e+04          2.669305e+07   \n",
              "min     1920.136268            1.000000  6.954300e+05          2.945253e+04   \n",
              "25%    20768.860390            9.000000  8.471995e+05          4.077633e+06   \n",
              "50%    33700.310675           15.000000  9.143000e+05          7.490337e+06   \n",
              "75%    45052.331957           20.000000  9.716840e+05          1.084082e+07   \n",
              "max    77277.988480           40.000000  1.107872e+06          2.616317e+08   \n",
              "\n",
              "       NUmber_of_past_hospitalizations  Anual_Salary       charges  \n",
              "count                      1336.000000  1.332000e+03   1338.000000  \n",
              "mean                          1.060629  3.696849e+08  13270.422265  \n",
              "std                           0.533583  5.668843e+08  12110.011237  \n",
              "min                           0.000000  2.747072e+06   1121.873900  \n",
              "25%                           1.000000  7.701932e+07   4740.287150  \n",
              "50%                           1.000000  1.419361e+08   9382.033000  \n",
              "75%                           1.000000  3.243499e+08  16639.912515  \n",
              "max                           3.000000  4.117197e+09  63770.428010  "
            ],
            "text/html": [
              "\n",
              "  <div id=\"df-b24d2788-243b-4f28-8957-17fcb3534e8e\">\n",
              "    <div class=\"colab-df-container\">\n",
              "      <div>\n",
              "<style scoped>\n",
              "    .dataframe tbody tr th:only-of-type {\n",
              "        vertical-align: middle;\n",
              "    }\n",
              "\n",
              "    .dataframe tbody tr th {\n",
              "        vertical-align: top;\n",
              "    }\n",
              "\n",
              "    .dataframe thead th {\n",
              "        text-align: right;\n",
              "    }\n",
              "</style>\n",
              "<table border=\"1\" class=\"dataframe\">\n",
              "  <thead>\n",
              "    <tr style=\"text-align: right;\">\n",
              "      <th></th>\n",
              "      <th>age</th>\n",
              "      <th>sex</th>\n",
              "      <th>bmi</th>\n",
              "      <th>children</th>\n",
              "      <th>smoker</th>\n",
              "      <th>Claim_Amount</th>\n",
              "      <th>past_consultations</th>\n",
              "      <th>num_of_steps</th>\n",
              "      <th>Hospital_expenditure</th>\n",
              "      <th>NUmber_of_past_hospitalizations</th>\n",
              "      <th>Anual_Salary</th>\n",
              "      <th>charges</th>\n",
              "    </tr>\n",
              "  </thead>\n",
              "  <tbody>\n",
              "    <tr>\n",
              "      <th>count</th>\n",
              "      <td>1329.000000</td>\n",
              "      <td>1338.000000</td>\n",
              "      <td>1335.000000</td>\n",
              "      <td>1333.000000</td>\n",
              "      <td>1338.000000</td>\n",
              "      <td>1324.000000</td>\n",
              "      <td>1332.000000</td>\n",
              "      <td>1.335000e+03</td>\n",
              "      <td>1.334000e+03</td>\n",
              "      <td>1336.000000</td>\n",
              "      <td>1.332000e+03</td>\n",
              "      <td>1338.000000</td>\n",
              "    </tr>\n",
              "    <tr>\n",
              "      <th>mean</th>\n",
              "      <td>39.310008</td>\n",
              "      <td>0.505232</td>\n",
              "      <td>30.665112</td>\n",
              "      <td>1.090773</td>\n",
              "      <td>0.204783</td>\n",
              "      <td>33361.327180</td>\n",
              "      <td>15.216216</td>\n",
              "      <td>9.100047e+05</td>\n",
              "      <td>1.584179e+07</td>\n",
              "      <td>1.060629</td>\n",
              "      <td>3.696849e+08</td>\n",
              "      <td>13270.422265</td>\n",
              "    </tr>\n",
              "    <tr>\n",
              "      <th>std</th>\n",
              "      <td>14.034818</td>\n",
              "      <td>0.500160</td>\n",
              "      <td>6.101690</td>\n",
              "      <td>1.201856</td>\n",
              "      <td>0.403694</td>\n",
              "      <td>15617.288337</td>\n",
              "      <td>7.467723</td>\n",
              "      <td>9.188612e+04</td>\n",
              "      <td>2.669305e+07</td>\n",
              "      <td>0.533583</td>\n",
              "      <td>5.668843e+08</td>\n",
              "      <td>12110.011237</td>\n",
              "    </tr>\n",
              "    <tr>\n",
              "      <th>min</th>\n",
              "      <td>18.000000</td>\n",
              "      <td>0.000000</td>\n",
              "      <td>15.960000</td>\n",
              "      <td>0.000000</td>\n",
              "      <td>0.000000</td>\n",
              "      <td>1920.136268</td>\n",
              "      <td>1.000000</td>\n",
              "      <td>6.954300e+05</td>\n",
              "      <td>2.945253e+04</td>\n",
              "      <td>0.000000</td>\n",
              "      <td>2.747072e+06</td>\n",
              "      <td>1121.873900</td>\n",
              "    </tr>\n",
              "    <tr>\n",
              "      <th>25%</th>\n",
              "      <td>27.000000</td>\n",
              "      <td>0.000000</td>\n",
              "      <td>26.302500</td>\n",
              "      <td>0.000000</td>\n",
              "      <td>0.000000</td>\n",
              "      <td>20768.860390</td>\n",
              "      <td>9.000000</td>\n",
              "      <td>8.471995e+05</td>\n",
              "      <td>4.077633e+06</td>\n",
              "      <td>1.000000</td>\n",
              "      <td>7.701932e+07</td>\n",
              "      <td>4740.287150</td>\n",
              "    </tr>\n",
              "    <tr>\n",
              "      <th>50%</th>\n",
              "      <td>39.000000</td>\n",
              "      <td>1.000000</td>\n",
              "      <td>30.400000</td>\n",
              "      <td>1.000000</td>\n",
              "      <td>0.000000</td>\n",
              "      <td>33700.310675</td>\n",
              "      <td>15.000000</td>\n",
              "      <td>9.143000e+05</td>\n",
              "      <td>7.490337e+06</td>\n",
              "      <td>1.000000</td>\n",
              "      <td>1.419361e+08</td>\n",
              "      <td>9382.033000</td>\n",
              "    </tr>\n",
              "    <tr>\n",
              "      <th>75%</th>\n",
              "      <td>51.000000</td>\n",
              "      <td>1.000000</td>\n",
              "      <td>34.687500</td>\n",
              "      <td>2.000000</td>\n",
              "      <td>0.000000</td>\n",
              "      <td>45052.331957</td>\n",
              "      <td>20.000000</td>\n",
              "      <td>9.716840e+05</td>\n",
              "      <td>1.084082e+07</td>\n",
              "      <td>1.000000</td>\n",
              "      <td>3.243499e+08</td>\n",
              "      <td>16639.912515</td>\n",
              "    </tr>\n",
              "    <tr>\n",
              "      <th>max</th>\n",
              "      <td>64.000000</td>\n",
              "      <td>1.000000</td>\n",
              "      <td>53.130000</td>\n",
              "      <td>5.000000</td>\n",
              "      <td>1.000000</td>\n",
              "      <td>77277.988480</td>\n",
              "      <td>40.000000</td>\n",
              "      <td>1.107872e+06</td>\n",
              "      <td>2.616317e+08</td>\n",
              "      <td>3.000000</td>\n",
              "      <td>4.117197e+09</td>\n",
              "      <td>63770.428010</td>\n",
              "    </tr>\n",
              "  </tbody>\n",
              "</table>\n",
              "</div>\n",
              "      <button class=\"colab-df-convert\" onclick=\"convertToInteractive('df-b24d2788-243b-4f28-8957-17fcb3534e8e')\"\n",
              "              title=\"Convert this dataframe to an interactive table.\"\n",
              "              style=\"display:none;\">\n",
              "        \n",
              "  <svg xmlns=\"http://www.w3.org/2000/svg\" height=\"24px\"viewBox=\"0 0 24 24\"\n",
              "       width=\"24px\">\n",
              "    <path d=\"M0 0h24v24H0V0z\" fill=\"none\"/>\n",
              "    <path d=\"M18.56 5.44l.94 2.06.94-2.06 2.06-.94-2.06-.94-.94-2.06-.94 2.06-2.06.94zm-11 1L8.5 8.5l.94-2.06 2.06-.94-2.06-.94L8.5 2.5l-.94 2.06-2.06.94zm10 10l.94 2.06.94-2.06 2.06-.94-2.06-.94-.94-2.06-.94 2.06-2.06.94z\"/><path d=\"M17.41 7.96l-1.37-1.37c-.4-.4-.92-.59-1.43-.59-.52 0-1.04.2-1.43.59L10.3 9.45l-7.72 7.72c-.78.78-.78 2.05 0 2.83L4 21.41c.39.39.9.59 1.41.59.51 0 1.02-.2 1.41-.59l7.78-7.78 2.81-2.81c.8-.78.8-2.07 0-2.86zM5.41 20L4 18.59l7.72-7.72 1.47 1.35L5.41 20z\"/>\n",
              "  </svg>\n",
              "      </button>\n",
              "      \n",
              "  <style>\n",
              "    .colab-df-container {\n",
              "      display:flex;\n",
              "      flex-wrap:wrap;\n",
              "      gap: 12px;\n",
              "    }\n",
              "\n",
              "    .colab-df-convert {\n",
              "      background-color: #E8F0FE;\n",
              "      border: none;\n",
              "      border-radius: 50%;\n",
              "      cursor: pointer;\n",
              "      display: none;\n",
              "      fill: #1967D2;\n",
              "      height: 32px;\n",
              "      padding: 0 0 0 0;\n",
              "      width: 32px;\n",
              "    }\n",
              "\n",
              "    .colab-df-convert:hover {\n",
              "      background-color: #E2EBFA;\n",
              "      box-shadow: 0px 1px 2px rgba(60, 64, 67, 0.3), 0px 1px 3px 1px rgba(60, 64, 67, 0.15);\n",
              "      fill: #174EA6;\n",
              "    }\n",
              "\n",
              "    [theme=dark] .colab-df-convert {\n",
              "      background-color: #3B4455;\n",
              "      fill: #D2E3FC;\n",
              "    }\n",
              "\n",
              "    [theme=dark] .colab-df-convert:hover {\n",
              "      background-color: #434B5C;\n",
              "      box-shadow: 0px 1px 3px 1px rgba(0, 0, 0, 0.15);\n",
              "      filter: drop-shadow(0px 1px 2px rgba(0, 0, 0, 0.3));\n",
              "      fill: #FFFFFF;\n",
              "    }\n",
              "  </style>\n",
              "\n",
              "      <script>\n",
              "        const buttonEl =\n",
              "          document.querySelector('#df-b24d2788-243b-4f28-8957-17fcb3534e8e button.colab-df-convert');\n",
              "        buttonEl.style.display =\n",
              "          google.colab.kernel.accessAllowed ? 'block' : 'none';\n",
              "\n",
              "        async function convertToInteractive(key) {\n",
              "          const element = document.querySelector('#df-b24d2788-243b-4f28-8957-17fcb3534e8e');\n",
              "          const dataTable =\n",
              "            await google.colab.kernel.invokeFunction('convertToInteractive',\n",
              "                                                     [key], {});\n",
              "          if (!dataTable) return;\n",
              "\n",
              "          const docLinkHtml = 'Like what you see? Visit the ' +\n",
              "            '<a target=\"_blank\" href=https://colab.research.google.com/notebooks/data_table.ipynb>data table notebook</a>'\n",
              "            + ' to learn more about interactive tables.';\n",
              "          element.innerHTML = '';\n",
              "          dataTable['output_type'] = 'display_data';\n",
              "          await google.colab.output.renderOutput(dataTable, element);\n",
              "          const docLink = document.createElement('div');\n",
              "          docLink.innerHTML = docLinkHtml;\n",
              "          element.appendChild(docLink);\n",
              "        }\n",
              "      </script>\n",
              "    </div>\n",
              "  </div>\n",
              "  "
            ]
          },
          "metadata": {},
          "execution_count": 102
        }
      ]
    },
    {
      "cell_type": "code",
      "source": [
        "#checking the distribution of each data in the insurance data\n",
        "\n",
        "fig,axes = plt.subplots(3,3, figsize=(15,5))\n",
        "\n",
        "plt.subplot(3,3,1)\n",
        "sns.distplot(x=df['age'])\n",
        "\n",
        "plt.subplot(3,3,2)\n",
        "sns.distplot(x=df['bmi'])\n",
        "\n",
        "plt.subplot(3,3,3)\n",
        "sns.distplot(x=df['children'])\n",
        "\n",
        "plt.subplot(3,3,4)\n",
        "sns.distplot(x=df['Claim_Amount'])\n",
        "\n",
        "plt.subplot(3,3,5)\n",
        "sns.distplot(x=df['past_consultations'])\n",
        "\n",
        "plt.subplot(3,3,6)\n",
        "sns.distplot(x=df['num_of_steps'])\n",
        "\n",
        "plt.subplot(3,3,7)\n",
        "sns.distplot(x=df['Hospital_expenditure'])\n",
        "\n",
        "plt.subplot(3,3,8)\n",
        "sns.distplot(x=df['NUmber_of_past_hospitalizations'])\n",
        "\n",
        "plt.subplot(3,3,9)\n",
        "sns.distplot(x=df['smoker'])\n",
        "\n",
        "warnings.filterwarnings(\"ignore\")\n",
        "plt.subplots_adjust(hspace=0.5,wspace=0.5)\n",
        "plt.show()"
      ],
      "metadata": {
        "colab": {
          "base_uri": "https://localhost:8080/",
          "height": 335
        },
        "id": "QIaRB77pF7ou",
        "outputId": "000bb34a-e58e-4e4a-8827-8e4f7b731077"
      },
      "execution_count": 103,
      "outputs": [
        {
          "output_type": "display_data",
          "data": {
            "text/plain": [
              "<Figure size 1080x360 with 9 Axes>"
            ],
            "image/png": "[encoded data removed]"
          },
          "metadata": {
            "needs_background": "light"
          }
        }
      ]
    },
    {
      "cell_type": "code",
      "source": [
        "#To get better idea about peakdness and presence of the outliers in the data,we can make use of the boxplots\n",
        "\n",
        "fig,axes = plt.subplots(3,3, figsize=(15,5))\n",
        "\n",
        "plt.subplot(3,3,1)\n",
        "sns.boxplot(x=df['age'])\n",
        "\n",
        "plt.subplot(3,3,2)\n",
        "sns.boxplot(x=df['bmi'])\n",
        "\n",
        "plt.subplot(3,3,3)\n",
        "sns.boxplot(x=df['children'])\n",
        "\n",
        "plt.subplot(3,3,4)\n",
        "sns.boxplot(x=df['Claim_Amount'])\n",
        "\n",
        "plt.subplot(3,3,5)\n",
        "sns.boxplot(x=df['past_consultations'])\n",
        "\n",
        "plt.subplot(3,3,6)\n",
        "sns.boxplot(x=df['num_of_steps'])\n",
        "\n",
        "plt.subplot(3,3,7)\n",
        "sns.boxplot(x=df['Hospital_expenditure'])\n",
        "\n",
        "plt.subplot(3,3,8)\n",
        "sns.boxplot(x=df['NUmber_of_past_hospitalizations'])\n",
        "\n",
        "plt.subplot(3,3,9)\n",
        "sns.boxplot(x=df['smoker'])\n",
        "\n",
        "warnings.filterwarnings(\"ignore\")\n",
        "plt.subplots_adjust(hspace=0.5,wspace=0.5)\n",
        "plt.show()"
      ],
      "metadata": {
        "colab": {
          "base_uri": "https://localhost:8080/",
          "height": 335
        },
        "id": "cMMMpWr3He8M",
        "outputId": "f2c3e546-4653-419a-e866-5b34353e576a"
      },
      "execution_count": 104,
      "outputs": [
        {
          "output_type": "display_data",
          "data": {
            "text/plain": [
              "<Figure size 1080x360 with 9 Axes>"
            ],
            "image/png": "[encoded data removed]"
          },
          "metadata": {
            "needs_background": "light"
          }
        }
      ]
    },
    {
      "cell_type": "code",
      "source": [
        "#Handling the null values\n",
        "\n",
        "'''Null values in the dataset can cause ineffeciency in the model. so either we can drop the null values,or we can replace with \n",
        " mean,median,mode of the column'''\n",
        "df.isnull().sum()"
      ],
      "metadata": {
        "colab": {
          "base_uri": "https://localhost:8080/"
        },
        "id": "xKOCln_zIPVP",
        "outputId": "b773019c-6b0e-431a-8e86-e4e4eff6600d"
      },
      "execution_count": 105,
      "outputs": [
        {
          "output_type": "execute_result",
          "data": {
            "text/plain": [
              "age                                 9\n",
              "sex                                 0\n",
              "bmi                                 3\n",
              "children                            5\n",
              "smoker                              0\n",
              "Claim_Amount                       14\n",
              "past_consultations                  6\n",
              "num_of_steps                        3\n",
              "Hospital_expenditure                4\n",
              "NUmber_of_past_hospitalizations     2\n",
              "Anual_Salary                        6\n",
              "region                              0\n",
              "charges                             0\n",
              "dtype: int64"
            ]
          },
          "metadata": {},
          "execution_count": 105
        }
      ]
    },
    {
      "cell_type": "code",
      "source": [
        "#filling the null values with mean and median\n",
        "df['age'] = df['age'].fillna(df['age'].mean())\n",
        "df['bmi'] = df['bmi'].fillna(df['bmi'].mean())\n",
        "df['children'] = df['children'].fillna(df['children'].median())\n",
        "df['Claim_Amount'] = df['Claim_Amount'].fillna(df['Claim_Amount'].mean())\n",
        "df['past_consultations'] = df['past_consultations'].fillna(df['past_consultations'].mean())\n",
        "df['num_of_steps'] = df['num_of_steps'].fillna(df['num_of_steps'].mean())\n",
        "df['Hospital_expenditure'] = df['Hospital_expenditure'].fillna(df['Hospital_expenditure'].median())\n",
        "df['NUmber_of_past_hospitalizations'] = df['NUmber_of_past_hospitalizations'].fillna(df['NUmber_of_past_hospitalizations'].median())\n",
        "df['Anual_Salary'] = df['Anual_Salary'].fillna(df['Anual_Salary'].median())"
      ],
      "metadata": {
        "id": "oZbblDvaJIrh"
      },
      "execution_count": 106,
      "outputs": []
    },
    {
      "cell_type": "code",
      "source": [
        "#col=list(insurance.columns)\n",
        "#fillna() : replace the null values to provide input\n",
        "#object -->mode\n",
        "#num --> mean/median\n",
        "#mode-->most repeated data--->object\n",
        "\n",
        "#numeric\n",
        " #median-->center value \n",
        "#mean\n",
        "'''for col_name in col:\n",
        "   if df[col_name].dtypes=='object':\n",
        "     #print('ob')\n",
        "     df[col_name] = df[col_name].fillna(df[col_name].mode()[0])\n",
        "   else:\n",
        "     #print('num')  \n",
        "     df[col_name] = df[col_name].fillna(df[col_name].mean())'''"
      ],
      "metadata": {
        "id": "TreAlz5zbZVY"
      },
      "execution_count": null,
      "outputs": []
    },
    {
      "cell_type": "code",
      "source": [
        "df.isnull().sum()"
      ],
      "metadata": {
        "colab": {
          "base_uri": "https://localhost:8080/"
        },
        "id": "PyeYXV_0ZuC2",
        "outputId": "a0856846-1815-4a52-ad77-4362eff367ea"
      },
      "execution_count": 107,
      "outputs": [
        {
          "output_type": "execute_result",
          "data": {
            "text/plain": [
              "age                                0\n",
              "sex                                0\n",
              "bmi                                0\n",
              "children                           0\n",
              "smoker                             0\n",
              "Claim_Amount                       0\n",
              "past_consultations                 0\n",
              "num_of_steps                       0\n",
              "Hospital_expenditure               0\n",
              "NUmber_of_past_hospitalizations    0\n",
              "Anual_Salary                       0\n",
              "region                             0\n",
              "charges                            0\n",
              "dtype: int64"
            ]
          },
          "metadata": {},
          "execution_count": 107
        }
      ]
    },
    {
      "cell_type": "code",
      "source": [
        "#Distribution of Numerical data\n",
        "col=list(df.columns)\n",
        "for col_name in col:\n",
        "  if(df[col_name].dtypes=='int64' or df[col_name].dtypes=='float64'):\n",
        "    plt.hist(df[col_name])\n",
        "    plt.xlabel(col_name)\n",
        "    plt.ylabel('count')\n",
        "    plt.show()"
      ],
      "metadata": {
        "colab": {
          "base_uri": "https://localhost:8080/",
          "height": 1000
        },
        "id": "y9xlFWs4bxr_",
        "outputId": "9179467e-4f8b-467d-a0b3-68cea267ffe1"
      },
      "execution_count": 108,
      "outputs": [
        {
          "output_type": "display_data",
          "data": {
            "text/plain": [
              "<Figure size 432x288 with 1 Axes>"
            ],
            "image/png": "[encoded data removed]"
          },
          "metadata": {
            "needs_background": "light"
          }
        },
        {
          "output_type": "display_data",
          "data": {
            "text/plain": [
              "<Figure size 432x288 with 1 Axes>"
            ],
            "image/png": "[encoded data removed]"
          },
          "metadata": {
            "needs_background": "light"
          }
        },
        {
          "output_type": "display_data",
          "data": {
            "text/plain": [
              "<Figure size 432x288 with 1 Axes>"
            ],
            "image/png": "[encoded data removed]"
          },
          "metadata": {
            "needs_background": "light"
          }
        },
        {
          "output_type": "display_data",
          "data": {
            "text/plain": [
              "<Figure size 432x288 with 1 Axes>"
            ],
            "image/png": "[encoded data removed]"
          },
          "metadata": {
            "needs_background": "light"
          }
        },
        {
          "output_type": "display_data",
          "data": {
            "text/plain": [
              "<Figure size 432x288 with 1 Axes>"
            ],
            "image/png": "[encoded data removed]"
          },
          "metadata": {
            "needs_background": "light"
          }
        },
        {
          "output_type": "display_data",
          "data": {
            "text/plain": [
              "<Figure size 432x288 with 1 Axes>"
            ],
            "image/png": "[encoded data removed]"
          },
          "metadata": {
            "needs_background": "light"
          }
        },
        {
          "output_type": "display_data",
          "data": {
            "text/plain": [
              "<Figure size 432x288 with 1 Axes>"
            ],
            "image/png": "[encoded data removed]"
          },
          "metadata": {
            "needs_background": "light"
          }
        },
        {
          "output_type": "display_data",
          "data": {
            "text/plain": [
              "<Figure size 432x288 with 1 Axes>"
            ],
            "image/png": "[encoded data removed]"
          },
          "metadata": {
            "needs_background": "light"
          }
        },
        {
          "output_type": "display_data",
          "data": {
            "text/plain": [
              "<Figure size 432x288 with 1 Axes>"
            ],
            "image/png": "[encoded data removed]"
          },
          "metadata": {
            "needs_background": "light"
          }
        },
        {
          "output_type": "display_data",
          "data": {
            "text/plain": [
              "<Figure size 432x288 with 1 Axes>"
            ],
            "image/png": "[encoded data removed]"
          },
          "metadata": {
            "needs_background": "light"
          }
        },
        {
          "output_type": "display_data",
          "data": {
            "text/plain": [
              "<Figure size 432x288 with 1 Axes>"
            ],
            "image/png": "[encoded data removed]"
          },
          "metadata": {
            "needs_background": "light"
          }
        },
        {
          "output_type": "display_data",
          "data": {
            "text/plain": [
              "<Figure size 432x288 with 1 Axes>"
            ],
            "image/png": "[encoded data removed]"
          },
          "metadata": {
            "needs_background": "light"
          }
        }
      ]
    },
    {
      "cell_type": "code",
      "source": [
        "#Using Pearson Correlation\n",
        "plt.figure(figsize=(12,10))\n",
        "cor = df.corr()\n",
        "sns.heatmap(cor)\n",
        "plt.show()"
      ],
      "metadata": {
        "colab": {
          "base_uri": "https://localhost:8080/",
          "height": 751
        },
        "id": "59CGF5bVvvXq",
        "outputId": "762f8e49-d0cf-48ca-ce54-eedbcd176f83"
      },
      "execution_count": 124,
      "outputs": [
        {
          "output_type": "display_data",
          "data": {
            "text/plain": [
              "<Figure size 864x720 with 2 Axes>"
            ],
            "image/png": "[encoded data removed]"
          },
          "metadata": {
            "needs_background": "light"
          }
        }
      ]
    },
    {
      "cell_type": "code",
      "source": [
        "'''The columns that show good correlation with the target variable are gng to be used for the prediction '''"
      ],
      "metadata": {
        "id": "KSHmAyTrv7TA"
      },
      "execution_count": null,
      "outputs": []
    },
    {
      "cell_type": "code",
      "source": [
        "#Splitting the data into Train and Test\n",
        "\n",
        "from sklearn.model_selection import train_test_split\n",
        "\n",
        "#splitting the data\n",
        "x = df.drop(['charges','age','sex','bmi','children','region'],axis=1)\n",
        "y = df.iloc[:,-1]\n",
        "\n",
        "#splitting the data\n",
        "x_train,x_test,y_train,y_test = train_test_split(x,y, test_size=0.2, random_state=42)\n",
        "x_train"
      ],
      "metadata": {
        "colab": {
          "base_uri": "https://localhost:8080/",
          "height": 423
        },
        "id": "cpZCwRZFk6w9",
        "outputId": "1d89bee3-70a6-4240-f5d1-dbfea8bb456b"
      },
      "execution_count": 110,
      "outputs": [
        {
          "output_type": "execute_result",
          "data": {
            "text/plain": [
              "      smoker  Claim_Amount  past_consultations  num_of_steps  \\\n",
              "560        0   29622.26103                 6.0      886052.0   \n",
              "1285       1   66824.70947                23.0     1063413.0   \n",
              "1142       0   36320.75384                16.0     1001618.0   \n",
              "969        0   24827.43078                 8.0      962113.0   \n",
              "486        0   47348.03370                10.0      888358.0   \n",
              "...      ...           ...                 ...           ...   \n",
              "1095       0   47554.34106                19.0     1007896.0   \n",
              "1130       0   63672.07916                14.0     1000863.0   \n",
              "1294       1   42578.49702                24.0     1061168.0   \n",
              "860        0   27369.02461                22.0      943007.0   \n",
              "1126       0   37385.45533                26.0     1029035.0   \n",
              "\n",
              "      Hospital_expenditure  NUmber_of_past_hospitalizations  Anual_Salary  \n",
              "560           7.579867e+06                              1.0  1.589946e+08  \n",
              "1285          8.042196e+07                              2.0  1.919607e+09  \n",
              "1142          1.772151e+07                              2.0  7.139574e+08  \n",
              "969           1.214312e+07                              1.0  2.928227e+08  \n",
              "486           6.034962e+06                              1.0  5.093163e+07  \n",
              "...                    ...                              ...           ...  \n",
              "1095          1.132722e+07                              1.0  5.662888e+08  \n",
              "1130          2.295519e+07                              2.0  6.472972e+08  \n",
              "1294          9.188836e+07                              2.0  2.038383e+09  \n",
              "860           3.634140e+06                              1.0  1.877743e+08  \n",
              "1126          1.579127e+07                              2.0  6.863093e+08  \n",
              "\n",
              "[1070 rows x 7 columns]"
            ],
            "text/html": [
              "\n",
              "  <div id=\"df-21f0bcfe-21f5-489d-aed4-bd97b8693bd2\">\n",
              "    <div class=\"colab-df-container\">\n",
              "      <div>\n",
              "<style scoped>\n",
              "    .dataframe tbody tr th:only-of-type {\n",
              "        vertical-align: middle;\n",
              "    }\n",
              "\n",
              "    .dataframe tbody tr th {\n",
              "        vertical-align: top;\n",
              "    }\n",
              "\n",
              "    .dataframe thead th {\n",
              "        text-align: right;\n",
              "    }\n",
              "</style>\n",
              "<table border=\"1\" class=\"dataframe\">\n",
              "  <thead>\n",
              "    <tr style=\"text-align: right;\">\n",
              "      <th></th>\n",
              "      <th>smoker</th>\n",
              "      <th>Claim_Amount</th>\n",
              "      <th>past_consultations</th>\n",
              "      <th>num_of_steps</th>\n",
              "      <th>Hospital_expenditure</th>\n",
              "      <th>NUmber_of_past_hospitalizations</th>\n",
              "      <th>Anual_Salary</th>\n",
              "    </tr>\n",
              "  </thead>\n",
              "  <tbody>\n",
              "    <tr>\n",
              "      <th>560</th>\n",
              "      <td>0</td>\n",
              "      <td>29622.26103</td>\n",
              "      <td>6.0</td>\n",
              "      <td>886052.0</td>\n",
              "      <td>7.579867e+06</td>\n",
              "      <td>1.0</td>\n",
              "      <td>1.589946e+08</td>\n",
              "    </tr>\n",
              "    <tr>\n",
              "      <th>1285</th>\n",
              "      <td>1</td>\n",
              "      <td>66824.70947</td>\n",
              "      <td>23.0</td>\n",
              "      <td>1063413.0</td>\n",
              "      <td>8.042196e+07</td>\n",
              "      <td>2.0</td>\n",
              "      <td>1.919607e+09</td>\n",
              "    </tr>\n",
              "    <tr>\n",
              "      <th>1142</th>\n",
              "      <td>0</td>\n",
              "      <td>36320.75384</td>\n",
              "      <td>16.0</td>\n",
              "      <td>1001618.0</td>\n",
              "      <td>1.772151e+07</td>\n",
              "      <td>2.0</td>\n",
              "      <td>7.139574e+08</td>\n",
              "    </tr>\n",
              "    <tr>\n",
              "      <th>969</th>\n",
              "      <td>0</td>\n",
              "      <td>24827.43078</td>\n",
              "      <td>8.0</td>\n",
              "      <td>962113.0</td>\n",
              "      <td>1.214312e+07</td>\n",
              "      <td>1.0</td>\n",
              "      <td>2.928227e+08</td>\n",
              "    </tr>\n",
              "    <tr>\n",
              "      <th>486</th>\n",
              "      <td>0</td>\n",
              "      <td>47348.03370</td>\n",
              "      <td>10.0</td>\n",
              "      <td>888358.0</td>\n",
              "      <td>6.034962e+06</td>\n",
              "      <td>1.0</td>\n",
              "      <td>5.093163e+07</td>\n",
              "    </tr>\n",
              "    <tr>\n",
              "      <th>...</th>\n",
              "      <td>...</td>\n",
              "      <td>...</td>\n",
              "      <td>...</td>\n",
              "      <td>...</td>\n",
              "      <td>...</td>\n",
              "      <td>...</td>\n",
              "      <td>...</td>\n",
              "    </tr>\n",
              "    <tr>\n",
              "      <th>1095</th>\n",
              "      <td>0</td>\n",
              "      <td>47554.34106</td>\n",
              "      <td>19.0</td>\n",
              "      <td>1007896.0</td>\n",
              "      <td>1.132722e+07</td>\n",
              "      <td>1.0</td>\n",
              "      <td>5.662888e+08</td>\n",
              "    </tr>\n",
              "    <tr>\n",
              "      <th>1130</th>\n",
              "      <td>0</td>\n",
              "      <td>63672.07916</td>\n",
              "      <td>14.0</td>\n",
              "      <td>1000863.0</td>\n",
              "      <td>2.295519e+07</td>\n",
              "      <td>2.0</td>\n",
              "      <td>6.472972e+08</td>\n",
              "    </tr>\n",
              "    <tr>\n",
              "      <th>1294</th>\n",
              "      <td>1</td>\n",
              "      <td>42578.49702</td>\n",
              "      <td>24.0</td>\n",
              "      <td>1061168.0</td>\n",
              "      <td>9.188836e+07</td>\n",
              "      <td>2.0</td>\n",
              "      <td>2.038383e+09</td>\n",
              "    </tr>\n",
              "    <tr>\n",
              "      <th>860</th>\n",
              "      <td>0</td>\n",
              "      <td>27369.02461</td>\n",
              "      <td>22.0</td>\n",
              "      <td>943007.0</td>\n",
              "      <td>3.634140e+06</td>\n",
              "      <td>1.0</td>\n",
              "      <td>1.877743e+08</td>\n",
              "    </tr>\n",
              "    <tr>\n",
              "      <th>1126</th>\n",
              "      <td>0</td>\n",
              "      <td>37385.45533</td>\n",
              "      <td>26.0</td>\n",
              "      <td>1029035.0</td>\n",
              "      <td>1.579127e+07</td>\n",
              "      <td>2.0</td>\n",
              "      <td>6.863093e+08</td>\n",
              "    </tr>\n",
              "  </tbody>\n",
              "</table>\n",
              "<p>1070 rows × 7 columns</p>\n",
              "</div>\n",
              "      <button class=\"colab-df-convert\" onclick=\"convertToInteractive('df-21f0bcfe-21f5-489d-aed4-bd97b8693bd2')\"\n",
              "              title=\"Convert this dataframe to an interactive table.\"\n",
              "              style=\"display:none;\">\n",
              "        \n",
              "  <svg xmlns=\"http://www.w3.org/2000/svg\" height=\"24px\"viewBox=\"0 0 24 24\"\n",
              "       width=\"24px\">\n",
              "    <path d=\"M0 0h24v24H0V0z\" fill=\"none\"/>\n",
              "    <path d=\"M18.56 5.44l.94 2.06.94-2.06 2.06-.94-2.06-.94-.94-2.06-.94 2.06-2.06.94zm-11 1L8.5 8.5l.94-2.06 2.06-.94-2.06-.94L8.5 2.5l-.94 2.06-2.06.94zm10 10l.94 2.06.94-2.06 2.06-.94-2.06-.94-.94-2.06-.94 2.06-2.06.94z\"/><path d=\"M17.41 7.96l-1.37-1.37c-.4-.4-.92-.59-1.43-.59-.52 0-1.04.2-1.43.59L10.3 9.45l-7.72 7.72c-.78.78-.78 2.05 0 2.83L4 21.41c.39.39.9.59 1.41.59.51 0 1.02-.2 1.41-.59l7.78-7.78 2.81-2.81c.8-.78.8-2.07 0-2.86zM5.41 20L4 18.59l7.72-7.72 1.47 1.35L5.41 20z\"/>\n",
              "  </svg>\n",
              "      </button>\n",
              "      \n",
              "  <style>\n",
              "    .colab-df-container {\n",
              "      display:flex;\n",
              "      flex-wrap:wrap;\n",
              "      gap: 12px;\n",
              "    }\n",
              "\n",
              "    .colab-df-convert {\n",
              "      background-color: #E8F0FE;\n",
              "      border: none;\n",
              "      border-radius: 50%;\n",
              "      cursor: pointer;\n",
              "      display: none;\n",
              "      fill: #1967D2;\n",
              "      height: 32px;\n",
              "      padding: 0 0 0 0;\n",
              "      width: 32px;\n",
              "    }\n",
              "\n",
              "    .colab-df-convert:hover {\n",
              "      background-color: #E2EBFA;\n",
              "      box-shadow: 0px 1px 2px rgba(60, 64, 67, 0.3), 0px 1px 3px 1px rgba(60, 64, 67, 0.15);\n",
              "      fill: #174EA6;\n",
              "    }\n",
              "\n",
              "    [theme=dark] .colab-df-convert {\n",
              "      background-color: #3B4455;\n",
              "      fill: #D2E3FC;\n",
              "    }\n",
              "\n",
              "    [theme=dark] .colab-df-convert:hover {\n",
              "      background-color: #434B5C;\n",
              "      box-shadow: 0px 1px 3px 1px rgba(0, 0, 0, 0.15);\n",
              "      filter: drop-shadow(0px 1px 2px rgba(0, 0, 0, 0.3));\n",
              "      fill: #FFFFFF;\n",
              "    }\n",
              "  </style>\n",
              "\n",
              "      <script>\n",
              "        const buttonEl =\n",
              "          document.querySelector('#df-21f0bcfe-21f5-489d-aed4-bd97b8693bd2 button.colab-df-convert');\n",
              "        buttonEl.style.display =\n",
              "          google.colab.kernel.accessAllowed ? 'block' : 'none';\n",
              "\n",
              "        async function convertToInteractive(key) {\n",
              "          const element = document.querySelector('#df-21f0bcfe-21f5-489d-aed4-bd97b8693bd2');\n",
              "          const dataTable =\n",
              "            await google.colab.kernel.invokeFunction('convertToInteractive',\n",
              "                                                     [key], {});\n",
              "          if (!dataTable) return;\n",
              "\n",
              "          const docLinkHtml = 'Like what you see? Visit the ' +\n",
              "            '<a target=\"_blank\" href=https://colab.research.google.com/notebooks/data_table.ipynb>data table notebook</a>'\n",
              "            + ' to learn more about interactive tables.';\n",
              "          element.innerHTML = '';\n",
              "          dataTable['output_type'] = 'display_data';\n",
              "          await google.colab.output.renderOutput(dataTable, element);\n",
              "          const docLink = document.createElement('div');\n",
              "          docLink.innerHTML = docLinkHtml;\n",
              "          element.appendChild(docLink);\n",
              "        }\n",
              "      </script>\n",
              "    </div>\n",
              "  </div>\n",
              "  "
            ]
          },
          "metadata": {},
          "execution_count": 110
        }
      ]
    },
    {
      "cell_type": "markdown",
      "source": [
        "**Feature Scaling**"
      ],
      "metadata": {
        "id": "UVDNEm7mngQU"
      }
    },
    {
      "cell_type": "code",
      "source": [
        "#Feature scaling using standardscalar\n",
        "\n",
        "from sklearn.preprocessing import StandardScaler\n",
        "#scaling the data\n",
        "sc = StandardScaler()\n",
        "x_train = sc.fit_transform(x_train)\n",
        "x_test = sc.transform(x_test)\n",
        "\n",
        "x_train"
      ],
      "metadata": {
        "colab": {
          "base_uri": "https://localhost:8080/"
        },
        "id": "bWwZFA7knf2_",
        "outputId": "e2d66d07-9313-4531-9ff7-b6111c732b90"
      },
      "execution_count": 111,
      "outputs": [
        {
          "output_type": "execute_result",
          "data": {
            "text/plain": [
              "array([[-0.50874702, -0.24550745, -1.2335211 , ..., -0.29745518,\n",
              "        -0.10122056, -0.36540273],\n",
              "       [ 1.96561348,  2.14294016,  1.08058381, ...,  2.44746197,\n",
              "         1.76612428,  2.78222091],\n",
              "       [-0.50874702,  0.18454486,  0.12771708, ...,  0.08471359,\n",
              "         1.76612428,  0.62675985],\n",
              "       ...,\n",
              "       [ 1.96561348,  0.58630046,  1.21670762, ...,  2.87955205,\n",
              "         1.76612428,  2.99456786],\n",
              "       [-0.50874702, -0.39016829,  0.94445999, ..., -0.44614248,\n",
              "        -0.10122056, -0.31395035],\n",
              "       [-0.50874702,  0.25290014,  1.48895526, ...,  0.01197612,\n",
              "         1.76612428,  0.57733069]])"
            ]
          },
          "metadata": {},
          "execution_count": 111
        }
      ]
    },
    {
      "cell_type": "markdown",
      "source": [
        "**Linear Regression Model**"
      ],
      "metadata": {
        "id": "s_VT0yUDoLge"
      }
    },
    {
      "cell_type": "code",
      "source": [
        "from sklearn.linear_model import LinearRegression\n",
        "\n",
        "model = LinearRegression()\n",
        "#fitting the model\n",
        "model.fit(x_train,y_train)\n"
      ],
      "metadata": {
        "colab": {
          "base_uri": "https://localhost:8080/"
        },
        "id": "HgRSMrcPoJGj",
        "outputId": "b1171137-fb2a-469c-e165-867b86b8a9bb"
      },
      "execution_count": 112,
      "outputs": [
        {
          "output_type": "execute_result",
          "data": {
            "text/plain": [
              "LinearRegression()"
            ]
          },
          "metadata": {},
          "execution_count": 112
        }
      ]
    },
    {
      "cell_type": "code",
      "source": [
        "#making Predictions\n",
        "\n",
        "predictions = model.predict(x_test)"
      ],
      "metadata": {
        "id": "p2AJKbGaoj9n"
      },
      "execution_count": 113,
      "outputs": []
    },
    {
      "cell_type": "markdown",
      "source": [
        "**Model Evaluation**"
      ],
      "metadata": {
        "id": "snAAnsPRo1ih"
      }
    },
    {
      "cell_type": "code",
      "source": [
        "from sklearn.metrics import r2_score\n",
        "#r2_score\n",
        "r2 = r2_score(y_test,predictions)\n",
        "print(\"r2 score is: {}\".format(r2))\n",
        "\n",
        "#adjusted r2 score\n",
        "adj_r2 = 1 - (1 - r2)*len(y_train)/(len(y_train)-x_train.shape[1]-1)\n",
        "print(\"adjusted r2 score is: {}\".format(adj_r2))\n"
      ],
      "metadata": {
        "colab": {
          "base_uri": "https://localhost:8080/"
        },
        "id": "AvCCZvWyow75",
        "outputId": "f8152bc3-c5f9-45fa-af96-c8c284a5231f"
      },
      "execution_count": 114,
      "outputs": [
        {
          "output_type": "stream",
          "name": "stdout",
          "text": [
            "r2 score is: 0.9710072494452009\n",
            "adjusted r2 score is: 0.9707888483110781\n"
          ]
        }
      ]
    },
    {
      "cell_type": "code",
      "source": [
        "#Mean squared error\n",
        "\n",
        "from sklearn.metrics import *\n",
        "#mean squred error\n",
        "rmse_on_test = mean_squared_error(y_test,predictions,squared=False)\n",
        "print(\"mean squred error on test data is: {}\".format(rmse_on_test))"
      ],
      "metadata": {
        "colab": {
          "base_uri": "https://localhost:8080/"
        },
        "id": "edFwFzeCp0Bd",
        "outputId": "972cddff-631b-488a-fedd-6f70f180a19b"
      },
      "execution_count": 116,
      "outputs": [
        {
          "output_type": "stream",
          "name": "stdout",
          "text": [
            "mean squred error on test data is: 2152.8961180440347\n"
          ]
        }
      ]
    },
    {
      "cell_type": "code",
      "source": [
        "train_predict = model.predict(x_train)"
      ],
      "metadata": {
        "id": "gwMB-BPwqxMx"
      },
      "execution_count": 117,
      "outputs": []
    },
    {
      "cell_type": "code",
      "source": [
        "rmse_on_train = mean_squared_error(y_train,train_predict,squared=False)\n",
        "print(\"mean squred error on train data is: {}\".format(rmse_on_train))"
      ],
      "metadata": {
        "colab": {
          "base_uri": "https://localhost:8080/"
        },
        "id": "FFzXs3KFq_H5",
        "outputId": "630482da-e5a4-4690-8057-6f77cf07a720"
      },
      "execution_count": 118,
      "outputs": [
        {
          "output_type": "stream",
          "name": "stdout",
          "text": [
            "mean squred error on train data is: 1526.9983846830644\n"
          ]
        }
      ]
    },
    {
      "cell_type": "code",
      "source": [
        "#Mean absolute percentage error\n",
        "mape_on_train = mean_absolute_percentage_error(y_train, train_predict)\n",
        "print(\"mean absolute percentage error on train data is: {}\".format(mape_on_train))\n"
      ],
      "metadata": {
        "colab": {
          "base_uri": "https://localhost:8080/"
        },
        "id": "eZkRa7w6rLwh",
        "outputId": "ef018452-0399-4728-920d-f2004e0ba4c2"
      },
      "execution_count": 119,
      "outputs": [
        {
          "output_type": "stream",
          "name": "stdout",
          "text": [
            "mean absolute percentage error on train data is: 0.1845062145631791\n"
          ]
        }
      ]
    },
    {
      "cell_type": "code",
      "source": [
        "mape_on_test = mean_absolute_percentage_error(y_test, predictions)\n",
        "print(\"mean absolute percentage error on test data is: {}\".format(mape_on_test))"
      ],
      "metadata": {
        "colab": {
          "base_uri": "https://localhost:8080/"
        },
        "id": "-_hKDYmKrvTb",
        "outputId": "7fcc949a-2dad-4a0e-bc38-86c12475a0e0"
      },
      "execution_count": 120,
      "outputs": [
        {
          "output_type": "stream",
          "name": "stdout",
          "text": [
            "mean absolute percentage error on test data is: 0.14947107277533142\n"
          ]
        }
      ]
    },
    {
      "cell_type": "markdown",
      "source": [
        "**Plotting the best fit line**"
      ],
      "metadata": {
        "id": "i50gyUGPsBFB"
      }
    },
    {
      "cell_type": "code",
      "source": [
        "error_pred = pd.DataFrame(columns={'Actual_data','Predicted_data'})\n",
        "\n",
        "error_pred['Actual_data'] = y_test\n",
        "error_pred['Predicted_data'] = predictions\n",
        "error_pred['Error'] = error_pred['Actual_data']-error_pred['Predicted_data']"
      ],
      "metadata": {
        "id": "w2EnDngSsAm3"
      },
      "execution_count": 121,
      "outputs": []
    },
    {
      "cell_type": "code",
      "source": [
        "error_pred.head()"
      ],
      "metadata": {
        "colab": {
          "base_uri": "https://localhost:8080/",
          "height": 206
        },
        "id": "Jyz-eHnkspiU",
        "outputId": "c87eb3e3-093a-4fe2-9974-b380805dad90"
      },
      "execution_count": 122,
      "outputs": [
        {
          "output_type": "execute_result",
          "data": {
            "text/plain": [
              "      Predicted_data  Actual_data        Error\n",
              "764     10732.075670  10928.84900   196.773330\n",
              "887     11370.964876  12648.70340  1277.738524\n",
              "890     11967.708103  12797.20962   829.501517\n",
              "1293    43364.988159  44202.65360   837.665441\n",
              "259      4472.219237   3925.75820  -546.461037"
            ],
            "text/html": [
              "\n",
              "  <div id=\"df-4bb092af-5ead-472e-849d-661e095603b8\">\n",
              "    <div class=\"colab-df-container\">\n",
              "      <div>\n",
              "<style scoped>\n",
              "    .dataframe tbody tr th:only-of-type {\n",
              "        vertical-align: middle;\n",
              "    }\n",
              "\n",
              "    .dataframe tbody tr th {\n",
              "        vertical-align: top;\n",
              "    }\n",
              "\n",
              "    .dataframe thead th {\n",
              "        text-align: right;\n",
              "    }\n",
              "</style>\n",
              "<table border=\"1\" class=\"dataframe\">\n",
              "  <thead>\n",
              "    <tr style=\"text-align: right;\">\n",
              "      <th></th>\n",
              "      <th>Predicted_data</th>\n",
              "      <th>Actual_data</th>\n",
              "      <th>Error</th>\n",
              "    </tr>\n",
              "  </thead>\n",
              "  <tbody>\n",
              "    <tr>\n",
              "      <th>764</th>\n",
              "      <td>10732.075670</td>\n",
              "      <td>10928.84900</td>\n",
              "      <td>196.773330</td>\n",
              "    </tr>\n",
              "    <tr>\n",
              "      <th>887</th>\n",
              "      <td>11370.964876</td>\n",
              "      <td>12648.70340</td>\n",
              "      <td>1277.738524</td>\n",
              "    </tr>\n",
              "    <tr>\n",
              "      <th>890</th>\n",
              "      <td>11967.708103</td>\n",
              "      <td>12797.20962</td>\n",
              "      <td>829.501517</td>\n",
              "    </tr>\n",
              "    <tr>\n",
              "      <th>1293</th>\n",
              "      <td>43364.988159</td>\n",
              "      <td>44202.65360</td>\n",
              "      <td>837.665441</td>\n",
              "    </tr>\n",
              "    <tr>\n",
              "      <th>259</th>\n",
              "      <td>4472.219237</td>\n",
              "      <td>3925.75820</td>\n",
              "      <td>-546.461037</td>\n",
              "    </tr>\n",
              "  </tbody>\n",
              "</table>\n",
              "</div>\n",
              "      <button class=\"colab-df-convert\" onclick=\"convertToInteractive('df-4bb092af-5ead-472e-849d-661e095603b8')\"\n",
              "              title=\"Convert this dataframe to an interactive table.\"\n",
              "              style=\"display:none;\">\n",
              "        \n",
              "  <svg xmlns=\"http://www.w3.org/2000/svg\" height=\"24px\"viewBox=\"0 0 24 24\"\n",
              "       width=\"24px\">\n",
              "    <path d=\"M0 0h24v24H0V0z\" fill=\"none\"/>\n",
              "    <path d=\"M18.56 5.44l.94 2.06.94-2.06 2.06-.94-2.06-.94-.94-2.06-.94 2.06-2.06.94zm-11 1L8.5 8.5l.94-2.06 2.06-.94-2.06-.94L8.5 2.5l-.94 2.06-2.06.94zm10 10l.94 2.06.94-2.06 2.06-.94-2.06-.94-.94-2.06-.94 2.06-2.06.94z\"/><path d=\"M17.41 7.96l-1.37-1.37c-.4-.4-.92-.59-1.43-.59-.52 0-1.04.2-1.43.59L10.3 9.45l-7.72 7.72c-.78.78-.78 2.05 0 2.83L4 21.41c.39.39.9.59 1.41.59.51 0 1.02-.2 1.41-.59l7.78-7.78 2.81-2.81c.8-.78.8-2.07 0-2.86zM5.41 20L4 18.59l7.72-7.72 1.47 1.35L5.41 20z\"/>\n",
              "  </svg>\n",
              "      </button>\n",
              "      \n",
              "  <style>\n",
              "    .colab-df-container {\n",
              "      display:flex;\n",
              "      flex-wrap:wrap;\n",
              "      gap: 12px;\n",
              "    }\n",
              "\n",
              "    .colab-df-convert {\n",
              "      background-color: #E8F0FE;\n",
              "      border: none;\n",
              "      border-radius: 50%;\n",
              "      cursor: pointer;\n",
              "      display: none;\n",
              "      fill: #1967D2;\n",
              "      height: 32px;\n",
              "      padding: 0 0 0 0;\n",
              "      width: 32px;\n",
              "    }\n",
              "\n",
              "    .colab-df-convert:hover {\n",
              "      background-color: #E2EBFA;\n",
              "      box-shadow: 0px 1px 2px rgba(60, 64, 67, 0.3), 0px 1px 3px 1px rgba(60, 64, 67, 0.15);\n",
              "      fill: #174EA6;\n",
              "    }\n",
              "\n",
              "    [theme=dark] .colab-df-convert {\n",
              "      background-color: #3B4455;\n",
              "      fill: #D2E3FC;\n",
              "    }\n",
              "\n",
              "    [theme=dark] .colab-df-convert:hover {\n",
              "      background-color: #434B5C;\n",
              "      box-shadow: 0px 1px 3px 1px rgba(0, 0, 0, 0.15);\n",
              "      filter: drop-shadow(0px 1px 2px rgba(0, 0, 0, 0.3));\n",
              "      fill: #FFFFFF;\n",
              "    }\n",
              "  </style>\n",
              "\n",
              "      <script>\n",
              "        const buttonEl =\n",
              "          document.querySelector('#df-4bb092af-5ead-472e-849d-661e095603b8 button.colab-df-convert');\n",
              "        buttonEl.style.display =\n",
              "          google.colab.kernel.accessAllowed ? 'block' : 'none';\n",
              "\n",
              "        async function convertToInteractive(key) {\n",
              "          const element = document.querySelector('#df-4bb092af-5ead-472e-849d-661e095603b8');\n",
              "          const dataTable =\n",
              "            await google.colab.kernel.invokeFunction('convertToInteractive',\n",
              "                                                     [key], {});\n",
              "          if (!dataTable) return;\n",
              "\n",
              "          const docLinkHtml = 'Like what you see? Visit the ' +\n",
              "            '<a target=\"_blank\" href=https://colab.research.google.com/notebooks/data_table.ipynb>data table notebook</a>'\n",
              "            + ' to learn more about interactive tables.';\n",
              "          element.innerHTML = '';\n",
              "          dataTable['output_type'] = 'display_data';\n",
              "          await google.colab.output.renderOutput(dataTable, element);\n",
              "          const docLink = document.createElement('div');\n",
              "          docLink.innerHTML = docLinkHtml;\n",
              "          element.appendChild(docLink);\n",
              "        }\n",
              "      </script>\n",
              "    </div>\n",
              "  </div>\n",
              "  "
            ]
          },
          "metadata": {},
          "execution_count": 122
        }
      ]
    },
    {
      "cell_type": "code",
      "source": [
        "plt.figure(figsize=(5,5))\n",
        "plt.scatter(error_pred['Actual_data'],error_pred['Predicted_data'],c='crimson')\n",
        "\n",
        "p1 = max (max(error_pred['Predicted_data']),max(error_pred['Actual_data']))\n",
        "p2 = min (min(error_pred['Predicted_data']),min(error_pred['Actual_data']))\n",
        "\n",
        "plt.plot([p1,p2],[p1,p2],'-g')\n",
        "plt.xlabel('True values')\n",
        "plt.ylabel('Predictions')\n",
        "plt.axis('equal')\n",
        "plt.show()"
      ],
      "metadata": {
        "colab": {
          "base_uri": "https://localhost:8080/",
          "height": 334
        },
        "id": "EzxLPKiBsuwd",
        "outputId": "38b5f715-72a6-4d6f-80ed-574f5d3170da"
      },
      "execution_count": 123,
      "outputs": [
        {
          "output_type": "display_data",
          "data": {
            "text/plain": [
              "<Figure size 360x360 with 1 Axes>"
            ],
            "image/png": "[encoded data removed]"
          },
          "metadata": {
            "needs_background": "light"
          }
        }
      ]
    }
  ],
  "metadata": {
    "colab": {
      "provenance": [],
      "authorship_tag": "ABX9TyOvkjsWPWRW67wpOp2Yipvk",
      "include_colab_link": true
    },
    "kernelspec": {
      "display_name": "Python 3",
      "name": "python3"
    },
    "language_info": {
      "name": "python"
    }
  },
  "nbformat": 4,
  "nbformat_minor": 0
}